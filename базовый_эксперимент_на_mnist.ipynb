{
  "cells": [
    {
      "cell_type": "code",
      "execution_count": 1,
      "metadata": {
        "colab": {
          "base_uri": "https://localhost:8080/"
        },
        "id": "AmDeoS93M6wc",
        "outputId": "607444f6-22b9-4d8e-d406-76a9fc4f6f32"
      },
      "outputs": [
        {
          "output_type": "stream",
          "name": "stdout",
          "text": [
            "\u001b[2K     \u001b[90m━━━━━━━━━━━━━━━━━━━━━━━━━━━━━━━━━━━━━━━━\u001b[0m \u001b[32m2.0/2.0 MB\u001b[0m \u001b[31m22.9 MB/s\u001b[0m eta \u001b[36m0:00:00\u001b[0m\n",
            "\u001b[2K     \u001b[90m━━━━━━━━━━━━━━━━━━━━━━━━━━━━━━━━━━━━━━\u001b[0m \u001b[32m184.3/184.3 KB\u001b[0m \u001b[31m12.9 MB/s\u001b[0m eta \u001b[36m0:00:00\u001b[0m\n",
            "\u001b[2K     \u001b[90m━━━━━━━━━━━━━━━━━━━━━━━━━━━━━━━━━━━━━━━\u001b[0m \u001b[32m175.6/175.6 KB\u001b[0m \u001b[31m2.7 MB/s\u001b[0m eta \u001b[36m0:00:00\u001b[0m\n",
            "\u001b[?25h  Preparing metadata (setup.py) ... \u001b[?25l\u001b[?25hdone\n",
            "  Preparing metadata (setup.py) ... \u001b[?25l\u001b[?25hdone\n",
            "\u001b[2K     \u001b[90m━━━━━━━━━━━━━━━━━━━━━━━━━━━━━━━━━━━━━━━━\u001b[0m \u001b[32m62.7/62.7 KB\u001b[0m \u001b[31m2.9 MB/s\u001b[0m eta \u001b[36m0:00:00\u001b[0m\n",
            "\u001b[?25h  Building wheel for sentry-sdk (setup.py) ... \u001b[?25l\u001b[?25hdone\n",
            "  Building wheel for pathtools (setup.py) ... \u001b[?25l\u001b[?25hdone\n"
          ]
        }
      ],
      "source": [
        "!pip install wandb -qU"
      ]
    },
    {
      "cell_type": "code",
      "execution_count": 2,
      "metadata": {
        "colab": {
          "base_uri": "https://localhost:8080/"
        },
        "id": "RSIu8_WgYmv1",
        "outputId": "7505e70a-4015-4ef6-b87d-9a8728e2c743"
      },
      "outputs": [
        {
          "output_type": "stream",
          "name": "stdout",
          "text": [
            "cuda:0\n"
          ]
        }
      ],
      "source": [
        "import torch\n",
        "device = torch.device('cuda:0' if torch.cuda.is_available() else 'cpu')\n",
        "print(device)"
      ]
    },
    {
      "cell_type": "code",
      "execution_count": null,
      "metadata": {
        "id": "4ftNWdcBSOhz"
      },
      "outputs": [],
      "source": [
        "from torch.utils.data import Dataset\n",
        "from torchvision.datasets import MNIST\n",
        "from torchvision.transforms import Compose, Lambda, ToTensor\n",
        "\n",
        "\n",
        "class MNISTDataset(Dataset):\n",
        "    \"\"\"MNIST dataset.\n",
        "\n",
        "    Feature images are automatically flattened.\n",
        "\n",
        "    Parameters\n",
        "    ----------\n",
        "    root : str\n",
        "        Directory where the actual data is located (or downloaded to).\n",
        "\n",
        "    train : bool\n",
        "        If True the training set is returned (60_000 samples). Otherwise\n",
        "        the validation set is returned (10_000 samples).\n",
        "\n",
        "    Attributes\n",
        "    ----------\n",
        "    tv_dataset : MNIST\n",
        "        Instance of the torchvision `MNIST` dataset class.\n",
        "    \"\"\"\n",
        "\n",
        "    def __init__(self, root, train=True, download=True):\n",
        "        transform = Compose(\n",
        "            [\n",
        "                ToTensor(),\n",
        "                Lambda(lambda x: x.ravel()),\n",
        "            ]\n",
        "        )\n",
        "\n",
        "        self.tv_dataset = MNIST(\n",
        "            root,\n",
        "            train=train,\n",
        "            download=download,\n",
        "            transform=transform,\n",
        "        )\n",
        "\n",
        "    def __len__(self):\n",
        "        \"\"\"Get the length of the dataset.\"\"\"\n",
        "        return len(self.tv_dataset)\n",
        "\n",
        "    def __getitem__(self, ix):\n",
        "        \"\"\"Get a selected sample.\n",
        "\n",
        "        Parameters\n",
        "        ----------\n",
        "        ix : int\n",
        "            Index of the sample to get.\n",
        "\n",
        "        Returns\n",
        "        -------\n",
        "        x : torch.Tensor\n",
        "            Flattened feature tensor of shape `(784,)`.\n",
        "\n",
        "        y : torch.Tensor\n",
        "            Scalar representing the ground truth label. Number between 0 and 9.\n",
        "        \"\"\"\n",
        "        return self.tv_dataset[ix]\n"
      ]
    },
    {
      "cell_type": "code",
      "execution_count": null,
      "metadata": {
        "id": "hJ3MQRhWMGPK"
      },
      "outputs": [],
      "source": [
        "import math\n",
        "\n",
        "import torch\n",
        "import torch.nn as nn\n",
        "from torch.nn.utils.prune import l1_unstructured, random_unstructured\n",
        "\n",
        "\n",
        "class MLP(nn.Module):\n",
        "    \"\"\"Multilayer perceptron.\n",
        "\n",
        "    The bias is included in all linear layers.\n",
        "\n",
        "    Parameters\n",
        "    ----------\n",
        "    n_features : int\n",
        "        Number of input features (pixels inside of MNIST images).\n",
        "\n",
        "    hidden_layer_sizes : tuple\n",
        "        Tuple of ints representing sizes of the hidden layers.\n",
        "\n",
        "    n_targets : int\n",
        "        Number of target classes (10 for MNIST).\n",
        "\n",
        "    Attributes\n",
        "    ----------\n",
        "    module_list : nn.ModuleList\n",
        "        List holding all the linear layers in the right order.\n",
        "    \"\"\"\n",
        "\n",
        "    def __init__(self, n_features, hidden_layer_sizes, n_targets):\n",
        "        super().__init__()\n",
        "\n",
        "        layer_sizes = (n_features,) + hidden_layer_sizes + (n_targets,)\n",
        "        layer_list = []\n",
        "\n",
        "        for i in range(len(layer_sizes) - 1):\n",
        "            layer_list.append(nn.Linear(layer_sizes[i], layer_sizes[i + 1]))\n",
        "\n",
        "        self.module_list = nn.ModuleList(layer_list)\n",
        "\n",
        "    def forward(self, x):\n",
        "        \"\"\"Run the forward pass.\n",
        "\n",
        "        Parameters\n",
        "        ----------\n",
        "        x : torch.Tensor\n",
        "            Batch of features of shape `(batch_size, n_features)`.\n",
        "\n",
        "        Returns\n",
        "        -------\n",
        "        torch.Tensor\n",
        "            Batch of predictions (logits) of shape `(batch_size, n_targets)`.\n",
        "        \"\"\"\n",
        "        n_layers = len(self.module_list)\n",
        "\n",
        "        for i, layer in enumerate(self.module_list):\n",
        "            x = layer(x)\n",
        "\n",
        "            if i < n_layers - 1:\n",
        "                x = nn.functional.relu(x)\n",
        "\n",
        "        return x\n",
        "\n",
        "\n",
        "def prune_linear(linear, prune_ratio=0.3, method=\"l1\"):\n",
        "    \"\"\"Prune a linear layer.\n",
        "\n",
        "    Modifies the module in-place. We make an assumption that the bias\n",
        "    is included.\n",
        "\n",
        "    Parameters\n",
        "    ----------\n",
        "    linear : nn.Linear\n",
        "        Linear module containing a bias.\n",
        "\n",
        "    prune_ratio : float\n",
        "        Number between 0 and 1 representing the percentage of weights\n",
        "        to prune.\n",
        "\n",
        "    method : str, {\"l1\", \"random\"}\n",
        "        Pruning method to use.\n",
        "    \"\"\"\n",
        "    if method == \"l1\":\n",
        "        prune_func = l1_unstructured\n",
        "    elif method == \"random\":\n",
        "        prune_func = random_unstructured\n",
        "    else:\n",
        "        raise ValueError\n",
        "\n",
        "    prune_func(linear, \"weight\", prune_ratio)\n",
        "    prune_func(linear, \"bias\", prune_ratio)\n",
        "\n",
        "\n",
        "def prune_mlp(mlp, prune_ratio=0.3, method=\"l1\"):\n",
        "    \"\"\"Prune each layer of the multilayer perceptron.\n",
        "\n",
        "    Modifies the module in-place. We make an assumption that each\n",
        "    linear layer has the bias included.\n",
        "\n",
        "    Parameters\n",
        "    ----------\n",
        "    mlp : MLP\n",
        "        Multilayer perceptron instance.\n",
        "\n",
        "    prune_ratio : float or list\n",
        "        Number between 0 and 1 representing the percentage of weights\n",
        "        to prune. If `list` then different ratio for each\n",
        "        layer.\n",
        "\n",
        "    method : str, {\"l1\", \"random\"}\n",
        "        Pruning method to use.\n",
        "    \"\"\"\n",
        "    if isinstance(prune_ratio, float):\n",
        "        prune_ratios = [prune_ratio] * len(mlp.module_list)\n",
        "    elif isinstance(prune_ratio, list):\n",
        "        if len(prune_ratio) != len(mlp.module_list):\n",
        "            raise ValueError(\"Incompatible number of prune ratios provided\")\n",
        "\n",
        "        prune_ratios = prune_ratio\n",
        "    else:\n",
        "        raise TypeError\n",
        "\n",
        "    for prune_ratio, linear in zip(prune_ratios, mlp.module_list):\n",
        "        prune_linear(linear, prune_ratio=prune_ratio, method=method)\n",
        "\n",
        "\n",
        "def check_pruned_linear(linear):\n",
        "    \"\"\"Check if a Linear module was pruned.\n",
        "\n",
        "    We require both the bias and the weight to be pruned.\n",
        "\n",
        "    Parameters\n",
        "    ----------\n",
        "    linear : nn.Linear\n",
        "        Linear module containing a bias.\n",
        "\n",
        "    Returns\n",
        "    -------\n",
        "    bool\n",
        "        True if the model has been pruned.\n",
        "    \"\"\"\n",
        "    params = {param_name for param_name, _ in linear.named_parameters()}\n",
        "    expected_params = {\"weight_orig\", \"bias_orig\"}\n",
        "\n",
        "    return params == expected_params\n",
        "\n",
        "\n",
        "def reinit_linear(linear):\n",
        "    \"\"\"Reinitialize a linear layer.\n",
        "\n",
        "    This is an in-place operation.\n",
        "    If the module has some pruning logic we are not going to remove it\n",
        "    and we only initialize the underlying tensors - `weight_orig` and\n",
        "    `bias_orig`.\n",
        "\n",
        "    Parameters\n",
        "    ----------\n",
        "    linear : nn.Linear\n",
        "        Linear model containing a bias.\n",
        "    \"\"\"\n",
        "    is_pruned = check_pruned_linear(linear)\n",
        "\n",
        "    # Get parameters of interest\n",
        "    if is_pruned:\n",
        "        weight = linear.weight_orig\n",
        "        bias = linear.bias_orig\n",
        "    else:\n",
        "        weight = linear.weight\n",
        "        bias = linear.bias\n",
        "\n",
        "    # Initialize weight\n",
        "    nn.init.kaiming_uniform_(weight, a=math.sqrt(5))\n",
        "\n",
        "    # Initialize bias\n",
        "    fan_in, _ = nn.init._calculate_fan_in_and_fan_out(weight)\n",
        "    bound = 1 / math.sqrt(fan_in) if fan_in > 0 else 0\n",
        "    nn.init.uniform_(bias, -bound, bound)\n",
        "\n",
        "\n",
        "def reinit_mlp(mlp):\n",
        "    \"\"\"Reinitialize all layers of the MLP.\n",
        "\n",
        "    Parameters\n",
        "    ----------\n",
        "    mlp : MLP\n",
        "        Multi-layer perceptron.\n",
        "    \"\"\"\n",
        "    for linear in mlp.module_list:\n",
        "        reinit_linear(linear)\n",
        "\n",
        "\n",
        "def copy_weights_linear(linear_unpruned, linear_pruned):\n",
        "    \"\"\"Copy weights from an unpruned model to a pruned model.\n",
        "\n",
        "    Modifies `linear_pruned` in place.\n",
        "\n",
        "    Parameters\n",
        "    ----------\n",
        "    linear_unpruned : nn.Linear\n",
        "        Linear model with a bias that was not pruned.\n",
        "\n",
        "    linear_pruned : nn.Linear\n",
        "        Linear model with a bias that was pruned.\n",
        "    \"\"\"\n",
        "    assert check_pruned_linear(linear_pruned)\n",
        "    assert not check_pruned_linear(linear_unpruned)\n",
        "\n",
        "    with torch.no_grad():\n",
        "        linear_pruned.weight_orig.copy_(linear_unpruned.weight)\n",
        "        linear_pruned.bias_orig.copy_(linear_unpruned.bias)\n",
        "\n",
        "\n",
        "def copy_weights_mlp(mlp_unpruned, mlp_pruned):\n",
        "    \"\"\"Copy weights of an unpruned network to a pruned network.\n",
        "\n",
        "    Modifies `mlp_pruned` in place.\n",
        "\n",
        "    Parameters\n",
        "    ----------\n",
        "    mlp_unpruned : MLP\n",
        "        MLP model that was not pruned.\n",
        "\n",
        "    mlp_pruned : MLP\n",
        "        MLP model that was pruned.\n",
        "    \"\"\"\n",
        "    zipped = zip(mlp_unpruned.module_list, mlp_pruned.module_list)\n",
        "\n",
        "    for linear_unpruned, linear_pruned in zipped:\n",
        "        copy_weights_linear(linear_unpruned, linear_pruned)\n",
        "\n",
        "\n",
        "def compute_stats(mlp):\n",
        "    \"\"\"Compute important statistics related to pruning.\n",
        "\n",
        "    Parameters\n",
        "    ----------\n",
        "    mlp : MLP\n",
        "        Multilayer perceptron.\n",
        "\n",
        "    Returns\n",
        "    -------\n",
        "    dict\n",
        "        Statistics.\n",
        "    \"\"\"\n",
        "    stats = {}\n",
        "    total_params = 0\n",
        "    total_pruned_params = 0\n",
        "\n",
        "    for layer_ix, linear in enumerate(mlp.module_list):\n",
        "        assert check_pruned_linear(linear)\n",
        "\n",
        "        weight_mask = linear.weight_mask\n",
        "        bias_mask = linear.bias_mask\n",
        "\n",
        "        params = weight_mask.numel() + bias_mask.numel()\n",
        "        pruned_params = (weight_mask == 0).sum() + (bias_mask == 0).sum()\n",
        "\n",
        "        total_params += params\n",
        "        total_pruned_params += pruned_params\n",
        "\n",
        "        stats[f\"layer{layer_ix}_total_params\"] = params\n",
        "        stats[f\"layer{layer_ix}_pruned_params\"] = pruned_params\n",
        "        stats[f\"layer{layer_ix}_actual_prune_ratio\"] = pruned_params / params\n",
        "\n",
        "    stats[\"total_params\"] = total_params\n",
        "    stats[\"total_pruned_params\"] = total_pruned_params\n",
        "    stats[\"actual_prune_ratio\"] = total_pruned_params / total_params\n",
        "\n",
        "    return stats\n"
      ]
    },
    {
      "cell_type": "code",
      "execution_count": null,
      "metadata": {
        "id": "GNyi8d0nMNfy"
      },
      "outputs": [],
      "source": [
        "import torch\n",
        "import torch.nn as nn\n",
        "import tqdm\n",
        "from torch.utils.data import DataLoader\n",
        "\n",
        "import wandb\n",
        "# from data import MNISTDataset\n",
        "# from utils import MLP, compute_stats, copy_weights_mlp, prune_mlp, reinit_mlp\n",
        "\n",
        "\n",
        "def loop_dataloader(dataloader):\n",
        "    \"\"\"Loop infinitely over a dataloader.\n",
        "\n",
        "    Parameters\n",
        "    ----------\n",
        "    dataloader : DataLoader\n",
        "        DataLoader streaming batches of samples.\n",
        "\n",
        "    Yields\n",
        "    ------\n",
        "    X_batch : torch.Tensor\n",
        "        Batch of features.\n",
        "\n",
        "    y_batch : torch.Tensor\n",
        "        Batch of predictions.\n",
        "    \"\"\"\n",
        "    while True:\n",
        "        for x in iter(dataloader):\n",
        "            yield x\n",
        "\n",
        "\n",
        "def train(model, dataloader_train, loss_inst, optimizer, max_iter=10_000,\n",
        "          dataloader_val=None, val_freq=500):\n",
        "    \"\"\"Run the training loop.\n",
        "\n",
        "    Parameters\n",
        "    ----------\n",
        "    model : nn.Module\n",
        "        Neural network (in our case MLP).\n",
        "\n",
        "    dataloader_train : DataLoader\n",
        "        Dataloader yielding training samples.\n",
        "\n",
        "    loss_inst : callable\n",
        "        Computes the loss when called.\n",
        "\n",
        "    optimizer : torch.optim.Optimizer\n",
        "        Instance of an optimizer.\n",
        "\n",
        "    max_iter : int\n",
        "        The number of iterations we run the training for\n",
        "        (= number of graident descent steps).\n",
        "\n",
        "    dataloader_val : None or DataLoader\n",
        "        Dataloader yielding validation samples. If provided it will\n",
        "        also single to us that we want to track metrics.\n",
        "\n",
        "    val_freq : int\n",
        "        How often evaluation run.\n",
        "    \"\"\"\n",
        "    global device\n",
        "    iterable = loop_dataloader(dataloader_train)\n",
        "    iterable = tqdm.tqdm(iterable, total=max_iter)\n",
        "    it = 0\n",
        "    for X_batch, y_batch in iterable:\n",
        "        if it == max_iter:\n",
        "            break\n",
        "        X_batch = X_batch.to(device)\n",
        "        y_batch = y_batch.to(device)\n",
        "\n",
        "        logit_batch = model(X_batch)\n",
        "\n",
        "        loss = loss_inst(logit_batch, y_batch)\n",
        "        if dataloader_val is not None:\n",
        "            wandb.log({\"loss\": loss}, step=it)\n",
        "\n",
        "        optimizer.zero_grad()\n",
        "        loss.backward()\n",
        "        optimizer.step()\n",
        "\n",
        "        if it % val_freq == 0 and dataloader_val is not None:\n",
        "            is_equal = []\n",
        "\n",
        "            for X_batch_val, y_batch_val in dataloader_val:\n",
        "                X_batch_val = X_batch_val.to(device)\n",
        "                y_batch_val = y_batch_val.to(device)\n",
        "                is_equal.append(\n",
        "                    model(X_batch_val).argmax(dim=-1) == y_batch_val\n",
        "                )\n",
        "\n",
        "            is_equal_t = torch.cat(is_equal)\n",
        "            acc = is_equal_t.sum() / len(is_equal_t)\n",
        "            wandb.log({\"accuracy_val\": acc}, step=it)\n",
        "\n",
        "        it += 1\n",
        "\n",
        "\n",
        "\n",
        "def experiment(MAX_ITERS, PRUNE_ITERS, PRUNE_METHODS, PRUNE_RATIOS, REINITIALIZES , RANDOM_STATES, project_name, start_from):\n",
        "    args = {\"max-iter\" : 50000, \"batch-size\" : 64, \"prune-iter\" : 1,\n",
        "          \"prune-method\" : \"l1\", \"prune-ratio\" : 0.2, \"val-freq\" : 250,\n",
        "          \"reinitialize\" : \"false\", \"random-state\" : 1}\n",
        "    i = 0;\n",
        "    for max_iter in MAX_ITERS:\n",
        "      for prune_iter in PRUNE_ITERS:\n",
        "        for prune_method in PRUNE_METHODS:\n",
        "          for prune_ratio in PRUNE_RATIOS:\n",
        "            for reinit in REINITIALIZES:\n",
        "              for random_state in RANDOM_STATES:\n",
        "                if i < start_from:\n",
        "                  i += 1\n",
        "                  continue\n",
        "                args[\"max-iter\"] = max_iter\n",
        "                args[\"prune-iter\"] = prune_iter\n",
        "                args[\"prune-method\"] = prune_method\n",
        "                args[\"prune-ratio\"] = prune_ratio\n",
        "                args[\"reinitialisalize\"] = reinit\n",
        "                args[\"random-state\"] = random_state\n",
        "\n",
        "                wandb.init(\n",
        "                    project=project_name,\n",
        "                    entity=\"bspanfilov\",\n",
        "                    config=args,\n",
        "                )\n",
        "                wandb.define_metric(\"accuracy_val\", summary=\"max\")\n",
        "\n",
        "                dataset_train = MNISTDataset(\n",
        "                    \"data\",\n",
        "                    train=True,\n",
        "                    download=True,\n",
        "                )\n",
        "                dataset_val = MNISTDataset(\n",
        "                    \"data\",\n",
        "                    train=False,\n",
        "                    download=True,\n",
        "                )\n",
        "\n",
        "                if args[\"random-state\"] is not None:\n",
        "                    torch.manual_seed(args[\"random-state\"])\n",
        "\n",
        "                dataloader_train = DataLoader(\n",
        "                    dataset_train, batch_size=args[\"batch-size\"], shuffle=True\n",
        "                )\n",
        "                dataloader_val = DataLoader(\n",
        "                    dataset_val, batch_size=args[\"batch-size\"], shuffle=True\n",
        "                )\n",
        "\n",
        "                kwargs = dict(\n",
        "                    n_features=28 * 28,\n",
        "                    hidden_layer_sizes=(300, 100),\n",
        "                    n_targets=10,\n",
        "                )\n",
        "\n",
        "                mlp = MLP(**kwargs).to(device)\n",
        "\n",
        "                mlp_copy = MLP(**kwargs).to(device)\n",
        "                mlp_copy.load_state_dict(mlp.state_dict())\n",
        "\n",
        "                loss_inst = nn.CrossEntropyLoss()\n",
        "                optimizer = torch.optim.Adam(mlp.parameters(), lr=1.2 * 1e-3)\n",
        "\n",
        "                # Train and prune loop\n",
        "                if args[\"prune-ratio\"] > 0:\n",
        "                    per_round_prune_ratio = 1 - (1 - args[\"prune-ratio\"]) ** (1 / args[\"prune-iter\"])\n",
        "\n",
        "                    per_round_prune_ratios = [per_round_prune_ratio] * len(mlp.module_list)\n",
        "                    per_round_prune_ratios[-1] /= 2\n",
        "\n",
        "                    per_round_max_iter = int(args[\"max-iter\"] / args[\"prune-iter\"])\n",
        "\n",
        "                    for prune_it in range(args[\"prune-iter\"]):\n",
        "                        train(\n",
        "                            mlp,\n",
        "                            dataloader_train,\n",
        "                            loss_inst,\n",
        "                            optimizer,\n",
        "                            max_iter=per_round_max_iter,\n",
        "                        )\n",
        "                        prune_mlp(mlp, per_round_prune_ratios, method=args[\"prune-method\"])\n",
        "\n",
        "                        copy_weights_mlp(mlp_copy, mlp)\n",
        "                        # надо будет добавить эксперементов без копирования, вдруг тоже что-то получиться\n",
        "                        # а пока что фигачу кучу моделей на mnist\n",
        "\n",
        "                        stats = compute_stats(mlp)\n",
        "                        for name, stat in stats.items():\n",
        "                            summary_name = f\"{name}_pruneiter={prune_it}\"\n",
        "                            wandb.run.summary[summary_name] = stat\n",
        "\n",
        "                if args[\"reinitialize\"] == \"true\":\n",
        "                    reinit_mlp(mlp)\n",
        "                # Run actual training with a final pruned network\n",
        "                train(\n",
        "                    mlp,\n",
        "                    dataloader_train,\n",
        "                    loss_inst,\n",
        "                    optimizer,\n",
        "                    max_iter=args[\"max-iter\"],\n",
        "                    dataloader_val=dataloader_val,\n",
        "                    val_freq=args[\"val-freq\"],\n",
        "                )\n",
        "\n",
        "\n"
      ]
    },
    {
      "cell_type": "code",
      "execution_count": null,
      "metadata": {
        "colab": {
          "base_uri": "https://localhost:8080/",
          "height": 1000,
          "referenced_widgets": [
            "1f690cb4c781415a8fd7ae77dbbc7b91",
            "fc7e6972e484481aab16c4915e981ca6",
            "85e0735d4a1c479b8db2a405d66a7bd2",
            "9e9f4cff93b24749b01f77255b2f38dc",
            "c3bd84bbd08242a4a3f7a27ab1059bdd",
            "8b51b03700334e61821f4747f295ec74",
            "62f2088edc6741768fdeb3d6378379a2",
            "7231401ccea941558c25c4d555d6605a",
            "8f5a0d6c708d473d8773e89c333012bd",
            "52f54735b898473a84fc7f2aa0fca307",
            "fadf430d7b1641f980fc2b055f5a12d1",
            "d06eea0156954a77b7e45529a2051186",
            "d831f1dd0dde4adcbfbf7583c4edc734",
            "eb5f8b0c932b4106966bd72dcc5a9b55",
            "90dba368453648d78f4fa2862fa7cc52",
            "8b64d85a0f364d6e86d34104f7fd5e3d",
            "3790cc23354544568984dad8cb7ed361",
            "c7ad7c0690e14d59b0dfc98962e16599",
            "0299cb8f6c8f44138fb3a028d958e02c",
            "f66600c4b6d0420ca11b917d9275cb79",
            "b06ff7e34f6b4231878183fbd978778b",
            "ca0471007af742b69bb942117b607863",
            "e58aff3feb8943f8a0e1c9fbfdaa81b2",
            "4f96810b5bcb425e910711e22b6052bf",
            "8b2a7d33c6d049b0bf2bbcc130278348",
            "da84a928f5294177a70826387aa5b49d",
            "688b050002bb41018f0592a2a56c47ff",
            "75579847aa74404fbc80110e3cb6e51a",
            "413473f0aa5747babb6b91f54c3fc98a",
            "1dba13f02b4d4ecf9bc8bf96c3dcea37",
            "1f3128844d74463b9735cac34fd1c041",
            "2a79f840ff504a868d156b57972bf83f",
            "0e4a75d12a3e445d9a10812167e6ada7",
            "eaddec74b767479ab731a6a3d30ef108",
            "8ab6dd6d12e94f58853cc691b5d7283c",
            "752d6dc5c739410eb8ce6be83a72bd73",
            "e770cf6488f84bef96b2bafaf4fb8f3e",
            "8b15e8e872f94059bcaadb8dc9e854c2",
            "97ac20c3cb354ad0b14246692138288e",
            "792390cc0deb442cbdaeb4eae811983a",
            "f7bf64dc88f74c1aa4526e14049c6da8",
            "6e22e67d3b8543a69ea25e4c67c5aec8",
            "810d2d56318f40d48c46fea2eab595da",
            "f0ebc8cd91ec45ef9fa94a029c485b3c",
            "126fd95d6067489eac308e87a39d93f5",
            "a8c437d1123346849bd406c6cebb9d2c",
            "b53ce82fc8d0402d8574c4829a504782",
            "f43161eea8ef47f09c1e1eb2112d8e1d",
            "39a5e0dd3a834a799238b52077f837ff",
            "253e693525654467847466d777feaf34",
            "7cf3abf2e5624848b1c4057d8c3f2fd1",
            "19425ddc0f6a47f78f769fd9d24dbba8",
            "57fce985ae3a4f298c941419a473e85f",
            "4694ececf99749e6886e771610194962",
            "8e8cdcc8cd5546e8b8af85c1507411e6",
            "8929273479434e11ad5b7b40692d0cd8",
            "cee8dbd205d8456d947c47fc3d9adfb0",
            "87a91d1a157a437e85c13c34bc4defcd",
            "5846c8e14c0747c1a966a30ac7bd2895",
            "a5fd17254e254bca977cd936542df37c",
            "b62bfdd7b1444cc0810695aaf0061d84",
            "a236656835b54126bdd418d996f38ace",
            "60823ae684774f689d49a727f11d19c1",
            "6993407d10884a468a9a73384b72164b",
            "42e30f1550ef4c4bbf4f1d93a61a00cc",
            "50f90062285643858d6e552a179a9c1d",
            "bd1e5bd56d744aafa7725f6bef8a6662",
            "eef81d60b4034f76a9ff816b46675ffc",
            "8bcea39a6c334625b7fed0d0f6ccc14d",
            "ebf597f771134beaa49923c25826aa5f",
            "e72e20fdaee74027be22d59ceeb62d90",
            "a4e4dc50307442e0bf6272d857e5cb0a",
            "552e52c1ddf74e16ae68baac2c73ab54",
            "cb3fb9eec5e84687b6e5a07114be9545",
            "eb707e06bd914e28a101d9d7f61ce535",
            "5def2c686410440aaf51bc2b3faa615a",
            "1e456af6dd044c6ab07dfe5c4516680e",
            "8a4fae06f0ca44208710e405b84b9b19",
            "c3496484fd6a4982901c3f52f6fc2923",
            "bc4061592b86440a804361f290548215",
            "08b663b88550422fbbb205c2be785404",
            "2919812d799a46c381b54dfef5076f7e",
            "4bb83d1f11054d8bb43956f921a083d1",
            "b9e5d2c3da9b4cd4895deab689cf1b67",
            "bf64b91c0d644bd19a13e43029c6aa4c",
            "29ef3b32c8ee4f809f35fd50fb951911",
            "1a802926aca548419c37a81e4f0b2f24",
            "ceed266411184942990ca999373bc501",
            "062d21ae2ffd4910ae80aa2c1ebea385",
            "15b27ccf39054bc19776934b5afb9c62",
            "dbe5b26b7af7409b9dea50e63ccf187d",
            "e1de70cb24ee44efb71c8fdce7ddcce3",
            "40fea44658974812af81cbdcd221398d",
            "9040b512b5a04828831afef0e11bfb50",
            "dd3a39d2f026433ab12b75c8148c4d58",
            "6085cd27a734435e9a3e687849215768",
            "3a46a0e1e6ca46a29cb0979aadb5d7a1",
            "d6aece5b7050452fb1eeaa35c2054215",
            "2aaa3804b08b4a97b0ad2d58595611ac",
            "6f5e24ef73b04afb828a91e6114e4301",
            "bd1b1cbf15a94a15a8f9822c4744f912",
            "2b246080dfa542ebbd8178bfe861df05",
            "d1d16c02ada5409ab750982bd1b8c3b4",
            "ae74044471d94b5ea9f312466c0b20d9",
            "2966e41b7c4b48c4802b0e28fafe3122",
            "172abb417beb42228da0e4b6632cd4b3",
            "d19683e5c59e42fc8b8260fea3d8bf9e",
            "93fac3a8abc5439e8dc3cd69cf1c17a2",
            "8812ce5b3a6c4ac081ac789eed588db1",
            "342fd11434da496a97f4d4f14353d79b",
            "0b021cf6391745f28accfeff4f107435",
            "db1da7cd5dea4030bc8d6738fe8e1d09",
            "e5c442084cd541c7b383d3ecb0dae0ef",
            "251968e6a21f420caf67b0fb7fe0c7fd",
            "2a6a30908439476dbd84b2502861f6b6",
            "5eb365032b784e1e9147197b1c8e449d",
            "f80fd2cfc2084acca8c86193287b9848",
            "ae083594f57f494e943e9cecc7c0fddf",
            "c8d6433c2a654c8ab225186a832c94cb",
            "cd66d5412f0745e9b70262760b4934c1",
            "def9454a740044f0b8de0aef48bcedfd",
            "2e0ed066da004895900115586b29fd3f",
            "1cbe2d90c2ff43248919e13445945518",
            "a268b97b8e8947fd9a5bb1a3d558f87e",
            "e74499d0151041769714b349eaceb12e",
            "bbd5f0f442f14662b79c94f507b58ffc",
            "5440e9611c2542868553ea0701a0c866",
            "e72eace71fc94b45b1281091215ccbf2",
            "4a55320538f84208a2b9196f0ed343f6",
            "15313d0f476547f49b2b675f1fcc1663",
            "f6a6d37eb38446e1af52091e130c3059",
            "af039147b3a84ac9ac23515cff204a10",
            "62617244dddb47bd81877d0b56eeacc9",
            "3bb0757ff83146b5ae720a8229662e05",
            "16d9e27adbf04b05a9d9d2e1c0a541df",
            "429921d7f045413cb222d831b302099e",
            "6eb48c036c9946c0b18d3bfa926a02ef",
            "02ccef7a537a4b9aa4ab106938a23011",
            "5cea0f8a12c442a4980640169e4063d5",
            "03ac41e2b49645c2aadbe5ab3ecd4613",
            "c29e1ad556c346548eece83a31163aa3",
            "25a81f430d2943ae9beeac099fec327e",
            "641a47784c014d97b7de3c73c3fedcfd",
            "1931306bae17423d9cdab3d4caa23f64",
            "c7caca604b554126a84030ae01f6bb30",
            "fda576fe45e94403b362add126db8adf",
            "f1310296f5504744a59eeb0321c3986c",
            "d15837f4042348658f92878d7601e57d",
            "c3646904268a42e5914fdba1106f6e61",
            "65cf370e322244188786dbc6f3385830",
            "d01c8fe3f4c24ea0aac5bb9773f0e8a0",
            "d224d68fa7484a22b6d470d74e55dcf7",
            "2fe521bd2c25401dbca12411c4535b00",
            "4efcaceb524143e4abe2ba0778013d58",
            "8f67029a7019472bbaf7fd09bee85c20",
            "3dc81aad48f342e79e9717977bb89429",
            "feb9a55cd122412398c6a0a27c6e4bae",
            "5406b574a5464a13846f7b37272f69e7",
            "f3e9bbf25ff643978ac1ab4a6b1ff4cc",
            "d326c60283b54e1ba52788233c7e8a3f",
            "645ffc9164d543dbac2ba241d4e57058",
            "27033aae6a964280b49e5900c5086d2b",
            "0733ab9024cc4dcea283128df6605668",
            "ac384d220894413286856581c1c93266",
            "1c7004b424fd4e79acdf1b272a2c6ffa",
            "2e2394bbac3f4b81b35483d49b36b038",
            "6ba88ba92cd142fa9be54c0d710cf790",
            "d30e98e9350a4e50a8844714d3d78aff",
            "ec8659ba683e4773a1a3b1c08daea15d",
            "9c3e86c8ee2443eca2ce1998bcd694c9",
            "3fc044e3d7e7479c9cfe06684857a1f6",
            "349adc6e05c7432191a715504bad28b5",
            "e71d29b65e664b3fb3df112286a80ff2",
            "abf36e688a0a4be1926aeb512dcb5fba",
            "5695c05416fc4515b93caa1ad27fe213",
            "06f5e02e1bbf4dfcbb75d0895fda83d3",
            "8e06dcb4b19449729ed54bba50c99c19",
            "1e19905d5e824bce860be06df60456c6",
            "ad738e4a74b3443383ff4d84d328f3f2",
            "c6b07e5d8f7e440b905046fe5b0ce0c4",
            "1378d9ac1c074ba383470f88db54a0e0",
            "59c269d2ded64bfe899f3a5af2d9634a",
            "a72f01323a3a4ab4b318b18d1dccd052",
            "d2245238feb14a8cb7cb34e9cad26093",
            "39127caedaff4de395a3a27c03cb6fd2",
            "b61f75a148e440b7a23b6a2308765e02",
            "269d31319999477894379d09e0b20b5d",
            "5c3a8a29d4d5435c8517c3ad75ac8101",
            "99872b3d3c7f4235bf85c52bd71376a6",
            "b3ae5d17376b426c9365c955048ec4a7",
            "56f49cc872a44d569d5fdef83e8dab60",
            "cf61773e37e0497b8c8f893e7dec271c",
            "a05d64150f724330940d893cf5645d48",
            "4ccc701519114b0a906765158b47f4b1",
            "1d94161e4ae74ab386e8ae9777325d44",
            "d8962ce63ff54da4b2ef44ead2270aae"
          ]
        },
        "id": "7ak7kyZY0uD8",
        "outputId": "5081a145-e578-465c-91dd-bbb52bed2bf8"
      },
      "outputs": [
        {
          "output_type": "display_data",
          "data": {
            "text/plain": [
              "<IPython.core.display.Javascript object>"
            ],
            "application/javascript": [
              "\n",
              "        window._wandbApiKey = new Promise((resolve, reject) => {\n",
              "            function loadScript(url) {\n",
              "            return new Promise(function(resolve, reject) {\n",
              "                let newScript = document.createElement(\"script\");\n",
              "                newScript.onerror = reject;\n",
              "                newScript.onload = resolve;\n",
              "                document.body.appendChild(newScript);\n",
              "                newScript.src = url;\n",
              "            });\n",
              "            }\n",
              "            loadScript(\"https://cdn.jsdelivr.net/npm/postmate/build/postmate.min.js\").then(() => {\n",
              "            const iframe = document.createElement('iframe')\n",
              "            iframe.style.cssText = \"width:0;height:0;border:none\"\n",
              "            document.body.appendChild(iframe)\n",
              "            const handshake = new Postmate({\n",
              "                container: iframe,\n",
              "                url: 'https://wandb.ai/authorize'\n",
              "            });\n",
              "            const timeout = setTimeout(() => reject(\"Couldn't auto authenticate\"), 5000)\n",
              "            handshake.then(function(child) {\n",
              "                child.on('authorize', data => {\n",
              "                    clearTimeout(timeout)\n",
              "                    resolve(data)\n",
              "                });\n",
              "            });\n",
              "            })\n",
              "        });\n",
              "    "
            ]
          },
          "metadata": {}
        },
        {
          "output_type": "stream",
          "name": "stderr",
          "text": [
            "\u001b[34m\u001b[1mwandb\u001b[0m: Appending key for api.wandb.ai to your netrc file: /root/.netrc\n"
          ]
        },
        {
          "output_type": "display_data",
          "data": {
            "text/plain": [
              "<IPython.core.display.HTML object>"
            ],
            "text/html": [
              "Tracking run with wandb version 0.13.11"
            ]
          },
          "metadata": {}
        },
        {
          "output_type": "display_data",
          "data": {
            "text/plain": [
              "<IPython.core.display.HTML object>"
            ],
            "text/html": [
              "Run data is saved locally in <code>/content/wandb/run-20230308_151121-87gnilde</code>"
            ]
          },
          "metadata": {}
        },
        {
          "output_type": "display_data",
          "data": {
            "text/plain": [
              "<IPython.core.display.HTML object>"
            ],
            "text/html": [
              "Syncing run <strong><a href='https://wandb.ai/bspanfilov/experiment%20from%20the%20title/runs/87gnilde' target=\"_blank\">polar-wind-193</a></strong> to <a href='https://wandb.ai/bspanfilov/experiment%20from%20the%20title' target=\"_blank\">Weights & Biases</a> (<a href='https://wandb.me/run' target=\"_blank\">docs</a>)<br/>"
            ]
          },
          "metadata": {}
        },
        {
          "output_type": "display_data",
          "data": {
            "text/plain": [
              "<IPython.core.display.HTML object>"
            ],
            "text/html": [
              " View project at <a href='https://wandb.ai/bspanfilov/experiment%20from%20the%20title' target=\"_blank\">https://wandb.ai/bspanfilov/experiment%20from%20the%20title</a>"
            ]
          },
          "metadata": {}
        },
        {
          "output_type": "display_data",
          "data": {
            "text/plain": [
              "<IPython.core.display.HTML object>"
            ],
            "text/html": [
              " View run at <a href='https://wandb.ai/bspanfilov/experiment%20from%20the%20title/runs/87gnilde' target=\"_blank\">https://wandb.ai/bspanfilov/experiment%20from%20the%20title/runs/87gnilde</a>"
            ]
          },
          "metadata": {}
        },
        {
          "output_type": "stream",
          "name": "stdout",
          "text": [
            "Downloading http://yann.lecun.com/exdb/mnist/train-images-idx3-ubyte.gz\n",
            "Downloading http://yann.lecun.com/exdb/mnist/train-images-idx3-ubyte.gz to data/MNIST/raw/train-images-idx3-ubyte.gz\n"
          ]
        },
        {
          "output_type": "display_data",
          "data": {
            "text/plain": [
              "  0%|          | 0/9912422 [00:00<?, ?it/s]"
            ],
            "application/vnd.jupyter.widget-view+json": {
              "version_major": 2,
              "version_minor": 0,
              "model_id": "1f690cb4c781415a8fd7ae77dbbc7b91"
            }
          },
          "metadata": {}
        },
        {
          "output_type": "stream",
          "name": "stdout",
          "text": [
            "Extracting data/MNIST/raw/train-images-idx3-ubyte.gz to data/MNIST/raw\n",
            "\n",
            "Downloading http://yann.lecun.com/exdb/mnist/train-labels-idx1-ubyte.gz\n",
            "Downloading http://yann.lecun.com/exdb/mnist/train-labels-idx1-ubyte.gz to data/MNIST/raw/train-labels-idx1-ubyte.gz\n"
          ]
        },
        {
          "output_type": "display_data",
          "data": {
            "text/plain": [
              "  0%|          | 0/28881 [00:00<?, ?it/s]"
            ],
            "application/vnd.jupyter.widget-view+json": {
              "version_major": 2,
              "version_minor": 0,
              "model_id": "d06eea0156954a77b7e45529a2051186"
            }
          },
          "metadata": {}
        },
        {
          "output_type": "stream",
          "name": "stdout",
          "text": [
            "Extracting data/MNIST/raw/train-labels-idx1-ubyte.gz to data/MNIST/raw\n",
            "\n",
            "Downloading http://yann.lecun.com/exdb/mnist/t10k-images-idx3-ubyte.gz\n",
            "Downloading http://yann.lecun.com/exdb/mnist/t10k-images-idx3-ubyte.gz to data/MNIST/raw/t10k-images-idx3-ubyte.gz\n"
          ]
        },
        {
          "output_type": "display_data",
          "data": {
            "text/plain": [
              "  0%|          | 0/1648877 [00:00<?, ?it/s]"
            ],
            "application/vnd.jupyter.widget-view+json": {
              "version_major": 2,
              "version_minor": 0,
              "model_id": "e58aff3feb8943f8a0e1c9fbfdaa81b2"
            }
          },
          "metadata": {}
        },
        {
          "output_type": "stream",
          "name": "stdout",
          "text": [
            "Extracting data/MNIST/raw/t10k-images-idx3-ubyte.gz to data/MNIST/raw\n",
            "\n",
            "Downloading http://yann.lecun.com/exdb/mnist/t10k-labels-idx1-ubyte.gz\n",
            "Downloading http://yann.lecun.com/exdb/mnist/t10k-labels-idx1-ubyte.gz to data/MNIST/raw/t10k-labels-idx1-ubyte.gz\n"
          ]
        },
        {
          "output_type": "display_data",
          "data": {
            "text/plain": [
              "  0%|          | 0/4542 [00:00<?, ?it/s]"
            ],
            "application/vnd.jupyter.widget-view+json": {
              "version_major": 2,
              "version_minor": 0,
              "model_id": "eaddec74b767479ab731a6a3d30ef108"
            }
          },
          "metadata": {}
        },
        {
          "output_type": "stream",
          "name": "stdout",
          "text": [
            "Extracting data/MNIST/raw/t10k-labels-idx1-ubyte.gz to data/MNIST/raw\n",
            "\n"
          ]
        },
        {
          "output_type": "stream",
          "name": "stderr",
          "text": [
            "100%|██████████| 13000/13000 [02:20<00:00, 92.55it/s] \n",
            "100%|██████████| 13000/13000 [03:52<00:00, 56.02it/s]\n"
          ]
        },
        {
          "output_type": "display_data",
          "data": {
            "text/plain": [
              "<IPython.core.display.HTML object>"
            ],
            "text/html": [
              "Finishing last run (ID:87gnilde) before initializing another..."
            ]
          },
          "metadata": {}
        },
        {
          "output_type": "display_data",
          "data": {
            "text/plain": [
              "<IPython.core.display.HTML object>"
            ],
            "text/html": [
              "Waiting for W&B process to finish... <strong style=\"color:green\">(success).</strong>"
            ]
          },
          "metadata": {}
        },
        {
          "output_type": "display_data",
          "data": {
            "text/plain": [
              "VBox(children=(Label(value='0.001 MB of 0.001 MB uploaded (0.000 MB deduped)\\r'), FloatProgress(value=1.0, max…"
            ],
            "application/vnd.jupyter.widget-view+json": {
              "version_major": 2,
              "version_minor": 0,
              "model_id": "126fd95d6067489eac308e87a39d93f5"
            }
          },
          "metadata": {}
        },
        {
          "output_type": "display_data",
          "data": {
            "text/plain": [
              "<IPython.core.display.HTML object>"
            ],
            "text/html": [
              "<style>\n",
              "    table.wandb td:nth-child(1) { padding: 0 10px; text-align: left ; width: auto;} td:nth-child(2) {text-align: left ; width: 100%}\n",
              "    .wandb-row { display: flex; flex-direction: row; flex-wrap: wrap; justify-content: flex-start; width: 100% }\n",
              "    .wandb-col { display: flex; flex-direction: column; flex-basis: 100%; flex: 1; padding: 10px; }\n",
              "    </style>\n",
              "<div class=\"wandb-row\"><div class=\"wandb-col\"><h3>Run history:</h3><br/><table class=\"wandb\"><tr><td>accuracy_val</td><td>▁▆▇▇████████████████████████████████████</td></tr><tr><td>loss</td><td>█▃▂▂▂▂▂▂▁▁▂▂▁▁▁▁▁▁▂▁▂▁▂▂▁▁▁▂▁▁▁▂▁▁▁▁▁▁▁▁</td></tr></table><br/></div><div class=\"wandb-col\"><h3>Run summary:</h3><br/><table class=\"wandb\"><tr><td>actual_prune_ratio_pruneiter=0</td><td>0.96816</td></tr><tr><td>layer0_actual_prune_ratio_pruneiter=0</td><td>0.97</td></tr><tr><td>layer0_pruned_params_pruneiter=0</td><td>228435</td></tr><tr><td>layer0_total_params_pruneiter=0</td><td>235500</td></tr><tr><td>layer1_actual_prune_ratio_pruneiter=0</td><td>0.97</td></tr><tr><td>layer1_pruned_params_pruneiter=0</td><td>29197</td></tr><tr><td>layer1_total_params_pruneiter=0</td><td>30100</td></tr><tr><td>layer2_actual_prune_ratio_pruneiter=0</td><td>0.48515</td></tr><tr><td>layer2_pruned_params_pruneiter=0</td><td>490</td></tr><tr><td>layer2_total_params_pruneiter=0</td><td>1010</td></tr><tr><td>loss</td><td>0.31917</td></tr><tr><td>total_params_pruneiter=0</td><td>266610</td></tr><tr><td>total_pruned_params_pruneiter=0</td><td>258122</td></tr></table><br/></div></div>"
            ]
          },
          "metadata": {}
        },
        {
          "output_type": "display_data",
          "data": {
            "text/plain": [
              "<IPython.core.display.HTML object>"
            ],
            "text/html": [
              " View run <strong style=\"color:#cdcd00\">polar-wind-193</strong> at: <a href='https://wandb.ai/bspanfilov/experiment%20from%20the%20title/runs/87gnilde' target=\"_blank\">https://wandb.ai/bspanfilov/experiment%20from%20the%20title/runs/87gnilde</a><br/>Synced 5 W&B file(s), 0 media file(s), 0 artifact file(s) and 0 other file(s)"
            ]
          },
          "metadata": {}
        },
        {
          "output_type": "display_data",
          "data": {
            "text/plain": [
              "<IPython.core.display.HTML object>"
            ],
            "text/html": [
              "Find logs at: <code>./wandb/run-20230308_151121-87gnilde/logs</code>"
            ]
          },
          "metadata": {}
        },
        {
          "output_type": "display_data",
          "data": {
            "text/plain": [
              "<IPython.core.display.HTML object>"
            ],
            "text/html": [
              "Successfully finished last run (ID:87gnilde). Initializing new run:<br/>"
            ]
          },
          "metadata": {}
        },
        {
          "output_type": "display_data",
          "data": {
            "text/plain": [
              "<IPython.core.display.HTML object>"
            ],
            "text/html": [
              "Tracking run with wandb version 0.13.11"
            ]
          },
          "metadata": {}
        },
        {
          "output_type": "display_data",
          "data": {
            "text/plain": [
              "<IPython.core.display.HTML object>"
            ],
            "text/html": [
              "Run data is saved locally in <code>/content/wandb/run-20230308_151741-yug3fyjy</code>"
            ]
          },
          "metadata": {}
        },
        {
          "output_type": "display_data",
          "data": {
            "text/plain": [
              "<IPython.core.display.HTML object>"
            ],
            "text/html": [
              "Syncing run <strong><a href='https://wandb.ai/bspanfilov/experiment%20from%20the%20title/runs/yug3fyjy' target=\"_blank\">faithful-bush-194</a></strong> to <a href='https://wandb.ai/bspanfilov/experiment%20from%20the%20title' target=\"_blank\">Weights & Biases</a> (<a href='https://wandb.me/run' target=\"_blank\">docs</a>)<br/>"
            ]
          },
          "metadata": {}
        },
        {
          "output_type": "display_data",
          "data": {
            "text/plain": [
              "<IPython.core.display.HTML object>"
            ],
            "text/html": [
              " View project at <a href='https://wandb.ai/bspanfilov/experiment%20from%20the%20title' target=\"_blank\">https://wandb.ai/bspanfilov/experiment%20from%20the%20title</a>"
            ]
          },
          "metadata": {}
        },
        {
          "output_type": "display_data",
          "data": {
            "text/plain": [
              "<IPython.core.display.HTML object>"
            ],
            "text/html": [
              " View run at <a href='https://wandb.ai/bspanfilov/experiment%20from%20the%20title/runs/yug3fyjy' target=\"_blank\">https://wandb.ai/bspanfilov/experiment%20from%20the%20title/runs/yug3fyjy</a>"
            ]
          },
          "metadata": {}
        },
        {
          "output_type": "stream",
          "name": "stderr",
          "text": [
            "100%|██████████| 13000/13000 [02:15<00:00, 95.91it/s] \n",
            "100%|██████████| 13000/13000 [03:54<00:00, 55.37it/s]\n"
          ]
        },
        {
          "output_type": "display_data",
          "data": {
            "text/plain": [
              "<IPython.core.display.HTML object>"
            ],
            "text/html": [
              "Finishing last run (ID:yug3fyjy) before initializing another..."
            ]
          },
          "metadata": {}
        },
        {
          "output_type": "display_data",
          "data": {
            "text/plain": [
              "<IPython.core.display.HTML object>"
            ],
            "text/html": [
              "Waiting for W&B process to finish... <strong style=\"color:green\">(success).</strong>"
            ]
          },
          "metadata": {}
        },
        {
          "output_type": "display_data",
          "data": {
            "text/plain": [
              "<IPython.core.display.HTML object>"
            ],
            "text/html": [
              "<style>\n",
              "    table.wandb td:nth-child(1) { padding: 0 10px; text-align: left ; width: auto;} td:nth-child(2) {text-align: left ; width: 100%}\n",
              "    .wandb-row { display: flex; flex-direction: row; flex-wrap: wrap; justify-content: flex-start; width: 100% }\n",
              "    .wandb-col { display: flex; flex-direction: column; flex-basis: 100%; flex: 1; padding: 10px; }\n",
              "    </style>\n",
              "<div class=\"wandb-row\"><div class=\"wandb-col\"><h3>Run history:</h3><br/><table class=\"wandb\"><tr><td>accuracy_val</td><td>▁▇▇█████████████████████████████████████</td></tr><tr><td>loss</td><td>█▃▁▂▃▂▂▂▁▁▂▁▂▂▁▁▁▁▁▁▁▁▁▂▁▁▁▁▁▂▁▁▃▁▁▁▂▂▂▂</td></tr></table><br/></div><div class=\"wandb-col\"><h3>Run summary:</h3><br/><table class=\"wandb\"><tr><td>actual_prune_ratio_pruneiter=0</td><td>0.96816</td></tr><tr><td>layer0_actual_prune_ratio_pruneiter=0</td><td>0.97</td></tr><tr><td>layer0_pruned_params_pruneiter=0</td><td>228435</td></tr><tr><td>layer0_total_params_pruneiter=0</td><td>235500</td></tr><tr><td>layer1_actual_prune_ratio_pruneiter=0</td><td>0.97</td></tr><tr><td>layer1_pruned_params_pruneiter=0</td><td>29197</td></tr><tr><td>layer1_total_params_pruneiter=0</td><td>30100</td></tr><tr><td>layer2_actual_prune_ratio_pruneiter=0</td><td>0.48515</td></tr><tr><td>layer2_pruned_params_pruneiter=0</td><td>490</td></tr><tr><td>layer2_total_params_pruneiter=0</td><td>1010</td></tr><tr><td>loss</td><td>0.11017</td></tr><tr><td>total_params_pruneiter=0</td><td>266610</td></tr><tr><td>total_pruned_params_pruneiter=0</td><td>258122</td></tr></table><br/></div></div>"
            ]
          },
          "metadata": {}
        },
        {
          "output_type": "display_data",
          "data": {
            "text/plain": [
              "<IPython.core.display.HTML object>"
            ],
            "text/html": [
              " View run <strong style=\"color:#cdcd00\">faithful-bush-194</strong> at: <a href='https://wandb.ai/bspanfilov/experiment%20from%20the%20title/runs/yug3fyjy' target=\"_blank\">https://wandb.ai/bspanfilov/experiment%20from%20the%20title/runs/yug3fyjy</a><br/>Synced 5 W&B file(s), 0 media file(s), 0 artifact file(s) and 0 other file(s)"
            ]
          },
          "metadata": {}
        },
        {
          "output_type": "display_data",
          "data": {
            "text/plain": [
              "<IPython.core.display.HTML object>"
            ],
            "text/html": [
              "Find logs at: <code>./wandb/run-20230308_151741-yug3fyjy/logs</code>"
            ]
          },
          "metadata": {}
        },
        {
          "output_type": "display_data",
          "data": {
            "text/plain": [
              "<IPython.core.display.HTML object>"
            ],
            "text/html": [
              "Successfully finished last run (ID:yug3fyjy). Initializing new run:<br/>"
            ]
          },
          "metadata": {}
        },
        {
          "output_type": "display_data",
          "data": {
            "text/plain": [
              "<IPython.core.display.HTML object>"
            ],
            "text/html": [
              "Tracking run with wandb version 0.13.11"
            ]
          },
          "metadata": {}
        },
        {
          "output_type": "display_data",
          "data": {
            "text/plain": [
              "<IPython.core.display.HTML object>"
            ],
            "text/html": [
              "Run data is saved locally in <code>/content/wandb/run-20230308_152400-hgvfi1k0</code>"
            ]
          },
          "metadata": {}
        },
        {
          "output_type": "display_data",
          "data": {
            "text/plain": [
              "<IPython.core.display.HTML object>"
            ],
            "text/html": [
              "Syncing run <strong><a href='https://wandb.ai/bspanfilov/experiment%20from%20the%20title/runs/hgvfi1k0' target=\"_blank\">colorful-feather-195</a></strong> to <a href='https://wandb.ai/bspanfilov/experiment%20from%20the%20title' target=\"_blank\">Weights & Biases</a> (<a href='https://wandb.me/run' target=\"_blank\">docs</a>)<br/>"
            ]
          },
          "metadata": {}
        },
        {
          "output_type": "display_data",
          "data": {
            "text/plain": [
              "<IPython.core.display.HTML object>"
            ],
            "text/html": [
              " View project at <a href='https://wandb.ai/bspanfilov/experiment%20from%20the%20title' target=\"_blank\">https://wandb.ai/bspanfilov/experiment%20from%20the%20title</a>"
            ]
          },
          "metadata": {}
        },
        {
          "output_type": "display_data",
          "data": {
            "text/plain": [
              "<IPython.core.display.HTML object>"
            ],
            "text/html": [
              " View run at <a href='https://wandb.ai/bspanfilov/experiment%20from%20the%20title/runs/hgvfi1k0' target=\"_blank\">https://wandb.ai/bspanfilov/experiment%20from%20the%20title/runs/hgvfi1k0</a>"
            ]
          },
          "metadata": {}
        },
        {
          "output_type": "stream",
          "name": "stderr",
          "text": [
            "100%|██████████| 13000/13000 [02:17<00:00, 94.54it/s]\n",
            "100%|██████████| 13000/13000 [03:54<00:00, 55.38it/s]\n"
          ]
        },
        {
          "output_type": "display_data",
          "data": {
            "text/plain": [
              "<IPython.core.display.HTML object>"
            ],
            "text/html": [
              "Finishing last run (ID:hgvfi1k0) before initializing another..."
            ]
          },
          "metadata": {}
        },
        {
          "output_type": "display_data",
          "data": {
            "text/plain": [
              "<IPython.core.display.HTML object>"
            ],
            "text/html": [
              "Waiting for W&B process to finish... <strong style=\"color:green\">(success).</strong>"
            ]
          },
          "metadata": {}
        },
        {
          "output_type": "display_data",
          "data": {
            "text/plain": [
              "VBox(children=(Label(value='0.001 MB of 0.010 MB uploaded (0.000 MB deduped)\\r'), FloatProgress(value=0.081503…"
            ],
            "application/vnd.jupyter.widget-view+json": {
              "version_major": 2,
              "version_minor": 0,
              "model_id": "57fce985ae3a4f298c941419a473e85f"
            }
          },
          "metadata": {}
        },
        {
          "output_type": "display_data",
          "data": {
            "text/plain": [
              "<IPython.core.display.HTML object>"
            ],
            "text/html": [
              "<style>\n",
              "    table.wandb td:nth-child(1) { padding: 0 10px; text-align: left ; width: auto;} td:nth-child(2) {text-align: left ; width: 100%}\n",
              "    .wandb-row { display: flex; flex-direction: row; flex-wrap: wrap; justify-content: flex-start; width: 100% }\n",
              "    .wandb-col { display: flex; flex-direction: column; flex-basis: 100%; flex: 1; padding: 10px; }\n",
              "    </style>\n",
              "<div class=\"wandb-row\"><div class=\"wandb-col\"><h3>Run history:</h3><br/><table class=\"wandb\"><tr><td>accuracy_val</td><td>▁▆▇▇████████████████████████████████████</td></tr><tr><td>loss</td><td>█▃▂▂▂▂▂▂▁▁▂▂▁▁▁▁▁▁▂▁▂▁▂▂▁▁▁▂▁▁▁▂▁▁▁▁▁▁▁▁</td></tr></table><br/></div><div class=\"wandb-col\"><h3>Run summary:</h3><br/><table class=\"wandb\"><tr><td>actual_prune_ratio_pruneiter=0</td><td>0.96816</td></tr><tr><td>layer0_actual_prune_ratio_pruneiter=0</td><td>0.97</td></tr><tr><td>layer0_pruned_params_pruneiter=0</td><td>228435</td></tr><tr><td>layer0_total_params_pruneiter=0</td><td>235500</td></tr><tr><td>layer1_actual_prune_ratio_pruneiter=0</td><td>0.97</td></tr><tr><td>layer1_pruned_params_pruneiter=0</td><td>29197</td></tr><tr><td>layer1_total_params_pruneiter=0</td><td>30100</td></tr><tr><td>layer2_actual_prune_ratio_pruneiter=0</td><td>0.48515</td></tr><tr><td>layer2_pruned_params_pruneiter=0</td><td>490</td></tr><tr><td>layer2_total_params_pruneiter=0</td><td>1010</td></tr><tr><td>loss</td><td>0.31917</td></tr><tr><td>total_params_pruneiter=0</td><td>266610</td></tr><tr><td>total_pruned_params_pruneiter=0</td><td>258122</td></tr></table><br/></div></div>"
            ]
          },
          "metadata": {}
        },
        {
          "output_type": "display_data",
          "data": {
            "text/plain": [
              "<IPython.core.display.HTML object>"
            ],
            "text/html": [
              " View run <strong style=\"color:#cdcd00\">colorful-feather-195</strong> at: <a href='https://wandb.ai/bspanfilov/experiment%20from%20the%20title/runs/hgvfi1k0' target=\"_blank\">https://wandb.ai/bspanfilov/experiment%20from%20the%20title/runs/hgvfi1k0</a><br/>Synced 5 W&B file(s), 0 media file(s), 0 artifact file(s) and 0 other file(s)"
            ]
          },
          "metadata": {}
        },
        {
          "output_type": "display_data",
          "data": {
            "text/plain": [
              "<IPython.core.display.HTML object>"
            ],
            "text/html": [
              "Find logs at: <code>./wandb/run-20230308_152400-hgvfi1k0/logs</code>"
            ]
          },
          "metadata": {}
        },
        {
          "output_type": "display_data",
          "data": {
            "text/plain": [
              "<IPython.core.display.HTML object>"
            ],
            "text/html": [
              "Successfully finished last run (ID:hgvfi1k0). Initializing new run:<br/>"
            ]
          },
          "metadata": {}
        },
        {
          "output_type": "display_data",
          "data": {
            "text/plain": [
              "<IPython.core.display.HTML object>"
            ],
            "text/html": [
              "Tracking run with wandb version 0.13.11"
            ]
          },
          "metadata": {}
        },
        {
          "output_type": "display_data",
          "data": {
            "text/plain": [
              "<IPython.core.display.HTML object>"
            ],
            "text/html": [
              "Run data is saved locally in <code>/content/wandb/run-20230308_153021-zca85kc4</code>"
            ]
          },
          "metadata": {}
        },
        {
          "output_type": "display_data",
          "data": {
            "text/plain": [
              "<IPython.core.display.HTML object>"
            ],
            "text/html": [
              "Syncing run <strong><a href='https://wandb.ai/bspanfilov/experiment%20from%20the%20title/runs/zca85kc4' target=\"_blank\">wobbly-serenity-196</a></strong> to <a href='https://wandb.ai/bspanfilov/experiment%20from%20the%20title' target=\"_blank\">Weights & Biases</a> (<a href='https://wandb.me/run' target=\"_blank\">docs</a>)<br/>"
            ]
          },
          "metadata": {}
        },
        {
          "output_type": "display_data",
          "data": {
            "text/plain": [
              "<IPython.core.display.HTML object>"
            ],
            "text/html": [
              " View project at <a href='https://wandb.ai/bspanfilov/experiment%20from%20the%20title' target=\"_blank\">https://wandb.ai/bspanfilov/experiment%20from%20the%20title</a>"
            ]
          },
          "metadata": {}
        },
        {
          "output_type": "display_data",
          "data": {
            "text/plain": [
              "<IPython.core.display.HTML object>"
            ],
            "text/html": [
              " View run at <a href='https://wandb.ai/bspanfilov/experiment%20from%20the%20title/runs/zca85kc4' target=\"_blank\">https://wandb.ai/bspanfilov/experiment%20from%20the%20title/runs/zca85kc4</a>"
            ]
          },
          "metadata": {}
        },
        {
          "output_type": "stream",
          "name": "stderr",
          "text": [
            "100%|██████████| 13000/13000 [02:20<00:00, 92.25it/s]\n",
            "100%|██████████| 13000/13000 [03:55<00:00, 55.30it/s]\n"
          ]
        },
        {
          "output_type": "display_data",
          "data": {
            "text/plain": [
              "<IPython.core.display.HTML object>"
            ],
            "text/html": [
              "Finishing last run (ID:zca85kc4) before initializing another..."
            ]
          },
          "metadata": {}
        },
        {
          "output_type": "display_data",
          "data": {
            "text/plain": [
              "<IPython.core.display.HTML object>"
            ],
            "text/html": [
              "Waiting for W&B process to finish... <strong style=\"color:green\">(success).</strong>"
            ]
          },
          "metadata": {}
        },
        {
          "output_type": "display_data",
          "data": {
            "text/plain": [
              "VBox(children=(Label(value='0.001 MB of 0.010 MB uploaded (0.000 MB deduped)\\r'), FloatProgress(value=0.081495…"
            ],
            "application/vnd.jupyter.widget-view+json": {
              "version_major": 2,
              "version_minor": 0,
              "model_id": "b62bfdd7b1444cc0810695aaf0061d84"
            }
          },
          "metadata": {}
        },
        {
          "output_type": "display_data",
          "data": {
            "text/plain": [
              "<IPython.core.display.HTML object>"
            ],
            "text/html": [
              "<style>\n",
              "    table.wandb td:nth-child(1) { padding: 0 10px; text-align: left ; width: auto;} td:nth-child(2) {text-align: left ; width: 100%}\n",
              "    .wandb-row { display: flex; flex-direction: row; flex-wrap: wrap; justify-content: flex-start; width: 100% }\n",
              "    .wandb-col { display: flex; flex-direction: column; flex-basis: 100%; flex: 1; padding: 10px; }\n",
              "    </style>\n",
              "<div class=\"wandb-row\"><div class=\"wandb-col\"><h3>Run history:</h3><br/><table class=\"wandb\"><tr><td>accuracy_val</td><td>▁▇▇█████████████████████████████████████</td></tr><tr><td>loss</td><td>█▃▁▂▃▂▂▂▁▁▂▁▂▂▁▁▁▁▁▁▁▁▁▂▁▁▁▁▁▂▁▁▃▁▁▁▂▂▂▂</td></tr></table><br/></div><div class=\"wandb-col\"><h3>Run summary:</h3><br/><table class=\"wandb\"><tr><td>actual_prune_ratio_pruneiter=0</td><td>0.96816</td></tr><tr><td>layer0_actual_prune_ratio_pruneiter=0</td><td>0.97</td></tr><tr><td>layer0_pruned_params_pruneiter=0</td><td>228435</td></tr><tr><td>layer0_total_params_pruneiter=0</td><td>235500</td></tr><tr><td>layer1_actual_prune_ratio_pruneiter=0</td><td>0.97</td></tr><tr><td>layer1_pruned_params_pruneiter=0</td><td>29197</td></tr><tr><td>layer1_total_params_pruneiter=0</td><td>30100</td></tr><tr><td>layer2_actual_prune_ratio_pruneiter=0</td><td>0.48515</td></tr><tr><td>layer2_pruned_params_pruneiter=0</td><td>490</td></tr><tr><td>layer2_total_params_pruneiter=0</td><td>1010</td></tr><tr><td>loss</td><td>0.11017</td></tr><tr><td>total_params_pruneiter=0</td><td>266610</td></tr><tr><td>total_pruned_params_pruneiter=0</td><td>258122</td></tr></table><br/></div></div>"
            ]
          },
          "metadata": {}
        },
        {
          "output_type": "display_data",
          "data": {
            "text/plain": [
              "<IPython.core.display.HTML object>"
            ],
            "text/html": [
              " View run <strong style=\"color:#cdcd00\">wobbly-serenity-196</strong> at: <a href='https://wandb.ai/bspanfilov/experiment%20from%20the%20title/runs/zca85kc4' target=\"_blank\">https://wandb.ai/bspanfilov/experiment%20from%20the%20title/runs/zca85kc4</a><br/>Synced 5 W&B file(s), 0 media file(s), 0 artifact file(s) and 0 other file(s)"
            ]
          },
          "metadata": {}
        },
        {
          "output_type": "display_data",
          "data": {
            "text/plain": [
              "<IPython.core.display.HTML object>"
            ],
            "text/html": [
              "Find logs at: <code>./wandb/run-20230308_153021-zca85kc4/logs</code>"
            ]
          },
          "metadata": {}
        },
        {
          "output_type": "display_data",
          "data": {
            "text/plain": [
              "<IPython.core.display.HTML object>"
            ],
            "text/html": [
              "Successfully finished last run (ID:zca85kc4). Initializing new run:<br/>"
            ]
          },
          "metadata": {}
        },
        {
          "output_type": "display_data",
          "data": {
            "text/plain": [
              "<IPython.core.display.HTML object>"
            ],
            "text/html": [
              "Tracking run with wandb version 0.13.11"
            ]
          },
          "metadata": {}
        },
        {
          "output_type": "display_data",
          "data": {
            "text/plain": [
              "<IPython.core.display.HTML object>"
            ],
            "text/html": [
              "Run data is saved locally in <code>/content/wandb/run-20230308_153645-3p15i5ru</code>"
            ]
          },
          "metadata": {}
        },
        {
          "output_type": "display_data",
          "data": {
            "text/plain": [
              "<IPython.core.display.HTML object>"
            ],
            "text/html": [
              "Syncing run <strong><a href='https://wandb.ai/bspanfilov/experiment%20from%20the%20title/runs/3p15i5ru' target=\"_blank\">sage-leaf-197</a></strong> to <a href='https://wandb.ai/bspanfilov/experiment%20from%20the%20title' target=\"_blank\">Weights & Biases</a> (<a href='https://wandb.me/run' target=\"_blank\">docs</a>)<br/>"
            ]
          },
          "metadata": {}
        },
        {
          "output_type": "display_data",
          "data": {
            "text/plain": [
              "<IPython.core.display.HTML object>"
            ],
            "text/html": [
              " View project at <a href='https://wandb.ai/bspanfilov/experiment%20from%20the%20title' target=\"_blank\">https://wandb.ai/bspanfilov/experiment%20from%20the%20title</a>"
            ]
          },
          "metadata": {}
        },
        {
          "output_type": "display_data",
          "data": {
            "text/plain": [
              "<IPython.core.display.HTML object>"
            ],
            "text/html": [
              " View run at <a href='https://wandb.ai/bspanfilov/experiment%20from%20the%20title/runs/3p15i5ru' target=\"_blank\">https://wandb.ai/bspanfilov/experiment%20from%20the%20title/runs/3p15i5ru</a>"
            ]
          },
          "metadata": {}
        },
        {
          "output_type": "stream",
          "name": "stderr",
          "text": [
            "100%|██████████| 13000/13000 [02:18<00:00, 93.73it/s]\n",
            "100%|██████████| 13000/13000 [03:51<00:00, 56.13it/s]\n"
          ]
        },
        {
          "output_type": "display_data",
          "data": {
            "text/plain": [
              "<IPython.core.display.HTML object>"
            ],
            "text/html": [
              "Finishing last run (ID:3p15i5ru) before initializing another..."
            ]
          },
          "metadata": {}
        },
        {
          "output_type": "display_data",
          "data": {
            "text/plain": [
              "<IPython.core.display.HTML object>"
            ],
            "text/html": [
              "Waiting for W&B process to finish... <strong style=\"color:green\">(success).</strong>"
            ]
          },
          "metadata": {}
        },
        {
          "output_type": "display_data",
          "data": {
            "text/plain": [
              "<IPython.core.display.HTML object>"
            ],
            "text/html": [
              "<style>\n",
              "    table.wandb td:nth-child(1) { padding: 0 10px; text-align: left ; width: auto;} td:nth-child(2) {text-align: left ; width: 100%}\n",
              "    .wandb-row { display: flex; flex-direction: row; flex-wrap: wrap; justify-content: flex-start; width: 100% }\n",
              "    .wandb-col { display: flex; flex-direction: column; flex-basis: 100%; flex: 1; padding: 10px; }\n",
              "    </style>\n",
              "<div class=\"wandb-row\"><div class=\"wandb-col\"><h3>Run history:</h3><br/><table class=\"wandb\"><tr><td>accuracy_val</td><td>▁▇▇█████████████████████████████████████</td></tr><tr><td>loss</td><td>█▃▃▄▂▂▂▂▂▂▃▃▂▂▂▂▂▁▃▂▄▁▂▄▁▂▁▃▁▂▁▂▁▁▂▂▂▁▁▂</td></tr></table><br/></div><div class=\"wandb-col\"><h3>Run summary:</h3><br/><table class=\"wandb\"><tr><td>actual_prune_ratio_pruneiter=0</td><td>0.96816</td></tr><tr><td>layer0_actual_prune_ratio_pruneiter=0</td><td>0.97</td></tr><tr><td>layer0_pruned_params_pruneiter=0</td><td>228435</td></tr><tr><td>layer0_total_params_pruneiter=0</td><td>235500</td></tr><tr><td>layer1_actual_prune_ratio_pruneiter=0</td><td>0.97</td></tr><tr><td>layer1_pruned_params_pruneiter=0</td><td>29197</td></tr><tr><td>layer1_total_params_pruneiter=0</td><td>30100</td></tr><tr><td>layer2_actual_prune_ratio_pruneiter=0</td><td>0.48515</td></tr><tr><td>layer2_pruned_params_pruneiter=0</td><td>490</td></tr><tr><td>layer2_total_params_pruneiter=0</td><td>1010</td></tr><tr><td>loss</td><td>0.30283</td></tr><tr><td>total_params_pruneiter=0</td><td>266610</td></tr><tr><td>total_pruned_params_pruneiter=0</td><td>258122</td></tr></table><br/></div></div>"
            ]
          },
          "metadata": {}
        },
        {
          "output_type": "display_data",
          "data": {
            "text/plain": [
              "<IPython.core.display.HTML object>"
            ],
            "text/html": [
              " View run <strong style=\"color:#cdcd00\">sage-leaf-197</strong> at: <a href='https://wandb.ai/bspanfilov/experiment%20from%20the%20title/runs/3p15i5ru' target=\"_blank\">https://wandb.ai/bspanfilov/experiment%20from%20the%20title/runs/3p15i5ru</a><br/>Synced 5 W&B file(s), 0 media file(s), 0 artifact file(s) and 0 other file(s)"
            ]
          },
          "metadata": {}
        },
        {
          "output_type": "display_data",
          "data": {
            "text/plain": [
              "<IPython.core.display.HTML object>"
            ],
            "text/html": [
              "Find logs at: <code>./wandb/run-20230308_153645-3p15i5ru/logs</code>"
            ]
          },
          "metadata": {}
        },
        {
          "output_type": "display_data",
          "data": {
            "text/plain": [
              "<IPython.core.display.HTML object>"
            ],
            "text/html": [
              "Successfully finished last run (ID:3p15i5ru). Initializing new run:<br/>"
            ]
          },
          "metadata": {}
        },
        {
          "output_type": "display_data",
          "data": {
            "text/plain": [
              "<IPython.core.display.HTML object>"
            ],
            "text/html": [
              "Tracking run with wandb version 0.13.11"
            ]
          },
          "metadata": {}
        },
        {
          "output_type": "display_data",
          "data": {
            "text/plain": [
              "<IPython.core.display.HTML object>"
            ],
            "text/html": [
              "Run data is saved locally in <code>/content/wandb/run-20230308_154303-t7tbnqsw</code>"
            ]
          },
          "metadata": {}
        },
        {
          "output_type": "display_data",
          "data": {
            "text/plain": [
              "<IPython.core.display.HTML object>"
            ],
            "text/html": [
              "Syncing run <strong><a href='https://wandb.ai/bspanfilov/experiment%20from%20the%20title/runs/t7tbnqsw' target=\"_blank\">astral-lake-198</a></strong> to <a href='https://wandb.ai/bspanfilov/experiment%20from%20the%20title' target=\"_blank\">Weights & Biases</a> (<a href='https://wandb.me/run' target=\"_blank\">docs</a>)<br/>"
            ]
          },
          "metadata": {}
        },
        {
          "output_type": "display_data",
          "data": {
            "text/plain": [
              "<IPython.core.display.HTML object>"
            ],
            "text/html": [
              " View project at <a href='https://wandb.ai/bspanfilov/experiment%20from%20the%20title' target=\"_blank\">https://wandb.ai/bspanfilov/experiment%20from%20the%20title</a>"
            ]
          },
          "metadata": {}
        },
        {
          "output_type": "display_data",
          "data": {
            "text/plain": [
              "<IPython.core.display.HTML object>"
            ],
            "text/html": [
              " View run at <a href='https://wandb.ai/bspanfilov/experiment%20from%20the%20title/runs/t7tbnqsw' target=\"_blank\">https://wandb.ai/bspanfilov/experiment%20from%20the%20title/runs/t7tbnqsw</a>"
            ]
          },
          "metadata": {}
        },
        {
          "output_type": "stream",
          "name": "stderr",
          "text": [
            "100%|██████████| 13000/13000 [02:20<00:00, 92.29it/s] \n",
            "100%|██████████| 13000/13000 [03:53<00:00, 55.67it/s]\n"
          ]
        },
        {
          "output_type": "display_data",
          "data": {
            "text/plain": [
              "<IPython.core.display.HTML object>"
            ],
            "text/html": [
              "Finishing last run (ID:t7tbnqsw) before initializing another..."
            ]
          },
          "metadata": {}
        },
        {
          "output_type": "display_data",
          "data": {
            "text/plain": [
              "<IPython.core.display.HTML object>"
            ],
            "text/html": [
              "Waiting for W&B process to finish... <strong style=\"color:green\">(success).</strong>"
            ]
          },
          "metadata": {}
        },
        {
          "output_type": "display_data",
          "data": {
            "text/plain": [
              "<IPython.core.display.HTML object>"
            ],
            "text/html": [
              "<style>\n",
              "    table.wandb td:nth-child(1) { padding: 0 10px; text-align: left ; width: auto;} td:nth-child(2) {text-align: left ; width: 100%}\n",
              "    .wandb-row { display: flex; flex-direction: row; flex-wrap: wrap; justify-content: flex-start; width: 100% }\n",
              "    .wandb-col { display: flex; flex-direction: column; flex-basis: 100%; flex: 1; padding: 10px; }\n",
              "    </style>\n",
              "<div class=\"wandb-row\"><div class=\"wandb-col\"><h3>Run history:</h3><br/><table class=\"wandb\"><tr><td>accuracy_val</td><td>▁▇▇█████████████████████████████████████</td></tr><tr><td>loss</td><td>█▄▂▄▅▂▃▄▂▁▃▂▂▃▁▂▂▂▂▃▂▁▂▂▃▁▂▂▂▃▁▂▃▁▁▂▂▂▂▂</td></tr></table><br/></div><div class=\"wandb-col\"><h3>Run summary:</h3><br/><table class=\"wandb\"><tr><td>actual_prune_ratio_pruneiter=0</td><td>0.96816</td></tr><tr><td>layer0_actual_prune_ratio_pruneiter=0</td><td>0.97</td></tr><tr><td>layer0_pruned_params_pruneiter=0</td><td>228435</td></tr><tr><td>layer0_total_params_pruneiter=0</td><td>235500</td></tr><tr><td>layer1_actual_prune_ratio_pruneiter=0</td><td>0.97</td></tr><tr><td>layer1_pruned_params_pruneiter=0</td><td>29197</td></tr><tr><td>layer1_total_params_pruneiter=0</td><td>30100</td></tr><tr><td>layer2_actual_prune_ratio_pruneiter=0</td><td>0.48515</td></tr><tr><td>layer2_pruned_params_pruneiter=0</td><td>490</td></tr><tr><td>layer2_total_params_pruneiter=0</td><td>1010</td></tr><tr><td>loss</td><td>0.15068</td></tr><tr><td>total_params_pruneiter=0</td><td>266610</td></tr><tr><td>total_pruned_params_pruneiter=0</td><td>258122</td></tr></table><br/></div></div>"
            ]
          },
          "metadata": {}
        },
        {
          "output_type": "display_data",
          "data": {
            "text/plain": [
              "<IPython.core.display.HTML object>"
            ],
            "text/html": [
              " View run <strong style=\"color:#cdcd00\">astral-lake-198</strong> at: <a href='https://wandb.ai/bspanfilov/experiment%20from%20the%20title/runs/t7tbnqsw' target=\"_blank\">https://wandb.ai/bspanfilov/experiment%20from%20the%20title/runs/t7tbnqsw</a><br/>Synced 5 W&B file(s), 0 media file(s), 0 artifact file(s) and 0 other file(s)"
            ]
          },
          "metadata": {}
        },
        {
          "output_type": "display_data",
          "data": {
            "text/plain": [
              "<IPython.core.display.HTML object>"
            ],
            "text/html": [
              "Find logs at: <code>./wandb/run-20230308_154303-t7tbnqsw/logs</code>"
            ]
          },
          "metadata": {}
        },
        {
          "output_type": "display_data",
          "data": {
            "text/plain": [
              "<IPython.core.display.HTML object>"
            ],
            "text/html": [
              "Successfully finished last run (ID:t7tbnqsw). Initializing new run:<br/>"
            ]
          },
          "metadata": {}
        },
        {
          "output_type": "display_data",
          "data": {
            "text/plain": [
              "<IPython.core.display.HTML object>"
            ],
            "text/html": [
              "Tracking run with wandb version 0.13.11"
            ]
          },
          "metadata": {}
        },
        {
          "output_type": "display_data",
          "data": {
            "text/plain": [
              "<IPython.core.display.HTML object>"
            ],
            "text/html": [
              "Run data is saved locally in <code>/content/wandb/run-20230308_154927-syqydylz</code>"
            ]
          },
          "metadata": {}
        },
        {
          "output_type": "display_data",
          "data": {
            "text/plain": [
              "<IPython.core.display.HTML object>"
            ],
            "text/html": [
              "Syncing run <strong><a href='https://wandb.ai/bspanfilov/experiment%20from%20the%20title/runs/syqydylz' target=\"_blank\">vital-smoke-199</a></strong> to <a href='https://wandb.ai/bspanfilov/experiment%20from%20the%20title' target=\"_blank\">Weights & Biases</a> (<a href='https://wandb.me/run' target=\"_blank\">docs</a>)<br/>"
            ]
          },
          "metadata": {}
        },
        {
          "output_type": "display_data",
          "data": {
            "text/plain": [
              "<IPython.core.display.HTML object>"
            ],
            "text/html": [
              " View project at <a href='https://wandb.ai/bspanfilov/experiment%20from%20the%20title' target=\"_blank\">https://wandb.ai/bspanfilov/experiment%20from%20the%20title</a>"
            ]
          },
          "metadata": {}
        },
        {
          "output_type": "display_data",
          "data": {
            "text/plain": [
              "<IPython.core.display.HTML object>"
            ],
            "text/html": [
              " View run at <a href='https://wandb.ai/bspanfilov/experiment%20from%20the%20title/runs/syqydylz' target=\"_blank\">https://wandb.ai/bspanfilov/experiment%20from%20the%20title/runs/syqydylz</a>"
            ]
          },
          "metadata": {}
        },
        {
          "output_type": "stream",
          "name": "stderr",
          "text": [
            "100%|██████████| 13000/13000 [02:18<00:00, 93.99it/s] \n",
            "100%|██████████| 13000/13000 [03:51<00:00, 56.12it/s]\n"
          ]
        },
        {
          "output_type": "display_data",
          "data": {
            "text/plain": [
              "<IPython.core.display.HTML object>"
            ],
            "text/html": [
              "Finishing last run (ID:syqydylz) before initializing another..."
            ]
          },
          "metadata": {}
        },
        {
          "output_type": "display_data",
          "data": {
            "text/plain": [
              "<IPython.core.display.HTML object>"
            ],
            "text/html": [
              "Waiting for W&B process to finish... <strong style=\"color:green\">(success).</strong>"
            ]
          },
          "metadata": {}
        },
        {
          "output_type": "display_data",
          "data": {
            "text/plain": [
              "VBox(children=(Label(value='0.001 MB of 0.001 MB uploaded (0.000 MB deduped)\\r'), FloatProgress(value=1.0, max…"
            ],
            "application/vnd.jupyter.widget-view+json": {
              "version_major": 2,
              "version_minor": 0,
              "model_id": "8bcea39a6c334625b7fed0d0f6ccc14d"
            }
          },
          "metadata": {}
        },
        {
          "output_type": "display_data",
          "data": {
            "text/plain": [
              "<IPython.core.display.HTML object>"
            ],
            "text/html": [
              "<style>\n",
              "    table.wandb td:nth-child(1) { padding: 0 10px; text-align: left ; width: auto;} td:nth-child(2) {text-align: left ; width: 100%}\n",
              "    .wandb-row { display: flex; flex-direction: row; flex-wrap: wrap; justify-content: flex-start; width: 100% }\n",
              "    .wandb-col { display: flex; flex-direction: column; flex-basis: 100%; flex: 1; padding: 10px; }\n",
              "    </style>\n",
              "<div class=\"wandb-row\"><div class=\"wandb-col\"><h3>Run history:</h3><br/><table class=\"wandb\"><tr><td>accuracy_val</td><td>▁▇▇█████████████████████████████████████</td></tr><tr><td>loss</td><td>█▃▃▄▂▂▂▂▂▂▃▃▂▂▂▂▂▁▃▂▄▁▂▄▁▂▁▃▁▂▁▂▁▁▂▂▂▁▁▂</td></tr></table><br/></div><div class=\"wandb-col\"><h3>Run summary:</h3><br/><table class=\"wandb\"><tr><td>actual_prune_ratio_pruneiter=0</td><td>0.96816</td></tr><tr><td>layer0_actual_prune_ratio_pruneiter=0</td><td>0.97</td></tr><tr><td>layer0_pruned_params_pruneiter=0</td><td>228435</td></tr><tr><td>layer0_total_params_pruneiter=0</td><td>235500</td></tr><tr><td>layer1_actual_prune_ratio_pruneiter=0</td><td>0.97</td></tr><tr><td>layer1_pruned_params_pruneiter=0</td><td>29197</td></tr><tr><td>layer1_total_params_pruneiter=0</td><td>30100</td></tr><tr><td>layer2_actual_prune_ratio_pruneiter=0</td><td>0.48515</td></tr><tr><td>layer2_pruned_params_pruneiter=0</td><td>490</td></tr><tr><td>layer2_total_params_pruneiter=0</td><td>1010</td></tr><tr><td>loss</td><td>0.30283</td></tr><tr><td>total_params_pruneiter=0</td><td>266610</td></tr><tr><td>total_pruned_params_pruneiter=0</td><td>258122</td></tr></table><br/></div></div>"
            ]
          },
          "metadata": {}
        },
        {
          "output_type": "display_data",
          "data": {
            "text/plain": [
              "<IPython.core.display.HTML object>"
            ],
            "text/html": [
              " View run <strong style=\"color:#cdcd00\">vital-smoke-199</strong> at: <a href='https://wandb.ai/bspanfilov/experiment%20from%20the%20title/runs/syqydylz' target=\"_blank\">https://wandb.ai/bspanfilov/experiment%20from%20the%20title/runs/syqydylz</a><br/>Synced 5 W&B file(s), 0 media file(s), 0 artifact file(s) and 0 other file(s)"
            ]
          },
          "metadata": {}
        },
        {
          "output_type": "display_data",
          "data": {
            "text/plain": [
              "<IPython.core.display.HTML object>"
            ],
            "text/html": [
              "Find logs at: <code>./wandb/run-20230308_154927-syqydylz/logs</code>"
            ]
          },
          "metadata": {}
        },
        {
          "output_type": "display_data",
          "data": {
            "text/plain": [
              "<IPython.core.display.HTML object>"
            ],
            "text/html": [
              "Successfully finished last run (ID:syqydylz). Initializing new run:<br/>"
            ]
          },
          "metadata": {}
        },
        {
          "output_type": "display_data",
          "data": {
            "text/plain": [
              "<IPython.core.display.HTML object>"
            ],
            "text/html": [
              "Tracking run with wandb version 0.13.11"
            ]
          },
          "metadata": {}
        },
        {
          "output_type": "display_data",
          "data": {
            "text/plain": [
              "<IPython.core.display.HTML object>"
            ],
            "text/html": [
              "Run data is saved locally in <code>/content/wandb/run-20230308_155546-nxzt8lgf</code>"
            ]
          },
          "metadata": {}
        },
        {
          "output_type": "display_data",
          "data": {
            "text/plain": [
              "<IPython.core.display.HTML object>"
            ],
            "text/html": [
              "Syncing run <strong><a href='https://wandb.ai/bspanfilov/experiment%20from%20the%20title/runs/nxzt8lgf' target=\"_blank\">usual-thunder-200</a></strong> to <a href='https://wandb.ai/bspanfilov/experiment%20from%20the%20title' target=\"_blank\">Weights & Biases</a> (<a href='https://wandb.me/run' target=\"_blank\">docs</a>)<br/>"
            ]
          },
          "metadata": {}
        },
        {
          "output_type": "display_data",
          "data": {
            "text/plain": [
              "<IPython.core.display.HTML object>"
            ],
            "text/html": [
              " View project at <a href='https://wandb.ai/bspanfilov/experiment%20from%20the%20title' target=\"_blank\">https://wandb.ai/bspanfilov/experiment%20from%20the%20title</a>"
            ]
          },
          "metadata": {}
        },
        {
          "output_type": "display_data",
          "data": {
            "text/plain": [
              "<IPython.core.display.HTML object>"
            ],
            "text/html": [
              " View run at <a href='https://wandb.ai/bspanfilov/experiment%20from%20the%20title/runs/nxzt8lgf' target=\"_blank\">https://wandb.ai/bspanfilov/experiment%20from%20the%20title/runs/nxzt8lgf</a>"
            ]
          },
          "metadata": {}
        },
        {
          "output_type": "stream",
          "name": "stderr",
          "text": [
            "100%|██████████| 13000/13000 [02:21<00:00, 91.82it/s]\n",
            "100%|██████████| 13000/13000 [03:57<00:00, 54.81it/s]\n"
          ]
        },
        {
          "output_type": "display_data",
          "data": {
            "text/plain": [
              "<IPython.core.display.HTML object>"
            ],
            "text/html": [
              "Finishing last run (ID:nxzt8lgf) before initializing another..."
            ]
          },
          "metadata": {}
        },
        {
          "output_type": "display_data",
          "data": {
            "text/plain": [
              "<IPython.core.display.HTML object>"
            ],
            "text/html": [
              "Waiting for W&B process to finish... <strong style=\"color:green\">(success).</strong>"
            ]
          },
          "metadata": {}
        },
        {
          "output_type": "display_data",
          "data": {
            "text/plain": [
              "VBox(children=(Label(value='0.001 MB of 0.001 MB uploaded (0.000 MB deduped)\\r'), FloatProgress(value=1.0, max…"
            ],
            "application/vnd.jupyter.widget-view+json": {
              "version_major": 2,
              "version_minor": 0,
              "model_id": "1e456af6dd044c6ab07dfe5c4516680e"
            }
          },
          "metadata": {}
        },
        {
          "output_type": "display_data",
          "data": {
            "text/plain": [
              "<IPython.core.display.HTML object>"
            ],
            "text/html": [
              "<style>\n",
              "    table.wandb td:nth-child(1) { padding: 0 10px; text-align: left ; width: auto;} td:nth-child(2) {text-align: left ; width: 100%}\n",
              "    .wandb-row { display: flex; flex-direction: row; flex-wrap: wrap; justify-content: flex-start; width: 100% }\n",
              "    .wandb-col { display: flex; flex-direction: column; flex-basis: 100%; flex: 1; padding: 10px; }\n",
              "    </style>\n",
              "<div class=\"wandb-row\"><div class=\"wandb-col\"><h3>Run history:</h3><br/><table class=\"wandb\"><tr><td>accuracy_val</td><td>▁▇▇█████████████████████████████████████</td></tr><tr><td>loss</td><td>█▄▂▄▅▂▃▄▂▁▃▂▂▃▁▂▂▂▂▃▂▁▂▂▃▁▂▂▂▃▁▂▃▁▁▂▂▂▂▂</td></tr></table><br/></div><div class=\"wandb-col\"><h3>Run summary:</h3><br/><table class=\"wandb\"><tr><td>actual_prune_ratio_pruneiter=0</td><td>0.96816</td></tr><tr><td>layer0_actual_prune_ratio_pruneiter=0</td><td>0.97</td></tr><tr><td>layer0_pruned_params_pruneiter=0</td><td>228435</td></tr><tr><td>layer0_total_params_pruneiter=0</td><td>235500</td></tr><tr><td>layer1_actual_prune_ratio_pruneiter=0</td><td>0.97</td></tr><tr><td>layer1_pruned_params_pruneiter=0</td><td>29197</td></tr><tr><td>layer1_total_params_pruneiter=0</td><td>30100</td></tr><tr><td>layer2_actual_prune_ratio_pruneiter=0</td><td>0.48515</td></tr><tr><td>layer2_pruned_params_pruneiter=0</td><td>490</td></tr><tr><td>layer2_total_params_pruneiter=0</td><td>1010</td></tr><tr><td>loss</td><td>0.15068</td></tr><tr><td>total_params_pruneiter=0</td><td>266610</td></tr><tr><td>total_pruned_params_pruneiter=0</td><td>258122</td></tr></table><br/></div></div>"
            ]
          },
          "metadata": {}
        },
        {
          "output_type": "display_data",
          "data": {
            "text/plain": [
              "<IPython.core.display.HTML object>"
            ],
            "text/html": [
              " View run <strong style=\"color:#cdcd00\">usual-thunder-200</strong> at: <a href='https://wandb.ai/bspanfilov/experiment%20from%20the%20title/runs/nxzt8lgf' target=\"_blank\">https://wandb.ai/bspanfilov/experiment%20from%20the%20title/runs/nxzt8lgf</a><br/>Synced 5 W&B file(s), 0 media file(s), 0 artifact file(s) and 0 other file(s)"
            ]
          },
          "metadata": {}
        },
        {
          "output_type": "display_data",
          "data": {
            "text/plain": [
              "<IPython.core.display.HTML object>"
            ],
            "text/html": [
              "Find logs at: <code>./wandb/run-20230308_155546-nxzt8lgf/logs</code>"
            ]
          },
          "metadata": {}
        },
        {
          "output_type": "display_data",
          "data": {
            "text/plain": [
              "<IPython.core.display.HTML object>"
            ],
            "text/html": [
              "Successfully finished last run (ID:nxzt8lgf). Initializing new run:<br/>"
            ]
          },
          "metadata": {}
        },
        {
          "output_type": "display_data",
          "data": {
            "text/plain": [
              "<IPython.core.display.HTML object>"
            ],
            "text/html": [
              "Tracking run with wandb version 0.13.11"
            ]
          },
          "metadata": {}
        },
        {
          "output_type": "display_data",
          "data": {
            "text/plain": [
              "<IPython.core.display.HTML object>"
            ],
            "text/html": [
              "Run data is saved locally in <code>/content/wandb/run-20230308_160214-ca2nj65l</code>"
            ]
          },
          "metadata": {}
        },
        {
          "output_type": "display_data",
          "data": {
            "text/plain": [
              "<IPython.core.display.HTML object>"
            ],
            "text/html": [
              "Syncing run <strong><a href='https://wandb.ai/bspanfilov/experiment%20from%20the%20title/runs/ca2nj65l' target=\"_blank\">cool-sunset-201</a></strong> to <a href='https://wandb.ai/bspanfilov/experiment%20from%20the%20title' target=\"_blank\">Weights & Biases</a> (<a href='https://wandb.me/run' target=\"_blank\">docs</a>)<br/>"
            ]
          },
          "metadata": {}
        },
        {
          "output_type": "display_data",
          "data": {
            "text/plain": [
              "<IPython.core.display.HTML object>"
            ],
            "text/html": [
              " View project at <a href='https://wandb.ai/bspanfilov/experiment%20from%20the%20title' target=\"_blank\">https://wandb.ai/bspanfilov/experiment%20from%20the%20title</a>"
            ]
          },
          "metadata": {}
        },
        {
          "output_type": "display_data",
          "data": {
            "text/plain": [
              "<IPython.core.display.HTML object>"
            ],
            "text/html": [
              " View run at <a href='https://wandb.ai/bspanfilov/experiment%20from%20the%20title/runs/ca2nj65l' target=\"_blank\">https://wandb.ai/bspanfilov/experiment%20from%20the%20title/runs/ca2nj65l</a>"
            ]
          },
          "metadata": {}
        },
        {
          "output_type": "stream",
          "name": "stderr",
          "text": [
            "100%|██████████| 2600/2600 [00:28<00:00, 89.91it/s]\n",
            "100%|██████████| 2600/2600 [00:30<00:00, 86.00it/s]\n",
            "100%|██████████| 2600/2600 [00:29<00:00, 88.41it/s]\n",
            "100%|██████████| 2600/2600 [00:28<00:00, 90.52it/s] \n",
            "100%|██████████| 2600/2600 [00:28<00:00, 90.86it/s]\n",
            "100%|██████████| 13000/13000 [04:03<00:00, 53.29it/s]\n"
          ]
        },
        {
          "output_type": "display_data",
          "data": {
            "text/plain": [
              "<IPython.core.display.HTML object>"
            ],
            "text/html": [
              "Finishing last run (ID:ca2nj65l) before initializing another..."
            ]
          },
          "metadata": {}
        },
        {
          "output_type": "display_data",
          "data": {
            "text/plain": [
              "<IPython.core.display.HTML object>"
            ],
            "text/html": [
              "Waiting for W&B process to finish... <strong style=\"color:green\">(success).</strong>"
            ]
          },
          "metadata": {}
        },
        {
          "output_type": "display_data",
          "data": {
            "text/plain": [
              "VBox(children=(Label(value='0.001 MB of 0.009 MB uploaded (0.000 MB deduped)\\r'), FloatProgress(value=0.093121…"
            ],
            "application/vnd.jupyter.widget-view+json": {
              "version_major": 2,
              "version_minor": 0,
              "model_id": "bf64b91c0d644bd19a13e43029c6aa4c"
            }
          },
          "metadata": {}
        },
        {
          "output_type": "display_data",
          "data": {
            "text/plain": [
              "<IPython.core.display.HTML object>"
            ],
            "text/html": [
              "<style>\n",
              "    table.wandb td:nth-child(1) { padding: 0 10px; text-align: left ; width: auto;} td:nth-child(2) {text-align: left ; width: 100%}\n",
              "    .wandb-row { display: flex; flex-direction: row; flex-wrap: wrap; justify-content: flex-start; width: 100% }\n",
              "    .wandb-col { display: flex; flex-direction: column; flex-basis: 100%; flex: 1; padding: 10px; }\n",
              "    </style>\n",
              "<div class=\"wandb-row\"><div class=\"wandb-col\"><h3>Run history:</h3><br/><table class=\"wandb\"><tr><td>accuracy_val</td><td>▁▇██████████████████████████████████████</td></tr><tr><td>loss</td><td>█▂▁▁▂▂▁▁▁▁▁▁▁▁▁▁▁▁▁▁▁▁▁▁▁▁▁▁▁▁▁▁▁▁▁▁▁▁▁▁</td></tr></table><br/></div><div class=\"wandb-col\"><h3>Run summary:</h3><br/><table class=\"wandb\"><tr><td>actual_prune_ratio_pruneiter=0</td><td>0.50311</td></tr><tr><td>actual_prune_ratio_pruneiter=1</td><td>0.75286</td></tr><tr><td>actual_prune_ratio_pruneiter=2</td><td>0.8769</td></tr><tr><td>actual_prune_ratio_pruneiter=3</td><td>0.93855</td></tr><tr><td>actual_prune_ratio_pruneiter=4</td><td>0.96923</td></tr><tr><td>layer0_actual_prune_ratio_pruneiter=0</td><td>0.50406</td></tr><tr><td>layer0_actual_prune_ratio_pruneiter=1</td><td>0.75405</td></tr><tr><td>layer0_actual_prune_ratio_pruneiter=2</td><td>0.87802</td></tr><tr><td>layer0_actual_prune_ratio_pruneiter=3</td><td>0.93951</td></tr><tr><td>layer0_actual_prune_ratio_pruneiter=4</td><td>0.97</td></tr><tr><td>layer0_pruned_params_pruneiter=0</td><td>118707</td></tr><tr><td>layer0_pruned_params_pruneiter=1</td><td>177578</td></tr><tr><td>layer0_pruned_params_pruneiter=2</td><td>206774</td></tr><tr><td>layer0_pruned_params_pruneiter=3</td><td>221254</td></tr><tr><td>layer0_pruned_params_pruneiter=4</td><td>228435</td></tr><tr><td>layer0_total_params_pruneiter=0</td><td>235500</td></tr><tr><td>layer0_total_params_pruneiter=1</td><td>235500</td></tr><tr><td>layer0_total_params_pruneiter=2</td><td>235500</td></tr><tr><td>layer0_total_params_pruneiter=3</td><td>235500</td></tr><tr><td>layer0_total_params_pruneiter=4</td><td>235500</td></tr><tr><td>layer1_actual_prune_ratio_pruneiter=0</td><td>0.50405</td></tr><tr><td>layer1_actual_prune_ratio_pruneiter=1</td><td>0.75402</td></tr><tr><td>layer1_actual_prune_ratio_pruneiter=2</td><td>0.87801</td></tr><tr><td>layer1_actual_prune_ratio_pruneiter=3</td><td>0.9395</td></tr><tr><td>layer1_actual_prune_ratio_pruneiter=4</td><td>0.97</td></tr><tr><td>layer1_pruned_params_pruneiter=0</td><td>15172</td></tr><tr><td>layer1_pruned_params_pruneiter=1</td><td>22696</td></tr><tr><td>layer1_pruned_params_pruneiter=2</td><td>26428</td></tr><tr><td>layer1_pruned_params_pruneiter=3</td><td>28279</td></tr><tr><td>layer1_pruned_params_pruneiter=4</td><td>29197</td></tr><tr><td>layer1_total_params_pruneiter=0</td><td>30100</td></tr><tr><td>layer1_total_params_pruneiter=1</td><td>30100</td></tr><tr><td>layer1_total_params_pruneiter=2</td><td>30100</td></tr><tr><td>layer1_total_params_pruneiter=3</td><td>30100</td></tr><tr><td>layer1_total_params_pruneiter=4</td><td>30100</td></tr><tr><td>layer2_actual_prune_ratio_pruneiter=0</td><td>0.25248</td></tr><tr><td>layer2_actual_prune_ratio_pruneiter=1</td><td>0.44158</td></tr><tr><td>layer2_actual_prune_ratio_pruneiter=2</td><td>0.58218</td></tr><tr><td>layer2_actual_prune_ratio_pruneiter=3</td><td>0.68713</td></tr><tr><td>layer2_actual_prune_ratio_pruneiter=4</td><td>0.76634</td></tr><tr><td>layer2_pruned_params_pruneiter=0</td><td>255</td></tr><tr><td>layer2_pruned_params_pruneiter=1</td><td>446</td></tr><tr><td>layer2_pruned_params_pruneiter=2</td><td>588</td></tr><tr><td>layer2_pruned_params_pruneiter=3</td><td>694</td></tr><tr><td>layer2_pruned_params_pruneiter=4</td><td>774</td></tr><tr><td>layer2_total_params_pruneiter=0</td><td>1010</td></tr><tr><td>layer2_total_params_pruneiter=1</td><td>1010</td></tr><tr><td>layer2_total_params_pruneiter=2</td><td>1010</td></tr><tr><td>layer2_total_params_pruneiter=3</td><td>1010</td></tr><tr><td>layer2_total_params_pruneiter=4</td><td>1010</td></tr><tr><td>loss</td><td>0.02226</td></tr><tr><td>total_params_pruneiter=0</td><td>266610</td></tr><tr><td>total_params_pruneiter=1</td><td>266610</td></tr><tr><td>total_params_pruneiter=2</td><td>266610</td></tr><tr><td>total_params_pruneiter=3</td><td>266610</td></tr><tr><td>total_params_pruneiter=4</td><td>266610</td></tr><tr><td>total_pruned_params_pruneiter=0</td><td>134134</td></tr><tr><td>total_pruned_params_pruneiter=1</td><td>200720</td></tr><tr><td>total_pruned_params_pruneiter=2</td><td>233790</td></tr><tr><td>total_pruned_params_pruneiter=3</td><td>250227</td></tr><tr><td>total_pruned_params_pruneiter=4</td><td>258406</td></tr></table><br/></div></div>"
            ]
          },
          "metadata": {}
        },
        {
          "output_type": "display_data",
          "data": {
            "text/plain": [
              "<IPython.core.display.HTML object>"
            ],
            "text/html": [
              " View run <strong style=\"color:#cdcd00\">cool-sunset-201</strong> at: <a href='https://wandb.ai/bspanfilov/experiment%20from%20the%20title/runs/ca2nj65l' target=\"_blank\">https://wandb.ai/bspanfilov/experiment%20from%20the%20title/runs/ca2nj65l</a><br/>Synced 5 W&B file(s), 0 media file(s), 0 artifact file(s) and 0 other file(s)"
            ]
          },
          "metadata": {}
        },
        {
          "output_type": "display_data",
          "data": {
            "text/plain": [
              "<IPython.core.display.HTML object>"
            ],
            "text/html": [
              "Find logs at: <code>./wandb/run-20230308_160214-ca2nj65l/logs</code>"
            ]
          },
          "metadata": {}
        },
        {
          "output_type": "display_data",
          "data": {
            "text/plain": [
              "<IPython.core.display.HTML object>"
            ],
            "text/html": [
              "Successfully finished last run (ID:ca2nj65l). Initializing new run:<br/>"
            ]
          },
          "metadata": {}
        },
        {
          "output_type": "display_data",
          "data": {
            "text/plain": [
              "<IPython.core.display.HTML object>"
            ],
            "text/html": [
              "Tracking run with wandb version 0.13.11"
            ]
          },
          "metadata": {}
        },
        {
          "output_type": "display_data",
          "data": {
            "text/plain": [
              "<IPython.core.display.HTML object>"
            ],
            "text/html": [
              "Run data is saved locally in <code>/content/wandb/run-20230308_160858-zqpi2y6w</code>"
            ]
          },
          "metadata": {}
        },
        {
          "output_type": "display_data",
          "data": {
            "text/plain": [
              "<IPython.core.display.HTML object>"
            ],
            "text/html": [
              "Syncing run <strong><a href='https://wandb.ai/bspanfilov/experiment%20from%20the%20title/runs/zqpi2y6w' target=\"_blank\">noble-oath-202</a></strong> to <a href='https://wandb.ai/bspanfilov/experiment%20from%20the%20title' target=\"_blank\">Weights & Biases</a> (<a href='https://wandb.me/run' target=\"_blank\">docs</a>)<br/>"
            ]
          },
          "metadata": {}
        },
        {
          "output_type": "display_data",
          "data": {
            "text/plain": [
              "<IPython.core.display.HTML object>"
            ],
            "text/html": [
              " View project at <a href='https://wandb.ai/bspanfilov/experiment%20from%20the%20title' target=\"_blank\">https://wandb.ai/bspanfilov/experiment%20from%20the%20title</a>"
            ]
          },
          "metadata": {}
        },
        {
          "output_type": "display_data",
          "data": {
            "text/plain": [
              "<IPython.core.display.HTML object>"
            ],
            "text/html": [
              " View run at <a href='https://wandb.ai/bspanfilov/experiment%20from%20the%20title/runs/zqpi2y6w' target=\"_blank\">https://wandb.ai/bspanfilov/experiment%20from%20the%20title/runs/zqpi2y6w</a>"
            ]
          },
          "metadata": {}
        },
        {
          "output_type": "stream",
          "name": "stderr",
          "text": [
            "100%|██████████| 2600/2600 [00:28<00:00, 92.11it/s] \n",
            "100%|██████████| 2600/2600 [00:28<00:00, 91.10it/s] \n",
            "100%|██████████| 2600/2600 [00:28<00:00, 89.99it/s]\n",
            "100%|██████████| 2600/2600 [00:30<00:00, 85.01it/s]\n",
            "100%|██████████| 2600/2600 [00:29<00:00, 88.65it/s]\n",
            "100%|██████████| 13000/13000 [04:03<00:00, 53.29it/s]\n"
          ]
        },
        {
          "output_type": "display_data",
          "data": {
            "text/plain": [
              "<IPython.core.display.HTML object>"
            ],
            "text/html": [
              "Finishing last run (ID:zqpi2y6w) before initializing another..."
            ]
          },
          "metadata": {}
        },
        {
          "output_type": "display_data",
          "data": {
            "text/plain": [
              "<IPython.core.display.HTML object>"
            ],
            "text/html": [
              "Waiting for W&B process to finish... <strong style=\"color:green\">(success).</strong>"
            ]
          },
          "metadata": {}
        },
        {
          "output_type": "display_data",
          "data": {
            "text/plain": [
              "VBox(children=(Label(value='0.001 MB of 0.001 MB uploaded (0.000 MB deduped)\\r'), FloatProgress(value=1.0, max…"
            ],
            "application/vnd.jupyter.widget-view+json": {
              "version_major": 2,
              "version_minor": 0,
              "model_id": "40fea44658974812af81cbdcd221398d"
            }
          },
          "metadata": {}
        },
        {
          "output_type": "display_data",
          "data": {
            "text/plain": [
              "<IPython.core.display.HTML object>"
            ],
            "text/html": [
              "<style>\n",
              "    table.wandb td:nth-child(1) { padding: 0 10px; text-align: left ; width: auto;} td:nth-child(2) {text-align: left ; width: 100%}\n",
              "    .wandb-row { display: flex; flex-direction: row; flex-wrap: wrap; justify-content: flex-start; width: 100% }\n",
              "    .wandb-col { display: flex; flex-direction: column; flex-basis: 100%; flex: 1; padding: 10px; }\n",
              "    </style>\n",
              "<div class=\"wandb-row\"><div class=\"wandb-col\"><h3>Run history:</h3><br/><table class=\"wandb\"><tr><td>accuracy_val</td><td>▁▇██████████████████████████████████████</td></tr><tr><td>loss</td><td>█▁▁▂▁▁▁▁▁▁▁▁▁▁▁▁▁▁▁▁▁▁▁▁▁▁▁▁▁▁▁▁▁▁▁▁▁▁▁▁</td></tr></table><br/></div><div class=\"wandb-col\"><h3>Run summary:</h3><br/><table class=\"wandb\"><tr><td>actual_prune_ratio_pruneiter=0</td><td>0.50311</td></tr><tr><td>actual_prune_ratio_pruneiter=1</td><td>0.75286</td></tr><tr><td>actual_prune_ratio_pruneiter=2</td><td>0.8769</td></tr><tr><td>actual_prune_ratio_pruneiter=3</td><td>0.93855</td></tr><tr><td>actual_prune_ratio_pruneiter=4</td><td>0.96923</td></tr><tr><td>layer0_actual_prune_ratio_pruneiter=0</td><td>0.50406</td></tr><tr><td>layer0_actual_prune_ratio_pruneiter=1</td><td>0.75405</td></tr><tr><td>layer0_actual_prune_ratio_pruneiter=2</td><td>0.87802</td></tr><tr><td>layer0_actual_prune_ratio_pruneiter=3</td><td>0.93951</td></tr><tr><td>layer0_actual_prune_ratio_pruneiter=4</td><td>0.97</td></tr><tr><td>layer0_pruned_params_pruneiter=0</td><td>118707</td></tr><tr><td>layer0_pruned_params_pruneiter=1</td><td>177578</td></tr><tr><td>layer0_pruned_params_pruneiter=2</td><td>206774</td></tr><tr><td>layer0_pruned_params_pruneiter=3</td><td>221254</td></tr><tr><td>layer0_pruned_params_pruneiter=4</td><td>228435</td></tr><tr><td>layer0_total_params_pruneiter=0</td><td>235500</td></tr><tr><td>layer0_total_params_pruneiter=1</td><td>235500</td></tr><tr><td>layer0_total_params_pruneiter=2</td><td>235500</td></tr><tr><td>layer0_total_params_pruneiter=3</td><td>235500</td></tr><tr><td>layer0_total_params_pruneiter=4</td><td>235500</td></tr><tr><td>layer1_actual_prune_ratio_pruneiter=0</td><td>0.50405</td></tr><tr><td>layer1_actual_prune_ratio_pruneiter=1</td><td>0.75402</td></tr><tr><td>layer1_actual_prune_ratio_pruneiter=2</td><td>0.87801</td></tr><tr><td>layer1_actual_prune_ratio_pruneiter=3</td><td>0.9395</td></tr><tr><td>layer1_actual_prune_ratio_pruneiter=4</td><td>0.97</td></tr><tr><td>layer1_pruned_params_pruneiter=0</td><td>15172</td></tr><tr><td>layer1_pruned_params_pruneiter=1</td><td>22696</td></tr><tr><td>layer1_pruned_params_pruneiter=2</td><td>26428</td></tr><tr><td>layer1_pruned_params_pruneiter=3</td><td>28279</td></tr><tr><td>layer1_pruned_params_pruneiter=4</td><td>29197</td></tr><tr><td>layer1_total_params_pruneiter=0</td><td>30100</td></tr><tr><td>layer1_total_params_pruneiter=1</td><td>30100</td></tr><tr><td>layer1_total_params_pruneiter=2</td><td>30100</td></tr><tr><td>layer1_total_params_pruneiter=3</td><td>30100</td></tr><tr><td>layer1_total_params_pruneiter=4</td><td>30100</td></tr><tr><td>layer2_actual_prune_ratio_pruneiter=0</td><td>0.25248</td></tr><tr><td>layer2_actual_prune_ratio_pruneiter=1</td><td>0.44158</td></tr><tr><td>layer2_actual_prune_ratio_pruneiter=2</td><td>0.58218</td></tr><tr><td>layer2_actual_prune_ratio_pruneiter=3</td><td>0.68713</td></tr><tr><td>layer2_actual_prune_ratio_pruneiter=4</td><td>0.76634</td></tr><tr><td>layer2_pruned_params_pruneiter=0</td><td>255</td></tr><tr><td>layer2_pruned_params_pruneiter=1</td><td>446</td></tr><tr><td>layer2_pruned_params_pruneiter=2</td><td>588</td></tr><tr><td>layer2_pruned_params_pruneiter=3</td><td>694</td></tr><tr><td>layer2_pruned_params_pruneiter=4</td><td>774</td></tr><tr><td>layer2_total_params_pruneiter=0</td><td>1010</td></tr><tr><td>layer2_total_params_pruneiter=1</td><td>1010</td></tr><tr><td>layer2_total_params_pruneiter=2</td><td>1010</td></tr><tr><td>layer2_total_params_pruneiter=3</td><td>1010</td></tr><tr><td>layer2_total_params_pruneiter=4</td><td>1010</td></tr><tr><td>loss</td><td>0.0076</td></tr><tr><td>total_params_pruneiter=0</td><td>266610</td></tr><tr><td>total_params_pruneiter=1</td><td>266610</td></tr><tr><td>total_params_pruneiter=2</td><td>266610</td></tr><tr><td>total_params_pruneiter=3</td><td>266610</td></tr><tr><td>total_params_pruneiter=4</td><td>266610</td></tr><tr><td>total_pruned_params_pruneiter=0</td><td>134134</td></tr><tr><td>total_pruned_params_pruneiter=1</td><td>200720</td></tr><tr><td>total_pruned_params_pruneiter=2</td><td>233790</td></tr><tr><td>total_pruned_params_pruneiter=3</td><td>250227</td></tr><tr><td>total_pruned_params_pruneiter=4</td><td>258406</td></tr></table><br/></div></div>"
            ]
          },
          "metadata": {}
        },
        {
          "output_type": "display_data",
          "data": {
            "text/plain": [
              "<IPython.core.display.HTML object>"
            ],
            "text/html": [
              " View run <strong style=\"color:#cdcd00\">noble-oath-202</strong> at: <a href='https://wandb.ai/bspanfilov/experiment%20from%20the%20title/runs/zqpi2y6w' target=\"_blank\">https://wandb.ai/bspanfilov/experiment%20from%20the%20title/runs/zqpi2y6w</a><br/>Synced 5 W&B file(s), 0 media file(s), 0 artifact file(s) and 0 other file(s)"
            ]
          },
          "metadata": {}
        },
        {
          "output_type": "display_data",
          "data": {
            "text/plain": [
              "<IPython.core.display.HTML object>"
            ],
            "text/html": [
              "Find logs at: <code>./wandb/run-20230308_160858-zqpi2y6w/logs</code>"
            ]
          },
          "metadata": {}
        },
        {
          "output_type": "display_data",
          "data": {
            "text/plain": [
              "<IPython.core.display.HTML object>"
            ],
            "text/html": [
              "Successfully finished last run (ID:zqpi2y6w). Initializing new run:<br/>"
            ]
          },
          "metadata": {}
        },
        {
          "output_type": "display_data",
          "data": {
            "text/plain": [
              "<IPython.core.display.HTML object>"
            ],
            "text/html": [
              "Tracking run with wandb version 0.13.11"
            ]
          },
          "metadata": {}
        },
        {
          "output_type": "display_data",
          "data": {
            "text/plain": [
              "<IPython.core.display.HTML object>"
            ],
            "text/html": [
              "Run data is saved locally in <code>/content/wandb/run-20230308_161536-6qi8y9zi</code>"
            ]
          },
          "metadata": {}
        },
        {
          "output_type": "display_data",
          "data": {
            "text/plain": [
              "<IPython.core.display.HTML object>"
            ],
            "text/html": [
              "Syncing run <strong><a href='https://wandb.ai/bspanfilov/experiment%20from%20the%20title/runs/6qi8y9zi' target=\"_blank\">earnest-snowflake-203</a></strong> to <a href='https://wandb.ai/bspanfilov/experiment%20from%20the%20title' target=\"_blank\">Weights & Biases</a> (<a href='https://wandb.me/run' target=\"_blank\">docs</a>)<br/>"
            ]
          },
          "metadata": {}
        },
        {
          "output_type": "display_data",
          "data": {
            "text/plain": [
              "<IPython.core.display.HTML object>"
            ],
            "text/html": [
              " View project at <a href='https://wandb.ai/bspanfilov/experiment%20from%20the%20title' target=\"_blank\">https://wandb.ai/bspanfilov/experiment%20from%20the%20title</a>"
            ]
          },
          "metadata": {}
        },
        {
          "output_type": "display_data",
          "data": {
            "text/plain": [
              "<IPython.core.display.HTML object>"
            ],
            "text/html": [
              " View run at <a href='https://wandb.ai/bspanfilov/experiment%20from%20the%20title/runs/6qi8y9zi' target=\"_blank\">https://wandb.ai/bspanfilov/experiment%20from%20the%20title/runs/6qi8y9zi</a>"
            ]
          },
          "metadata": {}
        },
        {
          "output_type": "stream",
          "name": "stderr",
          "text": [
            "100%|██████████| 2600/2600 [00:28<00:00, 91.45it/s]\n",
            "100%|██████████| 2600/2600 [00:30<00:00, 86.48it/s]\n",
            "100%|██████████| 2600/2600 [00:29<00:00, 89.19it/s]\n",
            "100%|██████████| 2600/2600 [00:28<00:00, 89.69it/s]\n",
            "100%|██████████| 2600/2600 [00:29<00:00, 88.29it/s]\n",
            "100%|██████████| 13000/13000 [04:06<00:00, 52.71it/s]\n"
          ]
        },
        {
          "output_type": "display_data",
          "data": {
            "text/plain": [
              "<IPython.core.display.HTML object>"
            ],
            "text/html": [
              "Finishing last run (ID:6qi8y9zi) before initializing another..."
            ]
          },
          "metadata": {}
        },
        {
          "output_type": "display_data",
          "data": {
            "text/plain": [
              "<IPython.core.display.HTML object>"
            ],
            "text/html": [
              "Waiting for W&B process to finish... <strong style=\"color:green\">(success).</strong>"
            ]
          },
          "metadata": {}
        },
        {
          "output_type": "display_data",
          "data": {
            "text/plain": [
              "VBox(children=(Label(value='0.001 MB of 0.012 MB uploaded (0.000 MB deduped)\\r'), FloatProgress(value=0.065220…"
            ],
            "application/vnd.jupyter.widget-view+json": {
              "version_major": 2,
              "version_minor": 0,
              "model_id": "bd1b1cbf15a94a15a8f9822c4744f912"
            }
          },
          "metadata": {}
        },
        {
          "output_type": "display_data",
          "data": {
            "text/plain": [
              "<IPython.core.display.HTML object>"
            ],
            "text/html": [
              "<style>\n",
              "    table.wandb td:nth-child(1) { padding: 0 10px; text-align: left ; width: auto;} td:nth-child(2) {text-align: left ; width: 100%}\n",
              "    .wandb-row { display: flex; flex-direction: row; flex-wrap: wrap; justify-content: flex-start; width: 100% }\n",
              "    .wandb-col { display: flex; flex-direction: column; flex-basis: 100%; flex: 1; padding: 10px; }\n",
              "    </style>\n",
              "<div class=\"wandb-row\"><div class=\"wandb-col\"><h3>Run history:</h3><br/><table class=\"wandb\"><tr><td>accuracy_val</td><td>▁▇██████████████████████████████████████</td></tr><tr><td>loss</td><td>█▂▁▁▂▂▁▁▁▁▁▁▁▁▁▁▁▁▁▁▁▁▁▁▁▁▁▁▁▁▁▁▁▁▁▁▁▁▁▁</td></tr></table><br/></div><div class=\"wandb-col\"><h3>Run summary:</h3><br/><table class=\"wandb\"><tr><td>actual_prune_ratio_pruneiter=0</td><td>0.50311</td></tr><tr><td>actual_prune_ratio_pruneiter=1</td><td>0.75286</td></tr><tr><td>actual_prune_ratio_pruneiter=2</td><td>0.8769</td></tr><tr><td>actual_prune_ratio_pruneiter=3</td><td>0.93855</td></tr><tr><td>actual_prune_ratio_pruneiter=4</td><td>0.96923</td></tr><tr><td>layer0_actual_prune_ratio_pruneiter=0</td><td>0.50406</td></tr><tr><td>layer0_actual_prune_ratio_pruneiter=1</td><td>0.75405</td></tr><tr><td>layer0_actual_prune_ratio_pruneiter=2</td><td>0.87802</td></tr><tr><td>layer0_actual_prune_ratio_pruneiter=3</td><td>0.93951</td></tr><tr><td>layer0_actual_prune_ratio_pruneiter=4</td><td>0.97</td></tr><tr><td>layer0_pruned_params_pruneiter=0</td><td>118707</td></tr><tr><td>layer0_pruned_params_pruneiter=1</td><td>177578</td></tr><tr><td>layer0_pruned_params_pruneiter=2</td><td>206774</td></tr><tr><td>layer0_pruned_params_pruneiter=3</td><td>221254</td></tr><tr><td>layer0_pruned_params_pruneiter=4</td><td>228435</td></tr><tr><td>layer0_total_params_pruneiter=0</td><td>235500</td></tr><tr><td>layer0_total_params_pruneiter=1</td><td>235500</td></tr><tr><td>layer0_total_params_pruneiter=2</td><td>235500</td></tr><tr><td>layer0_total_params_pruneiter=3</td><td>235500</td></tr><tr><td>layer0_total_params_pruneiter=4</td><td>235500</td></tr><tr><td>layer1_actual_prune_ratio_pruneiter=0</td><td>0.50405</td></tr><tr><td>layer1_actual_prune_ratio_pruneiter=1</td><td>0.75402</td></tr><tr><td>layer1_actual_prune_ratio_pruneiter=2</td><td>0.87801</td></tr><tr><td>layer1_actual_prune_ratio_pruneiter=3</td><td>0.9395</td></tr><tr><td>layer1_actual_prune_ratio_pruneiter=4</td><td>0.97</td></tr><tr><td>layer1_pruned_params_pruneiter=0</td><td>15172</td></tr><tr><td>layer1_pruned_params_pruneiter=1</td><td>22696</td></tr><tr><td>layer1_pruned_params_pruneiter=2</td><td>26428</td></tr><tr><td>layer1_pruned_params_pruneiter=3</td><td>28279</td></tr><tr><td>layer1_pruned_params_pruneiter=4</td><td>29197</td></tr><tr><td>layer1_total_params_pruneiter=0</td><td>30100</td></tr><tr><td>layer1_total_params_pruneiter=1</td><td>30100</td></tr><tr><td>layer1_total_params_pruneiter=2</td><td>30100</td></tr><tr><td>layer1_total_params_pruneiter=3</td><td>30100</td></tr><tr><td>layer1_total_params_pruneiter=4</td><td>30100</td></tr><tr><td>layer2_actual_prune_ratio_pruneiter=0</td><td>0.25248</td></tr><tr><td>layer2_actual_prune_ratio_pruneiter=1</td><td>0.44158</td></tr><tr><td>layer2_actual_prune_ratio_pruneiter=2</td><td>0.58218</td></tr><tr><td>layer2_actual_prune_ratio_pruneiter=3</td><td>0.68713</td></tr><tr><td>layer2_actual_prune_ratio_pruneiter=4</td><td>0.76634</td></tr><tr><td>layer2_pruned_params_pruneiter=0</td><td>255</td></tr><tr><td>layer2_pruned_params_pruneiter=1</td><td>446</td></tr><tr><td>layer2_pruned_params_pruneiter=2</td><td>588</td></tr><tr><td>layer2_pruned_params_pruneiter=3</td><td>694</td></tr><tr><td>layer2_pruned_params_pruneiter=4</td><td>774</td></tr><tr><td>layer2_total_params_pruneiter=0</td><td>1010</td></tr><tr><td>layer2_total_params_pruneiter=1</td><td>1010</td></tr><tr><td>layer2_total_params_pruneiter=2</td><td>1010</td></tr><tr><td>layer2_total_params_pruneiter=3</td><td>1010</td></tr><tr><td>layer2_total_params_pruneiter=4</td><td>1010</td></tr><tr><td>loss</td><td>0.02226</td></tr><tr><td>total_params_pruneiter=0</td><td>266610</td></tr><tr><td>total_params_pruneiter=1</td><td>266610</td></tr><tr><td>total_params_pruneiter=2</td><td>266610</td></tr><tr><td>total_params_pruneiter=3</td><td>266610</td></tr><tr><td>total_params_pruneiter=4</td><td>266610</td></tr><tr><td>total_pruned_params_pruneiter=0</td><td>134134</td></tr><tr><td>total_pruned_params_pruneiter=1</td><td>200720</td></tr><tr><td>total_pruned_params_pruneiter=2</td><td>233790</td></tr><tr><td>total_pruned_params_pruneiter=3</td><td>250227</td></tr><tr><td>total_pruned_params_pruneiter=4</td><td>258406</td></tr></table><br/></div></div>"
            ]
          },
          "metadata": {}
        },
        {
          "output_type": "display_data",
          "data": {
            "text/plain": [
              "<IPython.core.display.HTML object>"
            ],
            "text/html": [
              " View run <strong style=\"color:#cdcd00\">earnest-snowflake-203</strong> at: <a href='https://wandb.ai/bspanfilov/experiment%20from%20the%20title/runs/6qi8y9zi' target=\"_blank\">https://wandb.ai/bspanfilov/experiment%20from%20the%20title/runs/6qi8y9zi</a><br/>Synced 5 W&B file(s), 0 media file(s), 0 artifact file(s) and 0 other file(s)"
            ]
          },
          "metadata": {}
        },
        {
          "output_type": "display_data",
          "data": {
            "text/plain": [
              "<IPython.core.display.HTML object>"
            ],
            "text/html": [
              "Find logs at: <code>./wandb/run-20230308_161536-6qi8y9zi/logs</code>"
            ]
          },
          "metadata": {}
        },
        {
          "output_type": "display_data",
          "data": {
            "text/plain": [
              "<IPython.core.display.HTML object>"
            ],
            "text/html": [
              "Successfully finished last run (ID:6qi8y9zi). Initializing new run:<br/>"
            ]
          },
          "metadata": {}
        },
        {
          "output_type": "display_data",
          "data": {
            "text/plain": [
              "VBox(children=(Label(value='Waiting for wandb.init()...\\r'), FloatProgress(value=0.016669748033336873, max=1.0…"
            ],
            "application/vnd.jupyter.widget-view+json": {
              "version_major": 2,
              "version_minor": 0,
              "model_id": "8812ce5b3a6c4ac081ac789eed588db1"
            }
          },
          "metadata": {}
        },
        {
          "output_type": "display_data",
          "data": {
            "text/plain": [
              "<IPython.core.display.HTML object>"
            ],
            "text/html": [
              "Tracking run with wandb version 0.13.11"
            ]
          },
          "metadata": {}
        },
        {
          "output_type": "display_data",
          "data": {
            "text/plain": [
              "<IPython.core.display.HTML object>"
            ],
            "text/html": [
              "Run data is saved locally in <code>/content/wandb/run-20230308_162218-g7x9okof</code>"
            ]
          },
          "metadata": {}
        },
        {
          "output_type": "display_data",
          "data": {
            "text/plain": [
              "<IPython.core.display.HTML object>"
            ],
            "text/html": [
              "Syncing run <strong><a href='https://wandb.ai/bspanfilov/experiment%20from%20the%20title/runs/g7x9okof' target=\"_blank\">ancient-shape-204</a></strong> to <a href='https://wandb.ai/bspanfilov/experiment%20from%20the%20title' target=\"_blank\">Weights & Biases</a> (<a href='https://wandb.me/run' target=\"_blank\">docs</a>)<br/>"
            ]
          },
          "metadata": {}
        },
        {
          "output_type": "display_data",
          "data": {
            "text/plain": [
              "<IPython.core.display.HTML object>"
            ],
            "text/html": [
              " View project at <a href='https://wandb.ai/bspanfilov/experiment%20from%20the%20title' target=\"_blank\">https://wandb.ai/bspanfilov/experiment%20from%20the%20title</a>"
            ]
          },
          "metadata": {}
        },
        {
          "output_type": "display_data",
          "data": {
            "text/plain": [
              "<IPython.core.display.HTML object>"
            ],
            "text/html": [
              " View run at <a href='https://wandb.ai/bspanfilov/experiment%20from%20the%20title/runs/g7x9okof' target=\"_blank\">https://wandb.ai/bspanfilov/experiment%20from%20the%20title/runs/g7x9okof</a>"
            ]
          },
          "metadata": {}
        },
        {
          "output_type": "stream",
          "name": "stderr",
          "text": [
            "100%|██████████| 2600/2600 [00:28<00:00, 89.66it/s]\n",
            "100%|██████████| 2600/2600 [00:30<00:00, 85.81it/s]\n",
            "100%|██████████| 2600/2600 [00:29<00:00, 88.27it/s]\n",
            "100%|██████████| 2600/2600 [00:29<00:00, 87.99it/s]\n",
            "100%|██████████| 2600/2600 [00:29<00:00, 89.37it/s]\n",
            "100%|██████████| 13000/13000 [04:04<00:00, 53.24it/s]\n"
          ]
        },
        {
          "output_type": "display_data",
          "data": {
            "text/plain": [
              "<IPython.core.display.HTML object>"
            ],
            "text/html": [
              "Finishing last run (ID:g7x9okof) before initializing another..."
            ]
          },
          "metadata": {}
        },
        {
          "output_type": "display_data",
          "data": {
            "text/plain": [
              "<IPython.core.display.HTML object>"
            ],
            "text/html": [
              "Waiting for W&B process to finish... <strong style=\"color:green\">(success).</strong>"
            ]
          },
          "metadata": {}
        },
        {
          "output_type": "display_data",
          "data": {
            "text/plain": [
              "VBox(children=(Label(value='0.001 MB of 0.012 MB uploaded (0.000 MB deduped)\\r'), FloatProgress(value=0.065132…"
            ],
            "application/vnd.jupyter.widget-view+json": {
              "version_major": 2,
              "version_minor": 0,
              "model_id": "f80fd2cfc2084acca8c86193287b9848"
            }
          },
          "metadata": {}
        },
        {
          "output_type": "display_data",
          "data": {
            "text/plain": [
              "<IPython.core.display.HTML object>"
            ],
            "text/html": [
              "<style>\n",
              "    table.wandb td:nth-child(1) { padding: 0 10px; text-align: left ; width: auto;} td:nth-child(2) {text-align: left ; width: 100%}\n",
              "    .wandb-row { display: flex; flex-direction: row; flex-wrap: wrap; justify-content: flex-start; width: 100% }\n",
              "    .wandb-col { display: flex; flex-direction: column; flex-basis: 100%; flex: 1; padding: 10px; }\n",
              "    </style>\n",
              "<div class=\"wandb-row\"><div class=\"wandb-col\"><h3>Run history:</h3><br/><table class=\"wandb\"><tr><td>accuracy_val</td><td>▁▇██████████████████████████████████████</td></tr><tr><td>loss</td><td>█▁▁▂▁▁▁▁▁▁▁▁▁▁▁▁▁▁▁▁▁▁▁▁▁▁▁▁▁▁▁▁▁▁▁▁▁▁▁▁</td></tr></table><br/></div><div class=\"wandb-col\"><h3>Run summary:</h3><br/><table class=\"wandb\"><tr><td>actual_prune_ratio_pruneiter=0</td><td>0.50311</td></tr><tr><td>actual_prune_ratio_pruneiter=1</td><td>0.75286</td></tr><tr><td>actual_prune_ratio_pruneiter=2</td><td>0.8769</td></tr><tr><td>actual_prune_ratio_pruneiter=3</td><td>0.93855</td></tr><tr><td>actual_prune_ratio_pruneiter=4</td><td>0.96923</td></tr><tr><td>layer0_actual_prune_ratio_pruneiter=0</td><td>0.50406</td></tr><tr><td>layer0_actual_prune_ratio_pruneiter=1</td><td>0.75405</td></tr><tr><td>layer0_actual_prune_ratio_pruneiter=2</td><td>0.87802</td></tr><tr><td>layer0_actual_prune_ratio_pruneiter=3</td><td>0.93951</td></tr><tr><td>layer0_actual_prune_ratio_pruneiter=4</td><td>0.97</td></tr><tr><td>layer0_pruned_params_pruneiter=0</td><td>118707</td></tr><tr><td>layer0_pruned_params_pruneiter=1</td><td>177578</td></tr><tr><td>layer0_pruned_params_pruneiter=2</td><td>206774</td></tr><tr><td>layer0_pruned_params_pruneiter=3</td><td>221254</td></tr><tr><td>layer0_pruned_params_pruneiter=4</td><td>228435</td></tr><tr><td>layer0_total_params_pruneiter=0</td><td>235500</td></tr><tr><td>layer0_total_params_pruneiter=1</td><td>235500</td></tr><tr><td>layer0_total_params_pruneiter=2</td><td>235500</td></tr><tr><td>layer0_total_params_pruneiter=3</td><td>235500</td></tr><tr><td>layer0_total_params_pruneiter=4</td><td>235500</td></tr><tr><td>layer1_actual_prune_ratio_pruneiter=0</td><td>0.50405</td></tr><tr><td>layer1_actual_prune_ratio_pruneiter=1</td><td>0.75402</td></tr><tr><td>layer1_actual_prune_ratio_pruneiter=2</td><td>0.87801</td></tr><tr><td>layer1_actual_prune_ratio_pruneiter=3</td><td>0.9395</td></tr><tr><td>layer1_actual_prune_ratio_pruneiter=4</td><td>0.97</td></tr><tr><td>layer1_pruned_params_pruneiter=0</td><td>15172</td></tr><tr><td>layer1_pruned_params_pruneiter=1</td><td>22696</td></tr><tr><td>layer1_pruned_params_pruneiter=2</td><td>26428</td></tr><tr><td>layer1_pruned_params_pruneiter=3</td><td>28279</td></tr><tr><td>layer1_pruned_params_pruneiter=4</td><td>29197</td></tr><tr><td>layer1_total_params_pruneiter=0</td><td>30100</td></tr><tr><td>layer1_total_params_pruneiter=1</td><td>30100</td></tr><tr><td>layer1_total_params_pruneiter=2</td><td>30100</td></tr><tr><td>layer1_total_params_pruneiter=3</td><td>30100</td></tr><tr><td>layer1_total_params_pruneiter=4</td><td>30100</td></tr><tr><td>layer2_actual_prune_ratio_pruneiter=0</td><td>0.25248</td></tr><tr><td>layer2_actual_prune_ratio_pruneiter=1</td><td>0.44158</td></tr><tr><td>layer2_actual_prune_ratio_pruneiter=2</td><td>0.58218</td></tr><tr><td>layer2_actual_prune_ratio_pruneiter=3</td><td>0.68713</td></tr><tr><td>layer2_actual_prune_ratio_pruneiter=4</td><td>0.76634</td></tr><tr><td>layer2_pruned_params_pruneiter=0</td><td>255</td></tr><tr><td>layer2_pruned_params_pruneiter=1</td><td>446</td></tr><tr><td>layer2_pruned_params_pruneiter=2</td><td>588</td></tr><tr><td>layer2_pruned_params_pruneiter=3</td><td>694</td></tr><tr><td>layer2_pruned_params_pruneiter=4</td><td>774</td></tr><tr><td>layer2_total_params_pruneiter=0</td><td>1010</td></tr><tr><td>layer2_total_params_pruneiter=1</td><td>1010</td></tr><tr><td>layer2_total_params_pruneiter=2</td><td>1010</td></tr><tr><td>layer2_total_params_pruneiter=3</td><td>1010</td></tr><tr><td>layer2_total_params_pruneiter=4</td><td>1010</td></tr><tr><td>loss</td><td>0.0076</td></tr><tr><td>total_params_pruneiter=0</td><td>266610</td></tr><tr><td>total_params_pruneiter=1</td><td>266610</td></tr><tr><td>total_params_pruneiter=2</td><td>266610</td></tr><tr><td>total_params_pruneiter=3</td><td>266610</td></tr><tr><td>total_params_pruneiter=4</td><td>266610</td></tr><tr><td>total_pruned_params_pruneiter=0</td><td>134134</td></tr><tr><td>total_pruned_params_pruneiter=1</td><td>200720</td></tr><tr><td>total_pruned_params_pruneiter=2</td><td>233790</td></tr><tr><td>total_pruned_params_pruneiter=3</td><td>250227</td></tr><tr><td>total_pruned_params_pruneiter=4</td><td>258406</td></tr></table><br/></div></div>"
            ]
          },
          "metadata": {}
        },
        {
          "output_type": "display_data",
          "data": {
            "text/plain": [
              "<IPython.core.display.HTML object>"
            ],
            "text/html": [
              " View run <strong style=\"color:#cdcd00\">ancient-shape-204</strong> at: <a href='https://wandb.ai/bspanfilov/experiment%20from%20the%20title/runs/g7x9okof' target=\"_blank\">https://wandb.ai/bspanfilov/experiment%20from%20the%20title/runs/g7x9okof</a><br/>Synced 5 W&B file(s), 0 media file(s), 0 artifact file(s) and 0 other file(s)"
            ]
          },
          "metadata": {}
        },
        {
          "output_type": "display_data",
          "data": {
            "text/plain": [
              "<IPython.core.display.HTML object>"
            ],
            "text/html": [
              "Find logs at: <code>./wandb/run-20230308_162218-g7x9okof/logs</code>"
            ]
          },
          "metadata": {}
        },
        {
          "output_type": "display_data",
          "data": {
            "text/plain": [
              "<IPython.core.display.HTML object>"
            ],
            "text/html": [
              "Successfully finished last run (ID:g7x9okof). Initializing new run:<br/>"
            ]
          },
          "metadata": {}
        },
        {
          "output_type": "display_data",
          "data": {
            "text/plain": [
              "<IPython.core.display.HTML object>"
            ],
            "text/html": [
              "Tracking run with wandb version 0.13.11"
            ]
          },
          "metadata": {}
        },
        {
          "output_type": "display_data",
          "data": {
            "text/plain": [
              "<IPython.core.display.HTML object>"
            ],
            "text/html": [
              "Run data is saved locally in <code>/content/wandb/run-20230308_162900-awi744ih</code>"
            ]
          },
          "metadata": {}
        },
        {
          "output_type": "display_data",
          "data": {
            "text/plain": [
              "<IPython.core.display.HTML object>"
            ],
            "text/html": [
              "Syncing run <strong><a href='https://wandb.ai/bspanfilov/experiment%20from%20the%20title/runs/awi744ih' target=\"_blank\">brisk-water-205</a></strong> to <a href='https://wandb.ai/bspanfilov/experiment%20from%20the%20title' target=\"_blank\">Weights & Biases</a> (<a href='https://wandb.me/run' target=\"_blank\">docs</a>)<br/>"
            ]
          },
          "metadata": {}
        },
        {
          "output_type": "display_data",
          "data": {
            "text/plain": [
              "<IPython.core.display.HTML object>"
            ],
            "text/html": [
              " View project at <a href='https://wandb.ai/bspanfilov/experiment%20from%20the%20title' target=\"_blank\">https://wandb.ai/bspanfilov/experiment%20from%20the%20title</a>"
            ]
          },
          "metadata": {}
        },
        {
          "output_type": "display_data",
          "data": {
            "text/plain": [
              "<IPython.core.display.HTML object>"
            ],
            "text/html": [
              " View run at <a href='https://wandb.ai/bspanfilov/experiment%20from%20the%20title/runs/awi744ih' target=\"_blank\">https://wandb.ai/bspanfilov/experiment%20from%20the%20title/runs/awi744ih</a>"
            ]
          },
          "metadata": {}
        },
        {
          "output_type": "stream",
          "name": "stderr",
          "text": [
            "100%|██████████| 2600/2600 [00:28<00:00, 90.76it/s]\n",
            "100%|██████████| 2600/2600 [00:29<00:00, 87.37it/s]\n",
            "100%|██████████| 2600/2600 [00:28<00:00, 90.22it/s]\n",
            "100%|██████████| 2600/2600 [00:28<00:00, 89.76it/s]\n",
            "100%|██████████| 2600/2600 [00:28<00:00, 90.34it/s]\n",
            "100%|██████████| 13000/13000 [04:01<00:00, 53.87it/s]\n"
          ]
        },
        {
          "output_type": "display_data",
          "data": {
            "text/plain": [
              "<IPython.core.display.HTML object>"
            ],
            "text/html": [
              "Finishing last run (ID:awi744ih) before initializing another..."
            ]
          },
          "metadata": {}
        },
        {
          "output_type": "display_data",
          "data": {
            "text/plain": [
              "<IPython.core.display.HTML object>"
            ],
            "text/html": [
              "Waiting for W&B process to finish... <strong style=\"color:green\">(success).</strong>"
            ]
          },
          "metadata": {}
        },
        {
          "output_type": "display_data",
          "data": {
            "text/plain": [
              "<IPython.core.display.HTML object>"
            ],
            "text/html": [
              "<style>\n",
              "    table.wandb td:nth-child(1) { padding: 0 10px; text-align: left ; width: auto;} td:nth-child(2) {text-align: left ; width: 100%}\n",
              "    .wandb-row { display: flex; flex-direction: row; flex-wrap: wrap; justify-content: flex-start; width: 100% }\n",
              "    .wandb-col { display: flex; flex-direction: column; flex-basis: 100%; flex: 1; padding: 10px; }\n",
              "    </style>\n",
              "<div class=\"wandb-row\"><div class=\"wandb-col\"><h3>Run history:</h3><br/><table class=\"wandb\"><tr><td>accuracy_val</td><td>▁▂▆▇▇███████████████████████████████████</td></tr><tr><td>loss</td><td>█▆▂▂▂▂▂▂▂▂▁▂▂▂▁▁▂▂▁▁▂▁▁▁▁▂▁▂▁▁▁▁▁▁▂▂▁▁▁▁</td></tr></table><br/></div><div class=\"wandb-col\"><h3>Run summary:</h3><br/><table class=\"wandb\"><tr><td>actual_prune_ratio_pruneiter=0</td><td>0.50311</td></tr><tr><td>actual_prune_ratio_pruneiter=1</td><td>0.75286</td></tr><tr><td>actual_prune_ratio_pruneiter=2</td><td>0.8769</td></tr><tr><td>actual_prune_ratio_pruneiter=3</td><td>0.93855</td></tr><tr><td>actual_prune_ratio_pruneiter=4</td><td>0.96923</td></tr><tr><td>layer0_actual_prune_ratio_pruneiter=0</td><td>0.50406</td></tr><tr><td>layer0_actual_prune_ratio_pruneiter=1</td><td>0.75405</td></tr><tr><td>layer0_actual_prune_ratio_pruneiter=2</td><td>0.87802</td></tr><tr><td>layer0_actual_prune_ratio_pruneiter=3</td><td>0.93951</td></tr><tr><td>layer0_actual_prune_ratio_pruneiter=4</td><td>0.97</td></tr><tr><td>layer0_pruned_params_pruneiter=0</td><td>118707</td></tr><tr><td>layer0_pruned_params_pruneiter=1</td><td>177578</td></tr><tr><td>layer0_pruned_params_pruneiter=2</td><td>206774</td></tr><tr><td>layer0_pruned_params_pruneiter=3</td><td>221254</td></tr><tr><td>layer0_pruned_params_pruneiter=4</td><td>228435</td></tr><tr><td>layer0_total_params_pruneiter=0</td><td>235500</td></tr><tr><td>layer0_total_params_pruneiter=1</td><td>235500</td></tr><tr><td>layer0_total_params_pruneiter=2</td><td>235500</td></tr><tr><td>layer0_total_params_pruneiter=3</td><td>235500</td></tr><tr><td>layer0_total_params_pruneiter=4</td><td>235500</td></tr><tr><td>layer1_actual_prune_ratio_pruneiter=0</td><td>0.50405</td></tr><tr><td>layer1_actual_prune_ratio_pruneiter=1</td><td>0.75402</td></tr><tr><td>layer1_actual_prune_ratio_pruneiter=2</td><td>0.87801</td></tr><tr><td>layer1_actual_prune_ratio_pruneiter=3</td><td>0.9395</td></tr><tr><td>layer1_actual_prune_ratio_pruneiter=4</td><td>0.97</td></tr><tr><td>layer1_pruned_params_pruneiter=0</td><td>15172</td></tr><tr><td>layer1_pruned_params_pruneiter=1</td><td>22696</td></tr><tr><td>layer1_pruned_params_pruneiter=2</td><td>26428</td></tr><tr><td>layer1_pruned_params_pruneiter=3</td><td>28279</td></tr><tr><td>layer1_pruned_params_pruneiter=4</td><td>29197</td></tr><tr><td>layer1_total_params_pruneiter=0</td><td>30100</td></tr><tr><td>layer1_total_params_pruneiter=1</td><td>30100</td></tr><tr><td>layer1_total_params_pruneiter=2</td><td>30100</td></tr><tr><td>layer1_total_params_pruneiter=3</td><td>30100</td></tr><tr><td>layer1_total_params_pruneiter=4</td><td>30100</td></tr><tr><td>layer2_actual_prune_ratio_pruneiter=0</td><td>0.25248</td></tr><tr><td>layer2_actual_prune_ratio_pruneiter=1</td><td>0.44158</td></tr><tr><td>layer2_actual_prune_ratio_pruneiter=2</td><td>0.58218</td></tr><tr><td>layer2_actual_prune_ratio_pruneiter=3</td><td>0.68713</td></tr><tr><td>layer2_actual_prune_ratio_pruneiter=4</td><td>0.76634</td></tr><tr><td>layer2_pruned_params_pruneiter=0</td><td>255</td></tr><tr><td>layer2_pruned_params_pruneiter=1</td><td>446</td></tr><tr><td>layer2_pruned_params_pruneiter=2</td><td>588</td></tr><tr><td>layer2_pruned_params_pruneiter=3</td><td>694</td></tr><tr><td>layer2_pruned_params_pruneiter=4</td><td>774</td></tr><tr><td>layer2_total_params_pruneiter=0</td><td>1010</td></tr><tr><td>layer2_total_params_pruneiter=1</td><td>1010</td></tr><tr><td>layer2_total_params_pruneiter=2</td><td>1010</td></tr><tr><td>layer2_total_params_pruneiter=3</td><td>1010</td></tr><tr><td>layer2_total_params_pruneiter=4</td><td>1010</td></tr><tr><td>loss</td><td>0.17825</td></tr><tr><td>total_params_pruneiter=0</td><td>266610</td></tr><tr><td>total_params_pruneiter=1</td><td>266610</td></tr><tr><td>total_params_pruneiter=2</td><td>266610</td></tr><tr><td>total_params_pruneiter=3</td><td>266610</td></tr><tr><td>total_params_pruneiter=4</td><td>266610</td></tr><tr><td>total_pruned_params_pruneiter=0</td><td>134134</td></tr><tr><td>total_pruned_params_pruneiter=1</td><td>200720</td></tr><tr><td>total_pruned_params_pruneiter=2</td><td>233790</td></tr><tr><td>total_pruned_params_pruneiter=3</td><td>250227</td></tr><tr><td>total_pruned_params_pruneiter=4</td><td>258406</td></tr></table><br/></div></div>"
            ]
          },
          "metadata": {}
        },
        {
          "output_type": "display_data",
          "data": {
            "text/plain": [
              "<IPython.core.display.HTML object>"
            ],
            "text/html": [
              " View run <strong style=\"color:#cdcd00\">brisk-water-205</strong> at: <a href='https://wandb.ai/bspanfilov/experiment%20from%20the%20title/runs/awi744ih' target=\"_blank\">https://wandb.ai/bspanfilov/experiment%20from%20the%20title/runs/awi744ih</a><br/>Synced 5 W&B file(s), 0 media file(s), 0 artifact file(s) and 0 other file(s)"
            ]
          },
          "metadata": {}
        },
        {
          "output_type": "display_data",
          "data": {
            "text/plain": [
              "<IPython.core.display.HTML object>"
            ],
            "text/html": [
              "Find logs at: <code>./wandb/run-20230308_162900-awi744ih/logs</code>"
            ]
          },
          "metadata": {}
        },
        {
          "output_type": "display_data",
          "data": {
            "text/plain": [
              "<IPython.core.display.HTML object>"
            ],
            "text/html": [
              "Successfully finished last run (ID:awi744ih). Initializing new run:<br/>"
            ]
          },
          "metadata": {}
        },
        {
          "output_type": "display_data",
          "data": {
            "text/plain": [
              "<IPython.core.display.HTML object>"
            ],
            "text/html": [
              "Tracking run with wandb version 0.13.11"
            ]
          },
          "metadata": {}
        },
        {
          "output_type": "display_data",
          "data": {
            "text/plain": [
              "<IPython.core.display.HTML object>"
            ],
            "text/html": [
              "Run data is saved locally in <code>/content/wandb/run-20230308_163535-pr1d9iqv</code>"
            ]
          },
          "metadata": {}
        },
        {
          "output_type": "display_data",
          "data": {
            "text/plain": [
              "<IPython.core.display.HTML object>"
            ],
            "text/html": [
              "Syncing run <strong><a href='https://wandb.ai/bspanfilov/experiment%20from%20the%20title/runs/pr1d9iqv' target=\"_blank\">glowing-darkness-206</a></strong> to <a href='https://wandb.ai/bspanfilov/experiment%20from%20the%20title' target=\"_blank\">Weights & Biases</a> (<a href='https://wandb.me/run' target=\"_blank\">docs</a>)<br/>"
            ]
          },
          "metadata": {}
        },
        {
          "output_type": "display_data",
          "data": {
            "text/plain": [
              "<IPython.core.display.HTML object>"
            ],
            "text/html": [
              " View project at <a href='https://wandb.ai/bspanfilov/experiment%20from%20the%20title' target=\"_blank\">https://wandb.ai/bspanfilov/experiment%20from%20the%20title</a>"
            ]
          },
          "metadata": {}
        },
        {
          "output_type": "display_data",
          "data": {
            "text/plain": [
              "<IPython.core.display.HTML object>"
            ],
            "text/html": [
              " View run at <a href='https://wandb.ai/bspanfilov/experiment%20from%20the%20title/runs/pr1d9iqv' target=\"_blank\">https://wandb.ai/bspanfilov/experiment%20from%20the%20title/runs/pr1d9iqv</a>"
            ]
          },
          "metadata": {}
        },
        {
          "output_type": "stream",
          "name": "stderr",
          "text": [
            "100%|██████████| 2600/2600 [00:27<00:00, 93.23it/s]\n",
            "100%|██████████| 2600/2600 [00:28<00:00, 90.73it/s]\n",
            "100%|██████████| 2600/2600 [00:29<00:00, 87.13it/s]\n",
            "100%|██████████| 2600/2600 [00:28<00:00, 89.80it/s]\n",
            "100%|██████████| 2600/2600 [00:28<00:00, 90.25it/s] \n",
            "100%|██████████| 13000/13000 [04:00<00:00, 54.14it/s]\n"
          ]
        },
        {
          "output_type": "display_data",
          "data": {
            "text/plain": [
              "<IPython.core.display.HTML object>"
            ],
            "text/html": [
              "Finishing last run (ID:pr1d9iqv) before initializing another..."
            ]
          },
          "metadata": {}
        },
        {
          "output_type": "display_data",
          "data": {
            "text/plain": [
              "<IPython.core.display.HTML object>"
            ],
            "text/html": [
              "Waiting for W&B process to finish... <strong style=\"color:green\">(success).</strong>"
            ]
          },
          "metadata": {}
        },
        {
          "output_type": "display_data",
          "data": {
            "text/plain": [
              "<IPython.core.display.HTML object>"
            ],
            "text/html": [
              "<style>\n",
              "    table.wandb td:nth-child(1) { padding: 0 10px; text-align: left ; width: auto;} td:nth-child(2) {text-align: left ; width: 100%}\n",
              "    .wandb-row { display: flex; flex-direction: row; flex-wrap: wrap; justify-content: flex-start; width: 100% }\n",
              "    .wandb-col { display: flex; flex-direction: column; flex-basis: 100%; flex: 1; padding: 10px; }\n",
              "    </style>\n",
              "<div class=\"wandb-row\"><div class=\"wandb-col\"><h3>Run history:</h3><br/><table class=\"wandb\"><tr><td>accuracy_val</td><td>▁▁▅▇▇▇██████████████████████████████████</td></tr><tr><td>loss</td><td>█▇▃▃▂▂▂▂▂▂▂▂▂▂▂▁▂▁▁▁▂▁▂▁▁▁▁▁▁▁▁▂▁▁▁▁▁▁▁▂</td></tr></table><br/></div><div class=\"wandb-col\"><h3>Run summary:</h3><br/><table class=\"wandb\"><tr><td>actual_prune_ratio_pruneiter=0</td><td>0.50311</td></tr><tr><td>actual_prune_ratio_pruneiter=1</td><td>0.75286</td></tr><tr><td>actual_prune_ratio_pruneiter=2</td><td>0.8769</td></tr><tr><td>actual_prune_ratio_pruneiter=3</td><td>0.93855</td></tr><tr><td>actual_prune_ratio_pruneiter=4</td><td>0.96923</td></tr><tr><td>layer0_actual_prune_ratio_pruneiter=0</td><td>0.50406</td></tr><tr><td>layer0_actual_prune_ratio_pruneiter=1</td><td>0.75405</td></tr><tr><td>layer0_actual_prune_ratio_pruneiter=2</td><td>0.87802</td></tr><tr><td>layer0_actual_prune_ratio_pruneiter=3</td><td>0.93951</td></tr><tr><td>layer0_actual_prune_ratio_pruneiter=4</td><td>0.97</td></tr><tr><td>layer0_pruned_params_pruneiter=0</td><td>118707</td></tr><tr><td>layer0_pruned_params_pruneiter=1</td><td>177578</td></tr><tr><td>layer0_pruned_params_pruneiter=2</td><td>206774</td></tr><tr><td>layer0_pruned_params_pruneiter=3</td><td>221254</td></tr><tr><td>layer0_pruned_params_pruneiter=4</td><td>228435</td></tr><tr><td>layer0_total_params_pruneiter=0</td><td>235500</td></tr><tr><td>layer0_total_params_pruneiter=1</td><td>235500</td></tr><tr><td>layer0_total_params_pruneiter=2</td><td>235500</td></tr><tr><td>layer0_total_params_pruneiter=3</td><td>235500</td></tr><tr><td>layer0_total_params_pruneiter=4</td><td>235500</td></tr><tr><td>layer1_actual_prune_ratio_pruneiter=0</td><td>0.50405</td></tr><tr><td>layer1_actual_prune_ratio_pruneiter=1</td><td>0.75402</td></tr><tr><td>layer1_actual_prune_ratio_pruneiter=2</td><td>0.87801</td></tr><tr><td>layer1_actual_prune_ratio_pruneiter=3</td><td>0.9395</td></tr><tr><td>layer1_actual_prune_ratio_pruneiter=4</td><td>0.97</td></tr><tr><td>layer1_pruned_params_pruneiter=0</td><td>15172</td></tr><tr><td>layer1_pruned_params_pruneiter=1</td><td>22696</td></tr><tr><td>layer1_pruned_params_pruneiter=2</td><td>26428</td></tr><tr><td>layer1_pruned_params_pruneiter=3</td><td>28279</td></tr><tr><td>layer1_pruned_params_pruneiter=4</td><td>29197</td></tr><tr><td>layer1_total_params_pruneiter=0</td><td>30100</td></tr><tr><td>layer1_total_params_pruneiter=1</td><td>30100</td></tr><tr><td>layer1_total_params_pruneiter=2</td><td>30100</td></tr><tr><td>layer1_total_params_pruneiter=3</td><td>30100</td></tr><tr><td>layer1_total_params_pruneiter=4</td><td>30100</td></tr><tr><td>layer2_actual_prune_ratio_pruneiter=0</td><td>0.25248</td></tr><tr><td>layer2_actual_prune_ratio_pruneiter=1</td><td>0.44158</td></tr><tr><td>layer2_actual_prune_ratio_pruneiter=2</td><td>0.58218</td></tr><tr><td>layer2_actual_prune_ratio_pruneiter=3</td><td>0.68713</td></tr><tr><td>layer2_actual_prune_ratio_pruneiter=4</td><td>0.76634</td></tr><tr><td>layer2_pruned_params_pruneiter=0</td><td>255</td></tr><tr><td>layer2_pruned_params_pruneiter=1</td><td>446</td></tr><tr><td>layer2_pruned_params_pruneiter=2</td><td>588</td></tr><tr><td>layer2_pruned_params_pruneiter=3</td><td>694</td></tr><tr><td>layer2_pruned_params_pruneiter=4</td><td>774</td></tr><tr><td>layer2_total_params_pruneiter=0</td><td>1010</td></tr><tr><td>layer2_total_params_pruneiter=1</td><td>1010</td></tr><tr><td>layer2_total_params_pruneiter=2</td><td>1010</td></tr><tr><td>layer2_total_params_pruneiter=3</td><td>1010</td></tr><tr><td>layer2_total_params_pruneiter=4</td><td>1010</td></tr><tr><td>loss</td><td>0.28082</td></tr><tr><td>total_params_pruneiter=0</td><td>266610</td></tr><tr><td>total_params_pruneiter=1</td><td>266610</td></tr><tr><td>total_params_pruneiter=2</td><td>266610</td></tr><tr><td>total_params_pruneiter=3</td><td>266610</td></tr><tr><td>total_params_pruneiter=4</td><td>266610</td></tr><tr><td>total_pruned_params_pruneiter=0</td><td>134134</td></tr><tr><td>total_pruned_params_pruneiter=1</td><td>200720</td></tr><tr><td>total_pruned_params_pruneiter=2</td><td>233790</td></tr><tr><td>total_pruned_params_pruneiter=3</td><td>250227</td></tr><tr><td>total_pruned_params_pruneiter=4</td><td>258406</td></tr></table><br/></div></div>"
            ]
          },
          "metadata": {}
        },
        {
          "output_type": "display_data",
          "data": {
            "text/plain": [
              "<IPython.core.display.HTML object>"
            ],
            "text/html": [
              " View run <strong style=\"color:#cdcd00\">glowing-darkness-206</strong> at: <a href='https://wandb.ai/bspanfilov/experiment%20from%20the%20title/runs/pr1d9iqv' target=\"_blank\">https://wandb.ai/bspanfilov/experiment%20from%20the%20title/runs/pr1d9iqv</a><br/>Synced 5 W&B file(s), 0 media file(s), 0 artifact file(s) and 0 other file(s)"
            ]
          },
          "metadata": {}
        },
        {
          "output_type": "display_data",
          "data": {
            "text/plain": [
              "<IPython.core.display.HTML object>"
            ],
            "text/html": [
              "Find logs at: <code>./wandb/run-20230308_163535-pr1d9iqv/logs</code>"
            ]
          },
          "metadata": {}
        },
        {
          "output_type": "display_data",
          "data": {
            "text/plain": [
              "<IPython.core.display.HTML object>"
            ],
            "text/html": [
              "Successfully finished last run (ID:pr1d9iqv). Initializing new run:<br/>"
            ]
          },
          "metadata": {}
        },
        {
          "output_type": "display_data",
          "data": {
            "text/plain": [
              "<IPython.core.display.HTML object>"
            ],
            "text/html": [
              "Tracking run with wandb version 0.13.11"
            ]
          },
          "metadata": {}
        },
        {
          "output_type": "display_data",
          "data": {
            "text/plain": [
              "<IPython.core.display.HTML object>"
            ],
            "text/html": [
              "Run data is saved locally in <code>/content/wandb/run-20230308_164209-f1siskec</code>"
            ]
          },
          "metadata": {}
        },
        {
          "output_type": "display_data",
          "data": {
            "text/plain": [
              "<IPython.core.display.HTML object>"
            ],
            "text/html": [
              "Syncing run <strong><a href='https://wandb.ai/bspanfilov/experiment%20from%20the%20title/runs/f1siskec' target=\"_blank\">pretty-wood-207</a></strong> to <a href='https://wandb.ai/bspanfilov/experiment%20from%20the%20title' target=\"_blank\">Weights & Biases</a> (<a href='https://wandb.me/run' target=\"_blank\">docs</a>)<br/>"
            ]
          },
          "metadata": {}
        },
        {
          "output_type": "display_data",
          "data": {
            "text/plain": [
              "<IPython.core.display.HTML object>"
            ],
            "text/html": [
              " View project at <a href='https://wandb.ai/bspanfilov/experiment%20from%20the%20title' target=\"_blank\">https://wandb.ai/bspanfilov/experiment%20from%20the%20title</a>"
            ]
          },
          "metadata": {}
        },
        {
          "output_type": "display_data",
          "data": {
            "text/plain": [
              "<IPython.core.display.HTML object>"
            ],
            "text/html": [
              " View run at <a href='https://wandb.ai/bspanfilov/experiment%20from%20the%20title/runs/f1siskec' target=\"_blank\">https://wandb.ai/bspanfilov/experiment%20from%20the%20title/runs/f1siskec</a>"
            ]
          },
          "metadata": {}
        },
        {
          "output_type": "stream",
          "name": "stderr",
          "text": [
            "100%|██████████| 2600/2600 [00:27<00:00, 93.67it/s]\n",
            "100%|██████████| 2600/2600 [00:28<00:00, 90.66it/s]\n",
            "100%|██████████| 2600/2600 [00:29<00:00, 86.82it/s]\n",
            "100%|██████████| 2600/2600 [00:28<00:00, 91.37it/s]\n",
            "100%|██████████| 2600/2600 [00:28<00:00, 90.78it/s] \n",
            "100%|██████████| 13000/13000 [04:01<00:00, 53.73it/s]\n"
          ]
        },
        {
          "output_type": "display_data",
          "data": {
            "text/plain": [
              "<IPython.core.display.HTML object>"
            ],
            "text/html": [
              "Finishing last run (ID:f1siskec) before initializing another..."
            ]
          },
          "metadata": {}
        },
        {
          "output_type": "display_data",
          "data": {
            "text/plain": [
              "<IPython.core.display.HTML object>"
            ],
            "text/html": [
              "Waiting for W&B process to finish... <strong style=\"color:green\">(success).</strong>"
            ]
          },
          "metadata": {}
        },
        {
          "output_type": "display_data",
          "data": {
            "text/plain": [
              "VBox(children=(Label(value='0.001 MB of 0.001 MB uploaded (0.000 MB deduped)\\r'), FloatProgress(value=1.0, max…"
            ],
            "application/vnd.jupyter.widget-view+json": {
              "version_major": 2,
              "version_minor": 0,
              "model_id": "e74499d0151041769714b349eaceb12e"
            }
          },
          "metadata": {}
        },
        {
          "output_type": "display_data",
          "data": {
            "text/plain": [
              "<IPython.core.display.HTML object>"
            ],
            "text/html": [
              "<style>\n",
              "    table.wandb td:nth-child(1) { padding: 0 10px; text-align: left ; width: auto;} td:nth-child(2) {text-align: left ; width: 100%}\n",
              "    .wandb-row { display: flex; flex-direction: row; flex-wrap: wrap; justify-content: flex-start; width: 100% }\n",
              "    .wandb-col { display: flex; flex-direction: column; flex-basis: 100%; flex: 1; padding: 10px; }\n",
              "    </style>\n",
              "<div class=\"wandb-row\"><div class=\"wandb-col\"><h3>Run history:</h3><br/><table class=\"wandb\"><tr><td>accuracy_val</td><td>▁▂▆▇▇███████████████████████████████████</td></tr><tr><td>loss</td><td>█▆▂▂▂▂▂▂▂▂▁▂▂▂▁▁▂▂▁▁▂▁▁▁▁▂▁▂▁▁▁▁▁▁▂▂▁▁▁▁</td></tr></table><br/></div><div class=\"wandb-col\"><h3>Run summary:</h3><br/><table class=\"wandb\"><tr><td>actual_prune_ratio_pruneiter=0</td><td>0.50311</td></tr><tr><td>actual_prune_ratio_pruneiter=1</td><td>0.75286</td></tr><tr><td>actual_prune_ratio_pruneiter=2</td><td>0.8769</td></tr><tr><td>actual_prune_ratio_pruneiter=3</td><td>0.93855</td></tr><tr><td>actual_prune_ratio_pruneiter=4</td><td>0.96923</td></tr><tr><td>layer0_actual_prune_ratio_pruneiter=0</td><td>0.50406</td></tr><tr><td>layer0_actual_prune_ratio_pruneiter=1</td><td>0.75405</td></tr><tr><td>layer0_actual_prune_ratio_pruneiter=2</td><td>0.87802</td></tr><tr><td>layer0_actual_prune_ratio_pruneiter=3</td><td>0.93951</td></tr><tr><td>layer0_actual_prune_ratio_pruneiter=4</td><td>0.97</td></tr><tr><td>layer0_pruned_params_pruneiter=0</td><td>118707</td></tr><tr><td>layer0_pruned_params_pruneiter=1</td><td>177578</td></tr><tr><td>layer0_pruned_params_pruneiter=2</td><td>206774</td></tr><tr><td>layer0_pruned_params_pruneiter=3</td><td>221254</td></tr><tr><td>layer0_pruned_params_pruneiter=4</td><td>228435</td></tr><tr><td>layer0_total_params_pruneiter=0</td><td>235500</td></tr><tr><td>layer0_total_params_pruneiter=1</td><td>235500</td></tr><tr><td>layer0_total_params_pruneiter=2</td><td>235500</td></tr><tr><td>layer0_total_params_pruneiter=3</td><td>235500</td></tr><tr><td>layer0_total_params_pruneiter=4</td><td>235500</td></tr><tr><td>layer1_actual_prune_ratio_pruneiter=0</td><td>0.50405</td></tr><tr><td>layer1_actual_prune_ratio_pruneiter=1</td><td>0.75402</td></tr><tr><td>layer1_actual_prune_ratio_pruneiter=2</td><td>0.87801</td></tr><tr><td>layer1_actual_prune_ratio_pruneiter=3</td><td>0.9395</td></tr><tr><td>layer1_actual_prune_ratio_pruneiter=4</td><td>0.97</td></tr><tr><td>layer1_pruned_params_pruneiter=0</td><td>15172</td></tr><tr><td>layer1_pruned_params_pruneiter=1</td><td>22696</td></tr><tr><td>layer1_pruned_params_pruneiter=2</td><td>26428</td></tr><tr><td>layer1_pruned_params_pruneiter=3</td><td>28279</td></tr><tr><td>layer1_pruned_params_pruneiter=4</td><td>29197</td></tr><tr><td>layer1_total_params_pruneiter=0</td><td>30100</td></tr><tr><td>layer1_total_params_pruneiter=1</td><td>30100</td></tr><tr><td>layer1_total_params_pruneiter=2</td><td>30100</td></tr><tr><td>layer1_total_params_pruneiter=3</td><td>30100</td></tr><tr><td>layer1_total_params_pruneiter=4</td><td>30100</td></tr><tr><td>layer2_actual_prune_ratio_pruneiter=0</td><td>0.25248</td></tr><tr><td>layer2_actual_prune_ratio_pruneiter=1</td><td>0.44158</td></tr><tr><td>layer2_actual_prune_ratio_pruneiter=2</td><td>0.58218</td></tr><tr><td>layer2_actual_prune_ratio_pruneiter=3</td><td>0.68713</td></tr><tr><td>layer2_actual_prune_ratio_pruneiter=4</td><td>0.76634</td></tr><tr><td>layer2_pruned_params_pruneiter=0</td><td>255</td></tr><tr><td>layer2_pruned_params_pruneiter=1</td><td>446</td></tr><tr><td>layer2_pruned_params_pruneiter=2</td><td>588</td></tr><tr><td>layer2_pruned_params_pruneiter=3</td><td>694</td></tr><tr><td>layer2_pruned_params_pruneiter=4</td><td>774</td></tr><tr><td>layer2_total_params_pruneiter=0</td><td>1010</td></tr><tr><td>layer2_total_params_pruneiter=1</td><td>1010</td></tr><tr><td>layer2_total_params_pruneiter=2</td><td>1010</td></tr><tr><td>layer2_total_params_pruneiter=3</td><td>1010</td></tr><tr><td>layer2_total_params_pruneiter=4</td><td>1010</td></tr><tr><td>loss</td><td>0.17825</td></tr><tr><td>total_params_pruneiter=0</td><td>266610</td></tr><tr><td>total_params_pruneiter=1</td><td>266610</td></tr><tr><td>total_params_pruneiter=2</td><td>266610</td></tr><tr><td>total_params_pruneiter=3</td><td>266610</td></tr><tr><td>total_params_pruneiter=4</td><td>266610</td></tr><tr><td>total_pruned_params_pruneiter=0</td><td>134134</td></tr><tr><td>total_pruned_params_pruneiter=1</td><td>200720</td></tr><tr><td>total_pruned_params_pruneiter=2</td><td>233790</td></tr><tr><td>total_pruned_params_pruneiter=3</td><td>250227</td></tr><tr><td>total_pruned_params_pruneiter=4</td><td>258406</td></tr></table><br/></div></div>"
            ]
          },
          "metadata": {}
        },
        {
          "output_type": "display_data",
          "data": {
            "text/plain": [
              "<IPython.core.display.HTML object>"
            ],
            "text/html": [
              " View run <strong style=\"color:#cdcd00\">pretty-wood-207</strong> at: <a href='https://wandb.ai/bspanfilov/experiment%20from%20the%20title/runs/f1siskec' target=\"_blank\">https://wandb.ai/bspanfilov/experiment%20from%20the%20title/runs/f1siskec</a><br/>Synced 5 W&B file(s), 0 media file(s), 0 artifact file(s) and 0 other file(s)"
            ]
          },
          "metadata": {}
        },
        {
          "output_type": "display_data",
          "data": {
            "text/plain": [
              "<IPython.core.display.HTML object>"
            ],
            "text/html": [
              "Find logs at: <code>./wandb/run-20230308_164209-f1siskec/logs</code>"
            ]
          },
          "metadata": {}
        },
        {
          "output_type": "display_data",
          "data": {
            "text/plain": [
              "<IPython.core.display.HTML object>"
            ],
            "text/html": [
              "Successfully finished last run (ID:f1siskec). Initializing new run:<br/>"
            ]
          },
          "metadata": {}
        },
        {
          "output_type": "display_data",
          "data": {
            "text/plain": [
              "<IPython.core.display.HTML object>"
            ],
            "text/html": [
              "Tracking run with wandb version 0.13.11"
            ]
          },
          "metadata": {}
        },
        {
          "output_type": "display_data",
          "data": {
            "text/plain": [
              "<IPython.core.display.HTML object>"
            ],
            "text/html": [
              "Run data is saved locally in <code>/content/wandb/run-20230308_164845-un01lb7d</code>"
            ]
          },
          "metadata": {}
        },
        {
          "output_type": "display_data",
          "data": {
            "text/plain": [
              "<IPython.core.display.HTML object>"
            ],
            "text/html": [
              "Syncing run <strong><a href='https://wandb.ai/bspanfilov/experiment%20from%20the%20title/runs/un01lb7d' target=\"_blank\">lilac-frost-208</a></strong> to <a href='https://wandb.ai/bspanfilov/experiment%20from%20the%20title' target=\"_blank\">Weights & Biases</a> (<a href='https://wandb.me/run' target=\"_blank\">docs</a>)<br/>"
            ]
          },
          "metadata": {}
        },
        {
          "output_type": "display_data",
          "data": {
            "text/plain": [
              "<IPython.core.display.HTML object>"
            ],
            "text/html": [
              " View project at <a href='https://wandb.ai/bspanfilov/experiment%20from%20the%20title' target=\"_blank\">https://wandb.ai/bspanfilov/experiment%20from%20the%20title</a>"
            ]
          },
          "metadata": {}
        },
        {
          "output_type": "display_data",
          "data": {
            "text/plain": [
              "<IPython.core.display.HTML object>"
            ],
            "text/html": [
              " View run at <a href='https://wandb.ai/bspanfilov/experiment%20from%20the%20title/runs/un01lb7d' target=\"_blank\">https://wandb.ai/bspanfilov/experiment%20from%20the%20title/runs/un01lb7d</a>"
            ]
          },
          "metadata": {}
        },
        {
          "output_type": "stream",
          "name": "stderr",
          "text": [
            "100%|██████████| 2600/2600 [00:27<00:00, 93.60it/s] \n",
            "100%|██████████| 2600/2600 [00:29<00:00, 88.08it/s]\n",
            "100%|██████████| 2600/2600 [00:28<00:00, 90.15it/s]\n",
            "100%|██████████| 2600/2600 [00:28<00:00, 90.92it/s]\n",
            "100%|██████████| 2600/2600 [00:29<00:00, 86.84it/s] \n",
            "100%|██████████| 13000/13000 [03:59<00:00, 54.27it/s]\n"
          ]
        },
        {
          "output_type": "display_data",
          "data": {
            "text/plain": [
              "<IPython.core.display.HTML object>"
            ],
            "text/html": [
              "Finishing last run (ID:un01lb7d) before initializing another..."
            ]
          },
          "metadata": {}
        },
        {
          "output_type": "display_data",
          "data": {
            "text/plain": [
              "<IPython.core.display.HTML object>"
            ],
            "text/html": [
              "Waiting for W&B process to finish... <strong style=\"color:green\">(success).</strong>"
            ]
          },
          "metadata": {}
        },
        {
          "output_type": "display_data",
          "data": {
            "text/plain": [
              "<IPython.core.display.HTML object>"
            ],
            "text/html": [
              "<style>\n",
              "    table.wandb td:nth-child(1) { padding: 0 10px; text-align: left ; width: auto;} td:nth-child(2) {text-align: left ; width: 100%}\n",
              "    .wandb-row { display: flex; flex-direction: row; flex-wrap: wrap; justify-content: flex-start; width: 100% }\n",
              "    .wandb-col { display: flex; flex-direction: column; flex-basis: 100%; flex: 1; padding: 10px; }\n",
              "    </style>\n",
              "<div class=\"wandb-row\"><div class=\"wandb-col\"><h3>Run history:</h3><br/><table class=\"wandb\"><tr><td>accuracy_val</td><td>▁▁▅▇▇▇██████████████████████████████████</td></tr><tr><td>loss</td><td>█▇▃▃▂▂▂▂▂▂▂▂▂▂▂▁▂▁▁▁▂▁▂▁▁▁▁▁▁▁▁▂▁▁▁▁▁▁▁▂</td></tr></table><br/></div><div class=\"wandb-col\"><h3>Run summary:</h3><br/><table class=\"wandb\"><tr><td>actual_prune_ratio_pruneiter=0</td><td>0.50311</td></tr><tr><td>actual_prune_ratio_pruneiter=1</td><td>0.75286</td></tr><tr><td>actual_prune_ratio_pruneiter=2</td><td>0.8769</td></tr><tr><td>actual_prune_ratio_pruneiter=3</td><td>0.93855</td></tr><tr><td>actual_prune_ratio_pruneiter=4</td><td>0.96923</td></tr><tr><td>layer0_actual_prune_ratio_pruneiter=0</td><td>0.50406</td></tr><tr><td>layer0_actual_prune_ratio_pruneiter=1</td><td>0.75405</td></tr><tr><td>layer0_actual_prune_ratio_pruneiter=2</td><td>0.87802</td></tr><tr><td>layer0_actual_prune_ratio_pruneiter=3</td><td>0.93951</td></tr><tr><td>layer0_actual_prune_ratio_pruneiter=4</td><td>0.97</td></tr><tr><td>layer0_pruned_params_pruneiter=0</td><td>118707</td></tr><tr><td>layer0_pruned_params_pruneiter=1</td><td>177578</td></tr><tr><td>layer0_pruned_params_pruneiter=2</td><td>206774</td></tr><tr><td>layer0_pruned_params_pruneiter=3</td><td>221254</td></tr><tr><td>layer0_pruned_params_pruneiter=4</td><td>228435</td></tr><tr><td>layer0_total_params_pruneiter=0</td><td>235500</td></tr><tr><td>layer0_total_params_pruneiter=1</td><td>235500</td></tr><tr><td>layer0_total_params_pruneiter=2</td><td>235500</td></tr><tr><td>layer0_total_params_pruneiter=3</td><td>235500</td></tr><tr><td>layer0_total_params_pruneiter=4</td><td>235500</td></tr><tr><td>layer1_actual_prune_ratio_pruneiter=0</td><td>0.50405</td></tr><tr><td>layer1_actual_prune_ratio_pruneiter=1</td><td>0.75402</td></tr><tr><td>layer1_actual_prune_ratio_pruneiter=2</td><td>0.87801</td></tr><tr><td>layer1_actual_prune_ratio_pruneiter=3</td><td>0.9395</td></tr><tr><td>layer1_actual_prune_ratio_pruneiter=4</td><td>0.97</td></tr><tr><td>layer1_pruned_params_pruneiter=0</td><td>15172</td></tr><tr><td>layer1_pruned_params_pruneiter=1</td><td>22696</td></tr><tr><td>layer1_pruned_params_pruneiter=2</td><td>26428</td></tr><tr><td>layer1_pruned_params_pruneiter=3</td><td>28279</td></tr><tr><td>layer1_pruned_params_pruneiter=4</td><td>29197</td></tr><tr><td>layer1_total_params_pruneiter=0</td><td>30100</td></tr><tr><td>layer1_total_params_pruneiter=1</td><td>30100</td></tr><tr><td>layer1_total_params_pruneiter=2</td><td>30100</td></tr><tr><td>layer1_total_params_pruneiter=3</td><td>30100</td></tr><tr><td>layer1_total_params_pruneiter=4</td><td>30100</td></tr><tr><td>layer2_actual_prune_ratio_pruneiter=0</td><td>0.25248</td></tr><tr><td>layer2_actual_prune_ratio_pruneiter=1</td><td>0.44158</td></tr><tr><td>layer2_actual_prune_ratio_pruneiter=2</td><td>0.58218</td></tr><tr><td>layer2_actual_prune_ratio_pruneiter=3</td><td>0.68713</td></tr><tr><td>layer2_actual_prune_ratio_pruneiter=4</td><td>0.76634</td></tr><tr><td>layer2_pruned_params_pruneiter=0</td><td>255</td></tr><tr><td>layer2_pruned_params_pruneiter=1</td><td>446</td></tr><tr><td>layer2_pruned_params_pruneiter=2</td><td>588</td></tr><tr><td>layer2_pruned_params_pruneiter=3</td><td>694</td></tr><tr><td>layer2_pruned_params_pruneiter=4</td><td>774</td></tr><tr><td>layer2_total_params_pruneiter=0</td><td>1010</td></tr><tr><td>layer2_total_params_pruneiter=1</td><td>1010</td></tr><tr><td>layer2_total_params_pruneiter=2</td><td>1010</td></tr><tr><td>layer2_total_params_pruneiter=3</td><td>1010</td></tr><tr><td>layer2_total_params_pruneiter=4</td><td>1010</td></tr><tr><td>loss</td><td>0.28082</td></tr><tr><td>total_params_pruneiter=0</td><td>266610</td></tr><tr><td>total_params_pruneiter=1</td><td>266610</td></tr><tr><td>total_params_pruneiter=2</td><td>266610</td></tr><tr><td>total_params_pruneiter=3</td><td>266610</td></tr><tr><td>total_params_pruneiter=4</td><td>266610</td></tr><tr><td>total_pruned_params_pruneiter=0</td><td>134134</td></tr><tr><td>total_pruned_params_pruneiter=1</td><td>200720</td></tr><tr><td>total_pruned_params_pruneiter=2</td><td>233790</td></tr><tr><td>total_pruned_params_pruneiter=3</td><td>250227</td></tr><tr><td>total_pruned_params_pruneiter=4</td><td>258406</td></tr></table><br/></div></div>"
            ]
          },
          "metadata": {}
        },
        {
          "output_type": "display_data",
          "data": {
            "text/plain": [
              "<IPython.core.display.HTML object>"
            ],
            "text/html": [
              " View run <strong style=\"color:#cdcd00\">lilac-frost-208</strong> at: <a href='https://wandb.ai/bspanfilov/experiment%20from%20the%20title/runs/un01lb7d' target=\"_blank\">https://wandb.ai/bspanfilov/experiment%20from%20the%20title/runs/un01lb7d</a><br/>Synced 5 W&B file(s), 0 media file(s), 0 artifact file(s) and 0 other file(s)"
            ]
          },
          "metadata": {}
        },
        {
          "output_type": "display_data",
          "data": {
            "text/plain": [
              "<IPython.core.display.HTML object>"
            ],
            "text/html": [
              "Find logs at: <code>./wandb/run-20230308_164845-un01lb7d/logs</code>"
            ]
          },
          "metadata": {}
        },
        {
          "output_type": "display_data",
          "data": {
            "text/plain": [
              "<IPython.core.display.HTML object>"
            ],
            "text/html": [
              "Successfully finished last run (ID:un01lb7d). Initializing new run:<br/>"
            ]
          },
          "metadata": {}
        },
        {
          "output_type": "display_data",
          "data": {
            "text/plain": [
              "<IPython.core.display.HTML object>"
            ],
            "text/html": [
              "Tracking run with wandb version 0.13.11"
            ]
          },
          "metadata": {}
        },
        {
          "output_type": "display_data",
          "data": {
            "text/plain": [
              "<IPython.core.display.HTML object>"
            ],
            "text/html": [
              "Run data is saved locally in <code>/content/wandb/run-20230308_165518-88wukhmp</code>"
            ]
          },
          "metadata": {}
        },
        {
          "output_type": "display_data",
          "data": {
            "text/plain": [
              "<IPython.core.display.HTML object>"
            ],
            "text/html": [
              "Syncing run <strong><a href='https://wandb.ai/bspanfilov/experiment%20from%20the%20title/runs/88wukhmp' target=\"_blank\">fast-shape-209</a></strong> to <a href='https://wandb.ai/bspanfilov/experiment%20from%20the%20title' target=\"_blank\">Weights & Biases</a> (<a href='https://wandb.me/run' target=\"_blank\">docs</a>)<br/>"
            ]
          },
          "metadata": {}
        },
        {
          "output_type": "display_data",
          "data": {
            "text/plain": [
              "<IPython.core.display.HTML object>"
            ],
            "text/html": [
              " View project at <a href='https://wandb.ai/bspanfilov/experiment%20from%20the%20title' target=\"_blank\">https://wandb.ai/bspanfilov/experiment%20from%20the%20title</a>"
            ]
          },
          "metadata": {}
        },
        {
          "output_type": "display_data",
          "data": {
            "text/plain": [
              "<IPython.core.display.HTML object>"
            ],
            "text/html": [
              " View run at <a href='https://wandb.ai/bspanfilov/experiment%20from%20the%20title/runs/88wukhmp' target=\"_blank\">https://wandb.ai/bspanfilov/experiment%20from%20the%20title/runs/88wukhmp</a>"
            ]
          },
          "metadata": {}
        },
        {
          "output_type": "stream",
          "name": "stderr",
          "text": [
            "100%|██████████| 1625/1625 [00:19<00:00, 83.68it/s]\n",
            "100%|██████████| 1625/1625 [00:17<00:00, 91.51it/s]\n",
            "100%|██████████| 1625/1625 [00:18<00:00, 89.27it/s]\n",
            "100%|██████████| 1625/1625 [00:18<00:00, 89.08it/s]\n",
            "100%|██████████| 1625/1625 [00:17<00:00, 90.99it/s]\n",
            "100%|██████████| 1625/1625 [00:18<00:00, 86.51it/s]\n",
            "100%|██████████| 1625/1625 [00:17<00:00, 91.83it/s]\n",
            "100%|██████████| 1625/1625 [00:18<00:00, 86.24it/s]\n",
            "100%|██████████| 13000/13000 [04:04<00:00, 53.27it/s]\n"
          ]
        },
        {
          "output_type": "display_data",
          "data": {
            "text/plain": [
              "<IPython.core.display.HTML object>"
            ],
            "text/html": [
              "Finishing last run (ID:88wukhmp) before initializing another..."
            ]
          },
          "metadata": {}
        },
        {
          "output_type": "display_data",
          "data": {
            "text/plain": [
              "<IPython.core.display.HTML object>"
            ],
            "text/html": [
              "Waiting for W&B process to finish... <strong style=\"color:green\">(success).</strong>"
            ]
          },
          "metadata": {}
        },
        {
          "output_type": "display_data",
          "data": {
            "text/plain": [
              "VBox(children=(Label(value='0.001 MB of 0.001 MB uploaded (0.000 MB deduped)\\r'), FloatProgress(value=1.0, max…"
            ],
            "application/vnd.jupyter.widget-view+json": {
              "version_major": 2,
              "version_minor": 0,
              "model_id": "62617244dddb47bd81877d0b56eeacc9"
            }
          },
          "metadata": {}
        },
        {
          "output_type": "display_data",
          "data": {
            "text/plain": [
              "<IPython.core.display.HTML object>"
            ],
            "text/html": [
              "<style>\n",
              "    table.wandb td:nth-child(1) { padding: 0 10px; text-align: left ; width: auto;} td:nth-child(2) {text-align: left ; width: 100%}\n",
              "    .wandb-row { display: flex; flex-direction: row; flex-wrap: wrap; justify-content: flex-start; width: 100% }\n",
              "    .wandb-col { display: flex; flex-direction: column; flex-basis: 100%; flex: 1; padding: 10px; }\n",
              "    </style>\n",
              "<div class=\"wandb-row\"><div class=\"wandb-col\"><h3>Run history:</h3><br/><table class=\"wandb\"><tr><td>accuracy_val</td><td>▁▇██████████████████████████████████████</td></tr><tr><td>loss</td><td>█▂▁▁▂▁▁▁▁▁▁▁▁▁▁▁▁▁▁▁▁▁▁▁▁▂▁▁▁▁▁▁▁▁▁▁▁▁▁▁</td></tr></table><br/></div><div class=\"wandb-col\"><h3>Run summary:</h3><br/><table class=\"wandb\"><tr><td>actual_prune_ratio_pruneiter=0</td><td>0.3542</td></tr><tr><td>actual_prune_ratio_pruneiter=1</td><td>0.58283</td></tr><tr><td>actual_prune_ratio_pruneiter=2</td><td>0.73042</td></tr><tr><td>actual_prune_ratio_pruneiter=3</td><td>0.82572</td></tr><tr><td>actual_prune_ratio_pruneiter=4</td><td>0.88725</td></tr><tr><td>actual_prune_ratio_pruneiter=5</td><td>0.92702</td></tr><tr><td>actual_prune_ratio_pruneiter=6</td><td>0.95271</td></tr><tr><td>actual_prune_ratio_pruneiter=7</td><td>0.96932</td></tr><tr><td>layer0_actual_prune_ratio_pruneiter=0</td><td>0.35488</td></tr><tr><td>layer0_actual_prune_ratio_pruneiter=1</td><td>0.58382</td></tr><tr><td>layer0_actual_prune_ratio_pruneiter=2</td><td>0.73151</td></tr><tr><td>layer0_actual_prune_ratio_pruneiter=3</td><td>0.82679</td></tr><tr><td>layer0_actual_prune_ratio_pruneiter=4</td><td>0.88826</td></tr><tr><td>layer0_actual_prune_ratio_pruneiter=5</td><td>0.92792</td></tr><tr><td>layer0_actual_prune_ratio_pruneiter=6</td><td>0.9535</td></tr><tr><td>layer0_actual_prune_ratio_pruneiter=7</td><td>0.97</td></tr><tr><td>layer0_pruned_params_pruneiter=0</td><td>83574</td></tr><tr><td>layer0_pruned_params_pruneiter=1</td><td>137490</td></tr><tr><td>layer0_pruned_params_pruneiter=2</td><td>172271</td></tr><tr><td>layer0_pruned_params_pruneiter=3</td><td>194710</td></tr><tr><td>layer0_pruned_params_pruneiter=4</td><td>209185</td></tr><tr><td>layer0_pruned_params_pruneiter=5</td><td>218524</td></tr><tr><td>layer0_pruned_params_pruneiter=6</td><td>224549</td></tr><tr><td>layer0_pruned_params_pruneiter=7</td><td>228435</td></tr><tr><td>layer0_total_params_pruneiter=0</td><td>235500</td></tr><tr><td>layer0_total_params_pruneiter=1</td><td>235500</td></tr><tr><td>layer0_total_params_pruneiter=2</td><td>235500</td></tr><tr><td>layer0_total_params_pruneiter=3</td><td>235500</td></tr><tr><td>layer0_total_params_pruneiter=4</td><td>235500</td></tr><tr><td>layer0_total_params_pruneiter=5</td><td>235500</td></tr><tr><td>layer0_total_params_pruneiter=6</td><td>235500</td></tr><tr><td>layer0_total_params_pruneiter=7</td><td>235500</td></tr><tr><td>layer1_actual_prune_ratio_pruneiter=0</td><td>0.35485</td></tr><tr><td>layer1_actual_prune_ratio_pruneiter=1</td><td>0.58379</td></tr><tr><td>layer1_actual_prune_ratio_pruneiter=2</td><td>0.73149</td></tr><tr><td>layer1_actual_prune_ratio_pruneiter=3</td><td>0.82681</td></tr><tr><td>layer1_actual_prune_ratio_pruneiter=4</td><td>0.88827</td></tr><tr><td>layer1_actual_prune_ratio_pruneiter=5</td><td>0.92794</td></tr><tr><td>layer1_actual_prune_ratio_pruneiter=6</td><td>0.95349</td></tr><tr><td>layer1_actual_prune_ratio_pruneiter=7</td><td>0.97</td></tr><tr><td>layer1_pruned_params_pruneiter=0</td><td>10681</td></tr><tr><td>layer1_pruned_params_pruneiter=1</td><td>17572</td></tr><tr><td>layer1_pruned_params_pruneiter=2</td><td>22018</td></tr><tr><td>layer1_pruned_params_pruneiter=3</td><td>24887</td></tr><tr><td>layer1_pruned_params_pruneiter=4</td><td>26737</td></tr><tr><td>layer1_pruned_params_pruneiter=5</td><td>27931</td></tr><tr><td>layer1_pruned_params_pruneiter=6</td><td>28700</td></tr><tr><td>layer1_pruned_params_pruneiter=7</td><td>29197</td></tr><tr><td>layer1_total_params_pruneiter=0</td><td>30100</td></tr><tr><td>layer1_total_params_pruneiter=1</td><td>30100</td></tr><tr><td>layer1_total_params_pruneiter=2</td><td>30100</td></tr><tr><td>layer1_total_params_pruneiter=3</td><td>30100</td></tr><tr><td>layer1_total_params_pruneiter=4</td><td>30100</td></tr><tr><td>layer1_total_params_pruneiter=5</td><td>30100</td></tr><tr><td>layer1_total_params_pruneiter=6</td><td>30100</td></tr><tr><td>layer1_total_params_pruneiter=7</td><td>30100</td></tr><tr><td>layer2_actual_prune_ratio_pruneiter=0</td><td>0.17723</td></tr><tr><td>layer2_actual_prune_ratio_pruneiter=1</td><td>0.32277</td></tr><tr><td>layer2_actual_prune_ratio_pruneiter=2</td><td>0.44257</td></tr><tr><td>layer2_actual_prune_ratio_pruneiter=3</td><td>0.54158</td></tr><tr><td>layer2_actual_prune_ratio_pruneiter=4</td><td>0.62277</td></tr><tr><td>layer2_actual_prune_ratio_pruneiter=5</td><td>0.6901</td></tr><tr><td>layer2_actual_prune_ratio_pruneiter=6</td><td>0.74554</td></tr><tr><td>layer2_actual_prune_ratio_pruneiter=7</td><td>0.7901</td></tr><tr><td>layer2_pruned_params_pruneiter=0</td><td>179</td></tr><tr><td>layer2_pruned_params_pruneiter=1</td><td>326</td></tr><tr><td>layer2_pruned_params_pruneiter=2</td><td>447</td></tr><tr><td>layer2_pruned_params_pruneiter=3</td><td>547</td></tr><tr><td>layer2_pruned_params_pruneiter=4</td><td>629</td></tr><tr><td>layer2_pruned_params_pruneiter=5</td><td>697</td></tr><tr><td>layer2_pruned_params_pruneiter=6</td><td>753</td></tr><tr><td>layer2_pruned_params_pruneiter=7</td><td>798</td></tr><tr><td>layer2_total_params_pruneiter=0</td><td>1010</td></tr><tr><td>layer2_total_params_pruneiter=1</td><td>1010</td></tr><tr><td>layer2_total_params_pruneiter=2</td><td>1010</td></tr><tr><td>layer2_total_params_pruneiter=3</td><td>1010</td></tr><tr><td>layer2_total_params_pruneiter=4</td><td>1010</td></tr><tr><td>layer2_total_params_pruneiter=5</td><td>1010</td></tr><tr><td>layer2_total_params_pruneiter=6</td><td>1010</td></tr><tr><td>layer2_total_params_pruneiter=7</td><td>1010</td></tr><tr><td>loss</td><td>0.05618</td></tr><tr><td>total_params_pruneiter=0</td><td>266610</td></tr><tr><td>total_params_pruneiter=1</td><td>266610</td></tr><tr><td>total_params_pruneiter=2</td><td>266610</td></tr><tr><td>total_params_pruneiter=3</td><td>266610</td></tr><tr><td>total_params_pruneiter=4</td><td>266610</td></tr><tr><td>total_params_pruneiter=5</td><td>266610</td></tr><tr><td>total_params_pruneiter=6</td><td>266610</td></tr><tr><td>total_params_pruneiter=7</td><td>266610</td></tr><tr><td>total_pruned_params_pruneiter=0</td><td>94434</td></tr><tr><td>total_pruned_params_pruneiter=1</td><td>155388</td></tr><tr><td>total_pruned_params_pruneiter=2</td><td>194736</td></tr><tr><td>total_pruned_params_pruneiter=3</td><td>220144</td></tr><tr><td>total_pruned_params_pruneiter=4</td><td>236551</td></tr><tr><td>total_pruned_params_pruneiter=5</td><td>247152</td></tr><tr><td>total_pruned_params_pruneiter=6</td><td>254002</td></tr><tr><td>total_pruned_params_pruneiter=7</td><td>258430</td></tr></table><br/></div></div>"
            ]
          },
          "metadata": {}
        },
        {
          "output_type": "display_data",
          "data": {
            "text/plain": [
              "<IPython.core.display.HTML object>"
            ],
            "text/html": [
              " View run <strong style=\"color:#cdcd00\">fast-shape-209</strong> at: <a href='https://wandb.ai/bspanfilov/experiment%20from%20the%20title/runs/88wukhmp' target=\"_blank\">https://wandb.ai/bspanfilov/experiment%20from%20the%20title/runs/88wukhmp</a><br/>Synced 5 W&B file(s), 0 media file(s), 0 artifact file(s) and 0 other file(s)"
            ]
          },
          "metadata": {}
        },
        {
          "output_type": "display_data",
          "data": {
            "text/plain": [
              "<IPython.core.display.HTML object>"
            ],
            "text/html": [
              "Find logs at: <code>./wandb/run-20230308_165518-88wukhmp/logs</code>"
            ]
          },
          "metadata": {}
        },
        {
          "output_type": "display_data",
          "data": {
            "text/plain": [
              "<IPython.core.display.HTML object>"
            ],
            "text/html": [
              "Successfully finished last run (ID:88wukhmp). Initializing new run:<br/>"
            ]
          },
          "metadata": {}
        },
        {
          "output_type": "display_data",
          "data": {
            "text/plain": [
              "<IPython.core.display.HTML object>"
            ],
            "text/html": [
              "Tracking run with wandb version 0.13.11"
            ]
          },
          "metadata": {}
        },
        {
          "output_type": "display_data",
          "data": {
            "text/plain": [
              "<IPython.core.display.HTML object>"
            ],
            "text/html": [
              "Run data is saved locally in <code>/content/wandb/run-20230308_170200-lm6i9foz</code>"
            ]
          },
          "metadata": {}
        },
        {
          "output_type": "display_data",
          "data": {
            "text/plain": [
              "<IPython.core.display.HTML object>"
            ],
            "text/html": [
              "Syncing run <strong><a href='https://wandb.ai/bspanfilov/experiment%20from%20the%20title/runs/lm6i9foz' target=\"_blank\">lemon-river-210</a></strong> to <a href='https://wandb.ai/bspanfilov/experiment%20from%20the%20title' target=\"_blank\">Weights & Biases</a> (<a href='https://wandb.me/run' target=\"_blank\">docs</a>)<br/>"
            ]
          },
          "metadata": {}
        },
        {
          "output_type": "display_data",
          "data": {
            "text/plain": [
              "<IPython.core.display.HTML object>"
            ],
            "text/html": [
              " View project at <a href='https://wandb.ai/bspanfilov/experiment%20from%20the%20title' target=\"_blank\">https://wandb.ai/bspanfilov/experiment%20from%20the%20title</a>"
            ]
          },
          "metadata": {}
        },
        {
          "output_type": "display_data",
          "data": {
            "text/plain": [
              "<IPython.core.display.HTML object>"
            ],
            "text/html": [
              " View run at <a href='https://wandb.ai/bspanfilov/experiment%20from%20the%20title/runs/lm6i9foz' target=\"_blank\">https://wandb.ai/bspanfilov/experiment%20from%20the%20title/runs/lm6i9foz</a>"
            ]
          },
          "metadata": {}
        },
        {
          "output_type": "stream",
          "name": "stderr",
          "text": [
            "100%|██████████| 1625/1625 [00:17<00:00, 92.34it/s]\n",
            "100%|██████████| 1625/1625 [00:18<00:00, 86.61it/s]\n",
            "100%|██████████| 1625/1625 [00:17<00:00, 91.93it/s]\n",
            "100%|██████████| 1625/1625 [00:18<00:00, 86.81it/s]\n",
            "100%|██████████| 1625/1625 [00:17<00:00, 90.59it/s]\n",
            "100%|██████████| 1625/1625 [00:18<00:00, 89.88it/s]\n",
            "100%|██████████| 1625/1625 [00:18<00:00, 87.96it/s]\n",
            "100%|██████████| 1625/1625 [00:18<00:00, 86.53it/s]\n",
            "100%|██████████| 13000/13000 [04:05<00:00, 52.90it/s]\n"
          ]
        },
        {
          "output_type": "display_data",
          "data": {
            "text/plain": [
              "<IPython.core.display.HTML object>"
            ],
            "text/html": [
              "Finishing last run (ID:lm6i9foz) before initializing another..."
            ]
          },
          "metadata": {}
        },
        {
          "output_type": "display_data",
          "data": {
            "text/plain": [
              "<IPython.core.display.HTML object>"
            ],
            "text/html": [
              "Waiting for W&B process to finish... <strong style=\"color:green\">(success).</strong>"
            ]
          },
          "metadata": {}
        },
        {
          "output_type": "display_data",
          "data": {
            "text/plain": [
              "VBox(children=(Label(value='0.001 MB of 0.010 MB uploaded (0.000 MB deduped)\\r'), FloatProgress(value=0.083507…"
            ],
            "application/vnd.jupyter.widget-view+json": {
              "version_major": 2,
              "version_minor": 0,
              "model_id": "c29e1ad556c346548eece83a31163aa3"
            }
          },
          "metadata": {}
        },
        {
          "output_type": "display_data",
          "data": {
            "text/plain": [
              "<IPython.core.display.HTML object>"
            ],
            "text/html": [
              "<style>\n",
              "    table.wandb td:nth-child(1) { padding: 0 10px; text-align: left ; width: auto;} td:nth-child(2) {text-align: left ; width: 100%}\n",
              "    .wandb-row { display: flex; flex-direction: row; flex-wrap: wrap; justify-content: flex-start; width: 100% }\n",
              "    .wandb-col { display: flex; flex-direction: column; flex-basis: 100%; flex: 1; padding: 10px; }\n",
              "    </style>\n",
              "<div class=\"wandb-row\"><div class=\"wandb-col\"><h3>Run history:</h3><br/><table class=\"wandb\"><tr><td>accuracy_val</td><td>▁▇██████████████████████████████████████</td></tr><tr><td>loss</td><td>█▂▂▁▁▁▁▁▁▁▁▁▁▁▁▁▁▁▁▁▁▁▁▁▁▁▁▁▁▁▁▁▁▁▁▁▁▁▁▁</td></tr></table><br/></div><div class=\"wandb-col\"><h3>Run summary:</h3><br/><table class=\"wandb\"><tr><td>actual_prune_ratio_pruneiter=0</td><td>0.3542</td></tr><tr><td>actual_prune_ratio_pruneiter=1</td><td>0.58283</td></tr><tr><td>actual_prune_ratio_pruneiter=2</td><td>0.73042</td></tr><tr><td>actual_prune_ratio_pruneiter=3</td><td>0.82572</td></tr><tr><td>actual_prune_ratio_pruneiter=4</td><td>0.88725</td></tr><tr><td>actual_prune_ratio_pruneiter=5</td><td>0.92702</td></tr><tr><td>actual_prune_ratio_pruneiter=6</td><td>0.95271</td></tr><tr><td>actual_prune_ratio_pruneiter=7</td><td>0.96932</td></tr><tr><td>layer0_actual_prune_ratio_pruneiter=0</td><td>0.35488</td></tr><tr><td>layer0_actual_prune_ratio_pruneiter=1</td><td>0.58382</td></tr><tr><td>layer0_actual_prune_ratio_pruneiter=2</td><td>0.73151</td></tr><tr><td>layer0_actual_prune_ratio_pruneiter=3</td><td>0.82679</td></tr><tr><td>layer0_actual_prune_ratio_pruneiter=4</td><td>0.88826</td></tr><tr><td>layer0_actual_prune_ratio_pruneiter=5</td><td>0.92792</td></tr><tr><td>layer0_actual_prune_ratio_pruneiter=6</td><td>0.9535</td></tr><tr><td>layer0_actual_prune_ratio_pruneiter=7</td><td>0.97</td></tr><tr><td>layer0_pruned_params_pruneiter=0</td><td>83574</td></tr><tr><td>layer0_pruned_params_pruneiter=1</td><td>137490</td></tr><tr><td>layer0_pruned_params_pruneiter=2</td><td>172271</td></tr><tr><td>layer0_pruned_params_pruneiter=3</td><td>194710</td></tr><tr><td>layer0_pruned_params_pruneiter=4</td><td>209185</td></tr><tr><td>layer0_pruned_params_pruneiter=5</td><td>218524</td></tr><tr><td>layer0_pruned_params_pruneiter=6</td><td>224549</td></tr><tr><td>layer0_pruned_params_pruneiter=7</td><td>228435</td></tr><tr><td>layer0_total_params_pruneiter=0</td><td>235500</td></tr><tr><td>layer0_total_params_pruneiter=1</td><td>235500</td></tr><tr><td>layer0_total_params_pruneiter=2</td><td>235500</td></tr><tr><td>layer0_total_params_pruneiter=3</td><td>235500</td></tr><tr><td>layer0_total_params_pruneiter=4</td><td>235500</td></tr><tr><td>layer0_total_params_pruneiter=5</td><td>235500</td></tr><tr><td>layer0_total_params_pruneiter=6</td><td>235500</td></tr><tr><td>layer0_total_params_pruneiter=7</td><td>235500</td></tr><tr><td>layer1_actual_prune_ratio_pruneiter=0</td><td>0.35485</td></tr><tr><td>layer1_actual_prune_ratio_pruneiter=1</td><td>0.58379</td></tr><tr><td>layer1_actual_prune_ratio_pruneiter=2</td><td>0.73149</td></tr><tr><td>layer1_actual_prune_ratio_pruneiter=3</td><td>0.82681</td></tr><tr><td>layer1_actual_prune_ratio_pruneiter=4</td><td>0.88827</td></tr><tr><td>layer1_actual_prune_ratio_pruneiter=5</td><td>0.92794</td></tr><tr><td>layer1_actual_prune_ratio_pruneiter=6</td><td>0.95349</td></tr><tr><td>layer1_actual_prune_ratio_pruneiter=7</td><td>0.97</td></tr><tr><td>layer1_pruned_params_pruneiter=0</td><td>10681</td></tr><tr><td>layer1_pruned_params_pruneiter=1</td><td>17572</td></tr><tr><td>layer1_pruned_params_pruneiter=2</td><td>22018</td></tr><tr><td>layer1_pruned_params_pruneiter=3</td><td>24887</td></tr><tr><td>layer1_pruned_params_pruneiter=4</td><td>26737</td></tr><tr><td>layer1_pruned_params_pruneiter=5</td><td>27931</td></tr><tr><td>layer1_pruned_params_pruneiter=6</td><td>28700</td></tr><tr><td>layer1_pruned_params_pruneiter=7</td><td>29197</td></tr><tr><td>layer1_total_params_pruneiter=0</td><td>30100</td></tr><tr><td>layer1_total_params_pruneiter=1</td><td>30100</td></tr><tr><td>layer1_total_params_pruneiter=2</td><td>30100</td></tr><tr><td>layer1_total_params_pruneiter=3</td><td>30100</td></tr><tr><td>layer1_total_params_pruneiter=4</td><td>30100</td></tr><tr><td>layer1_total_params_pruneiter=5</td><td>30100</td></tr><tr><td>layer1_total_params_pruneiter=6</td><td>30100</td></tr><tr><td>layer1_total_params_pruneiter=7</td><td>30100</td></tr><tr><td>layer2_actual_prune_ratio_pruneiter=0</td><td>0.17723</td></tr><tr><td>layer2_actual_prune_ratio_pruneiter=1</td><td>0.32277</td></tr><tr><td>layer2_actual_prune_ratio_pruneiter=2</td><td>0.44257</td></tr><tr><td>layer2_actual_prune_ratio_pruneiter=3</td><td>0.54158</td></tr><tr><td>layer2_actual_prune_ratio_pruneiter=4</td><td>0.62277</td></tr><tr><td>layer2_actual_prune_ratio_pruneiter=5</td><td>0.6901</td></tr><tr><td>layer2_actual_prune_ratio_pruneiter=6</td><td>0.74554</td></tr><tr><td>layer2_actual_prune_ratio_pruneiter=7</td><td>0.7901</td></tr><tr><td>layer2_pruned_params_pruneiter=0</td><td>179</td></tr><tr><td>layer2_pruned_params_pruneiter=1</td><td>326</td></tr><tr><td>layer2_pruned_params_pruneiter=2</td><td>447</td></tr><tr><td>layer2_pruned_params_pruneiter=3</td><td>547</td></tr><tr><td>layer2_pruned_params_pruneiter=4</td><td>629</td></tr><tr><td>layer2_pruned_params_pruneiter=5</td><td>697</td></tr><tr><td>layer2_pruned_params_pruneiter=6</td><td>753</td></tr><tr><td>layer2_pruned_params_pruneiter=7</td><td>798</td></tr><tr><td>layer2_total_params_pruneiter=0</td><td>1010</td></tr><tr><td>layer2_total_params_pruneiter=1</td><td>1010</td></tr><tr><td>layer2_total_params_pruneiter=2</td><td>1010</td></tr><tr><td>layer2_total_params_pruneiter=3</td><td>1010</td></tr><tr><td>layer2_total_params_pruneiter=4</td><td>1010</td></tr><tr><td>layer2_total_params_pruneiter=5</td><td>1010</td></tr><tr><td>layer2_total_params_pruneiter=6</td><td>1010</td></tr><tr><td>layer2_total_params_pruneiter=7</td><td>1010</td></tr><tr><td>loss</td><td>0.02406</td></tr><tr><td>total_params_pruneiter=0</td><td>266610</td></tr><tr><td>total_params_pruneiter=1</td><td>266610</td></tr><tr><td>total_params_pruneiter=2</td><td>266610</td></tr><tr><td>total_params_pruneiter=3</td><td>266610</td></tr><tr><td>total_params_pruneiter=4</td><td>266610</td></tr><tr><td>total_params_pruneiter=5</td><td>266610</td></tr><tr><td>total_params_pruneiter=6</td><td>266610</td></tr><tr><td>total_params_pruneiter=7</td><td>266610</td></tr><tr><td>total_pruned_params_pruneiter=0</td><td>94434</td></tr><tr><td>total_pruned_params_pruneiter=1</td><td>155388</td></tr><tr><td>total_pruned_params_pruneiter=2</td><td>194736</td></tr><tr><td>total_pruned_params_pruneiter=3</td><td>220144</td></tr><tr><td>total_pruned_params_pruneiter=4</td><td>236551</td></tr><tr><td>total_pruned_params_pruneiter=5</td><td>247152</td></tr><tr><td>total_pruned_params_pruneiter=6</td><td>254002</td></tr><tr><td>total_pruned_params_pruneiter=7</td><td>258430</td></tr></table><br/></div></div>"
            ]
          },
          "metadata": {}
        },
        {
          "output_type": "display_data",
          "data": {
            "text/plain": [
              "<IPython.core.display.HTML object>"
            ],
            "text/html": [
              " View run <strong style=\"color:#cdcd00\">lemon-river-210</strong> at: <a href='https://wandb.ai/bspanfilov/experiment%20from%20the%20title/runs/lm6i9foz' target=\"_blank\">https://wandb.ai/bspanfilov/experiment%20from%20the%20title/runs/lm6i9foz</a><br/>Synced 5 W&B file(s), 0 media file(s), 0 artifact file(s) and 0 other file(s)"
            ]
          },
          "metadata": {}
        },
        {
          "output_type": "display_data",
          "data": {
            "text/plain": [
              "<IPython.core.display.HTML object>"
            ],
            "text/html": [
              "Find logs at: <code>./wandb/run-20230308_170200-lm6i9foz/logs</code>"
            ]
          },
          "metadata": {}
        },
        {
          "output_type": "display_data",
          "data": {
            "text/plain": [
              "<IPython.core.display.HTML object>"
            ],
            "text/html": [
              "Successfully finished last run (ID:lm6i9foz). Initializing new run:<br/>"
            ]
          },
          "metadata": {}
        },
        {
          "output_type": "display_data",
          "data": {
            "text/plain": [
              "<IPython.core.display.HTML object>"
            ],
            "text/html": [
              "Tracking run with wandb version 0.13.11"
            ]
          },
          "metadata": {}
        },
        {
          "output_type": "display_data",
          "data": {
            "text/plain": [
              "<IPython.core.display.HTML object>"
            ],
            "text/html": [
              "Run data is saved locally in <code>/content/wandb/run-20230308_170843-rvcxe4xz</code>"
            ]
          },
          "metadata": {}
        },
        {
          "output_type": "display_data",
          "data": {
            "text/plain": [
              "<IPython.core.display.HTML object>"
            ],
            "text/html": [
              "Syncing run <strong><a href='https://wandb.ai/bspanfilov/experiment%20from%20the%20title/runs/rvcxe4xz' target=\"_blank\">rosy-hill-211</a></strong> to <a href='https://wandb.ai/bspanfilov/experiment%20from%20the%20title' target=\"_blank\">Weights & Biases</a> (<a href='https://wandb.me/run' target=\"_blank\">docs</a>)<br/>"
            ]
          },
          "metadata": {}
        },
        {
          "output_type": "display_data",
          "data": {
            "text/plain": [
              "<IPython.core.display.HTML object>"
            ],
            "text/html": [
              " View project at <a href='https://wandb.ai/bspanfilov/experiment%20from%20the%20title' target=\"_blank\">https://wandb.ai/bspanfilov/experiment%20from%20the%20title</a>"
            ]
          },
          "metadata": {}
        },
        {
          "output_type": "display_data",
          "data": {
            "text/plain": [
              "<IPython.core.display.HTML object>"
            ],
            "text/html": [
              " View run at <a href='https://wandb.ai/bspanfilov/experiment%20from%20the%20title/runs/rvcxe4xz' target=\"_blank\">https://wandb.ai/bspanfilov/experiment%20from%20the%20title/runs/rvcxe4xz</a>"
            ]
          },
          "metadata": {}
        },
        {
          "output_type": "stream",
          "name": "stderr",
          "text": [
            "100%|██████████| 1625/1625 [00:17<00:00, 92.68it/s]\n",
            "100%|██████████| 1625/1625 [00:18<00:00, 85.60it/s]\n",
            "100%|██████████| 1625/1625 [00:17<00:00, 91.21it/s]\n",
            "100%|██████████| 1625/1625 [00:17<00:00, 91.56it/s]\n",
            "100%|██████████| 1625/1625 [00:19<00:00, 84.68it/s]\n",
            "100%|██████████| 1625/1625 [00:17<00:00, 92.02it/s]\n",
            "100%|██████████| 1625/1625 [00:19<00:00, 85.51it/s]\n",
            "100%|██████████| 1625/1625 [00:18<00:00, 89.99it/s]\n",
            "100%|██████████| 13000/13000 [04:07<00:00, 52.52it/s]\n"
          ]
        },
        {
          "output_type": "display_data",
          "data": {
            "text/plain": [
              "<IPython.core.display.HTML object>"
            ],
            "text/html": [
              "Finishing last run (ID:rvcxe4xz) before initializing another..."
            ]
          },
          "metadata": {}
        },
        {
          "output_type": "display_data",
          "data": {
            "text/plain": [
              "<IPython.core.display.HTML object>"
            ],
            "text/html": [
              "Waiting for W&B process to finish... <strong style=\"color:green\">(success).</strong>"
            ]
          },
          "metadata": {}
        },
        {
          "output_type": "display_data",
          "data": {
            "text/plain": [
              "VBox(children=(Label(value='0.001 MB of 0.014 MB uploaded (0.000 MB deduped)\\r'), FloatProgress(value=0.056746…"
            ],
            "application/vnd.jupyter.widget-view+json": {
              "version_major": 2,
              "version_minor": 0,
              "model_id": "c3646904268a42e5914fdba1106f6e61"
            }
          },
          "metadata": {}
        },
        {
          "output_type": "display_data",
          "data": {
            "text/plain": [
              "<IPython.core.display.HTML object>"
            ],
            "text/html": [
              "<style>\n",
              "    table.wandb td:nth-child(1) { padding: 0 10px; text-align: left ; width: auto;} td:nth-child(2) {text-align: left ; width: 100%}\n",
              "    .wandb-row { display: flex; flex-direction: row; flex-wrap: wrap; justify-content: flex-start; width: 100% }\n",
              "    .wandb-col { display: flex; flex-direction: column; flex-basis: 100%; flex: 1; padding: 10px; }\n",
              "    </style>\n",
              "<div class=\"wandb-row\"><div class=\"wandb-col\"><h3>Run history:</h3><br/><table class=\"wandb\"><tr><td>accuracy_val</td><td>▁▇██████████████████████████████████████</td></tr><tr><td>loss</td><td>█▂▁▁▂▁▁▁▁▁▁▁▁▁▁▁▁▁▁▁▁▁▁▁▁▂▁▁▁▁▁▁▁▁▁▁▁▁▁▁</td></tr></table><br/></div><div class=\"wandb-col\"><h3>Run summary:</h3><br/><table class=\"wandb\"><tr><td>actual_prune_ratio_pruneiter=0</td><td>0.3542</td></tr><tr><td>actual_prune_ratio_pruneiter=1</td><td>0.58283</td></tr><tr><td>actual_prune_ratio_pruneiter=2</td><td>0.73042</td></tr><tr><td>actual_prune_ratio_pruneiter=3</td><td>0.82572</td></tr><tr><td>actual_prune_ratio_pruneiter=4</td><td>0.88725</td></tr><tr><td>actual_prune_ratio_pruneiter=5</td><td>0.92702</td></tr><tr><td>actual_prune_ratio_pruneiter=6</td><td>0.95271</td></tr><tr><td>actual_prune_ratio_pruneiter=7</td><td>0.96932</td></tr><tr><td>layer0_actual_prune_ratio_pruneiter=0</td><td>0.35488</td></tr><tr><td>layer0_actual_prune_ratio_pruneiter=1</td><td>0.58382</td></tr><tr><td>layer0_actual_prune_ratio_pruneiter=2</td><td>0.73151</td></tr><tr><td>layer0_actual_prune_ratio_pruneiter=3</td><td>0.82679</td></tr><tr><td>layer0_actual_prune_ratio_pruneiter=4</td><td>0.88826</td></tr><tr><td>layer0_actual_prune_ratio_pruneiter=5</td><td>0.92792</td></tr><tr><td>layer0_actual_prune_ratio_pruneiter=6</td><td>0.9535</td></tr><tr><td>layer0_actual_prune_ratio_pruneiter=7</td><td>0.97</td></tr><tr><td>layer0_pruned_params_pruneiter=0</td><td>83574</td></tr><tr><td>layer0_pruned_params_pruneiter=1</td><td>137490</td></tr><tr><td>layer0_pruned_params_pruneiter=2</td><td>172271</td></tr><tr><td>layer0_pruned_params_pruneiter=3</td><td>194710</td></tr><tr><td>layer0_pruned_params_pruneiter=4</td><td>209185</td></tr><tr><td>layer0_pruned_params_pruneiter=5</td><td>218524</td></tr><tr><td>layer0_pruned_params_pruneiter=6</td><td>224549</td></tr><tr><td>layer0_pruned_params_pruneiter=7</td><td>228435</td></tr><tr><td>layer0_total_params_pruneiter=0</td><td>235500</td></tr><tr><td>layer0_total_params_pruneiter=1</td><td>235500</td></tr><tr><td>layer0_total_params_pruneiter=2</td><td>235500</td></tr><tr><td>layer0_total_params_pruneiter=3</td><td>235500</td></tr><tr><td>layer0_total_params_pruneiter=4</td><td>235500</td></tr><tr><td>layer0_total_params_pruneiter=5</td><td>235500</td></tr><tr><td>layer0_total_params_pruneiter=6</td><td>235500</td></tr><tr><td>layer0_total_params_pruneiter=7</td><td>235500</td></tr><tr><td>layer1_actual_prune_ratio_pruneiter=0</td><td>0.35485</td></tr><tr><td>layer1_actual_prune_ratio_pruneiter=1</td><td>0.58379</td></tr><tr><td>layer1_actual_prune_ratio_pruneiter=2</td><td>0.73149</td></tr><tr><td>layer1_actual_prune_ratio_pruneiter=3</td><td>0.82681</td></tr><tr><td>layer1_actual_prune_ratio_pruneiter=4</td><td>0.88827</td></tr><tr><td>layer1_actual_prune_ratio_pruneiter=5</td><td>0.92794</td></tr><tr><td>layer1_actual_prune_ratio_pruneiter=6</td><td>0.95349</td></tr><tr><td>layer1_actual_prune_ratio_pruneiter=7</td><td>0.97</td></tr><tr><td>layer1_pruned_params_pruneiter=0</td><td>10681</td></tr><tr><td>layer1_pruned_params_pruneiter=1</td><td>17572</td></tr><tr><td>layer1_pruned_params_pruneiter=2</td><td>22018</td></tr><tr><td>layer1_pruned_params_pruneiter=3</td><td>24887</td></tr><tr><td>layer1_pruned_params_pruneiter=4</td><td>26737</td></tr><tr><td>layer1_pruned_params_pruneiter=5</td><td>27931</td></tr><tr><td>layer1_pruned_params_pruneiter=6</td><td>28700</td></tr><tr><td>layer1_pruned_params_pruneiter=7</td><td>29197</td></tr><tr><td>layer1_total_params_pruneiter=0</td><td>30100</td></tr><tr><td>layer1_total_params_pruneiter=1</td><td>30100</td></tr><tr><td>layer1_total_params_pruneiter=2</td><td>30100</td></tr><tr><td>layer1_total_params_pruneiter=3</td><td>30100</td></tr><tr><td>layer1_total_params_pruneiter=4</td><td>30100</td></tr><tr><td>layer1_total_params_pruneiter=5</td><td>30100</td></tr><tr><td>layer1_total_params_pruneiter=6</td><td>30100</td></tr><tr><td>layer1_total_params_pruneiter=7</td><td>30100</td></tr><tr><td>layer2_actual_prune_ratio_pruneiter=0</td><td>0.17723</td></tr><tr><td>layer2_actual_prune_ratio_pruneiter=1</td><td>0.32277</td></tr><tr><td>layer2_actual_prune_ratio_pruneiter=2</td><td>0.44257</td></tr><tr><td>layer2_actual_prune_ratio_pruneiter=3</td><td>0.54158</td></tr><tr><td>layer2_actual_prune_ratio_pruneiter=4</td><td>0.62277</td></tr><tr><td>layer2_actual_prune_ratio_pruneiter=5</td><td>0.6901</td></tr><tr><td>layer2_actual_prune_ratio_pruneiter=6</td><td>0.74554</td></tr><tr><td>layer2_actual_prune_ratio_pruneiter=7</td><td>0.7901</td></tr><tr><td>layer2_pruned_params_pruneiter=0</td><td>179</td></tr><tr><td>layer2_pruned_params_pruneiter=1</td><td>326</td></tr><tr><td>layer2_pruned_params_pruneiter=2</td><td>447</td></tr><tr><td>layer2_pruned_params_pruneiter=3</td><td>547</td></tr><tr><td>layer2_pruned_params_pruneiter=4</td><td>629</td></tr><tr><td>layer2_pruned_params_pruneiter=5</td><td>697</td></tr><tr><td>layer2_pruned_params_pruneiter=6</td><td>753</td></tr><tr><td>layer2_pruned_params_pruneiter=7</td><td>798</td></tr><tr><td>layer2_total_params_pruneiter=0</td><td>1010</td></tr><tr><td>layer2_total_params_pruneiter=1</td><td>1010</td></tr><tr><td>layer2_total_params_pruneiter=2</td><td>1010</td></tr><tr><td>layer2_total_params_pruneiter=3</td><td>1010</td></tr><tr><td>layer2_total_params_pruneiter=4</td><td>1010</td></tr><tr><td>layer2_total_params_pruneiter=5</td><td>1010</td></tr><tr><td>layer2_total_params_pruneiter=6</td><td>1010</td></tr><tr><td>layer2_total_params_pruneiter=7</td><td>1010</td></tr><tr><td>loss</td><td>0.05618</td></tr><tr><td>total_params_pruneiter=0</td><td>266610</td></tr><tr><td>total_params_pruneiter=1</td><td>266610</td></tr><tr><td>total_params_pruneiter=2</td><td>266610</td></tr><tr><td>total_params_pruneiter=3</td><td>266610</td></tr><tr><td>total_params_pruneiter=4</td><td>266610</td></tr><tr><td>total_params_pruneiter=5</td><td>266610</td></tr><tr><td>total_params_pruneiter=6</td><td>266610</td></tr><tr><td>total_params_pruneiter=7</td><td>266610</td></tr><tr><td>total_pruned_params_pruneiter=0</td><td>94434</td></tr><tr><td>total_pruned_params_pruneiter=1</td><td>155388</td></tr><tr><td>total_pruned_params_pruneiter=2</td><td>194736</td></tr><tr><td>total_pruned_params_pruneiter=3</td><td>220144</td></tr><tr><td>total_pruned_params_pruneiter=4</td><td>236551</td></tr><tr><td>total_pruned_params_pruneiter=5</td><td>247152</td></tr><tr><td>total_pruned_params_pruneiter=6</td><td>254002</td></tr><tr><td>total_pruned_params_pruneiter=7</td><td>258430</td></tr></table><br/></div></div>"
            ]
          },
          "metadata": {}
        },
        {
          "output_type": "display_data",
          "data": {
            "text/plain": [
              "<IPython.core.display.HTML object>"
            ],
            "text/html": [
              " View run <strong style=\"color:#cdcd00\">rosy-hill-211</strong> at: <a href='https://wandb.ai/bspanfilov/experiment%20from%20the%20title/runs/rvcxe4xz' target=\"_blank\">https://wandb.ai/bspanfilov/experiment%20from%20the%20title/runs/rvcxe4xz</a><br/>Synced 5 W&B file(s), 0 media file(s), 0 artifact file(s) and 0 other file(s)"
            ]
          },
          "metadata": {}
        },
        {
          "output_type": "display_data",
          "data": {
            "text/plain": [
              "<IPython.core.display.HTML object>"
            ],
            "text/html": [
              "Find logs at: <code>./wandb/run-20230308_170843-rvcxe4xz/logs</code>"
            ]
          },
          "metadata": {}
        },
        {
          "output_type": "display_data",
          "data": {
            "text/plain": [
              "<IPython.core.display.HTML object>"
            ],
            "text/html": [
              "Successfully finished last run (ID:rvcxe4xz). Initializing new run:<br/>"
            ]
          },
          "metadata": {}
        },
        {
          "output_type": "display_data",
          "data": {
            "text/plain": [
              "VBox(children=(Label(value='Waiting for wandb.init()...\\r'), FloatProgress(value=0.01667030083335703, max=1.0)…"
            ],
            "application/vnd.jupyter.widget-view+json": {
              "version_major": 2,
              "version_minor": 0,
              "model_id": "feb9a55cd122412398c6a0a27c6e4bae"
            }
          },
          "metadata": {}
        },
        {
          "output_type": "display_data",
          "data": {
            "text/plain": [
              "<IPython.core.display.HTML object>"
            ],
            "text/html": [
              "Tracking run with wandb version 0.13.11"
            ]
          },
          "metadata": {}
        },
        {
          "output_type": "display_data",
          "data": {
            "text/plain": [
              "<IPython.core.display.HTML object>"
            ],
            "text/html": [
              "Run data is saved locally in <code>/content/wandb/run-20230308_171525-nz5am5oy</code>"
            ]
          },
          "metadata": {}
        },
        {
          "output_type": "display_data",
          "data": {
            "text/plain": [
              "<IPython.core.display.HTML object>"
            ],
            "text/html": [
              "Syncing run <strong><a href='https://wandb.ai/bspanfilov/experiment%20from%20the%20title/runs/nz5am5oy' target=\"_blank\">pretty-waterfall-212</a></strong> to <a href='https://wandb.ai/bspanfilov/experiment%20from%20the%20title' target=\"_blank\">Weights & Biases</a> (<a href='https://wandb.me/run' target=\"_blank\">docs</a>)<br/>"
            ]
          },
          "metadata": {}
        },
        {
          "output_type": "display_data",
          "data": {
            "text/plain": [
              "<IPython.core.display.HTML object>"
            ],
            "text/html": [
              " View project at <a href='https://wandb.ai/bspanfilov/experiment%20from%20the%20title' target=\"_blank\">https://wandb.ai/bspanfilov/experiment%20from%20the%20title</a>"
            ]
          },
          "metadata": {}
        },
        {
          "output_type": "display_data",
          "data": {
            "text/plain": [
              "<IPython.core.display.HTML object>"
            ],
            "text/html": [
              " View run at <a href='https://wandb.ai/bspanfilov/experiment%20from%20the%20title/runs/nz5am5oy' target=\"_blank\">https://wandb.ai/bspanfilov/experiment%20from%20the%20title/runs/nz5am5oy</a>"
            ]
          },
          "metadata": {}
        },
        {
          "output_type": "stream",
          "name": "stderr",
          "text": [
            "100%|██████████| 1625/1625 [00:17<00:00, 92.80it/s]\n",
            "100%|██████████| 1625/1625 [00:18<00:00, 88.76it/s]\n",
            "100%|██████████| 1625/1625 [00:18<00:00, 88.06it/s]\n",
            "100%|██████████| 1625/1625 [00:17<00:00, 91.82it/s]\n",
            "100%|██████████| 1625/1625 [00:18<00:00, 86.16it/s]\n",
            "100%|██████████| 1625/1625 [00:17<00:00, 91.18it/s]\n",
            "100%|██████████| 1625/1625 [00:17<00:00, 91.64it/s]\n",
            "100%|██████████| 1625/1625 [00:18<00:00, 85.77it/s]\n",
            "100%|██████████| 13000/13000 [04:07<00:00, 52.53it/s]\n"
          ]
        },
        {
          "output_type": "display_data",
          "data": {
            "text/plain": [
              "<IPython.core.display.HTML object>"
            ],
            "text/html": [
              "Finishing last run (ID:nz5am5oy) before initializing another..."
            ]
          },
          "metadata": {}
        },
        {
          "output_type": "display_data",
          "data": {
            "text/plain": [
              "<IPython.core.display.HTML object>"
            ],
            "text/html": [
              "Waiting for W&B process to finish... <strong style=\"color:green\">(success).</strong>"
            ]
          },
          "metadata": {}
        },
        {
          "output_type": "display_data",
          "data": {
            "text/plain": [
              "VBox(children=(Label(value='0.001 MB of 0.002 MB uploaded (0.000 MB deduped)\\r'), FloatProgress(value=0.500596…"
            ],
            "application/vnd.jupyter.widget-view+json": {
              "version_major": 2,
              "version_minor": 0,
              "model_id": "1c7004b424fd4e79acdf1b272a2c6ffa"
            }
          },
          "metadata": {}
        },
        {
          "output_type": "display_data",
          "data": {
            "text/plain": [
              "<IPython.core.display.HTML object>"
            ],
            "text/html": [
              "<style>\n",
              "    table.wandb td:nth-child(1) { padding: 0 10px; text-align: left ; width: auto;} td:nth-child(2) {text-align: left ; width: 100%}\n",
              "    .wandb-row { display: flex; flex-direction: row; flex-wrap: wrap; justify-content: flex-start; width: 100% }\n",
              "    .wandb-col { display: flex; flex-direction: column; flex-basis: 100%; flex: 1; padding: 10px; }\n",
              "    </style>\n",
              "<div class=\"wandb-row\"><div class=\"wandb-col\"><h3>Run history:</h3><br/><table class=\"wandb\"><tr><td>accuracy_val</td><td>▁▇██████████████████████████████████████</td></tr><tr><td>loss</td><td>█▂▂▁▁▁▁▁▁▁▁▁▁▁▁▁▁▁▁▁▁▁▁▁▁▁▁▁▁▁▁▁▁▁▁▁▁▁▁▁</td></tr></table><br/></div><div class=\"wandb-col\"><h3>Run summary:</h3><br/><table class=\"wandb\"><tr><td>actual_prune_ratio_pruneiter=0</td><td>0.3542</td></tr><tr><td>actual_prune_ratio_pruneiter=1</td><td>0.58283</td></tr><tr><td>actual_prune_ratio_pruneiter=2</td><td>0.73042</td></tr><tr><td>actual_prune_ratio_pruneiter=3</td><td>0.82572</td></tr><tr><td>actual_prune_ratio_pruneiter=4</td><td>0.88725</td></tr><tr><td>actual_prune_ratio_pruneiter=5</td><td>0.92702</td></tr><tr><td>actual_prune_ratio_pruneiter=6</td><td>0.95271</td></tr><tr><td>actual_prune_ratio_pruneiter=7</td><td>0.96932</td></tr><tr><td>layer0_actual_prune_ratio_pruneiter=0</td><td>0.35488</td></tr><tr><td>layer0_actual_prune_ratio_pruneiter=1</td><td>0.58382</td></tr><tr><td>layer0_actual_prune_ratio_pruneiter=2</td><td>0.73151</td></tr><tr><td>layer0_actual_prune_ratio_pruneiter=3</td><td>0.82679</td></tr><tr><td>layer0_actual_prune_ratio_pruneiter=4</td><td>0.88826</td></tr><tr><td>layer0_actual_prune_ratio_pruneiter=5</td><td>0.92792</td></tr><tr><td>layer0_actual_prune_ratio_pruneiter=6</td><td>0.9535</td></tr><tr><td>layer0_actual_prune_ratio_pruneiter=7</td><td>0.97</td></tr><tr><td>layer0_pruned_params_pruneiter=0</td><td>83574</td></tr><tr><td>layer0_pruned_params_pruneiter=1</td><td>137490</td></tr><tr><td>layer0_pruned_params_pruneiter=2</td><td>172271</td></tr><tr><td>layer0_pruned_params_pruneiter=3</td><td>194710</td></tr><tr><td>layer0_pruned_params_pruneiter=4</td><td>209185</td></tr><tr><td>layer0_pruned_params_pruneiter=5</td><td>218524</td></tr><tr><td>layer0_pruned_params_pruneiter=6</td><td>224549</td></tr><tr><td>layer0_pruned_params_pruneiter=7</td><td>228435</td></tr><tr><td>layer0_total_params_pruneiter=0</td><td>235500</td></tr><tr><td>layer0_total_params_pruneiter=1</td><td>235500</td></tr><tr><td>layer0_total_params_pruneiter=2</td><td>235500</td></tr><tr><td>layer0_total_params_pruneiter=3</td><td>235500</td></tr><tr><td>layer0_total_params_pruneiter=4</td><td>235500</td></tr><tr><td>layer0_total_params_pruneiter=5</td><td>235500</td></tr><tr><td>layer0_total_params_pruneiter=6</td><td>235500</td></tr><tr><td>layer0_total_params_pruneiter=7</td><td>235500</td></tr><tr><td>layer1_actual_prune_ratio_pruneiter=0</td><td>0.35485</td></tr><tr><td>layer1_actual_prune_ratio_pruneiter=1</td><td>0.58379</td></tr><tr><td>layer1_actual_prune_ratio_pruneiter=2</td><td>0.73149</td></tr><tr><td>layer1_actual_prune_ratio_pruneiter=3</td><td>0.82681</td></tr><tr><td>layer1_actual_prune_ratio_pruneiter=4</td><td>0.88827</td></tr><tr><td>layer1_actual_prune_ratio_pruneiter=5</td><td>0.92794</td></tr><tr><td>layer1_actual_prune_ratio_pruneiter=6</td><td>0.95349</td></tr><tr><td>layer1_actual_prune_ratio_pruneiter=7</td><td>0.97</td></tr><tr><td>layer1_pruned_params_pruneiter=0</td><td>10681</td></tr><tr><td>layer1_pruned_params_pruneiter=1</td><td>17572</td></tr><tr><td>layer1_pruned_params_pruneiter=2</td><td>22018</td></tr><tr><td>layer1_pruned_params_pruneiter=3</td><td>24887</td></tr><tr><td>layer1_pruned_params_pruneiter=4</td><td>26737</td></tr><tr><td>layer1_pruned_params_pruneiter=5</td><td>27931</td></tr><tr><td>layer1_pruned_params_pruneiter=6</td><td>28700</td></tr><tr><td>layer1_pruned_params_pruneiter=7</td><td>29197</td></tr><tr><td>layer1_total_params_pruneiter=0</td><td>30100</td></tr><tr><td>layer1_total_params_pruneiter=1</td><td>30100</td></tr><tr><td>layer1_total_params_pruneiter=2</td><td>30100</td></tr><tr><td>layer1_total_params_pruneiter=3</td><td>30100</td></tr><tr><td>layer1_total_params_pruneiter=4</td><td>30100</td></tr><tr><td>layer1_total_params_pruneiter=5</td><td>30100</td></tr><tr><td>layer1_total_params_pruneiter=6</td><td>30100</td></tr><tr><td>layer1_total_params_pruneiter=7</td><td>30100</td></tr><tr><td>layer2_actual_prune_ratio_pruneiter=0</td><td>0.17723</td></tr><tr><td>layer2_actual_prune_ratio_pruneiter=1</td><td>0.32277</td></tr><tr><td>layer2_actual_prune_ratio_pruneiter=2</td><td>0.44257</td></tr><tr><td>layer2_actual_prune_ratio_pruneiter=3</td><td>0.54158</td></tr><tr><td>layer2_actual_prune_ratio_pruneiter=4</td><td>0.62277</td></tr><tr><td>layer2_actual_prune_ratio_pruneiter=5</td><td>0.6901</td></tr><tr><td>layer2_actual_prune_ratio_pruneiter=6</td><td>0.74554</td></tr><tr><td>layer2_actual_prune_ratio_pruneiter=7</td><td>0.7901</td></tr><tr><td>layer2_pruned_params_pruneiter=0</td><td>179</td></tr><tr><td>layer2_pruned_params_pruneiter=1</td><td>326</td></tr><tr><td>layer2_pruned_params_pruneiter=2</td><td>447</td></tr><tr><td>layer2_pruned_params_pruneiter=3</td><td>547</td></tr><tr><td>layer2_pruned_params_pruneiter=4</td><td>629</td></tr><tr><td>layer2_pruned_params_pruneiter=5</td><td>697</td></tr><tr><td>layer2_pruned_params_pruneiter=6</td><td>753</td></tr><tr><td>layer2_pruned_params_pruneiter=7</td><td>798</td></tr><tr><td>layer2_total_params_pruneiter=0</td><td>1010</td></tr><tr><td>layer2_total_params_pruneiter=1</td><td>1010</td></tr><tr><td>layer2_total_params_pruneiter=2</td><td>1010</td></tr><tr><td>layer2_total_params_pruneiter=3</td><td>1010</td></tr><tr><td>layer2_total_params_pruneiter=4</td><td>1010</td></tr><tr><td>layer2_total_params_pruneiter=5</td><td>1010</td></tr><tr><td>layer2_total_params_pruneiter=6</td><td>1010</td></tr><tr><td>layer2_total_params_pruneiter=7</td><td>1010</td></tr><tr><td>loss</td><td>0.02406</td></tr><tr><td>total_params_pruneiter=0</td><td>266610</td></tr><tr><td>total_params_pruneiter=1</td><td>266610</td></tr><tr><td>total_params_pruneiter=2</td><td>266610</td></tr><tr><td>total_params_pruneiter=3</td><td>266610</td></tr><tr><td>total_params_pruneiter=4</td><td>266610</td></tr><tr><td>total_params_pruneiter=5</td><td>266610</td></tr><tr><td>total_params_pruneiter=6</td><td>266610</td></tr><tr><td>total_params_pruneiter=7</td><td>266610</td></tr><tr><td>total_pruned_params_pruneiter=0</td><td>94434</td></tr><tr><td>total_pruned_params_pruneiter=1</td><td>155388</td></tr><tr><td>total_pruned_params_pruneiter=2</td><td>194736</td></tr><tr><td>total_pruned_params_pruneiter=3</td><td>220144</td></tr><tr><td>total_pruned_params_pruneiter=4</td><td>236551</td></tr><tr><td>total_pruned_params_pruneiter=5</td><td>247152</td></tr><tr><td>total_pruned_params_pruneiter=6</td><td>254002</td></tr><tr><td>total_pruned_params_pruneiter=7</td><td>258430</td></tr></table><br/></div></div>"
            ]
          },
          "metadata": {}
        },
        {
          "output_type": "display_data",
          "data": {
            "text/plain": [
              "<IPython.core.display.HTML object>"
            ],
            "text/html": [
              " View run <strong style=\"color:#cdcd00\">pretty-waterfall-212</strong> at: <a href='https://wandb.ai/bspanfilov/experiment%20from%20the%20title/runs/nz5am5oy' target=\"_blank\">https://wandb.ai/bspanfilov/experiment%20from%20the%20title/runs/nz5am5oy</a><br/>Synced 5 W&B file(s), 0 media file(s), 0 artifact file(s) and 0 other file(s)"
            ]
          },
          "metadata": {}
        },
        {
          "output_type": "display_data",
          "data": {
            "text/plain": [
              "<IPython.core.display.HTML object>"
            ],
            "text/html": [
              "Find logs at: <code>./wandb/run-20230308_171525-nz5am5oy/logs</code>"
            ]
          },
          "metadata": {}
        },
        {
          "output_type": "display_data",
          "data": {
            "text/plain": [
              "<IPython.core.display.HTML object>"
            ],
            "text/html": [
              "Successfully finished last run (ID:nz5am5oy). Initializing new run:<br/>"
            ]
          },
          "metadata": {}
        },
        {
          "output_type": "display_data",
          "data": {
            "text/plain": [
              "<IPython.core.display.HTML object>"
            ],
            "text/html": [
              "Tracking run with wandb version 0.13.11"
            ]
          },
          "metadata": {}
        },
        {
          "output_type": "display_data",
          "data": {
            "text/plain": [
              "<IPython.core.display.HTML object>"
            ],
            "text/html": [
              "Run data is saved locally in <code>/content/wandb/run-20230308_172208-vsjrfqsk</code>"
            ]
          },
          "metadata": {}
        },
        {
          "output_type": "display_data",
          "data": {
            "text/plain": [
              "<IPython.core.display.HTML object>"
            ],
            "text/html": [
              "Syncing run <strong><a href='https://wandb.ai/bspanfilov/experiment%20from%20the%20title/runs/vsjrfqsk' target=\"_blank\">magic-durian-213</a></strong> to <a href='https://wandb.ai/bspanfilov/experiment%20from%20the%20title' target=\"_blank\">Weights & Biases</a> (<a href='https://wandb.me/run' target=\"_blank\">docs</a>)<br/>"
            ]
          },
          "metadata": {}
        },
        {
          "output_type": "display_data",
          "data": {
            "text/plain": [
              "<IPython.core.display.HTML object>"
            ],
            "text/html": [
              " View project at <a href='https://wandb.ai/bspanfilov/experiment%20from%20the%20title' target=\"_blank\">https://wandb.ai/bspanfilov/experiment%20from%20the%20title</a>"
            ]
          },
          "metadata": {}
        },
        {
          "output_type": "display_data",
          "data": {
            "text/plain": [
              "<IPython.core.display.HTML object>"
            ],
            "text/html": [
              " View run at <a href='https://wandb.ai/bspanfilov/experiment%20from%20the%20title/runs/vsjrfqsk' target=\"_blank\">https://wandb.ai/bspanfilov/experiment%20from%20the%20title/runs/vsjrfqsk</a>"
            ]
          },
          "metadata": {}
        },
        {
          "output_type": "stream",
          "name": "stderr",
          "text": [
            "100%|██████████| 1625/1625 [00:17<00:00, 90.42it/s]\n",
            "100%|██████████| 1625/1625 [00:18<00:00, 86.36it/s]\n",
            "100%|██████████| 1625/1625 [00:18<00:00, 87.28it/s] \n",
            "100%|██████████| 1625/1625 [00:17<00:00, 91.84it/s]\n",
            "100%|██████████| 1625/1625 [00:18<00:00, 88.67it/s]\n",
            "100%|██████████| 1625/1625 [00:18<00:00, 89.40it/s]\n",
            "100%|██████████| 1625/1625 [00:17<00:00, 91.84it/s]\n",
            "100%|██████████| 1625/1625 [00:18<00:00, 87.18it/s]\n",
            "100%|██████████| 13000/13000 [04:07<00:00, 52.60it/s]\n"
          ]
        },
        {
          "output_type": "display_data",
          "data": {
            "text/plain": [
              "<IPython.core.display.HTML object>"
            ],
            "text/html": [
              "Finishing last run (ID:vsjrfqsk) before initializing another..."
            ]
          },
          "metadata": {}
        },
        {
          "output_type": "display_data",
          "data": {
            "text/plain": [
              "<IPython.core.display.HTML object>"
            ],
            "text/html": [
              "Waiting for W&B process to finish... <strong style=\"color:green\">(success).</strong>"
            ]
          },
          "metadata": {}
        },
        {
          "output_type": "display_data",
          "data": {
            "text/plain": [
              "<IPython.core.display.HTML object>"
            ],
            "text/html": [
              "<style>\n",
              "    table.wandb td:nth-child(1) { padding: 0 10px; text-align: left ; width: auto;} td:nth-child(2) {text-align: left ; width: 100%}\n",
              "    .wandb-row { display: flex; flex-direction: row; flex-wrap: wrap; justify-content: flex-start; width: 100% }\n",
              "    .wandb-col { display: flex; flex-direction: column; flex-basis: 100%; flex: 1; padding: 10px; }\n",
              "    </style>\n",
              "<div class=\"wandb-row\"><div class=\"wandb-col\"><h3>Run history:</h3><br/><table class=\"wandb\"><tr><td>accuracy_val</td><td>▁▂▅▇▇▇██████████████████████████████████</td></tr><tr><td>loss</td><td>█▆▃▃▂▂▂▂▂▂▂▂▂▂▁▃▁▂▂▂▁▁▁▁▂▂▁▂▁▁▁▁▁▁▂▁▁▁▁▁</td></tr></table><br/></div><div class=\"wandb-col\"><h3>Run summary:</h3><br/><table class=\"wandb\"><tr><td>actual_prune_ratio_pruneiter=0</td><td>0.3542</td></tr><tr><td>actual_prune_ratio_pruneiter=1</td><td>0.58283</td></tr><tr><td>actual_prune_ratio_pruneiter=2</td><td>0.73042</td></tr><tr><td>actual_prune_ratio_pruneiter=3</td><td>0.82572</td></tr><tr><td>actual_prune_ratio_pruneiter=4</td><td>0.88725</td></tr><tr><td>actual_prune_ratio_pruneiter=5</td><td>0.92702</td></tr><tr><td>actual_prune_ratio_pruneiter=6</td><td>0.95271</td></tr><tr><td>actual_prune_ratio_pruneiter=7</td><td>0.96932</td></tr><tr><td>layer0_actual_prune_ratio_pruneiter=0</td><td>0.35488</td></tr><tr><td>layer0_actual_prune_ratio_pruneiter=1</td><td>0.58382</td></tr><tr><td>layer0_actual_prune_ratio_pruneiter=2</td><td>0.73151</td></tr><tr><td>layer0_actual_prune_ratio_pruneiter=3</td><td>0.82679</td></tr><tr><td>layer0_actual_prune_ratio_pruneiter=4</td><td>0.88826</td></tr><tr><td>layer0_actual_prune_ratio_pruneiter=5</td><td>0.92792</td></tr><tr><td>layer0_actual_prune_ratio_pruneiter=6</td><td>0.9535</td></tr><tr><td>layer0_actual_prune_ratio_pruneiter=7</td><td>0.97</td></tr><tr><td>layer0_pruned_params_pruneiter=0</td><td>83574</td></tr><tr><td>layer0_pruned_params_pruneiter=1</td><td>137490</td></tr><tr><td>layer0_pruned_params_pruneiter=2</td><td>172271</td></tr><tr><td>layer0_pruned_params_pruneiter=3</td><td>194710</td></tr><tr><td>layer0_pruned_params_pruneiter=4</td><td>209185</td></tr><tr><td>layer0_pruned_params_pruneiter=5</td><td>218524</td></tr><tr><td>layer0_pruned_params_pruneiter=6</td><td>224549</td></tr><tr><td>layer0_pruned_params_pruneiter=7</td><td>228435</td></tr><tr><td>layer0_total_params_pruneiter=0</td><td>235500</td></tr><tr><td>layer0_total_params_pruneiter=1</td><td>235500</td></tr><tr><td>layer0_total_params_pruneiter=2</td><td>235500</td></tr><tr><td>layer0_total_params_pruneiter=3</td><td>235500</td></tr><tr><td>layer0_total_params_pruneiter=4</td><td>235500</td></tr><tr><td>layer0_total_params_pruneiter=5</td><td>235500</td></tr><tr><td>layer0_total_params_pruneiter=6</td><td>235500</td></tr><tr><td>layer0_total_params_pruneiter=7</td><td>235500</td></tr><tr><td>layer1_actual_prune_ratio_pruneiter=0</td><td>0.35485</td></tr><tr><td>layer1_actual_prune_ratio_pruneiter=1</td><td>0.58379</td></tr><tr><td>layer1_actual_prune_ratio_pruneiter=2</td><td>0.73149</td></tr><tr><td>layer1_actual_prune_ratio_pruneiter=3</td><td>0.82681</td></tr><tr><td>layer1_actual_prune_ratio_pruneiter=4</td><td>0.88827</td></tr><tr><td>layer1_actual_prune_ratio_pruneiter=5</td><td>0.92794</td></tr><tr><td>layer1_actual_prune_ratio_pruneiter=6</td><td>0.95349</td></tr><tr><td>layer1_actual_prune_ratio_pruneiter=7</td><td>0.97</td></tr><tr><td>layer1_pruned_params_pruneiter=0</td><td>10681</td></tr><tr><td>layer1_pruned_params_pruneiter=1</td><td>17572</td></tr><tr><td>layer1_pruned_params_pruneiter=2</td><td>22018</td></tr><tr><td>layer1_pruned_params_pruneiter=3</td><td>24887</td></tr><tr><td>layer1_pruned_params_pruneiter=4</td><td>26737</td></tr><tr><td>layer1_pruned_params_pruneiter=5</td><td>27931</td></tr><tr><td>layer1_pruned_params_pruneiter=6</td><td>28700</td></tr><tr><td>layer1_pruned_params_pruneiter=7</td><td>29197</td></tr><tr><td>layer1_total_params_pruneiter=0</td><td>30100</td></tr><tr><td>layer1_total_params_pruneiter=1</td><td>30100</td></tr><tr><td>layer1_total_params_pruneiter=2</td><td>30100</td></tr><tr><td>layer1_total_params_pruneiter=3</td><td>30100</td></tr><tr><td>layer1_total_params_pruneiter=4</td><td>30100</td></tr><tr><td>layer1_total_params_pruneiter=5</td><td>30100</td></tr><tr><td>layer1_total_params_pruneiter=6</td><td>30100</td></tr><tr><td>layer1_total_params_pruneiter=7</td><td>30100</td></tr><tr><td>layer2_actual_prune_ratio_pruneiter=0</td><td>0.17723</td></tr><tr><td>layer2_actual_prune_ratio_pruneiter=1</td><td>0.32277</td></tr><tr><td>layer2_actual_prune_ratio_pruneiter=2</td><td>0.44257</td></tr><tr><td>layer2_actual_prune_ratio_pruneiter=3</td><td>0.54158</td></tr><tr><td>layer2_actual_prune_ratio_pruneiter=4</td><td>0.62277</td></tr><tr><td>layer2_actual_prune_ratio_pruneiter=5</td><td>0.6901</td></tr><tr><td>layer2_actual_prune_ratio_pruneiter=6</td><td>0.74554</td></tr><tr><td>layer2_actual_prune_ratio_pruneiter=7</td><td>0.7901</td></tr><tr><td>layer2_pruned_params_pruneiter=0</td><td>179</td></tr><tr><td>layer2_pruned_params_pruneiter=1</td><td>326</td></tr><tr><td>layer2_pruned_params_pruneiter=2</td><td>447</td></tr><tr><td>layer2_pruned_params_pruneiter=3</td><td>547</td></tr><tr><td>layer2_pruned_params_pruneiter=4</td><td>629</td></tr><tr><td>layer2_pruned_params_pruneiter=5</td><td>697</td></tr><tr><td>layer2_pruned_params_pruneiter=6</td><td>753</td></tr><tr><td>layer2_pruned_params_pruneiter=7</td><td>798</td></tr><tr><td>layer2_total_params_pruneiter=0</td><td>1010</td></tr><tr><td>layer2_total_params_pruneiter=1</td><td>1010</td></tr><tr><td>layer2_total_params_pruneiter=2</td><td>1010</td></tr><tr><td>layer2_total_params_pruneiter=3</td><td>1010</td></tr><tr><td>layer2_total_params_pruneiter=4</td><td>1010</td></tr><tr><td>layer2_total_params_pruneiter=5</td><td>1010</td></tr><tr><td>layer2_total_params_pruneiter=6</td><td>1010</td></tr><tr><td>layer2_total_params_pruneiter=7</td><td>1010</td></tr><tr><td>loss</td><td>0.15047</td></tr><tr><td>total_params_pruneiter=0</td><td>266610</td></tr><tr><td>total_params_pruneiter=1</td><td>266610</td></tr><tr><td>total_params_pruneiter=2</td><td>266610</td></tr><tr><td>total_params_pruneiter=3</td><td>266610</td></tr><tr><td>total_params_pruneiter=4</td><td>266610</td></tr><tr><td>total_params_pruneiter=5</td><td>266610</td></tr><tr><td>total_params_pruneiter=6</td><td>266610</td></tr><tr><td>total_params_pruneiter=7</td><td>266610</td></tr><tr><td>total_pruned_params_pruneiter=0</td><td>94434</td></tr><tr><td>total_pruned_params_pruneiter=1</td><td>155388</td></tr><tr><td>total_pruned_params_pruneiter=2</td><td>194736</td></tr><tr><td>total_pruned_params_pruneiter=3</td><td>220144</td></tr><tr><td>total_pruned_params_pruneiter=4</td><td>236551</td></tr><tr><td>total_pruned_params_pruneiter=5</td><td>247152</td></tr><tr><td>total_pruned_params_pruneiter=6</td><td>254002</td></tr><tr><td>total_pruned_params_pruneiter=7</td><td>258430</td></tr></table><br/></div></div>"
            ]
          },
          "metadata": {}
        },
        {
          "output_type": "display_data",
          "data": {
            "text/plain": [
              "<IPython.core.display.HTML object>"
            ],
            "text/html": [
              " View run <strong style=\"color:#cdcd00\">magic-durian-213</strong> at: <a href='https://wandb.ai/bspanfilov/experiment%20from%20the%20title/runs/vsjrfqsk' target=\"_blank\">https://wandb.ai/bspanfilov/experiment%20from%20the%20title/runs/vsjrfqsk</a><br/>Synced 5 W&B file(s), 0 media file(s), 0 artifact file(s) and 0 other file(s)"
            ]
          },
          "metadata": {}
        },
        {
          "output_type": "display_data",
          "data": {
            "text/plain": [
              "<IPython.core.display.HTML object>"
            ],
            "text/html": [
              "Find logs at: <code>./wandb/run-20230308_172208-vsjrfqsk/logs</code>"
            ]
          },
          "metadata": {}
        },
        {
          "output_type": "display_data",
          "data": {
            "text/plain": [
              "<IPython.core.display.HTML object>"
            ],
            "text/html": [
              "Successfully finished last run (ID:vsjrfqsk). Initializing new run:<br/>"
            ]
          },
          "metadata": {}
        },
        {
          "output_type": "display_data",
          "data": {
            "text/plain": [
              "VBox(children=(Label(value='Waiting for wandb.init()...\\r'), FloatProgress(value=0.01666875529999743, max=1.0)…"
            ],
            "application/vnd.jupyter.widget-view+json": {
              "version_major": 2,
              "version_minor": 0,
              "model_id": "e71d29b65e664b3fb3df112286a80ff2"
            }
          },
          "metadata": {}
        },
        {
          "output_type": "display_data",
          "data": {
            "text/plain": [
              "<IPython.core.display.HTML object>"
            ],
            "text/html": [
              "Tracking run with wandb version 0.13.11"
            ]
          },
          "metadata": {}
        },
        {
          "output_type": "display_data",
          "data": {
            "text/plain": [
              "<IPython.core.display.HTML object>"
            ],
            "text/html": [
              "Run data is saved locally in <code>/content/wandb/run-20230308_172852-cwpjzm2p</code>"
            ]
          },
          "metadata": {}
        },
        {
          "output_type": "display_data",
          "data": {
            "text/plain": [
              "<IPython.core.display.HTML object>"
            ],
            "text/html": [
              "Syncing run <strong><a href='https://wandb.ai/bspanfilov/experiment%20from%20the%20title/runs/cwpjzm2p' target=\"_blank\">brisk-galaxy-214</a></strong> to <a href='https://wandb.ai/bspanfilov/experiment%20from%20the%20title' target=\"_blank\">Weights & Biases</a> (<a href='https://wandb.me/run' target=\"_blank\">docs</a>)<br/>"
            ]
          },
          "metadata": {}
        },
        {
          "output_type": "display_data",
          "data": {
            "text/plain": [
              "<IPython.core.display.HTML object>"
            ],
            "text/html": [
              " View project at <a href='https://wandb.ai/bspanfilov/experiment%20from%20the%20title' target=\"_blank\">https://wandb.ai/bspanfilov/experiment%20from%20the%20title</a>"
            ]
          },
          "metadata": {}
        },
        {
          "output_type": "display_data",
          "data": {
            "text/plain": [
              "<IPython.core.display.HTML object>"
            ],
            "text/html": [
              " View run at <a href='https://wandb.ai/bspanfilov/experiment%20from%20the%20title/runs/cwpjzm2p' target=\"_blank\">https://wandb.ai/bspanfilov/experiment%20from%20the%20title/runs/cwpjzm2p</a>"
            ]
          },
          "metadata": {}
        },
        {
          "output_type": "stream",
          "name": "stderr",
          "text": [
            "100%|██████████| 1625/1625 [00:18<00:00, 88.28it/s]\n",
            "100%|██████████| 1625/1625 [00:18<00:00, 89.86it/s]\n",
            "100%|██████████| 1625/1625 [00:19<00:00, 85.37it/s]\n",
            "100%|██████████| 1625/1625 [00:18<00:00, 89.99it/s]\n",
            "100%|██████████| 1625/1625 [00:18<00:00, 88.55it/s]\n",
            "100%|██████████| 1625/1625 [00:18<00:00, 86.28it/s]\n",
            "100%|██████████| 1625/1625 [00:17<00:00, 90.74it/s]\n",
            "100%|██████████| 1625/1625 [00:20<00:00, 79.62it/s]\n",
            "100%|██████████| 13000/13000 [04:11<00:00, 51.75it/s]\n"
          ]
        },
        {
          "output_type": "display_data",
          "data": {
            "text/plain": [
              "<IPython.core.display.HTML object>"
            ],
            "text/html": [
              "Finishing last run (ID:cwpjzm2p) before initializing another..."
            ]
          },
          "metadata": {}
        },
        {
          "output_type": "display_data",
          "data": {
            "text/plain": [
              "<IPython.core.display.HTML object>"
            ],
            "text/html": [
              "Waiting for W&B process to finish... <strong style=\"color:green\">(success).</strong>"
            ]
          },
          "metadata": {}
        },
        {
          "output_type": "display_data",
          "data": {
            "text/plain": [
              "<IPython.core.display.HTML object>"
            ],
            "text/html": [
              "<style>\n",
              "    table.wandb td:nth-child(1) { padding: 0 10px; text-align: left ; width: auto;} td:nth-child(2) {text-align: left ; width: 100%}\n",
              "    .wandb-row { display: flex; flex-direction: row; flex-wrap: wrap; justify-content: flex-start; width: 100% }\n",
              "    .wandb-col { display: flex; flex-direction: column; flex-basis: 100%; flex: 1; padding: 10px; }\n",
              "    </style>\n",
              "<div class=\"wandb-row\"><div class=\"wandb-col\"><h3>Run history:</h3><br/><table class=\"wandb\"><tr><td>accuracy_val</td><td>▁▁▃▇▇▇██████████████████████████████████</td></tr><tr><td>loss</td><td>██▃▂▂▃▂▂▂▂▂▂▁▂▂▂▂▂▂▂▁▁▂▂▁▁▂▂▁▁▁▁▁▁▁▁▁▁▂▁</td></tr></table><br/></div><div class=\"wandb-col\"><h3>Run summary:</h3><br/><table class=\"wandb\"><tr><td>actual_prune_ratio_pruneiter=0</td><td>0.3542</td></tr><tr><td>actual_prune_ratio_pruneiter=1</td><td>0.58283</td></tr><tr><td>actual_prune_ratio_pruneiter=2</td><td>0.73042</td></tr><tr><td>actual_prune_ratio_pruneiter=3</td><td>0.82572</td></tr><tr><td>actual_prune_ratio_pruneiter=4</td><td>0.88725</td></tr><tr><td>actual_prune_ratio_pruneiter=5</td><td>0.92702</td></tr><tr><td>actual_prune_ratio_pruneiter=6</td><td>0.95271</td></tr><tr><td>actual_prune_ratio_pruneiter=7</td><td>0.96932</td></tr><tr><td>layer0_actual_prune_ratio_pruneiter=0</td><td>0.35488</td></tr><tr><td>layer0_actual_prune_ratio_pruneiter=1</td><td>0.58382</td></tr><tr><td>layer0_actual_prune_ratio_pruneiter=2</td><td>0.73151</td></tr><tr><td>layer0_actual_prune_ratio_pruneiter=3</td><td>0.82679</td></tr><tr><td>layer0_actual_prune_ratio_pruneiter=4</td><td>0.88826</td></tr><tr><td>layer0_actual_prune_ratio_pruneiter=5</td><td>0.92792</td></tr><tr><td>layer0_actual_prune_ratio_pruneiter=6</td><td>0.9535</td></tr><tr><td>layer0_actual_prune_ratio_pruneiter=7</td><td>0.97</td></tr><tr><td>layer0_pruned_params_pruneiter=0</td><td>83574</td></tr><tr><td>layer0_pruned_params_pruneiter=1</td><td>137490</td></tr><tr><td>layer0_pruned_params_pruneiter=2</td><td>172271</td></tr><tr><td>layer0_pruned_params_pruneiter=3</td><td>194710</td></tr><tr><td>layer0_pruned_params_pruneiter=4</td><td>209185</td></tr><tr><td>layer0_pruned_params_pruneiter=5</td><td>218524</td></tr><tr><td>layer0_pruned_params_pruneiter=6</td><td>224549</td></tr><tr><td>layer0_pruned_params_pruneiter=7</td><td>228435</td></tr><tr><td>layer0_total_params_pruneiter=0</td><td>235500</td></tr><tr><td>layer0_total_params_pruneiter=1</td><td>235500</td></tr><tr><td>layer0_total_params_pruneiter=2</td><td>235500</td></tr><tr><td>layer0_total_params_pruneiter=3</td><td>235500</td></tr><tr><td>layer0_total_params_pruneiter=4</td><td>235500</td></tr><tr><td>layer0_total_params_pruneiter=5</td><td>235500</td></tr><tr><td>layer0_total_params_pruneiter=6</td><td>235500</td></tr><tr><td>layer0_total_params_pruneiter=7</td><td>235500</td></tr><tr><td>layer1_actual_prune_ratio_pruneiter=0</td><td>0.35485</td></tr><tr><td>layer1_actual_prune_ratio_pruneiter=1</td><td>0.58379</td></tr><tr><td>layer1_actual_prune_ratio_pruneiter=2</td><td>0.73149</td></tr><tr><td>layer1_actual_prune_ratio_pruneiter=3</td><td>0.82681</td></tr><tr><td>layer1_actual_prune_ratio_pruneiter=4</td><td>0.88827</td></tr><tr><td>layer1_actual_prune_ratio_pruneiter=5</td><td>0.92794</td></tr><tr><td>layer1_actual_prune_ratio_pruneiter=6</td><td>0.95349</td></tr><tr><td>layer1_actual_prune_ratio_pruneiter=7</td><td>0.97</td></tr><tr><td>layer1_pruned_params_pruneiter=0</td><td>10681</td></tr><tr><td>layer1_pruned_params_pruneiter=1</td><td>17572</td></tr><tr><td>layer1_pruned_params_pruneiter=2</td><td>22018</td></tr><tr><td>layer1_pruned_params_pruneiter=3</td><td>24887</td></tr><tr><td>layer1_pruned_params_pruneiter=4</td><td>26737</td></tr><tr><td>layer1_pruned_params_pruneiter=5</td><td>27931</td></tr><tr><td>layer1_pruned_params_pruneiter=6</td><td>28700</td></tr><tr><td>layer1_pruned_params_pruneiter=7</td><td>29197</td></tr><tr><td>layer1_total_params_pruneiter=0</td><td>30100</td></tr><tr><td>layer1_total_params_pruneiter=1</td><td>30100</td></tr><tr><td>layer1_total_params_pruneiter=2</td><td>30100</td></tr><tr><td>layer1_total_params_pruneiter=3</td><td>30100</td></tr><tr><td>layer1_total_params_pruneiter=4</td><td>30100</td></tr><tr><td>layer1_total_params_pruneiter=5</td><td>30100</td></tr><tr><td>layer1_total_params_pruneiter=6</td><td>30100</td></tr><tr><td>layer1_total_params_pruneiter=7</td><td>30100</td></tr><tr><td>layer2_actual_prune_ratio_pruneiter=0</td><td>0.17723</td></tr><tr><td>layer2_actual_prune_ratio_pruneiter=1</td><td>0.32277</td></tr><tr><td>layer2_actual_prune_ratio_pruneiter=2</td><td>0.44257</td></tr><tr><td>layer2_actual_prune_ratio_pruneiter=3</td><td>0.54158</td></tr><tr><td>layer2_actual_prune_ratio_pruneiter=4</td><td>0.62277</td></tr><tr><td>layer2_actual_prune_ratio_pruneiter=5</td><td>0.6901</td></tr><tr><td>layer2_actual_prune_ratio_pruneiter=6</td><td>0.74554</td></tr><tr><td>layer2_actual_prune_ratio_pruneiter=7</td><td>0.7901</td></tr><tr><td>layer2_pruned_params_pruneiter=0</td><td>179</td></tr><tr><td>layer2_pruned_params_pruneiter=1</td><td>326</td></tr><tr><td>layer2_pruned_params_pruneiter=2</td><td>447</td></tr><tr><td>layer2_pruned_params_pruneiter=3</td><td>547</td></tr><tr><td>layer2_pruned_params_pruneiter=4</td><td>629</td></tr><tr><td>layer2_pruned_params_pruneiter=5</td><td>697</td></tr><tr><td>layer2_pruned_params_pruneiter=6</td><td>753</td></tr><tr><td>layer2_pruned_params_pruneiter=7</td><td>798</td></tr><tr><td>layer2_total_params_pruneiter=0</td><td>1010</td></tr><tr><td>layer2_total_params_pruneiter=1</td><td>1010</td></tr><tr><td>layer2_total_params_pruneiter=2</td><td>1010</td></tr><tr><td>layer2_total_params_pruneiter=3</td><td>1010</td></tr><tr><td>layer2_total_params_pruneiter=4</td><td>1010</td></tr><tr><td>layer2_total_params_pruneiter=5</td><td>1010</td></tr><tr><td>layer2_total_params_pruneiter=6</td><td>1010</td></tr><tr><td>layer2_total_params_pruneiter=7</td><td>1010</td></tr><tr><td>loss</td><td>0.20556</td></tr><tr><td>total_params_pruneiter=0</td><td>266610</td></tr><tr><td>total_params_pruneiter=1</td><td>266610</td></tr><tr><td>total_params_pruneiter=2</td><td>266610</td></tr><tr><td>total_params_pruneiter=3</td><td>266610</td></tr><tr><td>total_params_pruneiter=4</td><td>266610</td></tr><tr><td>total_params_pruneiter=5</td><td>266610</td></tr><tr><td>total_params_pruneiter=6</td><td>266610</td></tr><tr><td>total_params_pruneiter=7</td><td>266610</td></tr><tr><td>total_pruned_params_pruneiter=0</td><td>94434</td></tr><tr><td>total_pruned_params_pruneiter=1</td><td>155388</td></tr><tr><td>total_pruned_params_pruneiter=2</td><td>194736</td></tr><tr><td>total_pruned_params_pruneiter=3</td><td>220144</td></tr><tr><td>total_pruned_params_pruneiter=4</td><td>236551</td></tr><tr><td>total_pruned_params_pruneiter=5</td><td>247152</td></tr><tr><td>total_pruned_params_pruneiter=6</td><td>254002</td></tr><tr><td>total_pruned_params_pruneiter=7</td><td>258430</td></tr></table><br/></div></div>"
            ]
          },
          "metadata": {}
        },
        {
          "output_type": "display_data",
          "data": {
            "text/plain": [
              "<IPython.core.display.HTML object>"
            ],
            "text/html": [
              " View run <strong style=\"color:#cdcd00\">brisk-galaxy-214</strong> at: <a href='https://wandb.ai/bspanfilov/experiment%20from%20the%20title/runs/cwpjzm2p' target=\"_blank\">https://wandb.ai/bspanfilov/experiment%20from%20the%20title/runs/cwpjzm2p</a><br/>Synced 5 W&B file(s), 0 media file(s), 0 artifact file(s) and 0 other file(s)"
            ]
          },
          "metadata": {}
        },
        {
          "output_type": "display_data",
          "data": {
            "text/plain": [
              "<IPython.core.display.HTML object>"
            ],
            "text/html": [
              "Find logs at: <code>./wandb/run-20230308_172852-cwpjzm2p/logs</code>"
            ]
          },
          "metadata": {}
        },
        {
          "output_type": "display_data",
          "data": {
            "text/plain": [
              "<IPython.core.display.HTML object>"
            ],
            "text/html": [
              "Successfully finished last run (ID:cwpjzm2p). Initializing new run:<br/>"
            ]
          },
          "metadata": {}
        },
        {
          "output_type": "display_data",
          "data": {
            "text/plain": [
              "VBox(children=(Label(value='Waiting for wandb.init()...\\r'), FloatProgress(value=0.01666874500000025, max=1.0)…"
            ],
            "application/vnd.jupyter.widget-view+json": {
              "version_major": 2,
              "version_minor": 0,
              "model_id": "1378d9ac1c074ba383470f88db54a0e0"
            }
          },
          "metadata": {}
        },
        {
          "output_type": "display_data",
          "data": {
            "text/plain": [
              "<IPython.core.display.HTML object>"
            ],
            "text/html": [
              "Tracking run with wandb version 0.13.11"
            ]
          },
          "metadata": {}
        },
        {
          "output_type": "display_data",
          "data": {
            "text/plain": [
              "<IPython.core.display.HTML object>"
            ],
            "text/html": [
              "Run data is saved locally in <code>/content/wandb/run-20230308_173545-woqw7eih</code>"
            ]
          },
          "metadata": {}
        },
        {
          "output_type": "display_data",
          "data": {
            "text/plain": [
              "<IPython.core.display.HTML object>"
            ],
            "text/html": [
              "Syncing run <strong><a href='https://wandb.ai/bspanfilov/experiment%20from%20the%20title/runs/woqw7eih' target=\"_blank\">woven-wave-215</a></strong> to <a href='https://wandb.ai/bspanfilov/experiment%20from%20the%20title' target=\"_blank\">Weights & Biases</a> (<a href='https://wandb.me/run' target=\"_blank\">docs</a>)<br/>"
            ]
          },
          "metadata": {}
        },
        {
          "output_type": "display_data",
          "data": {
            "text/plain": [
              "<IPython.core.display.HTML object>"
            ],
            "text/html": [
              " View project at <a href='https://wandb.ai/bspanfilov/experiment%20from%20the%20title' target=\"_blank\">https://wandb.ai/bspanfilov/experiment%20from%20the%20title</a>"
            ]
          },
          "metadata": {}
        },
        {
          "output_type": "display_data",
          "data": {
            "text/plain": [
              "<IPython.core.display.HTML object>"
            ],
            "text/html": [
              " View run at <a href='https://wandb.ai/bspanfilov/experiment%20from%20the%20title/runs/woqw7eih' target=\"_blank\">https://wandb.ai/bspanfilov/experiment%20from%20the%20title/runs/woqw7eih</a>"
            ]
          },
          "metadata": {}
        },
        {
          "output_type": "stream",
          "name": "stderr",
          "text": [
            "100%|██████████| 1625/1625 [00:17<00:00, 90.92it/s] \n",
            "100%|██████████| 1625/1625 [00:19<00:00, 85.40it/s]\n",
            "100%|██████████| 1625/1625 [00:19<00:00, 84.11it/s]\n",
            "100%|██████████| 1625/1625 [00:18<00:00, 89.54it/s]\n",
            "100%|██████████| 1625/1625 [00:19<00:00, 84.26it/s]\n",
            "100%|██████████| 1625/1625 [00:18<00:00, 89.44it/s]\n",
            "100%|██████████| 1625/1625 [00:19<00:00, 84.96it/s]\n",
            "100%|██████████| 1625/1625 [00:18<00:00, 89.46it/s]\n",
            "100%|██████████| 13000/13000 [04:11<00:00, 51.59it/s]\n"
          ]
        },
        {
          "output_type": "display_data",
          "data": {
            "text/plain": [
              "<IPython.core.display.HTML object>"
            ],
            "text/html": [
              "Finishing last run (ID:woqw7eih) before initializing another..."
            ]
          },
          "metadata": {}
        },
        {
          "output_type": "display_data",
          "data": {
            "text/plain": [
              "<IPython.core.display.HTML object>"
            ],
            "text/html": [
              "Waiting for W&B process to finish... <strong style=\"color:green\">(success).</strong>"
            ]
          },
          "metadata": {}
        },
        {
          "output_type": "display_data",
          "data": {
            "text/plain": [
              "VBox(children=(Label(value='0.001 MB of 0.001 MB uploaded (0.000 MB deduped)\\r'), FloatProgress(value=1.0, max…"
            ],
            "application/vnd.jupyter.widget-view+json": {
              "version_major": 2,
              "version_minor": 0,
              "model_id": "99872b3d3c7f4235bf85c52bd71376a6"
            }
          },
          "metadata": {}
        },
        {
          "output_type": "display_data",
          "data": {
            "text/plain": [
              "<IPython.core.display.HTML object>"
            ],
            "text/html": [
              "<style>\n",
              "    table.wandb td:nth-child(1) { padding: 0 10px; text-align: left ; width: auto;} td:nth-child(2) {text-align: left ; width: 100%}\n",
              "    .wandb-row { display: flex; flex-direction: row; flex-wrap: wrap; justify-content: flex-start; width: 100% }\n",
              "    .wandb-col { display: flex; flex-direction: column; flex-basis: 100%; flex: 1; padding: 10px; }\n",
              "    </style>\n",
              "<div class=\"wandb-row\"><div class=\"wandb-col\"><h3>Run history:</h3><br/><table class=\"wandb\"><tr><td>accuracy_val</td><td>▁▂▅▇▇▇██████████████████████████████████</td></tr><tr><td>loss</td><td>█▆▃▃▂▂▂▂▂▂▂▂▂▂▁▃▁▂▂▂▁▁▁▁▂▂▁▂▁▁▁▁▁▁▂▁▁▁▁▁</td></tr></table><br/></div><div class=\"wandb-col\"><h3>Run summary:</h3><br/><table class=\"wandb\"><tr><td>actual_prune_ratio_pruneiter=0</td><td>0.3542</td></tr><tr><td>actual_prune_ratio_pruneiter=1</td><td>0.58283</td></tr><tr><td>actual_prune_ratio_pruneiter=2</td><td>0.73042</td></tr><tr><td>actual_prune_ratio_pruneiter=3</td><td>0.82572</td></tr><tr><td>actual_prune_ratio_pruneiter=4</td><td>0.88725</td></tr><tr><td>actual_prune_ratio_pruneiter=5</td><td>0.92702</td></tr><tr><td>actual_prune_ratio_pruneiter=6</td><td>0.95271</td></tr><tr><td>actual_prune_ratio_pruneiter=7</td><td>0.96932</td></tr><tr><td>layer0_actual_prune_ratio_pruneiter=0</td><td>0.35488</td></tr><tr><td>layer0_actual_prune_ratio_pruneiter=1</td><td>0.58382</td></tr><tr><td>layer0_actual_prune_ratio_pruneiter=2</td><td>0.73151</td></tr><tr><td>layer0_actual_prune_ratio_pruneiter=3</td><td>0.82679</td></tr><tr><td>layer0_actual_prune_ratio_pruneiter=4</td><td>0.88826</td></tr><tr><td>layer0_actual_prune_ratio_pruneiter=5</td><td>0.92792</td></tr><tr><td>layer0_actual_prune_ratio_pruneiter=6</td><td>0.9535</td></tr><tr><td>layer0_actual_prune_ratio_pruneiter=7</td><td>0.97</td></tr><tr><td>layer0_pruned_params_pruneiter=0</td><td>83574</td></tr><tr><td>layer0_pruned_params_pruneiter=1</td><td>137490</td></tr><tr><td>layer0_pruned_params_pruneiter=2</td><td>172271</td></tr><tr><td>layer0_pruned_params_pruneiter=3</td><td>194710</td></tr><tr><td>layer0_pruned_params_pruneiter=4</td><td>209185</td></tr><tr><td>layer0_pruned_params_pruneiter=5</td><td>218524</td></tr><tr><td>layer0_pruned_params_pruneiter=6</td><td>224549</td></tr><tr><td>layer0_pruned_params_pruneiter=7</td><td>228435</td></tr><tr><td>layer0_total_params_pruneiter=0</td><td>235500</td></tr><tr><td>layer0_total_params_pruneiter=1</td><td>235500</td></tr><tr><td>layer0_total_params_pruneiter=2</td><td>235500</td></tr><tr><td>layer0_total_params_pruneiter=3</td><td>235500</td></tr><tr><td>layer0_total_params_pruneiter=4</td><td>235500</td></tr><tr><td>layer0_total_params_pruneiter=5</td><td>235500</td></tr><tr><td>layer0_total_params_pruneiter=6</td><td>235500</td></tr><tr><td>layer0_total_params_pruneiter=7</td><td>235500</td></tr><tr><td>layer1_actual_prune_ratio_pruneiter=0</td><td>0.35485</td></tr><tr><td>layer1_actual_prune_ratio_pruneiter=1</td><td>0.58379</td></tr><tr><td>layer1_actual_prune_ratio_pruneiter=2</td><td>0.73149</td></tr><tr><td>layer1_actual_prune_ratio_pruneiter=3</td><td>0.82681</td></tr><tr><td>layer1_actual_prune_ratio_pruneiter=4</td><td>0.88827</td></tr><tr><td>layer1_actual_prune_ratio_pruneiter=5</td><td>0.92794</td></tr><tr><td>layer1_actual_prune_ratio_pruneiter=6</td><td>0.95349</td></tr><tr><td>layer1_actual_prune_ratio_pruneiter=7</td><td>0.97</td></tr><tr><td>layer1_pruned_params_pruneiter=0</td><td>10681</td></tr><tr><td>layer1_pruned_params_pruneiter=1</td><td>17572</td></tr><tr><td>layer1_pruned_params_pruneiter=2</td><td>22018</td></tr><tr><td>layer1_pruned_params_pruneiter=3</td><td>24887</td></tr><tr><td>layer1_pruned_params_pruneiter=4</td><td>26737</td></tr><tr><td>layer1_pruned_params_pruneiter=5</td><td>27931</td></tr><tr><td>layer1_pruned_params_pruneiter=6</td><td>28700</td></tr><tr><td>layer1_pruned_params_pruneiter=7</td><td>29197</td></tr><tr><td>layer1_total_params_pruneiter=0</td><td>30100</td></tr><tr><td>layer1_total_params_pruneiter=1</td><td>30100</td></tr><tr><td>layer1_total_params_pruneiter=2</td><td>30100</td></tr><tr><td>layer1_total_params_pruneiter=3</td><td>30100</td></tr><tr><td>layer1_total_params_pruneiter=4</td><td>30100</td></tr><tr><td>layer1_total_params_pruneiter=5</td><td>30100</td></tr><tr><td>layer1_total_params_pruneiter=6</td><td>30100</td></tr><tr><td>layer1_total_params_pruneiter=7</td><td>30100</td></tr><tr><td>layer2_actual_prune_ratio_pruneiter=0</td><td>0.17723</td></tr><tr><td>layer2_actual_prune_ratio_pruneiter=1</td><td>0.32277</td></tr><tr><td>layer2_actual_prune_ratio_pruneiter=2</td><td>0.44257</td></tr><tr><td>layer2_actual_prune_ratio_pruneiter=3</td><td>0.54158</td></tr><tr><td>layer2_actual_prune_ratio_pruneiter=4</td><td>0.62277</td></tr><tr><td>layer2_actual_prune_ratio_pruneiter=5</td><td>0.6901</td></tr><tr><td>layer2_actual_prune_ratio_pruneiter=6</td><td>0.74554</td></tr><tr><td>layer2_actual_prune_ratio_pruneiter=7</td><td>0.7901</td></tr><tr><td>layer2_pruned_params_pruneiter=0</td><td>179</td></tr><tr><td>layer2_pruned_params_pruneiter=1</td><td>326</td></tr><tr><td>layer2_pruned_params_pruneiter=2</td><td>447</td></tr><tr><td>layer2_pruned_params_pruneiter=3</td><td>547</td></tr><tr><td>layer2_pruned_params_pruneiter=4</td><td>629</td></tr><tr><td>layer2_pruned_params_pruneiter=5</td><td>697</td></tr><tr><td>layer2_pruned_params_pruneiter=6</td><td>753</td></tr><tr><td>layer2_pruned_params_pruneiter=7</td><td>798</td></tr><tr><td>layer2_total_params_pruneiter=0</td><td>1010</td></tr><tr><td>layer2_total_params_pruneiter=1</td><td>1010</td></tr><tr><td>layer2_total_params_pruneiter=2</td><td>1010</td></tr><tr><td>layer2_total_params_pruneiter=3</td><td>1010</td></tr><tr><td>layer2_total_params_pruneiter=4</td><td>1010</td></tr><tr><td>layer2_total_params_pruneiter=5</td><td>1010</td></tr><tr><td>layer2_total_params_pruneiter=6</td><td>1010</td></tr><tr><td>layer2_total_params_pruneiter=7</td><td>1010</td></tr><tr><td>loss</td><td>0.15047</td></tr><tr><td>total_params_pruneiter=0</td><td>266610</td></tr><tr><td>total_params_pruneiter=1</td><td>266610</td></tr><tr><td>total_params_pruneiter=2</td><td>266610</td></tr><tr><td>total_params_pruneiter=3</td><td>266610</td></tr><tr><td>total_params_pruneiter=4</td><td>266610</td></tr><tr><td>total_params_pruneiter=5</td><td>266610</td></tr><tr><td>total_params_pruneiter=6</td><td>266610</td></tr><tr><td>total_params_pruneiter=7</td><td>266610</td></tr><tr><td>total_pruned_params_pruneiter=0</td><td>94434</td></tr><tr><td>total_pruned_params_pruneiter=1</td><td>155388</td></tr><tr><td>total_pruned_params_pruneiter=2</td><td>194736</td></tr><tr><td>total_pruned_params_pruneiter=3</td><td>220144</td></tr><tr><td>total_pruned_params_pruneiter=4</td><td>236551</td></tr><tr><td>total_pruned_params_pruneiter=5</td><td>247152</td></tr><tr><td>total_pruned_params_pruneiter=6</td><td>254002</td></tr><tr><td>total_pruned_params_pruneiter=7</td><td>258430</td></tr></table><br/></div></div>"
            ]
          },
          "metadata": {}
        },
        {
          "output_type": "display_data",
          "data": {
            "text/plain": [
              "<IPython.core.display.HTML object>"
            ],
            "text/html": [
              " View run <strong style=\"color:#cdcd00\">woven-wave-215</strong> at: <a href='https://wandb.ai/bspanfilov/experiment%20from%20the%20title/runs/woqw7eih' target=\"_blank\">https://wandb.ai/bspanfilov/experiment%20from%20the%20title/runs/woqw7eih</a><br/>Synced 5 W&B file(s), 0 media file(s), 0 artifact file(s) and 0 other file(s)"
            ]
          },
          "metadata": {}
        },
        {
          "output_type": "display_data",
          "data": {
            "text/plain": [
              "<IPython.core.display.HTML object>"
            ],
            "text/html": [
              "Find logs at: <code>./wandb/run-20230308_173545-woqw7eih/logs</code>"
            ]
          },
          "metadata": {}
        },
        {
          "output_type": "display_data",
          "data": {
            "text/plain": [
              "<IPython.core.display.HTML object>"
            ],
            "text/html": [
              "Successfully finished last run (ID:woqw7eih). Initializing new run:<br/>"
            ]
          },
          "metadata": {}
        },
        {
          "output_type": "display_data",
          "data": {
            "text/plain": [
              "<IPython.core.display.HTML object>"
            ],
            "text/html": [
              "Tracking run with wandb version 0.13.11"
            ]
          },
          "metadata": {}
        },
        {
          "output_type": "display_data",
          "data": {
            "text/plain": [
              "<IPython.core.display.HTML object>"
            ],
            "text/html": [
              "Run data is saved locally in <code>/content/wandb/run-20230308_174238-u2wv8d0j</code>"
            ]
          },
          "metadata": {}
        },
        {
          "output_type": "display_data",
          "data": {
            "text/plain": [
              "<IPython.core.display.HTML object>"
            ],
            "text/html": [
              "Syncing run <strong><a href='https://wandb.ai/bspanfilov/experiment%20from%20the%20title/runs/u2wv8d0j' target=\"_blank\">spring-galaxy-216</a></strong> to <a href='https://wandb.ai/bspanfilov/experiment%20from%20the%20title' target=\"_blank\">Weights & Biases</a> (<a href='https://wandb.me/run' target=\"_blank\">docs</a>)<br/>"
            ]
          },
          "metadata": {}
        },
        {
          "output_type": "display_data",
          "data": {
            "text/plain": [
              "<IPython.core.display.HTML object>"
            ],
            "text/html": [
              " View project at <a href='https://wandb.ai/bspanfilov/experiment%20from%20the%20title' target=\"_blank\">https://wandb.ai/bspanfilov/experiment%20from%20the%20title</a>"
            ]
          },
          "metadata": {}
        },
        {
          "output_type": "display_data",
          "data": {
            "text/plain": [
              "<IPython.core.display.HTML object>"
            ],
            "text/html": [
              " View run at <a href='https://wandb.ai/bspanfilov/experiment%20from%20the%20title/runs/u2wv8d0j' target=\"_blank\">https://wandb.ai/bspanfilov/experiment%20from%20the%20title/runs/u2wv8d0j</a>"
            ]
          },
          "metadata": {}
        },
        {
          "output_type": "stream",
          "name": "stderr",
          "text": [
            "100%|██████████| 1625/1625 [00:18<00:00, 90.26it/s]\n",
            "100%|██████████| 1625/1625 [00:19<00:00, 83.79it/s]\n",
            "100%|██████████| 1625/1625 [00:18<00:00, 88.51it/s]\n",
            "100%|██████████| 1625/1625 [00:18<00:00, 86.79it/s]\n",
            "100%|██████████| 1625/1625 [00:18<00:00, 86.99it/s]\n",
            "100%|██████████| 1625/1625 [00:18<00:00, 89.58it/s]\n",
            "100%|██████████| 1625/1625 [00:20<00:00, 78.86it/s]\n",
            "100%|██████████| 1625/1625 [00:18<00:00, 90.10it/s]\n",
            "100%|██████████| 13000/13000 [04:14<00:00, 51.09it/s]\n"
          ]
        }
      ],
      "source": [
        "# тут просто настройки, с которыми я как раз запускал эксперименты\n",
        "MAX_ITERS=[13000]\n",
        "PRUNE_ITERS=[1, 5, 8]\n",
        "PRUNE_METHODS=['l1', 'random']\n",
        "PRUNE_RATIOS=[0.97]\n",
        "REINITIALIZES=['false', 'true']\n",
        "RANDOM_STATES=[1, 3]\n",
        "\n",
        "experiment(MAX_ITERS, PRUNE_ITERS, PRUNE_METHODS, PRUNE_RATIOS, REINITIALIZES, RANDOM_STATES, \"experiment from the title\", 0)"
      ]
    },
    {
      "cell_type": "code",
      "source": [],
      "metadata": {
        "id": "FEnz3AvQgLNe"
      },
      "execution_count": null,
      "outputs": []
    }
  ],
  "metadata": {
    "colab": {
      "provenance": []
    },
    "kernelspec": {
      "display_name": "Python 3",
      "name": "python3"
    },
    "language_info": {
      "name": "python"
    },
    "accelerator": "GPU",
    "gpuClass": "standard",
    "widgets": {
      "application/vnd.jupyter.widget-state+json": {
        "1f690cb4c781415a8fd7ae77dbbc7b91": {
          "model_module": "@jupyter-widgets/controls",
          "model_name": "HBoxModel",
          "model_module_version": "1.5.0",
          "state": {
            "_dom_classes": [],
            "_model_module": "@jupyter-widgets/controls",
            "_model_module_version": "1.5.0",
            "_model_name": "HBoxModel",
            "_view_count": null,
            "_view_module": "@jupyter-widgets/controls",
            "_view_module_version": "1.5.0",
            "_view_name": "HBoxView",
            "box_style": "",
            "children": [
              "IPY_MODEL_fc7e6972e484481aab16c4915e981ca6",
              "IPY_MODEL_85e0735d4a1c479b8db2a405d66a7bd2",
              "IPY_MODEL_9e9f4cff93b24749b01f77255b2f38dc"
            ],
            "layout": "IPY_MODEL_c3bd84bbd08242a4a3f7a27ab1059bdd"
          }
        },
        "fc7e6972e484481aab16c4915e981ca6": {
          "model_module": "@jupyter-widgets/controls",
          "model_name": "HTMLModel",
          "model_module_version": "1.5.0",
          "state": {
            "_dom_classes": [],
            "_model_module": "@jupyter-widgets/controls",
            "_model_module_version": "1.5.0",
            "_model_name": "HTMLModel",
            "_view_count": null,
            "_view_module": "@jupyter-widgets/controls",
            "_view_module_version": "1.5.0",
            "_view_name": "HTMLView",
            "description": "",
            "description_tooltip": null,
            "layout": "IPY_MODEL_8b51b03700334e61821f4747f295ec74",
            "placeholder": "​",
            "style": "IPY_MODEL_62f2088edc6741768fdeb3d6378379a2",
            "value": "100%"
          }
        },
        "85e0735d4a1c479b8db2a405d66a7bd2": {
          "model_module": "@jupyter-widgets/controls",
          "model_name": "FloatProgressModel",
          "model_module_version": "1.5.0",
          "state": {
            "_dom_classes": [],
            "_model_module": "@jupyter-widgets/controls",
            "_model_module_version": "1.5.0",
            "_model_name": "FloatProgressModel",
            "_view_count": null,
            "_view_module": "@jupyter-widgets/controls",
            "_view_module_version": "1.5.0",
            "_view_name": "ProgressView",
            "bar_style": "success",
            "description": "",
            "description_tooltip": null,
            "layout": "IPY_MODEL_7231401ccea941558c25c4d555d6605a",
            "max": 9912422,
            "min": 0,
            "orientation": "horizontal",
            "style": "IPY_MODEL_8f5a0d6c708d473d8773e89c333012bd",
            "value": 9912422
          }
        },
        "9e9f4cff93b24749b01f77255b2f38dc": {
          "model_module": "@jupyter-widgets/controls",
          "model_name": "HTMLModel",
          "model_module_version": "1.5.0",
          "state": {
            "_dom_classes": [],
            "_model_module": "@jupyter-widgets/controls",
            "_model_module_version": "1.5.0",
            "_model_name": "HTMLModel",
            "_view_count": null,
            "_view_module": "@jupyter-widgets/controls",
            "_view_module_version": "1.5.0",
            "_view_name": "HTMLView",
            "description": "",
            "description_tooltip": null,
            "layout": "IPY_MODEL_52f54735b898473a84fc7f2aa0fca307",
            "placeholder": "​",
            "style": "IPY_MODEL_fadf430d7b1641f980fc2b055f5a12d1",
            "value": " 9912422/9912422 [00:00&lt;00:00, 228677960.08it/s]"
          }
        },
        "c3bd84bbd08242a4a3f7a27ab1059bdd": {
          "model_module": "@jupyter-widgets/base",
          "model_name": "LayoutModel",
          "model_module_version": "1.2.0",
          "state": {
            "_model_module": "@jupyter-widgets/base",
            "_model_module_version": "1.2.0",
            "_model_name": "LayoutModel",
            "_view_count": null,
            "_view_module": "@jupyter-widgets/base",
            "_view_module_version": "1.2.0",
            "_view_name": "LayoutView",
            "align_content": null,
            "align_items": null,
            "align_self": null,
            "border": null,
            "bottom": null,
            "display": null,
            "flex": null,
            "flex_flow": null,
            "grid_area": null,
            "grid_auto_columns": null,
            "grid_auto_flow": null,
            "grid_auto_rows": null,
            "grid_column": null,
            "grid_gap": null,
            "grid_row": null,
            "grid_template_areas": null,
            "grid_template_columns": null,
            "grid_template_rows": null,
            "height": null,
            "justify_content": null,
            "justify_items": null,
            "left": null,
            "margin": null,
            "max_height": null,
            "max_width": null,
            "min_height": null,
            "min_width": null,
            "object_fit": null,
            "object_position": null,
            "order": null,
            "overflow": null,
            "overflow_x": null,
            "overflow_y": null,
            "padding": null,
            "right": null,
            "top": null,
            "visibility": null,
            "width": null
          }
        },
        "8b51b03700334e61821f4747f295ec74": {
          "model_module": "@jupyter-widgets/base",
          "model_name": "LayoutModel",
          "model_module_version": "1.2.0",
          "state": {
            "_model_module": "@jupyter-widgets/base",
            "_model_module_version": "1.2.0",
            "_model_name": "LayoutModel",
            "_view_count": null,
            "_view_module": "@jupyter-widgets/base",
            "_view_module_version": "1.2.0",
            "_view_name": "LayoutView",
            "align_content": null,
            "align_items": null,
            "align_self": null,
            "border": null,
            "bottom": null,
            "display": null,
            "flex": null,
            "flex_flow": null,
            "grid_area": null,
            "grid_auto_columns": null,
            "grid_auto_flow": null,
            "grid_auto_rows": null,
            "grid_column": null,
            "grid_gap": null,
            "grid_row": null,
            "grid_template_areas": null,
            "grid_template_columns": null,
            "grid_template_rows": null,
            "height": null,
            "justify_content": null,
            "justify_items": null,
            "left": null,
            "margin": null,
            "max_height": null,
            "max_width": null,
            "min_height": null,
            "min_width": null,
            "object_fit": null,
            "object_position": null,
            "order": null,
            "overflow": null,
            "overflow_x": null,
            "overflow_y": null,
            "padding": null,
            "right": null,
            "top": null,
            "visibility": null,
            "width": null
          }
        },
        "62f2088edc6741768fdeb3d6378379a2": {
          "model_module": "@jupyter-widgets/controls",
          "model_name": "DescriptionStyleModel",
          "model_module_version": "1.5.0",
          "state": {
            "_model_module": "@jupyter-widgets/controls",
            "_model_module_version": "1.5.0",
            "_model_name": "DescriptionStyleModel",
            "_view_count": null,
            "_view_module": "@jupyter-widgets/base",
            "_view_module_version": "1.2.0",
            "_view_name": "StyleView",
            "description_width": ""
          }
        },
        "7231401ccea941558c25c4d555d6605a": {
          "model_module": "@jupyter-widgets/base",
          "model_name": "LayoutModel",
          "model_module_version": "1.2.0",
          "state": {
            "_model_module": "@jupyter-widgets/base",
            "_model_module_version": "1.2.0",
            "_model_name": "LayoutModel",
            "_view_count": null,
            "_view_module": "@jupyter-widgets/base",
            "_view_module_version": "1.2.0",
            "_view_name": "LayoutView",
            "align_content": null,
            "align_items": null,
            "align_self": null,
            "border": null,
            "bottom": null,
            "display": null,
            "flex": null,
            "flex_flow": null,
            "grid_area": null,
            "grid_auto_columns": null,
            "grid_auto_flow": null,
            "grid_auto_rows": null,
            "grid_column": null,
            "grid_gap": null,
            "grid_row": null,
            "grid_template_areas": null,
            "grid_template_columns": null,
            "grid_template_rows": null,
            "height": null,
            "justify_content": null,
            "justify_items": null,
            "left": null,
            "margin": null,
            "max_height": null,
            "max_width": null,
            "min_height": null,
            "min_width": null,
            "object_fit": null,
            "object_position": null,
            "order": null,
            "overflow": null,
            "overflow_x": null,
            "overflow_y": null,
            "padding": null,
            "right": null,
            "top": null,
            "visibility": null,
            "width": null
          }
        },
        "8f5a0d6c708d473d8773e89c333012bd": {
          "model_module": "@jupyter-widgets/controls",
          "model_name": "ProgressStyleModel",
          "model_module_version": "1.5.0",
          "state": {
            "_model_module": "@jupyter-widgets/controls",
            "_model_module_version": "1.5.0",
            "_model_name": "ProgressStyleModel",
            "_view_count": null,
            "_view_module": "@jupyter-widgets/base",
            "_view_module_version": "1.2.0",
            "_view_name": "StyleView",
            "bar_color": null,
            "description_width": ""
          }
        },
        "52f54735b898473a84fc7f2aa0fca307": {
          "model_module": "@jupyter-widgets/base",
          "model_name": "LayoutModel",
          "model_module_version": "1.2.0",
          "state": {
            "_model_module": "@jupyter-widgets/base",
            "_model_module_version": "1.2.0",
            "_model_name": "LayoutModel",
            "_view_count": null,
            "_view_module": "@jupyter-widgets/base",
            "_view_module_version": "1.2.0",
            "_view_name": "LayoutView",
            "align_content": null,
            "align_items": null,
            "align_self": null,
            "border": null,
            "bottom": null,
            "display": null,
            "flex": null,
            "flex_flow": null,
            "grid_area": null,
            "grid_auto_columns": null,
            "grid_auto_flow": null,
            "grid_auto_rows": null,
            "grid_column": null,
            "grid_gap": null,
            "grid_row": null,
            "grid_template_areas": null,
            "grid_template_columns": null,
            "grid_template_rows": null,
            "height": null,
            "justify_content": null,
            "justify_items": null,
            "left": null,
            "margin": null,
            "max_height": null,
            "max_width": null,
            "min_height": null,
            "min_width": null,
            "object_fit": null,
            "object_position": null,
            "order": null,
            "overflow": null,
            "overflow_x": null,
            "overflow_y": null,
            "padding": null,
            "right": null,
            "top": null,
            "visibility": null,
            "width": null
          }
        },
        "fadf430d7b1641f980fc2b055f5a12d1": {
          "model_module": "@jupyter-widgets/controls",
          "model_name": "DescriptionStyleModel",
          "model_module_version": "1.5.0",
          "state": {
            "_model_module": "@jupyter-widgets/controls",
            "_model_module_version": "1.5.0",
            "_model_name": "DescriptionStyleModel",
            "_view_count": null,
            "_view_module": "@jupyter-widgets/base",
            "_view_module_version": "1.2.0",
            "_view_name": "StyleView",
            "description_width": ""
          }
        },
        "d06eea0156954a77b7e45529a2051186": {
          "model_module": "@jupyter-widgets/controls",
          "model_name": "HBoxModel",
          "model_module_version": "1.5.0",
          "state": {
            "_dom_classes": [],
            "_model_module": "@jupyter-widgets/controls",
            "_model_module_version": "1.5.0",
            "_model_name": "HBoxModel",
            "_view_count": null,
            "_view_module": "@jupyter-widgets/controls",
            "_view_module_version": "1.5.0",
            "_view_name": "HBoxView",
            "box_style": "",
            "children": [
              "IPY_MODEL_d831f1dd0dde4adcbfbf7583c4edc734",
              "IPY_MODEL_eb5f8b0c932b4106966bd72dcc5a9b55",
              "IPY_MODEL_90dba368453648d78f4fa2862fa7cc52"
            ],
            "layout": "IPY_MODEL_8b64d85a0f364d6e86d34104f7fd5e3d"
          }
        },
        "d831f1dd0dde4adcbfbf7583c4edc734": {
          "model_module": "@jupyter-widgets/controls",
          "model_name": "HTMLModel",
          "model_module_version": "1.5.0",
          "state": {
            "_dom_classes": [],
            "_model_module": "@jupyter-widgets/controls",
            "_model_module_version": "1.5.0",
            "_model_name": "HTMLModel",
            "_view_count": null,
            "_view_module": "@jupyter-widgets/controls",
            "_view_module_version": "1.5.0",
            "_view_name": "HTMLView",
            "description": "",
            "description_tooltip": null,
            "layout": "IPY_MODEL_3790cc23354544568984dad8cb7ed361",
            "placeholder": "​",
            "style": "IPY_MODEL_c7ad7c0690e14d59b0dfc98962e16599",
            "value": "100%"
          }
        },
        "eb5f8b0c932b4106966bd72dcc5a9b55": {
          "model_module": "@jupyter-widgets/controls",
          "model_name": "FloatProgressModel",
          "model_module_version": "1.5.0",
          "state": {
            "_dom_classes": [],
            "_model_module": "@jupyter-widgets/controls",
            "_model_module_version": "1.5.0",
            "_model_name": "FloatProgressModel",
            "_view_count": null,
            "_view_module": "@jupyter-widgets/controls",
            "_view_module_version": "1.5.0",
            "_view_name": "ProgressView",
            "bar_style": "success",
            "description": "",
            "description_tooltip": null,
            "layout": "IPY_MODEL_0299cb8f6c8f44138fb3a028d958e02c",
            "max": 28881,
            "min": 0,
            "orientation": "horizontal",
            "style": "IPY_MODEL_f66600c4b6d0420ca11b917d9275cb79",
            "value": 28881
          }
        },
        "90dba368453648d78f4fa2862fa7cc52": {
          "model_module": "@jupyter-widgets/controls",
          "model_name": "HTMLModel",
          "model_module_version": "1.5.0",
          "state": {
            "_dom_classes": [],
            "_model_module": "@jupyter-widgets/controls",
            "_model_module_version": "1.5.0",
            "_model_name": "HTMLModel",
            "_view_count": null,
            "_view_module": "@jupyter-widgets/controls",
            "_view_module_version": "1.5.0",
            "_view_name": "HTMLView",
            "description": "",
            "description_tooltip": null,
            "layout": "IPY_MODEL_b06ff7e34f6b4231878183fbd978778b",
            "placeholder": "​",
            "style": "IPY_MODEL_ca0471007af742b69bb942117b607863",
            "value": " 28881/28881 [00:00&lt;00:00, 2215437.54it/s]"
          }
        },
        "8b64d85a0f364d6e86d34104f7fd5e3d": {
          "model_module": "@jupyter-widgets/base",
          "model_name": "LayoutModel",
          "model_module_version": "1.2.0",
          "state": {
            "_model_module": "@jupyter-widgets/base",
            "_model_module_version": "1.2.0",
            "_model_name": "LayoutModel",
            "_view_count": null,
            "_view_module": "@jupyter-widgets/base",
            "_view_module_version": "1.2.0",
            "_view_name": "LayoutView",
            "align_content": null,
            "align_items": null,
            "align_self": null,
            "border": null,
            "bottom": null,
            "display": null,
            "flex": null,
            "flex_flow": null,
            "grid_area": null,
            "grid_auto_columns": null,
            "grid_auto_flow": null,
            "grid_auto_rows": null,
            "grid_column": null,
            "grid_gap": null,
            "grid_row": null,
            "grid_template_areas": null,
            "grid_template_columns": null,
            "grid_template_rows": null,
            "height": null,
            "justify_content": null,
            "justify_items": null,
            "left": null,
            "margin": null,
            "max_height": null,
            "max_width": null,
            "min_height": null,
            "min_width": null,
            "object_fit": null,
            "object_position": null,
            "order": null,
            "overflow": null,
            "overflow_x": null,
            "overflow_y": null,
            "padding": null,
            "right": null,
            "top": null,
            "visibility": null,
            "width": null
          }
        },
        "3790cc23354544568984dad8cb7ed361": {
          "model_module": "@jupyter-widgets/base",
          "model_name": "LayoutModel",
          "model_module_version": "1.2.0",
          "state": {
            "_model_module": "@jupyter-widgets/base",
            "_model_module_version": "1.2.0",
            "_model_name": "LayoutModel",
            "_view_count": null,
            "_view_module": "@jupyter-widgets/base",
            "_view_module_version": "1.2.0",
            "_view_name": "LayoutView",
            "align_content": null,
            "align_items": null,
            "align_self": null,
            "border": null,
            "bottom": null,
            "display": null,
            "flex": null,
            "flex_flow": null,
            "grid_area": null,
            "grid_auto_columns": null,
            "grid_auto_flow": null,
            "grid_auto_rows": null,
            "grid_column": null,
            "grid_gap": null,
            "grid_row": null,
            "grid_template_areas": null,
            "grid_template_columns": null,
            "grid_template_rows": null,
            "height": null,
            "justify_content": null,
            "justify_items": null,
            "left": null,
            "margin": null,
            "max_height": null,
            "max_width": null,
            "min_height": null,
            "min_width": null,
            "object_fit": null,
            "object_position": null,
            "order": null,
            "overflow": null,
            "overflow_x": null,
            "overflow_y": null,
            "padding": null,
            "right": null,
            "top": null,
            "visibility": null,
            "width": null
          }
        },
        "c7ad7c0690e14d59b0dfc98962e16599": {
          "model_module": "@jupyter-widgets/controls",
          "model_name": "DescriptionStyleModel",
          "model_module_version": "1.5.0",
          "state": {
            "_model_module": "@jupyter-widgets/controls",
            "_model_module_version": "1.5.0",
            "_model_name": "DescriptionStyleModel",
            "_view_count": null,
            "_view_module": "@jupyter-widgets/base",
            "_view_module_version": "1.2.0",
            "_view_name": "StyleView",
            "description_width": ""
          }
        },
        "0299cb8f6c8f44138fb3a028d958e02c": {
          "model_module": "@jupyter-widgets/base",
          "model_name": "LayoutModel",
          "model_module_version": "1.2.0",
          "state": {
            "_model_module": "@jupyter-widgets/base",
            "_model_module_version": "1.2.0",
            "_model_name": "LayoutModel",
            "_view_count": null,
            "_view_module": "@jupyter-widgets/base",
            "_view_module_version": "1.2.0",
            "_view_name": "LayoutView",
            "align_content": null,
            "align_items": null,
            "align_self": null,
            "border": null,
            "bottom": null,
            "display": null,
            "flex": null,
            "flex_flow": null,
            "grid_area": null,
            "grid_auto_columns": null,
            "grid_auto_flow": null,
            "grid_auto_rows": null,
            "grid_column": null,
            "grid_gap": null,
            "grid_row": null,
            "grid_template_areas": null,
            "grid_template_columns": null,
            "grid_template_rows": null,
            "height": null,
            "justify_content": null,
            "justify_items": null,
            "left": null,
            "margin": null,
            "max_height": null,
            "max_width": null,
            "min_height": null,
            "min_width": null,
            "object_fit": null,
            "object_position": null,
            "order": null,
            "overflow": null,
            "overflow_x": null,
            "overflow_y": null,
            "padding": null,
            "right": null,
            "top": null,
            "visibility": null,
            "width": null
          }
        },
        "f66600c4b6d0420ca11b917d9275cb79": {
          "model_module": "@jupyter-widgets/controls",
          "model_name": "ProgressStyleModel",
          "model_module_version": "1.5.0",
          "state": {
            "_model_module": "@jupyter-widgets/controls",
            "_model_module_version": "1.5.0",
            "_model_name": "ProgressStyleModel",
            "_view_count": null,
            "_view_module": "@jupyter-widgets/base",
            "_view_module_version": "1.2.0",
            "_view_name": "StyleView",
            "bar_color": null,
            "description_width": ""
          }
        },
        "b06ff7e34f6b4231878183fbd978778b": {
          "model_module": "@jupyter-widgets/base",
          "model_name": "LayoutModel",
          "model_module_version": "1.2.0",
          "state": {
            "_model_module": "@jupyter-widgets/base",
            "_model_module_version": "1.2.0",
            "_model_name": "LayoutModel",
            "_view_count": null,
            "_view_module": "@jupyter-widgets/base",
            "_view_module_version": "1.2.0",
            "_view_name": "LayoutView",
            "align_content": null,
            "align_items": null,
            "align_self": null,
            "border": null,
            "bottom": null,
            "display": null,
            "flex": null,
            "flex_flow": null,
            "grid_area": null,
            "grid_auto_columns": null,
            "grid_auto_flow": null,
            "grid_auto_rows": null,
            "grid_column": null,
            "grid_gap": null,
            "grid_row": null,
            "grid_template_areas": null,
            "grid_template_columns": null,
            "grid_template_rows": null,
            "height": null,
            "justify_content": null,
            "justify_items": null,
            "left": null,
            "margin": null,
            "max_height": null,
            "max_width": null,
            "min_height": null,
            "min_width": null,
            "object_fit": null,
            "object_position": null,
            "order": null,
            "overflow": null,
            "overflow_x": null,
            "overflow_y": null,
            "padding": null,
            "right": null,
            "top": null,
            "visibility": null,
            "width": null
          }
        },
        "ca0471007af742b69bb942117b607863": {
          "model_module": "@jupyter-widgets/controls",
          "model_name": "DescriptionStyleModel",
          "model_module_version": "1.5.0",
          "state": {
            "_model_module": "@jupyter-widgets/controls",
            "_model_module_version": "1.5.0",
            "_model_name": "DescriptionStyleModel",
            "_view_count": null,
            "_view_module": "@jupyter-widgets/base",
            "_view_module_version": "1.2.0",
            "_view_name": "StyleView",
            "description_width": ""
          }
        },
        "e58aff3feb8943f8a0e1c9fbfdaa81b2": {
          "model_module": "@jupyter-widgets/controls",
          "model_name": "HBoxModel",
          "model_module_version": "1.5.0",
          "state": {
            "_dom_classes": [],
            "_model_module": "@jupyter-widgets/controls",
            "_model_module_version": "1.5.0",
            "_model_name": "HBoxModel",
            "_view_count": null,
            "_view_module": "@jupyter-widgets/controls",
            "_view_module_version": "1.5.0",
            "_view_name": "HBoxView",
            "box_style": "",
            "children": [
              "IPY_MODEL_4f96810b5bcb425e910711e22b6052bf",
              "IPY_MODEL_8b2a7d33c6d049b0bf2bbcc130278348",
              "IPY_MODEL_da84a928f5294177a70826387aa5b49d"
            ],
            "layout": "IPY_MODEL_688b050002bb41018f0592a2a56c47ff"
          }
        },
        "4f96810b5bcb425e910711e22b6052bf": {
          "model_module": "@jupyter-widgets/controls",
          "model_name": "HTMLModel",
          "model_module_version": "1.5.0",
          "state": {
            "_dom_classes": [],
            "_model_module": "@jupyter-widgets/controls",
            "_model_module_version": "1.5.0",
            "_model_name": "HTMLModel",
            "_view_count": null,
            "_view_module": "@jupyter-widgets/controls",
            "_view_module_version": "1.5.0",
            "_view_name": "HTMLView",
            "description": "",
            "description_tooltip": null,
            "layout": "IPY_MODEL_75579847aa74404fbc80110e3cb6e51a",
            "placeholder": "​",
            "style": "IPY_MODEL_413473f0aa5747babb6b91f54c3fc98a",
            "value": "100%"
          }
        },
        "8b2a7d33c6d049b0bf2bbcc130278348": {
          "model_module": "@jupyter-widgets/controls",
          "model_name": "FloatProgressModel",
          "model_module_version": "1.5.0",
          "state": {
            "_dom_classes": [],
            "_model_module": "@jupyter-widgets/controls",
            "_model_module_version": "1.5.0",
            "_model_name": "FloatProgressModel",
            "_view_count": null,
            "_view_module": "@jupyter-widgets/controls",
            "_view_module_version": "1.5.0",
            "_view_name": "ProgressView",
            "bar_style": "success",
            "description": "",
            "description_tooltip": null,
            "layout": "IPY_MODEL_1dba13f02b4d4ecf9bc8bf96c3dcea37",
            "max": 1648877,
            "min": 0,
            "orientation": "horizontal",
            "style": "IPY_MODEL_1f3128844d74463b9735cac34fd1c041",
            "value": 1648877
          }
        },
        "da84a928f5294177a70826387aa5b49d": {
          "model_module": "@jupyter-widgets/controls",
          "model_name": "HTMLModel",
          "model_module_version": "1.5.0",
          "state": {
            "_dom_classes": [],
            "_model_module": "@jupyter-widgets/controls",
            "_model_module_version": "1.5.0",
            "_model_name": "HTMLModel",
            "_view_count": null,
            "_view_module": "@jupyter-widgets/controls",
            "_view_module_version": "1.5.0",
            "_view_name": "HTMLView",
            "description": "",
            "description_tooltip": null,
            "layout": "IPY_MODEL_2a79f840ff504a868d156b57972bf83f",
            "placeholder": "​",
            "style": "IPY_MODEL_0e4a75d12a3e445d9a10812167e6ada7",
            "value": " 1648877/1648877 [00:00&lt;00:00, 63848034.46it/s]"
          }
        },
        "688b050002bb41018f0592a2a56c47ff": {
          "model_module": "@jupyter-widgets/base",
          "model_name": "LayoutModel",
          "model_module_version": "1.2.0",
          "state": {
            "_model_module": "@jupyter-widgets/base",
            "_model_module_version": "1.2.0",
            "_model_name": "LayoutModel",
            "_view_count": null,
            "_view_module": "@jupyter-widgets/base",
            "_view_module_version": "1.2.0",
            "_view_name": "LayoutView",
            "align_content": null,
            "align_items": null,
            "align_self": null,
            "border": null,
            "bottom": null,
            "display": null,
            "flex": null,
            "flex_flow": null,
            "grid_area": null,
            "grid_auto_columns": null,
            "grid_auto_flow": null,
            "grid_auto_rows": null,
            "grid_column": null,
            "grid_gap": null,
            "grid_row": null,
            "grid_template_areas": null,
            "grid_template_columns": null,
            "grid_template_rows": null,
            "height": null,
            "justify_content": null,
            "justify_items": null,
            "left": null,
            "margin": null,
            "max_height": null,
            "max_width": null,
            "min_height": null,
            "min_width": null,
            "object_fit": null,
            "object_position": null,
            "order": null,
            "overflow": null,
            "overflow_x": null,
            "overflow_y": null,
            "padding": null,
            "right": null,
            "top": null,
            "visibility": null,
            "width": null
          }
        },
        "75579847aa74404fbc80110e3cb6e51a": {
          "model_module": "@jupyter-widgets/base",
          "model_name": "LayoutModel",
          "model_module_version": "1.2.0",
          "state": {
            "_model_module": "@jupyter-widgets/base",
            "_model_module_version": "1.2.0",
            "_model_name": "LayoutModel",
            "_view_count": null,
            "_view_module": "@jupyter-widgets/base",
            "_view_module_version": "1.2.0",
            "_view_name": "LayoutView",
            "align_content": null,
            "align_items": null,
            "align_self": null,
            "border": null,
            "bottom": null,
            "display": null,
            "flex": null,
            "flex_flow": null,
            "grid_area": null,
            "grid_auto_columns": null,
            "grid_auto_flow": null,
            "grid_auto_rows": null,
            "grid_column": null,
            "grid_gap": null,
            "grid_row": null,
            "grid_template_areas": null,
            "grid_template_columns": null,
            "grid_template_rows": null,
            "height": null,
            "justify_content": null,
            "justify_items": null,
            "left": null,
            "margin": null,
            "max_height": null,
            "max_width": null,
            "min_height": null,
            "min_width": null,
            "object_fit": null,
            "object_position": null,
            "order": null,
            "overflow": null,
            "overflow_x": null,
            "overflow_y": null,
            "padding": null,
            "right": null,
            "top": null,
            "visibility": null,
            "width": null
          }
        },
        "413473f0aa5747babb6b91f54c3fc98a": {
          "model_module": "@jupyter-widgets/controls",
          "model_name": "DescriptionStyleModel",
          "model_module_version": "1.5.0",
          "state": {
            "_model_module": "@jupyter-widgets/controls",
            "_model_module_version": "1.5.0",
            "_model_name": "DescriptionStyleModel",
            "_view_count": null,
            "_view_module": "@jupyter-widgets/base",
            "_view_module_version": "1.2.0",
            "_view_name": "StyleView",
            "description_width": ""
          }
        },
        "1dba13f02b4d4ecf9bc8bf96c3dcea37": {
          "model_module": "@jupyter-widgets/base",
          "model_name": "LayoutModel",
          "model_module_version": "1.2.0",
          "state": {
            "_model_module": "@jupyter-widgets/base",
            "_model_module_version": "1.2.0",
            "_model_name": "LayoutModel",
            "_view_count": null,
            "_view_module": "@jupyter-widgets/base",
            "_view_module_version": "1.2.0",
            "_view_name": "LayoutView",
            "align_content": null,
            "align_items": null,
            "align_self": null,
            "border": null,
            "bottom": null,
            "display": null,
            "flex": null,
            "flex_flow": null,
            "grid_area": null,
            "grid_auto_columns": null,
            "grid_auto_flow": null,
            "grid_auto_rows": null,
            "grid_column": null,
            "grid_gap": null,
            "grid_row": null,
            "grid_template_areas": null,
            "grid_template_columns": null,
            "grid_template_rows": null,
            "height": null,
            "justify_content": null,
            "justify_items": null,
            "left": null,
            "margin": null,
            "max_height": null,
            "max_width": null,
            "min_height": null,
            "min_width": null,
            "object_fit": null,
            "object_position": null,
            "order": null,
            "overflow": null,
            "overflow_x": null,
            "overflow_y": null,
            "padding": null,
            "right": null,
            "top": null,
            "visibility": null,
            "width": null
          }
        },
        "1f3128844d74463b9735cac34fd1c041": {
          "model_module": "@jupyter-widgets/controls",
          "model_name": "ProgressStyleModel",
          "model_module_version": "1.5.0",
          "state": {
            "_model_module": "@jupyter-widgets/controls",
            "_model_module_version": "1.5.0",
            "_model_name": "ProgressStyleModel",
            "_view_count": null,
            "_view_module": "@jupyter-widgets/base",
            "_view_module_version": "1.2.0",
            "_view_name": "StyleView",
            "bar_color": null,
            "description_width": ""
          }
        },
        "2a79f840ff504a868d156b57972bf83f": {
          "model_module": "@jupyter-widgets/base",
          "model_name": "LayoutModel",
          "model_module_version": "1.2.0",
          "state": {
            "_model_module": "@jupyter-widgets/base",
            "_model_module_version": "1.2.0",
            "_model_name": "LayoutModel",
            "_view_count": null,
            "_view_module": "@jupyter-widgets/base",
            "_view_module_version": "1.2.0",
            "_view_name": "LayoutView",
            "align_content": null,
            "align_items": null,
            "align_self": null,
            "border": null,
            "bottom": null,
            "display": null,
            "flex": null,
            "flex_flow": null,
            "grid_area": null,
            "grid_auto_columns": null,
            "grid_auto_flow": null,
            "grid_auto_rows": null,
            "grid_column": null,
            "grid_gap": null,
            "grid_row": null,
            "grid_template_areas": null,
            "grid_template_columns": null,
            "grid_template_rows": null,
            "height": null,
            "justify_content": null,
            "justify_items": null,
            "left": null,
            "margin": null,
            "max_height": null,
            "max_width": null,
            "min_height": null,
            "min_width": null,
            "object_fit": null,
            "object_position": null,
            "order": null,
            "overflow": null,
            "overflow_x": null,
            "overflow_y": null,
            "padding": null,
            "right": null,
            "top": null,
            "visibility": null,
            "width": null
          }
        },
        "0e4a75d12a3e445d9a10812167e6ada7": {
          "model_module": "@jupyter-widgets/controls",
          "model_name": "DescriptionStyleModel",
          "model_module_version": "1.5.0",
          "state": {
            "_model_module": "@jupyter-widgets/controls",
            "_model_module_version": "1.5.0",
            "_model_name": "DescriptionStyleModel",
            "_view_count": null,
            "_view_module": "@jupyter-widgets/base",
            "_view_module_version": "1.2.0",
            "_view_name": "StyleView",
            "description_width": ""
          }
        },
        "eaddec74b767479ab731a6a3d30ef108": {
          "model_module": "@jupyter-widgets/controls",
          "model_name": "HBoxModel",
          "model_module_version": "1.5.0",
          "state": {
            "_dom_classes": [],
            "_model_module": "@jupyter-widgets/controls",
            "_model_module_version": "1.5.0",
            "_model_name": "HBoxModel",
            "_view_count": null,
            "_view_module": "@jupyter-widgets/controls",
            "_view_module_version": "1.5.0",
            "_view_name": "HBoxView",
            "box_style": "",
            "children": [
              "IPY_MODEL_8ab6dd6d12e94f58853cc691b5d7283c",
              "IPY_MODEL_752d6dc5c739410eb8ce6be83a72bd73",
              "IPY_MODEL_e770cf6488f84bef96b2bafaf4fb8f3e"
            ],
            "layout": "IPY_MODEL_8b15e8e872f94059bcaadb8dc9e854c2"
          }
        },
        "8ab6dd6d12e94f58853cc691b5d7283c": {
          "model_module": "@jupyter-widgets/controls",
          "model_name": "HTMLModel",
          "model_module_version": "1.5.0",
          "state": {
            "_dom_classes": [],
            "_model_module": "@jupyter-widgets/controls",
            "_model_module_version": "1.5.0",
            "_model_name": "HTMLModel",
            "_view_count": null,
            "_view_module": "@jupyter-widgets/controls",
            "_view_module_version": "1.5.0",
            "_view_name": "HTMLView",
            "description": "",
            "description_tooltip": null,
            "layout": "IPY_MODEL_97ac20c3cb354ad0b14246692138288e",
            "placeholder": "​",
            "style": "IPY_MODEL_792390cc0deb442cbdaeb4eae811983a",
            "value": "100%"
          }
        },
        "752d6dc5c739410eb8ce6be83a72bd73": {
          "model_module": "@jupyter-widgets/controls",
          "model_name": "FloatProgressModel",
          "model_module_version": "1.5.0",
          "state": {
            "_dom_classes": [],
            "_model_module": "@jupyter-widgets/controls",
            "_model_module_version": "1.5.0",
            "_model_name": "FloatProgressModel",
            "_view_count": null,
            "_view_module": "@jupyter-widgets/controls",
            "_view_module_version": "1.5.0",
            "_view_name": "ProgressView",
            "bar_style": "success",
            "description": "",
            "description_tooltip": null,
            "layout": "IPY_MODEL_f7bf64dc88f74c1aa4526e14049c6da8",
            "max": 4542,
            "min": 0,
            "orientation": "horizontal",
            "style": "IPY_MODEL_6e22e67d3b8543a69ea25e4c67c5aec8",
            "value": 4542
          }
        },
        "e770cf6488f84bef96b2bafaf4fb8f3e": {
          "model_module": "@jupyter-widgets/controls",
          "model_name": "HTMLModel",
          "model_module_version": "1.5.0",
          "state": {
            "_dom_classes": [],
            "_model_module": "@jupyter-widgets/controls",
            "_model_module_version": "1.5.0",
            "_model_name": "HTMLModel",
            "_view_count": null,
            "_view_module": "@jupyter-widgets/controls",
            "_view_module_version": "1.5.0",
            "_view_name": "HTMLView",
            "description": "",
            "description_tooltip": null,
            "layout": "IPY_MODEL_810d2d56318f40d48c46fea2eab595da",
            "placeholder": "​",
            "style": "IPY_MODEL_f0ebc8cd91ec45ef9fa94a029c485b3c",
            "value": " 4542/4542 [00:00&lt;00:00, 300065.03it/s]"
          }
        },
        "8b15e8e872f94059bcaadb8dc9e854c2": {
          "model_module": "@jupyter-widgets/base",
          "model_name": "LayoutModel",
          "model_module_version": "1.2.0",
          "state": {
            "_model_module": "@jupyter-widgets/base",
            "_model_module_version": "1.2.0",
            "_model_name": "LayoutModel",
            "_view_count": null,
            "_view_module": "@jupyter-widgets/base",
            "_view_module_version": "1.2.0",
            "_view_name": "LayoutView",
            "align_content": null,
            "align_items": null,
            "align_self": null,
            "border": null,
            "bottom": null,
            "display": null,
            "flex": null,
            "flex_flow": null,
            "grid_area": null,
            "grid_auto_columns": null,
            "grid_auto_flow": null,
            "grid_auto_rows": null,
            "grid_column": null,
            "grid_gap": null,
            "grid_row": null,
            "grid_template_areas": null,
            "grid_template_columns": null,
            "grid_template_rows": null,
            "height": null,
            "justify_content": null,
            "justify_items": null,
            "left": null,
            "margin": null,
            "max_height": null,
            "max_width": null,
            "min_height": null,
            "min_width": null,
            "object_fit": null,
            "object_position": null,
            "order": null,
            "overflow": null,
            "overflow_x": null,
            "overflow_y": null,
            "padding": null,
            "right": null,
            "top": null,
            "visibility": null,
            "width": null
          }
        },
        "97ac20c3cb354ad0b14246692138288e": {
          "model_module": "@jupyter-widgets/base",
          "model_name": "LayoutModel",
          "model_module_version": "1.2.0",
          "state": {
            "_model_module": "@jupyter-widgets/base",
            "_model_module_version": "1.2.0",
            "_model_name": "LayoutModel",
            "_view_count": null,
            "_view_module": "@jupyter-widgets/base",
            "_view_module_version": "1.2.0",
            "_view_name": "LayoutView",
            "align_content": null,
            "align_items": null,
            "align_self": null,
            "border": null,
            "bottom": null,
            "display": null,
            "flex": null,
            "flex_flow": null,
            "grid_area": null,
            "grid_auto_columns": null,
            "grid_auto_flow": null,
            "grid_auto_rows": null,
            "grid_column": null,
            "grid_gap": null,
            "grid_row": null,
            "grid_template_areas": null,
            "grid_template_columns": null,
            "grid_template_rows": null,
            "height": null,
            "justify_content": null,
            "justify_items": null,
            "left": null,
            "margin": null,
            "max_height": null,
            "max_width": null,
            "min_height": null,
            "min_width": null,
            "object_fit": null,
            "object_position": null,
            "order": null,
            "overflow": null,
            "overflow_x": null,
            "overflow_y": null,
            "padding": null,
            "right": null,
            "top": null,
            "visibility": null,
            "width": null
          }
        },
        "792390cc0deb442cbdaeb4eae811983a": {
          "model_module": "@jupyter-widgets/controls",
          "model_name": "DescriptionStyleModel",
          "model_module_version": "1.5.0",
          "state": {
            "_model_module": "@jupyter-widgets/controls",
            "_model_module_version": "1.5.0",
            "_model_name": "DescriptionStyleModel",
            "_view_count": null,
            "_view_module": "@jupyter-widgets/base",
            "_view_module_version": "1.2.0",
            "_view_name": "StyleView",
            "description_width": ""
          }
        },
        "f7bf64dc88f74c1aa4526e14049c6da8": {
          "model_module": "@jupyter-widgets/base",
          "model_name": "LayoutModel",
          "model_module_version": "1.2.0",
          "state": {
            "_model_module": "@jupyter-widgets/base",
            "_model_module_version": "1.2.0",
            "_model_name": "LayoutModel",
            "_view_count": null,
            "_view_module": "@jupyter-widgets/base",
            "_view_module_version": "1.2.0",
            "_view_name": "LayoutView",
            "align_content": null,
            "align_items": null,
            "align_self": null,
            "border": null,
            "bottom": null,
            "display": null,
            "flex": null,
            "flex_flow": null,
            "grid_area": null,
            "grid_auto_columns": null,
            "grid_auto_flow": null,
            "grid_auto_rows": null,
            "grid_column": null,
            "grid_gap": null,
            "grid_row": null,
            "grid_template_areas": null,
            "grid_template_columns": null,
            "grid_template_rows": null,
            "height": null,
            "justify_content": null,
            "justify_items": null,
            "left": null,
            "margin": null,
            "max_height": null,
            "max_width": null,
            "min_height": null,
            "min_width": null,
            "object_fit": null,
            "object_position": null,
            "order": null,
            "overflow": null,
            "overflow_x": null,
            "overflow_y": null,
            "padding": null,
            "right": null,
            "top": null,
            "visibility": null,
            "width": null
          }
        },
        "6e22e67d3b8543a69ea25e4c67c5aec8": {
          "model_module": "@jupyter-widgets/controls",
          "model_name": "ProgressStyleModel",
          "model_module_version": "1.5.0",
          "state": {
            "_model_module": "@jupyter-widgets/controls",
            "_model_module_version": "1.5.0",
            "_model_name": "ProgressStyleModel",
            "_view_count": null,
            "_view_module": "@jupyter-widgets/base",
            "_view_module_version": "1.2.0",
            "_view_name": "StyleView",
            "bar_color": null,
            "description_width": ""
          }
        },
        "810d2d56318f40d48c46fea2eab595da": {
          "model_module": "@jupyter-widgets/base",
          "model_name": "LayoutModel",
          "model_module_version": "1.2.0",
          "state": {
            "_model_module": "@jupyter-widgets/base",
            "_model_module_version": "1.2.0",
            "_model_name": "LayoutModel",
            "_view_count": null,
            "_view_module": "@jupyter-widgets/base",
            "_view_module_version": "1.2.0",
            "_view_name": "LayoutView",
            "align_content": null,
            "align_items": null,
            "align_self": null,
            "border": null,
            "bottom": null,
            "display": null,
            "flex": null,
            "flex_flow": null,
            "grid_area": null,
            "grid_auto_columns": null,
            "grid_auto_flow": null,
            "grid_auto_rows": null,
            "grid_column": null,
            "grid_gap": null,
            "grid_row": null,
            "grid_template_areas": null,
            "grid_template_columns": null,
            "grid_template_rows": null,
            "height": null,
            "justify_content": null,
            "justify_items": null,
            "left": null,
            "margin": null,
            "max_height": null,
            "max_width": null,
            "min_height": null,
            "min_width": null,
            "object_fit": null,
            "object_position": null,
            "order": null,
            "overflow": null,
            "overflow_x": null,
            "overflow_y": null,
            "padding": null,
            "right": null,
            "top": null,
            "visibility": null,
            "width": null
          }
        },
        "f0ebc8cd91ec45ef9fa94a029c485b3c": {
          "model_module": "@jupyter-widgets/controls",
          "model_name": "DescriptionStyleModel",
          "model_module_version": "1.5.0",
          "state": {
            "_model_module": "@jupyter-widgets/controls",
            "_model_module_version": "1.5.0",
            "_model_name": "DescriptionStyleModel",
            "_view_count": null,
            "_view_module": "@jupyter-widgets/base",
            "_view_module_version": "1.2.0",
            "_view_name": "StyleView",
            "description_width": ""
          }
        },
        "126fd95d6067489eac308e87a39d93f5": {
          "model_module": "@jupyter-widgets/controls",
          "model_name": "VBoxModel",
          "model_module_version": "1.5.0",
          "state": {
            "_dom_classes": [],
            "_model_module": "@jupyter-widgets/controls",
            "_model_module_version": "1.5.0",
            "_model_name": "VBoxModel",
            "_view_count": null,
            "_view_module": "@jupyter-widgets/controls",
            "_view_module_version": "1.5.0",
            "_view_name": "VBoxView",
            "box_style": "",
            "children": [
              "IPY_MODEL_a8c437d1123346849bd406c6cebb9d2c",
              "IPY_MODEL_b53ce82fc8d0402d8574c4829a504782"
            ],
            "layout": "IPY_MODEL_f43161eea8ef47f09c1e1eb2112d8e1d"
          }
        },
        "a8c437d1123346849bd406c6cebb9d2c": {
          "model_module": "@jupyter-widgets/controls",
          "model_name": "LabelModel",
          "model_module_version": "1.5.0",
          "state": {
            "_dom_classes": [],
            "_model_module": "@jupyter-widgets/controls",
            "_model_module_version": "1.5.0",
            "_model_name": "LabelModel",
            "_view_count": null,
            "_view_module": "@jupyter-widgets/controls",
            "_view_module_version": "1.5.0",
            "_view_name": "LabelView",
            "description": "",
            "description_tooltip": null,
            "layout": "IPY_MODEL_39a5e0dd3a834a799238b52077f837ff",
            "placeholder": "​",
            "style": "IPY_MODEL_253e693525654467847466d777feaf34",
            "value": "0.011 MB of 0.011 MB uploaded (0.000 MB deduped)\r"
          }
        },
        "b53ce82fc8d0402d8574c4829a504782": {
          "model_module": "@jupyter-widgets/controls",
          "model_name": "FloatProgressModel",
          "model_module_version": "1.5.0",
          "state": {
            "_dom_classes": [],
            "_model_module": "@jupyter-widgets/controls",
            "_model_module_version": "1.5.0",
            "_model_name": "FloatProgressModel",
            "_view_count": null,
            "_view_module": "@jupyter-widgets/controls",
            "_view_module_version": "1.5.0",
            "_view_name": "ProgressView",
            "bar_style": "",
            "description": "",
            "description_tooltip": null,
            "layout": "IPY_MODEL_7cf3abf2e5624848b1c4057d8c3f2fd1",
            "max": 1,
            "min": 0,
            "orientation": "horizontal",
            "style": "IPY_MODEL_19425ddc0f6a47f78f769fd9d24dbba8",
            "value": 1
          }
        },
        "f43161eea8ef47f09c1e1eb2112d8e1d": {
          "model_module": "@jupyter-widgets/base",
          "model_name": "LayoutModel",
          "model_module_version": "1.2.0",
          "state": {
            "_model_module": "@jupyter-widgets/base",
            "_model_module_version": "1.2.0",
            "_model_name": "LayoutModel",
            "_view_count": null,
            "_view_module": "@jupyter-widgets/base",
            "_view_module_version": "1.2.0",
            "_view_name": "LayoutView",
            "align_content": null,
            "align_items": null,
            "align_self": null,
            "border": null,
            "bottom": null,
            "display": null,
            "flex": null,
            "flex_flow": null,
            "grid_area": null,
            "grid_auto_columns": null,
            "grid_auto_flow": null,
            "grid_auto_rows": null,
            "grid_column": null,
            "grid_gap": null,
            "grid_row": null,
            "grid_template_areas": null,
            "grid_template_columns": null,
            "grid_template_rows": null,
            "height": null,
            "justify_content": null,
            "justify_items": null,
            "left": null,
            "margin": null,
            "max_height": null,
            "max_width": null,
            "min_height": null,
            "min_width": null,
            "object_fit": null,
            "object_position": null,
            "order": null,
            "overflow": null,
            "overflow_x": null,
            "overflow_y": null,
            "padding": null,
            "right": null,
            "top": null,
            "visibility": null,
            "width": null
          }
        },
        "39a5e0dd3a834a799238b52077f837ff": {
          "model_module": "@jupyter-widgets/base",
          "model_name": "LayoutModel",
          "model_module_version": "1.2.0",
          "state": {
            "_model_module": "@jupyter-widgets/base",
            "_model_module_version": "1.2.0",
            "_model_name": "LayoutModel",
            "_view_count": null,
            "_view_module": "@jupyter-widgets/base",
            "_view_module_version": "1.2.0",
            "_view_name": "LayoutView",
            "align_content": null,
            "align_items": null,
            "align_self": null,
            "border": null,
            "bottom": null,
            "display": null,
            "flex": null,
            "flex_flow": null,
            "grid_area": null,
            "grid_auto_columns": null,
            "grid_auto_flow": null,
            "grid_auto_rows": null,
            "grid_column": null,
            "grid_gap": null,
            "grid_row": null,
            "grid_template_areas": null,
            "grid_template_columns": null,
            "grid_template_rows": null,
            "height": null,
            "justify_content": null,
            "justify_items": null,
            "left": null,
            "margin": null,
            "max_height": null,
            "max_width": null,
            "min_height": null,
            "min_width": null,
            "object_fit": null,
            "object_position": null,
            "order": null,
            "overflow": null,
            "overflow_x": null,
            "overflow_y": null,
            "padding": null,
            "right": null,
            "top": null,
            "visibility": null,
            "width": null
          }
        },
        "253e693525654467847466d777feaf34": {
          "model_module": "@jupyter-widgets/controls",
          "model_name": "DescriptionStyleModel",
          "model_module_version": "1.5.0",
          "state": {
            "_model_module": "@jupyter-widgets/controls",
            "_model_module_version": "1.5.0",
            "_model_name": "DescriptionStyleModel",
            "_view_count": null,
            "_view_module": "@jupyter-widgets/base",
            "_view_module_version": "1.2.0",
            "_view_name": "StyleView",
            "description_width": ""
          }
        },
        "7cf3abf2e5624848b1c4057d8c3f2fd1": {
          "model_module": "@jupyter-widgets/base",
          "model_name": "LayoutModel",
          "model_module_version": "1.2.0",
          "state": {
            "_model_module": "@jupyter-widgets/base",
            "_model_module_version": "1.2.0",
            "_model_name": "LayoutModel",
            "_view_count": null,
            "_view_module": "@jupyter-widgets/base",
            "_view_module_version": "1.2.0",
            "_view_name": "LayoutView",
            "align_content": null,
            "align_items": null,
            "align_self": null,
            "border": null,
            "bottom": null,
            "display": null,
            "flex": null,
            "flex_flow": null,
            "grid_area": null,
            "grid_auto_columns": null,
            "grid_auto_flow": null,
            "grid_auto_rows": null,
            "grid_column": null,
            "grid_gap": null,
            "grid_row": null,
            "grid_template_areas": null,
            "grid_template_columns": null,
            "grid_template_rows": null,
            "height": null,
            "justify_content": null,
            "justify_items": null,
            "left": null,
            "margin": null,
            "max_height": null,
            "max_width": null,
            "min_height": null,
            "min_width": null,
            "object_fit": null,
            "object_position": null,
            "order": null,
            "overflow": null,
            "overflow_x": null,
            "overflow_y": null,
            "padding": null,
            "right": null,
            "top": null,
            "visibility": null,
            "width": null
          }
        },
        "19425ddc0f6a47f78f769fd9d24dbba8": {
          "model_module": "@jupyter-widgets/controls",
          "model_name": "ProgressStyleModel",
          "model_module_version": "1.5.0",
          "state": {
            "_model_module": "@jupyter-widgets/controls",
            "_model_module_version": "1.5.0",
            "_model_name": "ProgressStyleModel",
            "_view_count": null,
            "_view_module": "@jupyter-widgets/base",
            "_view_module_version": "1.2.0",
            "_view_name": "StyleView",
            "bar_color": null,
            "description_width": ""
          }
        },
        "57fce985ae3a4f298c941419a473e85f": {
          "model_module": "@jupyter-widgets/controls",
          "model_name": "VBoxModel",
          "model_module_version": "1.5.0",
          "state": {
            "_dom_classes": [],
            "_model_module": "@jupyter-widgets/controls",
            "_model_module_version": "1.5.0",
            "_model_name": "VBoxModel",
            "_view_count": null,
            "_view_module": "@jupyter-widgets/controls",
            "_view_module_version": "1.5.0",
            "_view_name": "VBoxView",
            "box_style": "",
            "children": [
              "IPY_MODEL_4694ececf99749e6886e771610194962",
              "IPY_MODEL_8e8cdcc8cd5546e8b8af85c1507411e6"
            ],
            "layout": "IPY_MODEL_8929273479434e11ad5b7b40692d0cd8"
          }
        },
        "4694ececf99749e6886e771610194962": {
          "model_module": "@jupyter-widgets/controls",
          "model_name": "LabelModel",
          "model_module_version": "1.5.0",
          "state": {
            "_dom_classes": [],
            "_model_module": "@jupyter-widgets/controls",
            "_model_module_version": "1.5.0",
            "_model_name": "LabelModel",
            "_view_count": null,
            "_view_module": "@jupyter-widgets/controls",
            "_view_module_version": "1.5.0",
            "_view_name": "LabelView",
            "description": "",
            "description_tooltip": null,
            "layout": "IPY_MODEL_cee8dbd205d8456d947c47fc3d9adfb0",
            "placeholder": "​",
            "style": "IPY_MODEL_87a91d1a157a437e85c13c34bc4defcd",
            "value": "0.010 MB of 0.010 MB uploaded (0.000 MB deduped)\r"
          }
        },
        "8e8cdcc8cd5546e8b8af85c1507411e6": {
          "model_module": "@jupyter-widgets/controls",
          "model_name": "FloatProgressModel",
          "model_module_version": "1.5.0",
          "state": {
            "_dom_classes": [],
            "_model_module": "@jupyter-widgets/controls",
            "_model_module_version": "1.5.0",
            "_model_name": "FloatProgressModel",
            "_view_count": null,
            "_view_module": "@jupyter-widgets/controls",
            "_view_module_version": "1.5.0",
            "_view_name": "ProgressView",
            "bar_style": "",
            "description": "",
            "description_tooltip": null,
            "layout": "IPY_MODEL_5846c8e14c0747c1a966a30ac7bd2895",
            "max": 1,
            "min": 0,
            "orientation": "horizontal",
            "style": "IPY_MODEL_a5fd17254e254bca977cd936542df37c",
            "value": 1
          }
        },
        "8929273479434e11ad5b7b40692d0cd8": {
          "model_module": "@jupyter-widgets/base",
          "model_name": "LayoutModel",
          "model_module_version": "1.2.0",
          "state": {
            "_model_module": "@jupyter-widgets/base",
            "_model_module_version": "1.2.0",
            "_model_name": "LayoutModel",
            "_view_count": null,
            "_view_module": "@jupyter-widgets/base",
            "_view_module_version": "1.2.0",
            "_view_name": "LayoutView",
            "align_content": null,
            "align_items": null,
            "align_self": null,
            "border": null,
            "bottom": null,
            "display": null,
            "flex": null,
            "flex_flow": null,
            "grid_area": null,
            "grid_auto_columns": null,
            "grid_auto_flow": null,
            "grid_auto_rows": null,
            "grid_column": null,
            "grid_gap": null,
            "grid_row": null,
            "grid_template_areas": null,
            "grid_template_columns": null,
            "grid_template_rows": null,
            "height": null,
            "justify_content": null,
            "justify_items": null,
            "left": null,
            "margin": null,
            "max_height": null,
            "max_width": null,
            "min_height": null,
            "min_width": null,
            "object_fit": null,
            "object_position": null,
            "order": null,
            "overflow": null,
            "overflow_x": null,
            "overflow_y": null,
            "padding": null,
            "right": null,
            "top": null,
            "visibility": null,
            "width": null
          }
        },
        "cee8dbd205d8456d947c47fc3d9adfb0": {
          "model_module": "@jupyter-widgets/base",
          "model_name": "LayoutModel",
          "model_module_version": "1.2.0",
          "state": {
            "_model_module": "@jupyter-widgets/base",
            "_model_module_version": "1.2.0",
            "_model_name": "LayoutModel",
            "_view_count": null,
            "_view_module": "@jupyter-widgets/base",
            "_view_module_version": "1.2.0",
            "_view_name": "LayoutView",
            "align_content": null,
            "align_items": null,
            "align_self": null,
            "border": null,
            "bottom": null,
            "display": null,
            "flex": null,
            "flex_flow": null,
            "grid_area": null,
            "grid_auto_columns": null,
            "grid_auto_flow": null,
            "grid_auto_rows": null,
            "grid_column": null,
            "grid_gap": null,
            "grid_row": null,
            "grid_template_areas": null,
            "grid_template_columns": null,
            "grid_template_rows": null,
            "height": null,
            "justify_content": null,
            "justify_items": null,
            "left": null,
            "margin": null,
            "max_height": null,
            "max_width": null,
            "min_height": null,
            "min_width": null,
            "object_fit": null,
            "object_position": null,
            "order": null,
            "overflow": null,
            "overflow_x": null,
            "overflow_y": null,
            "padding": null,
            "right": null,
            "top": null,
            "visibility": null,
            "width": null
          }
        },
        "87a91d1a157a437e85c13c34bc4defcd": {
          "model_module": "@jupyter-widgets/controls",
          "model_name": "DescriptionStyleModel",
          "model_module_version": "1.5.0",
          "state": {
            "_model_module": "@jupyter-widgets/controls",
            "_model_module_version": "1.5.0",
            "_model_name": "DescriptionStyleModel",
            "_view_count": null,
            "_view_module": "@jupyter-widgets/base",
            "_view_module_version": "1.2.0",
            "_view_name": "StyleView",
            "description_width": ""
          }
        },
        "5846c8e14c0747c1a966a30ac7bd2895": {
          "model_module": "@jupyter-widgets/base",
          "model_name": "LayoutModel",
          "model_module_version": "1.2.0",
          "state": {
            "_model_module": "@jupyter-widgets/base",
            "_model_module_version": "1.2.0",
            "_model_name": "LayoutModel",
            "_view_count": null,
            "_view_module": "@jupyter-widgets/base",
            "_view_module_version": "1.2.0",
            "_view_name": "LayoutView",
            "align_content": null,
            "align_items": null,
            "align_self": null,
            "border": null,
            "bottom": null,
            "display": null,
            "flex": null,
            "flex_flow": null,
            "grid_area": null,
            "grid_auto_columns": null,
            "grid_auto_flow": null,
            "grid_auto_rows": null,
            "grid_column": null,
            "grid_gap": null,
            "grid_row": null,
            "grid_template_areas": null,
            "grid_template_columns": null,
            "grid_template_rows": null,
            "height": null,
            "justify_content": null,
            "justify_items": null,
            "left": null,
            "margin": null,
            "max_height": null,
            "max_width": null,
            "min_height": null,
            "min_width": null,
            "object_fit": null,
            "object_position": null,
            "order": null,
            "overflow": null,
            "overflow_x": null,
            "overflow_y": null,
            "padding": null,
            "right": null,
            "top": null,
            "visibility": null,
            "width": null
          }
        },
        "a5fd17254e254bca977cd936542df37c": {
          "model_module": "@jupyter-widgets/controls",
          "model_name": "ProgressStyleModel",
          "model_module_version": "1.5.0",
          "state": {
            "_model_module": "@jupyter-widgets/controls",
            "_model_module_version": "1.5.0",
            "_model_name": "ProgressStyleModel",
            "_view_count": null,
            "_view_module": "@jupyter-widgets/base",
            "_view_module_version": "1.2.0",
            "_view_name": "StyleView",
            "bar_color": null,
            "description_width": ""
          }
        },
        "b62bfdd7b1444cc0810695aaf0061d84": {
          "model_module": "@jupyter-widgets/controls",
          "model_name": "VBoxModel",
          "model_module_version": "1.5.0",
          "state": {
            "_dom_classes": [],
            "_model_module": "@jupyter-widgets/controls",
            "_model_module_version": "1.5.0",
            "_model_name": "VBoxModel",
            "_view_count": null,
            "_view_module": "@jupyter-widgets/controls",
            "_view_module_version": "1.5.0",
            "_view_name": "VBoxView",
            "box_style": "",
            "children": [
              "IPY_MODEL_a236656835b54126bdd418d996f38ace",
              "IPY_MODEL_60823ae684774f689d49a727f11d19c1"
            ],
            "layout": "IPY_MODEL_6993407d10884a468a9a73384b72164b"
          }
        },
        "a236656835b54126bdd418d996f38ace": {
          "model_module": "@jupyter-widgets/controls",
          "model_name": "LabelModel",
          "model_module_version": "1.5.0",
          "state": {
            "_dom_classes": [],
            "_model_module": "@jupyter-widgets/controls",
            "_model_module_version": "1.5.0",
            "_model_name": "LabelModel",
            "_view_count": null,
            "_view_module": "@jupyter-widgets/controls",
            "_view_module_version": "1.5.0",
            "_view_name": "LabelView",
            "description": "",
            "description_tooltip": null,
            "layout": "IPY_MODEL_42e30f1550ef4c4bbf4f1d93a61a00cc",
            "placeholder": "​",
            "style": "IPY_MODEL_50f90062285643858d6e552a179a9c1d",
            "value": "0.010 MB of 0.010 MB uploaded (0.000 MB deduped)\r"
          }
        },
        "60823ae684774f689d49a727f11d19c1": {
          "model_module": "@jupyter-widgets/controls",
          "model_name": "FloatProgressModel",
          "model_module_version": "1.5.0",
          "state": {
            "_dom_classes": [],
            "_model_module": "@jupyter-widgets/controls",
            "_model_module_version": "1.5.0",
            "_model_name": "FloatProgressModel",
            "_view_count": null,
            "_view_module": "@jupyter-widgets/controls",
            "_view_module_version": "1.5.0",
            "_view_name": "ProgressView",
            "bar_style": "",
            "description": "",
            "description_tooltip": null,
            "layout": "IPY_MODEL_bd1e5bd56d744aafa7725f6bef8a6662",
            "max": 1,
            "min": 0,
            "orientation": "horizontal",
            "style": "IPY_MODEL_eef81d60b4034f76a9ff816b46675ffc",
            "value": 1
          }
        },
        "6993407d10884a468a9a73384b72164b": {
          "model_module": "@jupyter-widgets/base",
          "model_name": "LayoutModel",
          "model_module_version": "1.2.0",
          "state": {
            "_model_module": "@jupyter-widgets/base",
            "_model_module_version": "1.2.0",
            "_model_name": "LayoutModel",
            "_view_count": null,
            "_view_module": "@jupyter-widgets/base",
            "_view_module_version": "1.2.0",
            "_view_name": "LayoutView",
            "align_content": null,
            "align_items": null,
            "align_self": null,
            "border": null,
            "bottom": null,
            "display": null,
            "flex": null,
            "flex_flow": null,
            "grid_area": null,
            "grid_auto_columns": null,
            "grid_auto_flow": null,
            "grid_auto_rows": null,
            "grid_column": null,
            "grid_gap": null,
            "grid_row": null,
            "grid_template_areas": null,
            "grid_template_columns": null,
            "grid_template_rows": null,
            "height": null,
            "justify_content": null,
            "justify_items": null,
            "left": null,
            "margin": null,
            "max_height": null,
            "max_width": null,
            "min_height": null,
            "min_width": null,
            "object_fit": null,
            "object_position": null,
            "order": null,
            "overflow": null,
            "overflow_x": null,
            "overflow_y": null,
            "padding": null,
            "right": null,
            "top": null,
            "visibility": null,
            "width": null
          }
        },
        "42e30f1550ef4c4bbf4f1d93a61a00cc": {
          "model_module": "@jupyter-widgets/base",
          "model_name": "LayoutModel",
          "model_module_version": "1.2.0",
          "state": {
            "_model_module": "@jupyter-widgets/base",
            "_model_module_version": "1.2.0",
            "_model_name": "LayoutModel",
            "_view_count": null,
            "_view_module": "@jupyter-widgets/base",
            "_view_module_version": "1.2.0",
            "_view_name": "LayoutView",
            "align_content": null,
            "align_items": null,
            "align_self": null,
            "border": null,
            "bottom": null,
            "display": null,
            "flex": null,
            "flex_flow": null,
            "grid_area": null,
            "grid_auto_columns": null,
            "grid_auto_flow": null,
            "grid_auto_rows": null,
            "grid_column": null,
            "grid_gap": null,
            "grid_row": null,
            "grid_template_areas": null,
            "grid_template_columns": null,
            "grid_template_rows": null,
            "height": null,
            "justify_content": null,
            "justify_items": null,
            "left": null,
            "margin": null,
            "max_height": null,
            "max_width": null,
            "min_height": null,
            "min_width": null,
            "object_fit": null,
            "object_position": null,
            "order": null,
            "overflow": null,
            "overflow_x": null,
            "overflow_y": null,
            "padding": null,
            "right": null,
            "top": null,
            "visibility": null,
            "width": null
          }
        },
        "50f90062285643858d6e552a179a9c1d": {
          "model_module": "@jupyter-widgets/controls",
          "model_name": "DescriptionStyleModel",
          "model_module_version": "1.5.0",
          "state": {
            "_model_module": "@jupyter-widgets/controls",
            "_model_module_version": "1.5.0",
            "_model_name": "DescriptionStyleModel",
            "_view_count": null,
            "_view_module": "@jupyter-widgets/base",
            "_view_module_version": "1.2.0",
            "_view_name": "StyleView",
            "description_width": ""
          }
        },
        "bd1e5bd56d744aafa7725f6bef8a6662": {
          "model_module": "@jupyter-widgets/base",
          "model_name": "LayoutModel",
          "model_module_version": "1.2.0",
          "state": {
            "_model_module": "@jupyter-widgets/base",
            "_model_module_version": "1.2.0",
            "_model_name": "LayoutModel",
            "_view_count": null,
            "_view_module": "@jupyter-widgets/base",
            "_view_module_version": "1.2.0",
            "_view_name": "LayoutView",
            "align_content": null,
            "align_items": null,
            "align_self": null,
            "border": null,
            "bottom": null,
            "display": null,
            "flex": null,
            "flex_flow": null,
            "grid_area": null,
            "grid_auto_columns": null,
            "grid_auto_flow": null,
            "grid_auto_rows": null,
            "grid_column": null,
            "grid_gap": null,
            "grid_row": null,
            "grid_template_areas": null,
            "grid_template_columns": null,
            "grid_template_rows": null,
            "height": null,
            "justify_content": null,
            "justify_items": null,
            "left": null,
            "margin": null,
            "max_height": null,
            "max_width": null,
            "min_height": null,
            "min_width": null,
            "object_fit": null,
            "object_position": null,
            "order": null,
            "overflow": null,
            "overflow_x": null,
            "overflow_y": null,
            "padding": null,
            "right": null,
            "top": null,
            "visibility": null,
            "width": null
          }
        },
        "eef81d60b4034f76a9ff816b46675ffc": {
          "model_module": "@jupyter-widgets/controls",
          "model_name": "ProgressStyleModel",
          "model_module_version": "1.5.0",
          "state": {
            "_model_module": "@jupyter-widgets/controls",
            "_model_module_version": "1.5.0",
            "_model_name": "ProgressStyleModel",
            "_view_count": null,
            "_view_module": "@jupyter-widgets/base",
            "_view_module_version": "1.2.0",
            "_view_name": "StyleView",
            "bar_color": null,
            "description_width": ""
          }
        },
        "8bcea39a6c334625b7fed0d0f6ccc14d": {
          "model_module": "@jupyter-widgets/controls",
          "model_name": "VBoxModel",
          "model_module_version": "1.5.0",
          "state": {
            "_dom_classes": [],
            "_model_module": "@jupyter-widgets/controls",
            "_model_module_version": "1.5.0",
            "_model_name": "VBoxModel",
            "_view_count": null,
            "_view_module": "@jupyter-widgets/controls",
            "_view_module_version": "1.5.0",
            "_view_name": "VBoxView",
            "box_style": "",
            "children": [
              "IPY_MODEL_ebf597f771134beaa49923c25826aa5f",
              "IPY_MODEL_e72e20fdaee74027be22d59ceeb62d90"
            ],
            "layout": "IPY_MODEL_a4e4dc50307442e0bf6272d857e5cb0a"
          }
        },
        "ebf597f771134beaa49923c25826aa5f": {
          "model_module": "@jupyter-widgets/controls",
          "model_name": "LabelModel",
          "model_module_version": "1.5.0",
          "state": {
            "_dom_classes": [],
            "_model_module": "@jupyter-widgets/controls",
            "_model_module_version": "1.5.0",
            "_model_name": "LabelModel",
            "_view_count": null,
            "_view_module": "@jupyter-widgets/controls",
            "_view_module_version": "1.5.0",
            "_view_name": "LabelView",
            "description": "",
            "description_tooltip": null,
            "layout": "IPY_MODEL_552e52c1ddf74e16ae68baac2c73ab54",
            "placeholder": "​",
            "style": "IPY_MODEL_cb3fb9eec5e84687b6e5a07114be9545",
            "value": "0.010 MB of 0.010 MB uploaded (0.000 MB deduped)\r"
          }
        },
        "e72e20fdaee74027be22d59ceeb62d90": {
          "model_module": "@jupyter-widgets/controls",
          "model_name": "FloatProgressModel",
          "model_module_version": "1.5.0",
          "state": {
            "_dom_classes": [],
            "_model_module": "@jupyter-widgets/controls",
            "_model_module_version": "1.5.0",
            "_model_name": "FloatProgressModel",
            "_view_count": null,
            "_view_module": "@jupyter-widgets/controls",
            "_view_module_version": "1.5.0",
            "_view_name": "ProgressView",
            "bar_style": "",
            "description": "",
            "description_tooltip": null,
            "layout": "IPY_MODEL_eb707e06bd914e28a101d9d7f61ce535",
            "max": 1,
            "min": 0,
            "orientation": "horizontal",
            "style": "IPY_MODEL_5def2c686410440aaf51bc2b3faa615a",
            "value": 1
          }
        },
        "a4e4dc50307442e0bf6272d857e5cb0a": {
          "model_module": "@jupyter-widgets/base",
          "model_name": "LayoutModel",
          "model_module_version": "1.2.0",
          "state": {
            "_model_module": "@jupyter-widgets/base",
            "_model_module_version": "1.2.0",
            "_model_name": "LayoutModel",
            "_view_count": null,
            "_view_module": "@jupyter-widgets/base",
            "_view_module_version": "1.2.0",
            "_view_name": "LayoutView",
            "align_content": null,
            "align_items": null,
            "align_self": null,
            "border": null,
            "bottom": null,
            "display": null,
            "flex": null,
            "flex_flow": null,
            "grid_area": null,
            "grid_auto_columns": null,
            "grid_auto_flow": null,
            "grid_auto_rows": null,
            "grid_column": null,
            "grid_gap": null,
            "grid_row": null,
            "grid_template_areas": null,
            "grid_template_columns": null,
            "grid_template_rows": null,
            "height": null,
            "justify_content": null,
            "justify_items": null,
            "left": null,
            "margin": null,
            "max_height": null,
            "max_width": null,
            "min_height": null,
            "min_width": null,
            "object_fit": null,
            "object_position": null,
            "order": null,
            "overflow": null,
            "overflow_x": null,
            "overflow_y": null,
            "padding": null,
            "right": null,
            "top": null,
            "visibility": null,
            "width": null
          }
        },
        "552e52c1ddf74e16ae68baac2c73ab54": {
          "model_module": "@jupyter-widgets/base",
          "model_name": "LayoutModel",
          "model_module_version": "1.2.0",
          "state": {
            "_model_module": "@jupyter-widgets/base",
            "_model_module_version": "1.2.0",
            "_model_name": "LayoutModel",
            "_view_count": null,
            "_view_module": "@jupyter-widgets/base",
            "_view_module_version": "1.2.0",
            "_view_name": "LayoutView",
            "align_content": null,
            "align_items": null,
            "align_self": null,
            "border": null,
            "bottom": null,
            "display": null,
            "flex": null,
            "flex_flow": null,
            "grid_area": null,
            "grid_auto_columns": null,
            "grid_auto_flow": null,
            "grid_auto_rows": null,
            "grid_column": null,
            "grid_gap": null,
            "grid_row": null,
            "grid_template_areas": null,
            "grid_template_columns": null,
            "grid_template_rows": null,
            "height": null,
            "justify_content": null,
            "justify_items": null,
            "left": null,
            "margin": null,
            "max_height": null,
            "max_width": null,
            "min_height": null,
            "min_width": null,
            "object_fit": null,
            "object_position": null,
            "order": null,
            "overflow": null,
            "overflow_x": null,
            "overflow_y": null,
            "padding": null,
            "right": null,
            "top": null,
            "visibility": null,
            "width": null
          }
        },
        "cb3fb9eec5e84687b6e5a07114be9545": {
          "model_module": "@jupyter-widgets/controls",
          "model_name": "DescriptionStyleModel",
          "model_module_version": "1.5.0",
          "state": {
            "_model_module": "@jupyter-widgets/controls",
            "_model_module_version": "1.5.0",
            "_model_name": "DescriptionStyleModel",
            "_view_count": null,
            "_view_module": "@jupyter-widgets/base",
            "_view_module_version": "1.2.0",
            "_view_name": "StyleView",
            "description_width": ""
          }
        },
        "eb707e06bd914e28a101d9d7f61ce535": {
          "model_module": "@jupyter-widgets/base",
          "model_name": "LayoutModel",
          "model_module_version": "1.2.0",
          "state": {
            "_model_module": "@jupyter-widgets/base",
            "_model_module_version": "1.2.0",
            "_model_name": "LayoutModel",
            "_view_count": null,
            "_view_module": "@jupyter-widgets/base",
            "_view_module_version": "1.2.0",
            "_view_name": "LayoutView",
            "align_content": null,
            "align_items": null,
            "align_self": null,
            "border": null,
            "bottom": null,
            "display": null,
            "flex": null,
            "flex_flow": null,
            "grid_area": null,
            "grid_auto_columns": null,
            "grid_auto_flow": null,
            "grid_auto_rows": null,
            "grid_column": null,
            "grid_gap": null,
            "grid_row": null,
            "grid_template_areas": null,
            "grid_template_columns": null,
            "grid_template_rows": null,
            "height": null,
            "justify_content": null,
            "justify_items": null,
            "left": null,
            "margin": null,
            "max_height": null,
            "max_width": null,
            "min_height": null,
            "min_width": null,
            "object_fit": null,
            "object_position": null,
            "order": null,
            "overflow": null,
            "overflow_x": null,
            "overflow_y": null,
            "padding": null,
            "right": null,
            "top": null,
            "visibility": null,
            "width": null
          }
        },
        "5def2c686410440aaf51bc2b3faa615a": {
          "model_module": "@jupyter-widgets/controls",
          "model_name": "ProgressStyleModel",
          "model_module_version": "1.5.0",
          "state": {
            "_model_module": "@jupyter-widgets/controls",
            "_model_module_version": "1.5.0",
            "_model_name": "ProgressStyleModel",
            "_view_count": null,
            "_view_module": "@jupyter-widgets/base",
            "_view_module_version": "1.2.0",
            "_view_name": "StyleView",
            "bar_color": null,
            "description_width": ""
          }
        },
        "1e456af6dd044c6ab07dfe5c4516680e": {
          "model_module": "@jupyter-widgets/controls",
          "model_name": "VBoxModel",
          "model_module_version": "1.5.0",
          "state": {
            "_dom_classes": [],
            "_model_module": "@jupyter-widgets/controls",
            "_model_module_version": "1.5.0",
            "_model_name": "VBoxModel",
            "_view_count": null,
            "_view_module": "@jupyter-widgets/controls",
            "_view_module_version": "1.5.0",
            "_view_name": "VBoxView",
            "box_style": "",
            "children": [
              "IPY_MODEL_8a4fae06f0ca44208710e405b84b9b19",
              "IPY_MODEL_c3496484fd6a4982901c3f52f6fc2923"
            ],
            "layout": "IPY_MODEL_bc4061592b86440a804361f290548215"
          }
        },
        "8a4fae06f0ca44208710e405b84b9b19": {
          "model_module": "@jupyter-widgets/controls",
          "model_name": "LabelModel",
          "model_module_version": "1.5.0",
          "state": {
            "_dom_classes": [],
            "_model_module": "@jupyter-widgets/controls",
            "_model_module_version": "1.5.0",
            "_model_name": "LabelModel",
            "_view_count": null,
            "_view_module": "@jupyter-widgets/controls",
            "_view_module_version": "1.5.0",
            "_view_name": "LabelView",
            "description": "",
            "description_tooltip": null,
            "layout": "IPY_MODEL_08b663b88550422fbbb205c2be785404",
            "placeholder": "​",
            "style": "IPY_MODEL_2919812d799a46c381b54dfef5076f7e",
            "value": "0.010 MB of 0.010 MB uploaded (0.000 MB deduped)\r"
          }
        },
        "c3496484fd6a4982901c3f52f6fc2923": {
          "model_module": "@jupyter-widgets/controls",
          "model_name": "FloatProgressModel",
          "model_module_version": "1.5.0",
          "state": {
            "_dom_classes": [],
            "_model_module": "@jupyter-widgets/controls",
            "_model_module_version": "1.5.0",
            "_model_name": "FloatProgressModel",
            "_view_count": null,
            "_view_module": "@jupyter-widgets/controls",
            "_view_module_version": "1.5.0",
            "_view_name": "ProgressView",
            "bar_style": "",
            "description": "",
            "description_tooltip": null,
            "layout": "IPY_MODEL_4bb83d1f11054d8bb43956f921a083d1",
            "max": 1,
            "min": 0,
            "orientation": "horizontal",
            "style": "IPY_MODEL_b9e5d2c3da9b4cd4895deab689cf1b67",
            "value": 1
          }
        },
        "bc4061592b86440a804361f290548215": {
          "model_module": "@jupyter-widgets/base",
          "model_name": "LayoutModel",
          "model_module_version": "1.2.0",
          "state": {
            "_model_module": "@jupyter-widgets/base",
            "_model_module_version": "1.2.0",
            "_model_name": "LayoutModel",
            "_view_count": null,
            "_view_module": "@jupyter-widgets/base",
            "_view_module_version": "1.2.0",
            "_view_name": "LayoutView",
            "align_content": null,
            "align_items": null,
            "align_self": null,
            "border": null,
            "bottom": null,
            "display": null,
            "flex": null,
            "flex_flow": null,
            "grid_area": null,
            "grid_auto_columns": null,
            "grid_auto_flow": null,
            "grid_auto_rows": null,
            "grid_column": null,
            "grid_gap": null,
            "grid_row": null,
            "grid_template_areas": null,
            "grid_template_columns": null,
            "grid_template_rows": null,
            "height": null,
            "justify_content": null,
            "justify_items": null,
            "left": null,
            "margin": null,
            "max_height": null,
            "max_width": null,
            "min_height": null,
            "min_width": null,
            "object_fit": null,
            "object_position": null,
            "order": null,
            "overflow": null,
            "overflow_x": null,
            "overflow_y": null,
            "padding": null,
            "right": null,
            "top": null,
            "visibility": null,
            "width": null
          }
        },
        "08b663b88550422fbbb205c2be785404": {
          "model_module": "@jupyter-widgets/base",
          "model_name": "LayoutModel",
          "model_module_version": "1.2.0",
          "state": {
            "_model_module": "@jupyter-widgets/base",
            "_model_module_version": "1.2.0",
            "_model_name": "LayoutModel",
            "_view_count": null,
            "_view_module": "@jupyter-widgets/base",
            "_view_module_version": "1.2.0",
            "_view_name": "LayoutView",
            "align_content": null,
            "align_items": null,
            "align_self": null,
            "border": null,
            "bottom": null,
            "display": null,
            "flex": null,
            "flex_flow": null,
            "grid_area": null,
            "grid_auto_columns": null,
            "grid_auto_flow": null,
            "grid_auto_rows": null,
            "grid_column": null,
            "grid_gap": null,
            "grid_row": null,
            "grid_template_areas": null,
            "grid_template_columns": null,
            "grid_template_rows": null,
            "height": null,
            "justify_content": null,
            "justify_items": null,
            "left": null,
            "margin": null,
            "max_height": null,
            "max_width": null,
            "min_height": null,
            "min_width": null,
            "object_fit": null,
            "object_position": null,
            "order": null,
            "overflow": null,
            "overflow_x": null,
            "overflow_y": null,
            "padding": null,
            "right": null,
            "top": null,
            "visibility": null,
            "width": null
          }
        },
        "2919812d799a46c381b54dfef5076f7e": {
          "model_module": "@jupyter-widgets/controls",
          "model_name": "DescriptionStyleModel",
          "model_module_version": "1.5.0",
          "state": {
            "_model_module": "@jupyter-widgets/controls",
            "_model_module_version": "1.5.0",
            "_model_name": "DescriptionStyleModel",
            "_view_count": null,
            "_view_module": "@jupyter-widgets/base",
            "_view_module_version": "1.2.0",
            "_view_name": "StyleView",
            "description_width": ""
          }
        },
        "4bb83d1f11054d8bb43956f921a083d1": {
          "model_module": "@jupyter-widgets/base",
          "model_name": "LayoutModel",
          "model_module_version": "1.2.0",
          "state": {
            "_model_module": "@jupyter-widgets/base",
            "_model_module_version": "1.2.0",
            "_model_name": "LayoutModel",
            "_view_count": null,
            "_view_module": "@jupyter-widgets/base",
            "_view_module_version": "1.2.0",
            "_view_name": "LayoutView",
            "align_content": null,
            "align_items": null,
            "align_self": null,
            "border": null,
            "bottom": null,
            "display": null,
            "flex": null,
            "flex_flow": null,
            "grid_area": null,
            "grid_auto_columns": null,
            "grid_auto_flow": null,
            "grid_auto_rows": null,
            "grid_column": null,
            "grid_gap": null,
            "grid_row": null,
            "grid_template_areas": null,
            "grid_template_columns": null,
            "grid_template_rows": null,
            "height": null,
            "justify_content": null,
            "justify_items": null,
            "left": null,
            "margin": null,
            "max_height": null,
            "max_width": null,
            "min_height": null,
            "min_width": null,
            "object_fit": null,
            "object_position": null,
            "order": null,
            "overflow": null,
            "overflow_x": null,
            "overflow_y": null,
            "padding": null,
            "right": null,
            "top": null,
            "visibility": null,
            "width": null
          }
        },
        "b9e5d2c3da9b4cd4895deab689cf1b67": {
          "model_module": "@jupyter-widgets/controls",
          "model_name": "ProgressStyleModel",
          "model_module_version": "1.5.0",
          "state": {
            "_model_module": "@jupyter-widgets/controls",
            "_model_module_version": "1.5.0",
            "_model_name": "ProgressStyleModel",
            "_view_count": null,
            "_view_module": "@jupyter-widgets/base",
            "_view_module_version": "1.2.0",
            "_view_name": "StyleView",
            "bar_color": null,
            "description_width": ""
          }
        },
        "bf64b91c0d644bd19a13e43029c6aa4c": {
          "model_module": "@jupyter-widgets/controls",
          "model_name": "VBoxModel",
          "model_module_version": "1.5.0",
          "state": {
            "_dom_classes": [],
            "_model_module": "@jupyter-widgets/controls",
            "_model_module_version": "1.5.0",
            "_model_name": "VBoxModel",
            "_view_count": null,
            "_view_module": "@jupyter-widgets/controls",
            "_view_module_version": "1.5.0",
            "_view_name": "VBoxView",
            "box_style": "",
            "children": [
              "IPY_MODEL_29ef3b32c8ee4f809f35fd50fb951911",
              "IPY_MODEL_1a802926aca548419c37a81e4f0b2f24"
            ],
            "layout": "IPY_MODEL_ceed266411184942990ca999373bc501"
          }
        },
        "29ef3b32c8ee4f809f35fd50fb951911": {
          "model_module": "@jupyter-widgets/controls",
          "model_name": "LabelModel",
          "model_module_version": "1.5.0",
          "state": {
            "_dom_classes": [],
            "_model_module": "@jupyter-widgets/controls",
            "_model_module_version": "1.5.0",
            "_model_name": "LabelModel",
            "_view_count": null,
            "_view_module": "@jupyter-widgets/controls",
            "_view_module_version": "1.5.0",
            "_view_name": "LabelView",
            "description": "",
            "description_tooltip": null,
            "layout": "IPY_MODEL_062d21ae2ffd4910ae80aa2c1ebea385",
            "placeholder": "​",
            "style": "IPY_MODEL_15b27ccf39054bc19776934b5afb9c62",
            "value": "0.012 MB of 0.012 MB uploaded (0.000 MB deduped)\r"
          }
        },
        "1a802926aca548419c37a81e4f0b2f24": {
          "model_module": "@jupyter-widgets/controls",
          "model_name": "FloatProgressModel",
          "model_module_version": "1.5.0",
          "state": {
            "_dom_classes": [],
            "_model_module": "@jupyter-widgets/controls",
            "_model_module_version": "1.5.0",
            "_model_name": "FloatProgressModel",
            "_view_count": null,
            "_view_module": "@jupyter-widgets/controls",
            "_view_module_version": "1.5.0",
            "_view_name": "ProgressView",
            "bar_style": "",
            "description": "",
            "description_tooltip": null,
            "layout": "IPY_MODEL_dbe5b26b7af7409b9dea50e63ccf187d",
            "max": 1,
            "min": 0,
            "orientation": "horizontal",
            "style": "IPY_MODEL_e1de70cb24ee44efb71c8fdce7ddcce3",
            "value": 1
          }
        },
        "ceed266411184942990ca999373bc501": {
          "model_module": "@jupyter-widgets/base",
          "model_name": "LayoutModel",
          "model_module_version": "1.2.0",
          "state": {
            "_model_module": "@jupyter-widgets/base",
            "_model_module_version": "1.2.0",
            "_model_name": "LayoutModel",
            "_view_count": null,
            "_view_module": "@jupyter-widgets/base",
            "_view_module_version": "1.2.0",
            "_view_name": "LayoutView",
            "align_content": null,
            "align_items": null,
            "align_self": null,
            "border": null,
            "bottom": null,
            "display": null,
            "flex": null,
            "flex_flow": null,
            "grid_area": null,
            "grid_auto_columns": null,
            "grid_auto_flow": null,
            "grid_auto_rows": null,
            "grid_column": null,
            "grid_gap": null,
            "grid_row": null,
            "grid_template_areas": null,
            "grid_template_columns": null,
            "grid_template_rows": null,
            "height": null,
            "justify_content": null,
            "justify_items": null,
            "left": null,
            "margin": null,
            "max_height": null,
            "max_width": null,
            "min_height": null,
            "min_width": null,
            "object_fit": null,
            "object_position": null,
            "order": null,
            "overflow": null,
            "overflow_x": null,
            "overflow_y": null,
            "padding": null,
            "right": null,
            "top": null,
            "visibility": null,
            "width": null
          }
        },
        "062d21ae2ffd4910ae80aa2c1ebea385": {
          "model_module": "@jupyter-widgets/base",
          "model_name": "LayoutModel",
          "model_module_version": "1.2.0",
          "state": {
            "_model_module": "@jupyter-widgets/base",
            "_model_module_version": "1.2.0",
            "_model_name": "LayoutModel",
            "_view_count": null,
            "_view_module": "@jupyter-widgets/base",
            "_view_module_version": "1.2.0",
            "_view_name": "LayoutView",
            "align_content": null,
            "align_items": null,
            "align_self": null,
            "border": null,
            "bottom": null,
            "display": null,
            "flex": null,
            "flex_flow": null,
            "grid_area": null,
            "grid_auto_columns": null,
            "grid_auto_flow": null,
            "grid_auto_rows": null,
            "grid_column": null,
            "grid_gap": null,
            "grid_row": null,
            "grid_template_areas": null,
            "grid_template_columns": null,
            "grid_template_rows": null,
            "height": null,
            "justify_content": null,
            "justify_items": null,
            "left": null,
            "margin": null,
            "max_height": null,
            "max_width": null,
            "min_height": null,
            "min_width": null,
            "object_fit": null,
            "object_position": null,
            "order": null,
            "overflow": null,
            "overflow_x": null,
            "overflow_y": null,
            "padding": null,
            "right": null,
            "top": null,
            "visibility": null,
            "width": null
          }
        },
        "15b27ccf39054bc19776934b5afb9c62": {
          "model_module": "@jupyter-widgets/controls",
          "model_name": "DescriptionStyleModel",
          "model_module_version": "1.5.0",
          "state": {
            "_model_module": "@jupyter-widgets/controls",
            "_model_module_version": "1.5.0",
            "_model_name": "DescriptionStyleModel",
            "_view_count": null,
            "_view_module": "@jupyter-widgets/base",
            "_view_module_version": "1.2.0",
            "_view_name": "StyleView",
            "description_width": ""
          }
        },
        "dbe5b26b7af7409b9dea50e63ccf187d": {
          "model_module": "@jupyter-widgets/base",
          "model_name": "LayoutModel",
          "model_module_version": "1.2.0",
          "state": {
            "_model_module": "@jupyter-widgets/base",
            "_model_module_version": "1.2.0",
            "_model_name": "LayoutModel",
            "_view_count": null,
            "_view_module": "@jupyter-widgets/base",
            "_view_module_version": "1.2.0",
            "_view_name": "LayoutView",
            "align_content": null,
            "align_items": null,
            "align_self": null,
            "border": null,
            "bottom": null,
            "display": null,
            "flex": null,
            "flex_flow": null,
            "grid_area": null,
            "grid_auto_columns": null,
            "grid_auto_flow": null,
            "grid_auto_rows": null,
            "grid_column": null,
            "grid_gap": null,
            "grid_row": null,
            "grid_template_areas": null,
            "grid_template_columns": null,
            "grid_template_rows": null,
            "height": null,
            "justify_content": null,
            "justify_items": null,
            "left": null,
            "margin": null,
            "max_height": null,
            "max_width": null,
            "min_height": null,
            "min_width": null,
            "object_fit": null,
            "object_position": null,
            "order": null,
            "overflow": null,
            "overflow_x": null,
            "overflow_y": null,
            "padding": null,
            "right": null,
            "top": null,
            "visibility": null,
            "width": null
          }
        },
        "e1de70cb24ee44efb71c8fdce7ddcce3": {
          "model_module": "@jupyter-widgets/controls",
          "model_name": "ProgressStyleModel",
          "model_module_version": "1.5.0",
          "state": {
            "_model_module": "@jupyter-widgets/controls",
            "_model_module_version": "1.5.0",
            "_model_name": "ProgressStyleModel",
            "_view_count": null,
            "_view_module": "@jupyter-widgets/base",
            "_view_module_version": "1.2.0",
            "_view_name": "StyleView",
            "bar_color": null,
            "description_width": ""
          }
        },
        "40fea44658974812af81cbdcd221398d": {
          "model_module": "@jupyter-widgets/controls",
          "model_name": "VBoxModel",
          "model_module_version": "1.5.0",
          "state": {
            "_dom_classes": [],
            "_model_module": "@jupyter-widgets/controls",
            "_model_module_version": "1.5.0",
            "_model_name": "VBoxModel",
            "_view_count": null,
            "_view_module": "@jupyter-widgets/controls",
            "_view_module_version": "1.5.0",
            "_view_name": "VBoxView",
            "box_style": "",
            "children": [
              "IPY_MODEL_9040b512b5a04828831afef0e11bfb50",
              "IPY_MODEL_dd3a39d2f026433ab12b75c8148c4d58"
            ],
            "layout": "IPY_MODEL_6085cd27a734435e9a3e687849215768"
          }
        },
        "9040b512b5a04828831afef0e11bfb50": {
          "model_module": "@jupyter-widgets/controls",
          "model_name": "LabelModel",
          "model_module_version": "1.5.0",
          "state": {
            "_dom_classes": [],
            "_model_module": "@jupyter-widgets/controls",
            "_model_module_version": "1.5.0",
            "_model_name": "LabelModel",
            "_view_count": null,
            "_view_module": "@jupyter-widgets/controls",
            "_view_module_version": "1.5.0",
            "_view_name": "LabelView",
            "description": "",
            "description_tooltip": null,
            "layout": "IPY_MODEL_3a46a0e1e6ca46a29cb0979aadb5d7a1",
            "placeholder": "​",
            "style": "IPY_MODEL_d6aece5b7050452fb1eeaa35c2054215",
            "value": "0.012 MB of 0.012 MB uploaded (0.000 MB deduped)\r"
          }
        },
        "dd3a39d2f026433ab12b75c8148c4d58": {
          "model_module": "@jupyter-widgets/controls",
          "model_name": "FloatProgressModel",
          "model_module_version": "1.5.0",
          "state": {
            "_dom_classes": [],
            "_model_module": "@jupyter-widgets/controls",
            "_model_module_version": "1.5.0",
            "_model_name": "FloatProgressModel",
            "_view_count": null,
            "_view_module": "@jupyter-widgets/controls",
            "_view_module_version": "1.5.0",
            "_view_name": "ProgressView",
            "bar_style": "",
            "description": "",
            "description_tooltip": null,
            "layout": "IPY_MODEL_2aaa3804b08b4a97b0ad2d58595611ac",
            "max": 1,
            "min": 0,
            "orientation": "horizontal",
            "style": "IPY_MODEL_6f5e24ef73b04afb828a91e6114e4301",
            "value": 1
          }
        },
        "6085cd27a734435e9a3e687849215768": {
          "model_module": "@jupyter-widgets/base",
          "model_name": "LayoutModel",
          "model_module_version": "1.2.0",
          "state": {
            "_model_module": "@jupyter-widgets/base",
            "_model_module_version": "1.2.0",
            "_model_name": "LayoutModel",
            "_view_count": null,
            "_view_module": "@jupyter-widgets/base",
            "_view_module_version": "1.2.0",
            "_view_name": "LayoutView",
            "align_content": null,
            "align_items": null,
            "align_self": null,
            "border": null,
            "bottom": null,
            "display": null,
            "flex": null,
            "flex_flow": null,
            "grid_area": null,
            "grid_auto_columns": null,
            "grid_auto_flow": null,
            "grid_auto_rows": null,
            "grid_column": null,
            "grid_gap": null,
            "grid_row": null,
            "grid_template_areas": null,
            "grid_template_columns": null,
            "grid_template_rows": null,
            "height": null,
            "justify_content": null,
            "justify_items": null,
            "left": null,
            "margin": null,
            "max_height": null,
            "max_width": null,
            "min_height": null,
            "min_width": null,
            "object_fit": null,
            "object_position": null,
            "order": null,
            "overflow": null,
            "overflow_x": null,
            "overflow_y": null,
            "padding": null,
            "right": null,
            "top": null,
            "visibility": null,
            "width": null
          }
        },
        "3a46a0e1e6ca46a29cb0979aadb5d7a1": {
          "model_module": "@jupyter-widgets/base",
          "model_name": "LayoutModel",
          "model_module_version": "1.2.0",
          "state": {
            "_model_module": "@jupyter-widgets/base",
            "_model_module_version": "1.2.0",
            "_model_name": "LayoutModel",
            "_view_count": null,
            "_view_module": "@jupyter-widgets/base",
            "_view_module_version": "1.2.0",
            "_view_name": "LayoutView",
            "align_content": null,
            "align_items": null,
            "align_self": null,
            "border": null,
            "bottom": null,
            "display": null,
            "flex": null,
            "flex_flow": null,
            "grid_area": null,
            "grid_auto_columns": null,
            "grid_auto_flow": null,
            "grid_auto_rows": null,
            "grid_column": null,
            "grid_gap": null,
            "grid_row": null,
            "grid_template_areas": null,
            "grid_template_columns": null,
            "grid_template_rows": null,
            "height": null,
            "justify_content": null,
            "justify_items": null,
            "left": null,
            "margin": null,
            "max_height": null,
            "max_width": null,
            "min_height": null,
            "min_width": null,
            "object_fit": null,
            "object_position": null,
            "order": null,
            "overflow": null,
            "overflow_x": null,
            "overflow_y": null,
            "padding": null,
            "right": null,
            "top": null,
            "visibility": null,
            "width": null
          }
        },
        "d6aece5b7050452fb1eeaa35c2054215": {
          "model_module": "@jupyter-widgets/controls",
          "model_name": "DescriptionStyleModel",
          "model_module_version": "1.5.0",
          "state": {
            "_model_module": "@jupyter-widgets/controls",
            "_model_module_version": "1.5.0",
            "_model_name": "DescriptionStyleModel",
            "_view_count": null,
            "_view_module": "@jupyter-widgets/base",
            "_view_module_version": "1.2.0",
            "_view_name": "StyleView",
            "description_width": ""
          }
        },
        "2aaa3804b08b4a97b0ad2d58595611ac": {
          "model_module": "@jupyter-widgets/base",
          "model_name": "LayoutModel",
          "model_module_version": "1.2.0",
          "state": {
            "_model_module": "@jupyter-widgets/base",
            "_model_module_version": "1.2.0",
            "_model_name": "LayoutModel",
            "_view_count": null,
            "_view_module": "@jupyter-widgets/base",
            "_view_module_version": "1.2.0",
            "_view_name": "LayoutView",
            "align_content": null,
            "align_items": null,
            "align_self": null,
            "border": null,
            "bottom": null,
            "display": null,
            "flex": null,
            "flex_flow": null,
            "grid_area": null,
            "grid_auto_columns": null,
            "grid_auto_flow": null,
            "grid_auto_rows": null,
            "grid_column": null,
            "grid_gap": null,
            "grid_row": null,
            "grid_template_areas": null,
            "grid_template_columns": null,
            "grid_template_rows": null,
            "height": null,
            "justify_content": null,
            "justify_items": null,
            "left": null,
            "margin": null,
            "max_height": null,
            "max_width": null,
            "min_height": null,
            "min_width": null,
            "object_fit": null,
            "object_position": null,
            "order": null,
            "overflow": null,
            "overflow_x": null,
            "overflow_y": null,
            "padding": null,
            "right": null,
            "top": null,
            "visibility": null,
            "width": null
          }
        },
        "6f5e24ef73b04afb828a91e6114e4301": {
          "model_module": "@jupyter-widgets/controls",
          "model_name": "ProgressStyleModel",
          "model_module_version": "1.5.0",
          "state": {
            "_model_module": "@jupyter-widgets/controls",
            "_model_module_version": "1.5.0",
            "_model_name": "ProgressStyleModel",
            "_view_count": null,
            "_view_module": "@jupyter-widgets/base",
            "_view_module_version": "1.2.0",
            "_view_name": "StyleView",
            "bar_color": null,
            "description_width": ""
          }
        },
        "bd1b1cbf15a94a15a8f9822c4744f912": {
          "model_module": "@jupyter-widgets/controls",
          "model_name": "VBoxModel",
          "model_module_version": "1.5.0",
          "state": {
            "_dom_classes": [],
            "_model_module": "@jupyter-widgets/controls",
            "_model_module_version": "1.5.0",
            "_model_name": "VBoxModel",
            "_view_count": null,
            "_view_module": "@jupyter-widgets/controls",
            "_view_module_version": "1.5.0",
            "_view_name": "VBoxView",
            "box_style": "",
            "children": [
              "IPY_MODEL_2b246080dfa542ebbd8178bfe861df05",
              "IPY_MODEL_d1d16c02ada5409ab750982bd1b8c3b4"
            ],
            "layout": "IPY_MODEL_ae74044471d94b5ea9f312466c0b20d9"
          }
        },
        "2b246080dfa542ebbd8178bfe861df05": {
          "model_module": "@jupyter-widgets/controls",
          "model_name": "LabelModel",
          "model_module_version": "1.5.0",
          "state": {
            "_dom_classes": [],
            "_model_module": "@jupyter-widgets/controls",
            "_model_module_version": "1.5.0",
            "_model_name": "LabelModel",
            "_view_count": null,
            "_view_module": "@jupyter-widgets/controls",
            "_view_module_version": "1.5.0",
            "_view_name": "LabelView",
            "description": "",
            "description_tooltip": null,
            "layout": "IPY_MODEL_2966e41b7c4b48c4802b0e28fafe3122",
            "placeholder": "​",
            "style": "IPY_MODEL_172abb417beb42228da0e4b6632cd4b3",
            "value": "0.012 MB of 0.012 MB uploaded (0.000 MB deduped)\r"
          }
        },
        "d1d16c02ada5409ab750982bd1b8c3b4": {
          "model_module": "@jupyter-widgets/controls",
          "model_name": "FloatProgressModel",
          "model_module_version": "1.5.0",
          "state": {
            "_dom_classes": [],
            "_model_module": "@jupyter-widgets/controls",
            "_model_module_version": "1.5.0",
            "_model_name": "FloatProgressModel",
            "_view_count": null,
            "_view_module": "@jupyter-widgets/controls",
            "_view_module_version": "1.5.0",
            "_view_name": "ProgressView",
            "bar_style": "",
            "description": "",
            "description_tooltip": null,
            "layout": "IPY_MODEL_d19683e5c59e42fc8b8260fea3d8bf9e",
            "max": 1,
            "min": 0,
            "orientation": "horizontal",
            "style": "IPY_MODEL_93fac3a8abc5439e8dc3cd69cf1c17a2",
            "value": 1
          }
        },
        "ae74044471d94b5ea9f312466c0b20d9": {
          "model_module": "@jupyter-widgets/base",
          "model_name": "LayoutModel",
          "model_module_version": "1.2.0",
          "state": {
            "_model_module": "@jupyter-widgets/base",
            "_model_module_version": "1.2.0",
            "_model_name": "LayoutModel",
            "_view_count": null,
            "_view_module": "@jupyter-widgets/base",
            "_view_module_version": "1.2.0",
            "_view_name": "LayoutView",
            "align_content": null,
            "align_items": null,
            "align_self": null,
            "border": null,
            "bottom": null,
            "display": null,
            "flex": null,
            "flex_flow": null,
            "grid_area": null,
            "grid_auto_columns": null,
            "grid_auto_flow": null,
            "grid_auto_rows": null,
            "grid_column": null,
            "grid_gap": null,
            "grid_row": null,
            "grid_template_areas": null,
            "grid_template_columns": null,
            "grid_template_rows": null,
            "height": null,
            "justify_content": null,
            "justify_items": null,
            "left": null,
            "margin": null,
            "max_height": null,
            "max_width": null,
            "min_height": null,
            "min_width": null,
            "object_fit": null,
            "object_position": null,
            "order": null,
            "overflow": null,
            "overflow_x": null,
            "overflow_y": null,
            "padding": null,
            "right": null,
            "top": null,
            "visibility": null,
            "width": null
          }
        },
        "2966e41b7c4b48c4802b0e28fafe3122": {
          "model_module": "@jupyter-widgets/base",
          "model_name": "LayoutModel",
          "model_module_version": "1.2.0",
          "state": {
            "_model_module": "@jupyter-widgets/base",
            "_model_module_version": "1.2.0",
            "_model_name": "LayoutModel",
            "_view_count": null,
            "_view_module": "@jupyter-widgets/base",
            "_view_module_version": "1.2.0",
            "_view_name": "LayoutView",
            "align_content": null,
            "align_items": null,
            "align_self": null,
            "border": null,
            "bottom": null,
            "display": null,
            "flex": null,
            "flex_flow": null,
            "grid_area": null,
            "grid_auto_columns": null,
            "grid_auto_flow": null,
            "grid_auto_rows": null,
            "grid_column": null,
            "grid_gap": null,
            "grid_row": null,
            "grid_template_areas": null,
            "grid_template_columns": null,
            "grid_template_rows": null,
            "height": null,
            "justify_content": null,
            "justify_items": null,
            "left": null,
            "margin": null,
            "max_height": null,
            "max_width": null,
            "min_height": null,
            "min_width": null,
            "object_fit": null,
            "object_position": null,
            "order": null,
            "overflow": null,
            "overflow_x": null,
            "overflow_y": null,
            "padding": null,
            "right": null,
            "top": null,
            "visibility": null,
            "width": null
          }
        },
        "172abb417beb42228da0e4b6632cd4b3": {
          "model_module": "@jupyter-widgets/controls",
          "model_name": "DescriptionStyleModel",
          "model_module_version": "1.5.0",
          "state": {
            "_model_module": "@jupyter-widgets/controls",
            "_model_module_version": "1.5.0",
            "_model_name": "DescriptionStyleModel",
            "_view_count": null,
            "_view_module": "@jupyter-widgets/base",
            "_view_module_version": "1.2.0",
            "_view_name": "StyleView",
            "description_width": ""
          }
        },
        "d19683e5c59e42fc8b8260fea3d8bf9e": {
          "model_module": "@jupyter-widgets/base",
          "model_name": "LayoutModel",
          "model_module_version": "1.2.0",
          "state": {
            "_model_module": "@jupyter-widgets/base",
            "_model_module_version": "1.2.0",
            "_model_name": "LayoutModel",
            "_view_count": null,
            "_view_module": "@jupyter-widgets/base",
            "_view_module_version": "1.2.0",
            "_view_name": "LayoutView",
            "align_content": null,
            "align_items": null,
            "align_self": null,
            "border": null,
            "bottom": null,
            "display": null,
            "flex": null,
            "flex_flow": null,
            "grid_area": null,
            "grid_auto_columns": null,
            "grid_auto_flow": null,
            "grid_auto_rows": null,
            "grid_column": null,
            "grid_gap": null,
            "grid_row": null,
            "grid_template_areas": null,
            "grid_template_columns": null,
            "grid_template_rows": null,
            "height": null,
            "justify_content": null,
            "justify_items": null,
            "left": null,
            "margin": null,
            "max_height": null,
            "max_width": null,
            "min_height": null,
            "min_width": null,
            "object_fit": null,
            "object_position": null,
            "order": null,
            "overflow": null,
            "overflow_x": null,
            "overflow_y": null,
            "padding": null,
            "right": null,
            "top": null,
            "visibility": null,
            "width": null
          }
        },
        "93fac3a8abc5439e8dc3cd69cf1c17a2": {
          "model_module": "@jupyter-widgets/controls",
          "model_name": "ProgressStyleModel",
          "model_module_version": "1.5.0",
          "state": {
            "_model_module": "@jupyter-widgets/controls",
            "_model_module_version": "1.5.0",
            "_model_name": "ProgressStyleModel",
            "_view_count": null,
            "_view_module": "@jupyter-widgets/base",
            "_view_module_version": "1.2.0",
            "_view_name": "StyleView",
            "bar_color": null,
            "description_width": ""
          }
        },
        "8812ce5b3a6c4ac081ac789eed588db1": {
          "model_module": "@jupyter-widgets/controls",
          "model_name": "VBoxModel",
          "model_module_version": "1.5.0",
          "state": {
            "_dom_classes": [],
            "_model_module": "@jupyter-widgets/controls",
            "_model_module_version": "1.5.0",
            "_model_name": "VBoxModel",
            "_view_count": null,
            "_view_module": "@jupyter-widgets/controls",
            "_view_module_version": "1.5.0",
            "_view_name": "VBoxView",
            "box_style": "",
            "children": [
              "IPY_MODEL_342fd11434da496a97f4d4f14353d79b",
              "IPY_MODEL_0b021cf6391745f28accfeff4f107435"
            ],
            "layout": "IPY_MODEL_db1da7cd5dea4030bc8d6738fe8e1d09"
          }
        },
        "342fd11434da496a97f4d4f14353d79b": {
          "model_module": "@jupyter-widgets/controls",
          "model_name": "LabelModel",
          "model_module_version": "1.5.0",
          "state": {
            "_dom_classes": [],
            "_model_module": "@jupyter-widgets/controls",
            "_model_module_version": "1.5.0",
            "_model_name": "LabelModel",
            "_view_count": null,
            "_view_module": "@jupyter-widgets/controls",
            "_view_module_version": "1.5.0",
            "_view_name": "LabelView",
            "description": "",
            "description_tooltip": null,
            "layout": "IPY_MODEL_e5c442084cd541c7b383d3ecb0dae0ef",
            "placeholder": "​",
            "style": "IPY_MODEL_251968e6a21f420caf67b0fb7fe0c7fd",
            "value": "Waiting for wandb.init()...\r"
          }
        },
        "0b021cf6391745f28accfeff4f107435": {
          "model_module": "@jupyter-widgets/controls",
          "model_name": "FloatProgressModel",
          "model_module_version": "1.5.0",
          "state": {
            "_dom_classes": [],
            "_model_module": "@jupyter-widgets/controls",
            "_model_module_version": "1.5.0",
            "_model_name": "FloatProgressModel",
            "_view_count": null,
            "_view_module": "@jupyter-widgets/controls",
            "_view_module_version": "1.5.0",
            "_view_name": "ProgressView",
            "bar_style": "",
            "description": "",
            "description_tooltip": null,
            "layout": "IPY_MODEL_2a6a30908439476dbd84b2502861f6b6",
            "max": 1,
            "min": 0,
            "orientation": "horizontal",
            "style": "IPY_MODEL_5eb365032b784e1e9147197b1c8e449d",
            "value": 1
          }
        },
        "db1da7cd5dea4030bc8d6738fe8e1d09": {
          "model_module": "@jupyter-widgets/base",
          "model_name": "LayoutModel",
          "model_module_version": "1.2.0",
          "state": {
            "_model_module": "@jupyter-widgets/base",
            "_model_module_version": "1.2.0",
            "_model_name": "LayoutModel",
            "_view_count": null,
            "_view_module": "@jupyter-widgets/base",
            "_view_module_version": "1.2.0",
            "_view_name": "LayoutView",
            "align_content": null,
            "align_items": null,
            "align_self": null,
            "border": null,
            "bottom": null,
            "display": null,
            "flex": null,
            "flex_flow": null,
            "grid_area": null,
            "grid_auto_columns": null,
            "grid_auto_flow": null,
            "grid_auto_rows": null,
            "grid_column": null,
            "grid_gap": null,
            "grid_row": null,
            "grid_template_areas": null,
            "grid_template_columns": null,
            "grid_template_rows": null,
            "height": null,
            "justify_content": null,
            "justify_items": null,
            "left": null,
            "margin": null,
            "max_height": null,
            "max_width": null,
            "min_height": null,
            "min_width": null,
            "object_fit": null,
            "object_position": null,
            "order": null,
            "overflow": null,
            "overflow_x": null,
            "overflow_y": null,
            "padding": null,
            "right": null,
            "top": null,
            "visibility": null,
            "width": null
          }
        },
        "e5c442084cd541c7b383d3ecb0dae0ef": {
          "model_module": "@jupyter-widgets/base",
          "model_name": "LayoutModel",
          "model_module_version": "1.2.0",
          "state": {
            "_model_module": "@jupyter-widgets/base",
            "_model_module_version": "1.2.0",
            "_model_name": "LayoutModel",
            "_view_count": null,
            "_view_module": "@jupyter-widgets/base",
            "_view_module_version": "1.2.0",
            "_view_name": "LayoutView",
            "align_content": null,
            "align_items": null,
            "align_self": null,
            "border": null,
            "bottom": null,
            "display": null,
            "flex": null,
            "flex_flow": null,
            "grid_area": null,
            "grid_auto_columns": null,
            "grid_auto_flow": null,
            "grid_auto_rows": null,
            "grid_column": null,
            "grid_gap": null,
            "grid_row": null,
            "grid_template_areas": null,
            "grid_template_columns": null,
            "grid_template_rows": null,
            "height": null,
            "justify_content": null,
            "justify_items": null,
            "left": null,
            "margin": null,
            "max_height": null,
            "max_width": null,
            "min_height": null,
            "min_width": null,
            "object_fit": null,
            "object_position": null,
            "order": null,
            "overflow": null,
            "overflow_x": null,
            "overflow_y": null,
            "padding": null,
            "right": null,
            "top": null,
            "visibility": null,
            "width": null
          }
        },
        "251968e6a21f420caf67b0fb7fe0c7fd": {
          "model_module": "@jupyter-widgets/controls",
          "model_name": "DescriptionStyleModel",
          "model_module_version": "1.5.0",
          "state": {
            "_model_module": "@jupyter-widgets/controls",
            "_model_module_version": "1.5.0",
            "_model_name": "DescriptionStyleModel",
            "_view_count": null,
            "_view_module": "@jupyter-widgets/base",
            "_view_module_version": "1.2.0",
            "_view_name": "StyleView",
            "description_width": ""
          }
        },
        "2a6a30908439476dbd84b2502861f6b6": {
          "model_module": "@jupyter-widgets/base",
          "model_name": "LayoutModel",
          "model_module_version": "1.2.0",
          "state": {
            "_model_module": "@jupyter-widgets/base",
            "_model_module_version": "1.2.0",
            "_model_name": "LayoutModel",
            "_view_count": null,
            "_view_module": "@jupyter-widgets/base",
            "_view_module_version": "1.2.0",
            "_view_name": "LayoutView",
            "align_content": null,
            "align_items": null,
            "align_self": null,
            "border": null,
            "bottom": null,
            "display": null,
            "flex": null,
            "flex_flow": null,
            "grid_area": null,
            "grid_auto_columns": null,
            "grid_auto_flow": null,
            "grid_auto_rows": null,
            "grid_column": null,
            "grid_gap": null,
            "grid_row": null,
            "grid_template_areas": null,
            "grid_template_columns": null,
            "grid_template_rows": null,
            "height": null,
            "justify_content": null,
            "justify_items": null,
            "left": null,
            "margin": null,
            "max_height": null,
            "max_width": null,
            "min_height": null,
            "min_width": null,
            "object_fit": null,
            "object_position": null,
            "order": null,
            "overflow": null,
            "overflow_x": null,
            "overflow_y": null,
            "padding": null,
            "right": null,
            "top": null,
            "visibility": null,
            "width": null
          }
        },
        "5eb365032b784e1e9147197b1c8e449d": {
          "model_module": "@jupyter-widgets/controls",
          "model_name": "ProgressStyleModel",
          "model_module_version": "1.5.0",
          "state": {
            "_model_module": "@jupyter-widgets/controls",
            "_model_module_version": "1.5.0",
            "_model_name": "ProgressStyleModel",
            "_view_count": null,
            "_view_module": "@jupyter-widgets/base",
            "_view_module_version": "1.2.0",
            "_view_name": "StyleView",
            "bar_color": null,
            "description_width": ""
          }
        },
        "f80fd2cfc2084acca8c86193287b9848": {
          "model_module": "@jupyter-widgets/controls",
          "model_name": "VBoxModel",
          "model_module_version": "1.5.0",
          "state": {
            "_dom_classes": [],
            "_model_module": "@jupyter-widgets/controls",
            "_model_module_version": "1.5.0",
            "_model_name": "VBoxModel",
            "_view_count": null,
            "_view_module": "@jupyter-widgets/controls",
            "_view_module_version": "1.5.0",
            "_view_name": "VBoxView",
            "box_style": "",
            "children": [
              "IPY_MODEL_ae083594f57f494e943e9cecc7c0fddf",
              "IPY_MODEL_c8d6433c2a654c8ab225186a832c94cb"
            ],
            "layout": "IPY_MODEL_cd66d5412f0745e9b70262760b4934c1"
          }
        },
        "ae083594f57f494e943e9cecc7c0fddf": {
          "model_module": "@jupyter-widgets/controls",
          "model_name": "LabelModel",
          "model_module_version": "1.5.0",
          "state": {
            "_dom_classes": [],
            "_model_module": "@jupyter-widgets/controls",
            "_model_module_version": "1.5.0",
            "_model_name": "LabelModel",
            "_view_count": null,
            "_view_module": "@jupyter-widgets/controls",
            "_view_module_version": "1.5.0",
            "_view_name": "LabelView",
            "description": "",
            "description_tooltip": null,
            "layout": "IPY_MODEL_def9454a740044f0b8de0aef48bcedfd",
            "placeholder": "​",
            "style": "IPY_MODEL_2e0ed066da004895900115586b29fd3f",
            "value": "0.012 MB of 0.012 MB uploaded (0.000 MB deduped)\r"
          }
        },
        "c8d6433c2a654c8ab225186a832c94cb": {
          "model_module": "@jupyter-widgets/controls",
          "model_name": "FloatProgressModel",
          "model_module_version": "1.5.0",
          "state": {
            "_dom_classes": [],
            "_model_module": "@jupyter-widgets/controls",
            "_model_module_version": "1.5.0",
            "_model_name": "FloatProgressModel",
            "_view_count": null,
            "_view_module": "@jupyter-widgets/controls",
            "_view_module_version": "1.5.0",
            "_view_name": "ProgressView",
            "bar_style": "",
            "description": "",
            "description_tooltip": null,
            "layout": "IPY_MODEL_1cbe2d90c2ff43248919e13445945518",
            "max": 1,
            "min": 0,
            "orientation": "horizontal",
            "style": "IPY_MODEL_a268b97b8e8947fd9a5bb1a3d558f87e",
            "value": 1
          }
        },
        "cd66d5412f0745e9b70262760b4934c1": {
          "model_module": "@jupyter-widgets/base",
          "model_name": "LayoutModel",
          "model_module_version": "1.2.0",
          "state": {
            "_model_module": "@jupyter-widgets/base",
            "_model_module_version": "1.2.0",
            "_model_name": "LayoutModel",
            "_view_count": null,
            "_view_module": "@jupyter-widgets/base",
            "_view_module_version": "1.2.0",
            "_view_name": "LayoutView",
            "align_content": null,
            "align_items": null,
            "align_self": null,
            "border": null,
            "bottom": null,
            "display": null,
            "flex": null,
            "flex_flow": null,
            "grid_area": null,
            "grid_auto_columns": null,
            "grid_auto_flow": null,
            "grid_auto_rows": null,
            "grid_column": null,
            "grid_gap": null,
            "grid_row": null,
            "grid_template_areas": null,
            "grid_template_columns": null,
            "grid_template_rows": null,
            "height": null,
            "justify_content": null,
            "justify_items": null,
            "left": null,
            "margin": null,
            "max_height": null,
            "max_width": null,
            "min_height": null,
            "min_width": null,
            "object_fit": null,
            "object_position": null,
            "order": null,
            "overflow": null,
            "overflow_x": null,
            "overflow_y": null,
            "padding": null,
            "right": null,
            "top": null,
            "visibility": null,
            "width": null
          }
        },
        "def9454a740044f0b8de0aef48bcedfd": {
          "model_module": "@jupyter-widgets/base",
          "model_name": "LayoutModel",
          "model_module_version": "1.2.0",
          "state": {
            "_model_module": "@jupyter-widgets/base",
            "_model_module_version": "1.2.0",
            "_model_name": "LayoutModel",
            "_view_count": null,
            "_view_module": "@jupyter-widgets/base",
            "_view_module_version": "1.2.0",
            "_view_name": "LayoutView",
            "align_content": null,
            "align_items": null,
            "align_self": null,
            "border": null,
            "bottom": null,
            "display": null,
            "flex": null,
            "flex_flow": null,
            "grid_area": null,
            "grid_auto_columns": null,
            "grid_auto_flow": null,
            "grid_auto_rows": null,
            "grid_column": null,
            "grid_gap": null,
            "grid_row": null,
            "grid_template_areas": null,
            "grid_template_columns": null,
            "grid_template_rows": null,
            "height": null,
            "justify_content": null,
            "justify_items": null,
            "left": null,
            "margin": null,
            "max_height": null,
            "max_width": null,
            "min_height": null,
            "min_width": null,
            "object_fit": null,
            "object_position": null,
            "order": null,
            "overflow": null,
            "overflow_x": null,
            "overflow_y": null,
            "padding": null,
            "right": null,
            "top": null,
            "visibility": null,
            "width": null
          }
        },
        "2e0ed066da004895900115586b29fd3f": {
          "model_module": "@jupyter-widgets/controls",
          "model_name": "DescriptionStyleModel",
          "model_module_version": "1.5.0",
          "state": {
            "_model_module": "@jupyter-widgets/controls",
            "_model_module_version": "1.5.0",
            "_model_name": "DescriptionStyleModel",
            "_view_count": null,
            "_view_module": "@jupyter-widgets/base",
            "_view_module_version": "1.2.0",
            "_view_name": "StyleView",
            "description_width": ""
          }
        },
        "1cbe2d90c2ff43248919e13445945518": {
          "model_module": "@jupyter-widgets/base",
          "model_name": "LayoutModel",
          "model_module_version": "1.2.0",
          "state": {
            "_model_module": "@jupyter-widgets/base",
            "_model_module_version": "1.2.0",
            "_model_name": "LayoutModel",
            "_view_count": null,
            "_view_module": "@jupyter-widgets/base",
            "_view_module_version": "1.2.0",
            "_view_name": "LayoutView",
            "align_content": null,
            "align_items": null,
            "align_self": null,
            "border": null,
            "bottom": null,
            "display": null,
            "flex": null,
            "flex_flow": null,
            "grid_area": null,
            "grid_auto_columns": null,
            "grid_auto_flow": null,
            "grid_auto_rows": null,
            "grid_column": null,
            "grid_gap": null,
            "grid_row": null,
            "grid_template_areas": null,
            "grid_template_columns": null,
            "grid_template_rows": null,
            "height": null,
            "justify_content": null,
            "justify_items": null,
            "left": null,
            "margin": null,
            "max_height": null,
            "max_width": null,
            "min_height": null,
            "min_width": null,
            "object_fit": null,
            "object_position": null,
            "order": null,
            "overflow": null,
            "overflow_x": null,
            "overflow_y": null,
            "padding": null,
            "right": null,
            "top": null,
            "visibility": null,
            "width": null
          }
        },
        "a268b97b8e8947fd9a5bb1a3d558f87e": {
          "model_module": "@jupyter-widgets/controls",
          "model_name": "ProgressStyleModel",
          "model_module_version": "1.5.0",
          "state": {
            "_model_module": "@jupyter-widgets/controls",
            "_model_module_version": "1.5.0",
            "_model_name": "ProgressStyleModel",
            "_view_count": null,
            "_view_module": "@jupyter-widgets/base",
            "_view_module_version": "1.2.0",
            "_view_name": "StyleView",
            "bar_color": null,
            "description_width": ""
          }
        },
        "e74499d0151041769714b349eaceb12e": {
          "model_module": "@jupyter-widgets/controls",
          "model_name": "VBoxModel",
          "model_module_version": "1.5.0",
          "state": {
            "_dom_classes": [],
            "_model_module": "@jupyter-widgets/controls",
            "_model_module_version": "1.5.0",
            "_model_name": "VBoxModel",
            "_view_count": null,
            "_view_module": "@jupyter-widgets/controls",
            "_view_module_version": "1.5.0",
            "_view_name": "VBoxView",
            "box_style": "",
            "children": [
              "IPY_MODEL_bbd5f0f442f14662b79c94f507b58ffc",
              "IPY_MODEL_5440e9611c2542868553ea0701a0c866"
            ],
            "layout": "IPY_MODEL_e72eace71fc94b45b1281091215ccbf2"
          }
        },
        "bbd5f0f442f14662b79c94f507b58ffc": {
          "model_module": "@jupyter-widgets/controls",
          "model_name": "LabelModel",
          "model_module_version": "1.5.0",
          "state": {
            "_dom_classes": [],
            "_model_module": "@jupyter-widgets/controls",
            "_model_module_version": "1.5.0",
            "_model_name": "LabelModel",
            "_view_count": null,
            "_view_module": "@jupyter-widgets/controls",
            "_view_module_version": "1.5.0",
            "_view_name": "LabelView",
            "description": "",
            "description_tooltip": null,
            "layout": "IPY_MODEL_4a55320538f84208a2b9196f0ed343f6",
            "placeholder": "​",
            "style": "IPY_MODEL_15313d0f476547f49b2b675f1fcc1663",
            "value": "0.012 MB of 0.012 MB uploaded (0.000 MB deduped)\r"
          }
        },
        "5440e9611c2542868553ea0701a0c866": {
          "model_module": "@jupyter-widgets/controls",
          "model_name": "FloatProgressModel",
          "model_module_version": "1.5.0",
          "state": {
            "_dom_classes": [],
            "_model_module": "@jupyter-widgets/controls",
            "_model_module_version": "1.5.0",
            "_model_name": "FloatProgressModel",
            "_view_count": null,
            "_view_module": "@jupyter-widgets/controls",
            "_view_module_version": "1.5.0",
            "_view_name": "ProgressView",
            "bar_style": "",
            "description": "",
            "description_tooltip": null,
            "layout": "IPY_MODEL_f6a6d37eb38446e1af52091e130c3059",
            "max": 1,
            "min": 0,
            "orientation": "horizontal",
            "style": "IPY_MODEL_af039147b3a84ac9ac23515cff204a10",
            "value": 1
          }
        },
        "e72eace71fc94b45b1281091215ccbf2": {
          "model_module": "@jupyter-widgets/base",
          "model_name": "LayoutModel",
          "model_module_version": "1.2.0",
          "state": {
            "_model_module": "@jupyter-widgets/base",
            "_model_module_version": "1.2.0",
            "_model_name": "LayoutModel",
            "_view_count": null,
            "_view_module": "@jupyter-widgets/base",
            "_view_module_version": "1.2.0",
            "_view_name": "LayoutView",
            "align_content": null,
            "align_items": null,
            "align_self": null,
            "border": null,
            "bottom": null,
            "display": null,
            "flex": null,
            "flex_flow": null,
            "grid_area": null,
            "grid_auto_columns": null,
            "grid_auto_flow": null,
            "grid_auto_rows": null,
            "grid_column": null,
            "grid_gap": null,
            "grid_row": null,
            "grid_template_areas": null,
            "grid_template_columns": null,
            "grid_template_rows": null,
            "height": null,
            "justify_content": null,
            "justify_items": null,
            "left": null,
            "margin": null,
            "max_height": null,
            "max_width": null,
            "min_height": null,
            "min_width": null,
            "object_fit": null,
            "object_position": null,
            "order": null,
            "overflow": null,
            "overflow_x": null,
            "overflow_y": null,
            "padding": null,
            "right": null,
            "top": null,
            "visibility": null,
            "width": null
          }
        },
        "4a55320538f84208a2b9196f0ed343f6": {
          "model_module": "@jupyter-widgets/base",
          "model_name": "LayoutModel",
          "model_module_version": "1.2.0",
          "state": {
            "_model_module": "@jupyter-widgets/base",
            "_model_module_version": "1.2.0",
            "_model_name": "LayoutModel",
            "_view_count": null,
            "_view_module": "@jupyter-widgets/base",
            "_view_module_version": "1.2.0",
            "_view_name": "LayoutView",
            "align_content": null,
            "align_items": null,
            "align_self": null,
            "border": null,
            "bottom": null,
            "display": null,
            "flex": null,
            "flex_flow": null,
            "grid_area": null,
            "grid_auto_columns": null,
            "grid_auto_flow": null,
            "grid_auto_rows": null,
            "grid_column": null,
            "grid_gap": null,
            "grid_row": null,
            "grid_template_areas": null,
            "grid_template_columns": null,
            "grid_template_rows": null,
            "height": null,
            "justify_content": null,
            "justify_items": null,
            "left": null,
            "margin": null,
            "max_height": null,
            "max_width": null,
            "min_height": null,
            "min_width": null,
            "object_fit": null,
            "object_position": null,
            "order": null,
            "overflow": null,
            "overflow_x": null,
            "overflow_y": null,
            "padding": null,
            "right": null,
            "top": null,
            "visibility": null,
            "width": null
          }
        },
        "15313d0f476547f49b2b675f1fcc1663": {
          "model_module": "@jupyter-widgets/controls",
          "model_name": "DescriptionStyleModel",
          "model_module_version": "1.5.0",
          "state": {
            "_model_module": "@jupyter-widgets/controls",
            "_model_module_version": "1.5.0",
            "_model_name": "DescriptionStyleModel",
            "_view_count": null,
            "_view_module": "@jupyter-widgets/base",
            "_view_module_version": "1.2.0",
            "_view_name": "StyleView",
            "description_width": ""
          }
        },
        "f6a6d37eb38446e1af52091e130c3059": {
          "model_module": "@jupyter-widgets/base",
          "model_name": "LayoutModel",
          "model_module_version": "1.2.0",
          "state": {
            "_model_module": "@jupyter-widgets/base",
            "_model_module_version": "1.2.0",
            "_model_name": "LayoutModel",
            "_view_count": null,
            "_view_module": "@jupyter-widgets/base",
            "_view_module_version": "1.2.0",
            "_view_name": "LayoutView",
            "align_content": null,
            "align_items": null,
            "align_self": null,
            "border": null,
            "bottom": null,
            "display": null,
            "flex": null,
            "flex_flow": null,
            "grid_area": null,
            "grid_auto_columns": null,
            "grid_auto_flow": null,
            "grid_auto_rows": null,
            "grid_column": null,
            "grid_gap": null,
            "grid_row": null,
            "grid_template_areas": null,
            "grid_template_columns": null,
            "grid_template_rows": null,
            "height": null,
            "justify_content": null,
            "justify_items": null,
            "left": null,
            "margin": null,
            "max_height": null,
            "max_width": null,
            "min_height": null,
            "min_width": null,
            "object_fit": null,
            "object_position": null,
            "order": null,
            "overflow": null,
            "overflow_x": null,
            "overflow_y": null,
            "padding": null,
            "right": null,
            "top": null,
            "visibility": null,
            "width": null
          }
        },
        "af039147b3a84ac9ac23515cff204a10": {
          "model_module": "@jupyter-widgets/controls",
          "model_name": "ProgressStyleModel",
          "model_module_version": "1.5.0",
          "state": {
            "_model_module": "@jupyter-widgets/controls",
            "_model_module_version": "1.5.0",
            "_model_name": "ProgressStyleModel",
            "_view_count": null,
            "_view_module": "@jupyter-widgets/base",
            "_view_module_version": "1.2.0",
            "_view_name": "StyleView",
            "bar_color": null,
            "description_width": ""
          }
        },
        "62617244dddb47bd81877d0b56eeacc9": {
          "model_module": "@jupyter-widgets/controls",
          "model_name": "VBoxModel",
          "model_module_version": "1.5.0",
          "state": {
            "_dom_classes": [],
            "_model_module": "@jupyter-widgets/controls",
            "_model_module_version": "1.5.0",
            "_model_name": "VBoxModel",
            "_view_count": null,
            "_view_module": "@jupyter-widgets/controls",
            "_view_module_version": "1.5.0",
            "_view_name": "VBoxView",
            "box_style": "",
            "children": [
              "IPY_MODEL_3bb0757ff83146b5ae720a8229662e05",
              "IPY_MODEL_16d9e27adbf04b05a9d9d2e1c0a541df"
            ],
            "layout": "IPY_MODEL_429921d7f045413cb222d831b302099e"
          }
        },
        "3bb0757ff83146b5ae720a8229662e05": {
          "model_module": "@jupyter-widgets/controls",
          "model_name": "LabelModel",
          "model_module_version": "1.5.0",
          "state": {
            "_dom_classes": [],
            "_model_module": "@jupyter-widgets/controls",
            "_model_module_version": "1.5.0",
            "_model_name": "LabelModel",
            "_view_count": null,
            "_view_module": "@jupyter-widgets/controls",
            "_view_module_version": "1.5.0",
            "_view_name": "LabelView",
            "description": "",
            "description_tooltip": null,
            "layout": "IPY_MODEL_6eb48c036c9946c0b18d3bfa926a02ef",
            "placeholder": "​",
            "style": "IPY_MODEL_02ccef7a537a4b9aa4ab106938a23011",
            "value": "0.014 MB of 0.014 MB uploaded (0.000 MB deduped)\r"
          }
        },
        "16d9e27adbf04b05a9d9d2e1c0a541df": {
          "model_module": "@jupyter-widgets/controls",
          "model_name": "FloatProgressModel",
          "model_module_version": "1.5.0",
          "state": {
            "_dom_classes": [],
            "_model_module": "@jupyter-widgets/controls",
            "_model_module_version": "1.5.0",
            "_model_name": "FloatProgressModel",
            "_view_count": null,
            "_view_module": "@jupyter-widgets/controls",
            "_view_module_version": "1.5.0",
            "_view_name": "ProgressView",
            "bar_style": "",
            "description": "",
            "description_tooltip": null,
            "layout": "IPY_MODEL_5cea0f8a12c442a4980640169e4063d5",
            "max": 1,
            "min": 0,
            "orientation": "horizontal",
            "style": "IPY_MODEL_03ac41e2b49645c2aadbe5ab3ecd4613",
            "value": 1
          }
        },
        "429921d7f045413cb222d831b302099e": {
          "model_module": "@jupyter-widgets/base",
          "model_name": "LayoutModel",
          "model_module_version": "1.2.0",
          "state": {
            "_model_module": "@jupyter-widgets/base",
            "_model_module_version": "1.2.0",
            "_model_name": "LayoutModel",
            "_view_count": null,
            "_view_module": "@jupyter-widgets/base",
            "_view_module_version": "1.2.0",
            "_view_name": "LayoutView",
            "align_content": null,
            "align_items": null,
            "align_self": null,
            "border": null,
            "bottom": null,
            "display": null,
            "flex": null,
            "flex_flow": null,
            "grid_area": null,
            "grid_auto_columns": null,
            "grid_auto_flow": null,
            "grid_auto_rows": null,
            "grid_column": null,
            "grid_gap": null,
            "grid_row": null,
            "grid_template_areas": null,
            "grid_template_columns": null,
            "grid_template_rows": null,
            "height": null,
            "justify_content": null,
            "justify_items": null,
            "left": null,
            "margin": null,
            "max_height": null,
            "max_width": null,
            "min_height": null,
            "min_width": null,
            "object_fit": null,
            "object_position": null,
            "order": null,
            "overflow": null,
            "overflow_x": null,
            "overflow_y": null,
            "padding": null,
            "right": null,
            "top": null,
            "visibility": null,
            "width": null
          }
        },
        "6eb48c036c9946c0b18d3bfa926a02ef": {
          "model_module": "@jupyter-widgets/base",
          "model_name": "LayoutModel",
          "model_module_version": "1.2.0",
          "state": {
            "_model_module": "@jupyter-widgets/base",
            "_model_module_version": "1.2.0",
            "_model_name": "LayoutModel",
            "_view_count": null,
            "_view_module": "@jupyter-widgets/base",
            "_view_module_version": "1.2.0",
            "_view_name": "LayoutView",
            "align_content": null,
            "align_items": null,
            "align_self": null,
            "border": null,
            "bottom": null,
            "display": null,
            "flex": null,
            "flex_flow": null,
            "grid_area": null,
            "grid_auto_columns": null,
            "grid_auto_flow": null,
            "grid_auto_rows": null,
            "grid_column": null,
            "grid_gap": null,
            "grid_row": null,
            "grid_template_areas": null,
            "grid_template_columns": null,
            "grid_template_rows": null,
            "height": null,
            "justify_content": null,
            "justify_items": null,
            "left": null,
            "margin": null,
            "max_height": null,
            "max_width": null,
            "min_height": null,
            "min_width": null,
            "object_fit": null,
            "object_position": null,
            "order": null,
            "overflow": null,
            "overflow_x": null,
            "overflow_y": null,
            "padding": null,
            "right": null,
            "top": null,
            "visibility": null,
            "width": null
          }
        },
        "02ccef7a537a4b9aa4ab106938a23011": {
          "model_module": "@jupyter-widgets/controls",
          "model_name": "DescriptionStyleModel",
          "model_module_version": "1.5.0",
          "state": {
            "_model_module": "@jupyter-widgets/controls",
            "_model_module_version": "1.5.0",
            "_model_name": "DescriptionStyleModel",
            "_view_count": null,
            "_view_module": "@jupyter-widgets/base",
            "_view_module_version": "1.2.0",
            "_view_name": "StyleView",
            "description_width": ""
          }
        },
        "5cea0f8a12c442a4980640169e4063d5": {
          "model_module": "@jupyter-widgets/base",
          "model_name": "LayoutModel",
          "model_module_version": "1.2.0",
          "state": {
            "_model_module": "@jupyter-widgets/base",
            "_model_module_version": "1.2.0",
            "_model_name": "LayoutModel",
            "_view_count": null,
            "_view_module": "@jupyter-widgets/base",
            "_view_module_version": "1.2.0",
            "_view_name": "LayoutView",
            "align_content": null,
            "align_items": null,
            "align_self": null,
            "border": null,
            "bottom": null,
            "display": null,
            "flex": null,
            "flex_flow": null,
            "grid_area": null,
            "grid_auto_columns": null,
            "grid_auto_flow": null,
            "grid_auto_rows": null,
            "grid_column": null,
            "grid_gap": null,
            "grid_row": null,
            "grid_template_areas": null,
            "grid_template_columns": null,
            "grid_template_rows": null,
            "height": null,
            "justify_content": null,
            "justify_items": null,
            "left": null,
            "margin": null,
            "max_height": null,
            "max_width": null,
            "min_height": null,
            "min_width": null,
            "object_fit": null,
            "object_position": null,
            "order": null,
            "overflow": null,
            "overflow_x": null,
            "overflow_y": null,
            "padding": null,
            "right": null,
            "top": null,
            "visibility": null,
            "width": null
          }
        },
        "03ac41e2b49645c2aadbe5ab3ecd4613": {
          "model_module": "@jupyter-widgets/controls",
          "model_name": "ProgressStyleModel",
          "model_module_version": "1.5.0",
          "state": {
            "_model_module": "@jupyter-widgets/controls",
            "_model_module_version": "1.5.0",
            "_model_name": "ProgressStyleModel",
            "_view_count": null,
            "_view_module": "@jupyter-widgets/base",
            "_view_module_version": "1.2.0",
            "_view_name": "StyleView",
            "bar_color": null,
            "description_width": ""
          }
        },
        "c29e1ad556c346548eece83a31163aa3": {
          "model_module": "@jupyter-widgets/controls",
          "model_name": "VBoxModel",
          "model_module_version": "1.5.0",
          "state": {
            "_dom_classes": [],
            "_model_module": "@jupyter-widgets/controls",
            "_model_module_version": "1.5.0",
            "_model_name": "VBoxModel",
            "_view_count": null,
            "_view_module": "@jupyter-widgets/controls",
            "_view_module_version": "1.5.0",
            "_view_name": "VBoxView",
            "box_style": "",
            "children": [
              "IPY_MODEL_25a81f430d2943ae9beeac099fec327e",
              "IPY_MODEL_641a47784c014d97b7de3c73c3fedcfd"
            ],
            "layout": "IPY_MODEL_1931306bae17423d9cdab3d4caa23f64"
          }
        },
        "25a81f430d2943ae9beeac099fec327e": {
          "model_module": "@jupyter-widgets/controls",
          "model_name": "LabelModel",
          "model_module_version": "1.5.0",
          "state": {
            "_dom_classes": [],
            "_model_module": "@jupyter-widgets/controls",
            "_model_module_version": "1.5.0",
            "_model_name": "LabelModel",
            "_view_count": null,
            "_view_module": "@jupyter-widgets/controls",
            "_view_module_version": "1.5.0",
            "_view_name": "LabelView",
            "description": "",
            "description_tooltip": null,
            "layout": "IPY_MODEL_c7caca604b554126a84030ae01f6bb30",
            "placeholder": "​",
            "style": "IPY_MODEL_fda576fe45e94403b362add126db8adf",
            "value": "0.014 MB of 0.014 MB uploaded (0.000 MB deduped)\r"
          }
        },
        "641a47784c014d97b7de3c73c3fedcfd": {
          "model_module": "@jupyter-widgets/controls",
          "model_name": "FloatProgressModel",
          "model_module_version": "1.5.0",
          "state": {
            "_dom_classes": [],
            "_model_module": "@jupyter-widgets/controls",
            "_model_module_version": "1.5.0",
            "_model_name": "FloatProgressModel",
            "_view_count": null,
            "_view_module": "@jupyter-widgets/controls",
            "_view_module_version": "1.5.0",
            "_view_name": "ProgressView",
            "bar_style": "",
            "description": "",
            "description_tooltip": null,
            "layout": "IPY_MODEL_f1310296f5504744a59eeb0321c3986c",
            "max": 1,
            "min": 0,
            "orientation": "horizontal",
            "style": "IPY_MODEL_d15837f4042348658f92878d7601e57d",
            "value": 1
          }
        },
        "1931306bae17423d9cdab3d4caa23f64": {
          "model_module": "@jupyter-widgets/base",
          "model_name": "LayoutModel",
          "model_module_version": "1.2.0",
          "state": {
            "_model_module": "@jupyter-widgets/base",
            "_model_module_version": "1.2.0",
            "_model_name": "LayoutModel",
            "_view_count": null,
            "_view_module": "@jupyter-widgets/base",
            "_view_module_version": "1.2.0",
            "_view_name": "LayoutView",
            "align_content": null,
            "align_items": null,
            "align_self": null,
            "border": null,
            "bottom": null,
            "display": null,
            "flex": null,
            "flex_flow": null,
            "grid_area": null,
            "grid_auto_columns": null,
            "grid_auto_flow": null,
            "grid_auto_rows": null,
            "grid_column": null,
            "grid_gap": null,
            "grid_row": null,
            "grid_template_areas": null,
            "grid_template_columns": null,
            "grid_template_rows": null,
            "height": null,
            "justify_content": null,
            "justify_items": null,
            "left": null,
            "margin": null,
            "max_height": null,
            "max_width": null,
            "min_height": null,
            "min_width": null,
            "object_fit": null,
            "object_position": null,
            "order": null,
            "overflow": null,
            "overflow_x": null,
            "overflow_y": null,
            "padding": null,
            "right": null,
            "top": null,
            "visibility": null,
            "width": null
          }
        },
        "c7caca604b554126a84030ae01f6bb30": {
          "model_module": "@jupyter-widgets/base",
          "model_name": "LayoutModel",
          "model_module_version": "1.2.0",
          "state": {
            "_model_module": "@jupyter-widgets/base",
            "_model_module_version": "1.2.0",
            "_model_name": "LayoutModel",
            "_view_count": null,
            "_view_module": "@jupyter-widgets/base",
            "_view_module_version": "1.2.0",
            "_view_name": "LayoutView",
            "align_content": null,
            "align_items": null,
            "align_self": null,
            "border": null,
            "bottom": null,
            "display": null,
            "flex": null,
            "flex_flow": null,
            "grid_area": null,
            "grid_auto_columns": null,
            "grid_auto_flow": null,
            "grid_auto_rows": null,
            "grid_column": null,
            "grid_gap": null,
            "grid_row": null,
            "grid_template_areas": null,
            "grid_template_columns": null,
            "grid_template_rows": null,
            "height": null,
            "justify_content": null,
            "justify_items": null,
            "left": null,
            "margin": null,
            "max_height": null,
            "max_width": null,
            "min_height": null,
            "min_width": null,
            "object_fit": null,
            "object_position": null,
            "order": null,
            "overflow": null,
            "overflow_x": null,
            "overflow_y": null,
            "padding": null,
            "right": null,
            "top": null,
            "visibility": null,
            "width": null
          }
        },
        "fda576fe45e94403b362add126db8adf": {
          "model_module": "@jupyter-widgets/controls",
          "model_name": "DescriptionStyleModel",
          "model_module_version": "1.5.0",
          "state": {
            "_model_module": "@jupyter-widgets/controls",
            "_model_module_version": "1.5.0",
            "_model_name": "DescriptionStyleModel",
            "_view_count": null,
            "_view_module": "@jupyter-widgets/base",
            "_view_module_version": "1.2.0",
            "_view_name": "StyleView",
            "description_width": ""
          }
        },
        "f1310296f5504744a59eeb0321c3986c": {
          "model_module": "@jupyter-widgets/base",
          "model_name": "LayoutModel",
          "model_module_version": "1.2.0",
          "state": {
            "_model_module": "@jupyter-widgets/base",
            "_model_module_version": "1.2.0",
            "_model_name": "LayoutModel",
            "_view_count": null,
            "_view_module": "@jupyter-widgets/base",
            "_view_module_version": "1.2.0",
            "_view_name": "LayoutView",
            "align_content": null,
            "align_items": null,
            "align_self": null,
            "border": null,
            "bottom": null,
            "display": null,
            "flex": null,
            "flex_flow": null,
            "grid_area": null,
            "grid_auto_columns": null,
            "grid_auto_flow": null,
            "grid_auto_rows": null,
            "grid_column": null,
            "grid_gap": null,
            "grid_row": null,
            "grid_template_areas": null,
            "grid_template_columns": null,
            "grid_template_rows": null,
            "height": null,
            "justify_content": null,
            "justify_items": null,
            "left": null,
            "margin": null,
            "max_height": null,
            "max_width": null,
            "min_height": null,
            "min_width": null,
            "object_fit": null,
            "object_position": null,
            "order": null,
            "overflow": null,
            "overflow_x": null,
            "overflow_y": null,
            "padding": null,
            "right": null,
            "top": null,
            "visibility": null,
            "width": null
          }
        },
        "d15837f4042348658f92878d7601e57d": {
          "model_module": "@jupyter-widgets/controls",
          "model_name": "ProgressStyleModel",
          "model_module_version": "1.5.0",
          "state": {
            "_model_module": "@jupyter-widgets/controls",
            "_model_module_version": "1.5.0",
            "_model_name": "ProgressStyleModel",
            "_view_count": null,
            "_view_module": "@jupyter-widgets/base",
            "_view_module_version": "1.2.0",
            "_view_name": "StyleView",
            "bar_color": null,
            "description_width": ""
          }
        },
        "c3646904268a42e5914fdba1106f6e61": {
          "model_module": "@jupyter-widgets/controls",
          "model_name": "VBoxModel",
          "model_module_version": "1.5.0",
          "state": {
            "_dom_classes": [],
            "_model_module": "@jupyter-widgets/controls",
            "_model_module_version": "1.5.0",
            "_model_name": "VBoxModel",
            "_view_count": null,
            "_view_module": "@jupyter-widgets/controls",
            "_view_module_version": "1.5.0",
            "_view_name": "VBoxView",
            "box_style": "",
            "children": [
              "IPY_MODEL_65cf370e322244188786dbc6f3385830",
              "IPY_MODEL_d01c8fe3f4c24ea0aac5bb9773f0e8a0"
            ],
            "layout": "IPY_MODEL_d224d68fa7484a22b6d470d74e55dcf7"
          }
        },
        "65cf370e322244188786dbc6f3385830": {
          "model_module": "@jupyter-widgets/controls",
          "model_name": "LabelModel",
          "model_module_version": "1.5.0",
          "state": {
            "_dom_classes": [],
            "_model_module": "@jupyter-widgets/controls",
            "_model_module_version": "1.5.0",
            "_model_name": "LabelModel",
            "_view_count": null,
            "_view_module": "@jupyter-widgets/controls",
            "_view_module_version": "1.5.0",
            "_view_name": "LabelView",
            "description": "",
            "description_tooltip": null,
            "layout": "IPY_MODEL_2fe521bd2c25401dbca12411c4535b00",
            "placeholder": "​",
            "style": "IPY_MODEL_4efcaceb524143e4abe2ba0778013d58",
            "value": "0.014 MB of 0.014 MB uploaded (0.000 MB deduped)\r"
          }
        },
        "d01c8fe3f4c24ea0aac5bb9773f0e8a0": {
          "model_module": "@jupyter-widgets/controls",
          "model_name": "FloatProgressModel",
          "model_module_version": "1.5.0",
          "state": {
            "_dom_classes": [],
            "_model_module": "@jupyter-widgets/controls",
            "_model_module_version": "1.5.0",
            "_model_name": "FloatProgressModel",
            "_view_count": null,
            "_view_module": "@jupyter-widgets/controls",
            "_view_module_version": "1.5.0",
            "_view_name": "ProgressView",
            "bar_style": "",
            "description": "",
            "description_tooltip": null,
            "layout": "IPY_MODEL_8f67029a7019472bbaf7fd09bee85c20",
            "max": 1,
            "min": 0,
            "orientation": "horizontal",
            "style": "IPY_MODEL_3dc81aad48f342e79e9717977bb89429",
            "value": 1
          }
        },
        "d224d68fa7484a22b6d470d74e55dcf7": {
          "model_module": "@jupyter-widgets/base",
          "model_name": "LayoutModel",
          "model_module_version": "1.2.0",
          "state": {
            "_model_module": "@jupyter-widgets/base",
            "_model_module_version": "1.2.0",
            "_model_name": "LayoutModel",
            "_view_count": null,
            "_view_module": "@jupyter-widgets/base",
            "_view_module_version": "1.2.0",
            "_view_name": "LayoutView",
            "align_content": null,
            "align_items": null,
            "align_self": null,
            "border": null,
            "bottom": null,
            "display": null,
            "flex": null,
            "flex_flow": null,
            "grid_area": null,
            "grid_auto_columns": null,
            "grid_auto_flow": null,
            "grid_auto_rows": null,
            "grid_column": null,
            "grid_gap": null,
            "grid_row": null,
            "grid_template_areas": null,
            "grid_template_columns": null,
            "grid_template_rows": null,
            "height": null,
            "justify_content": null,
            "justify_items": null,
            "left": null,
            "margin": null,
            "max_height": null,
            "max_width": null,
            "min_height": null,
            "min_width": null,
            "object_fit": null,
            "object_position": null,
            "order": null,
            "overflow": null,
            "overflow_x": null,
            "overflow_y": null,
            "padding": null,
            "right": null,
            "top": null,
            "visibility": null,
            "width": null
          }
        },
        "2fe521bd2c25401dbca12411c4535b00": {
          "model_module": "@jupyter-widgets/base",
          "model_name": "LayoutModel",
          "model_module_version": "1.2.0",
          "state": {
            "_model_module": "@jupyter-widgets/base",
            "_model_module_version": "1.2.0",
            "_model_name": "LayoutModel",
            "_view_count": null,
            "_view_module": "@jupyter-widgets/base",
            "_view_module_version": "1.2.0",
            "_view_name": "LayoutView",
            "align_content": null,
            "align_items": null,
            "align_self": null,
            "border": null,
            "bottom": null,
            "display": null,
            "flex": null,
            "flex_flow": null,
            "grid_area": null,
            "grid_auto_columns": null,
            "grid_auto_flow": null,
            "grid_auto_rows": null,
            "grid_column": null,
            "grid_gap": null,
            "grid_row": null,
            "grid_template_areas": null,
            "grid_template_columns": null,
            "grid_template_rows": null,
            "height": null,
            "justify_content": null,
            "justify_items": null,
            "left": null,
            "margin": null,
            "max_height": null,
            "max_width": null,
            "min_height": null,
            "min_width": null,
            "object_fit": null,
            "object_position": null,
            "order": null,
            "overflow": null,
            "overflow_x": null,
            "overflow_y": null,
            "padding": null,
            "right": null,
            "top": null,
            "visibility": null,
            "width": null
          }
        },
        "4efcaceb524143e4abe2ba0778013d58": {
          "model_module": "@jupyter-widgets/controls",
          "model_name": "DescriptionStyleModel",
          "model_module_version": "1.5.0",
          "state": {
            "_model_module": "@jupyter-widgets/controls",
            "_model_module_version": "1.5.0",
            "_model_name": "DescriptionStyleModel",
            "_view_count": null,
            "_view_module": "@jupyter-widgets/base",
            "_view_module_version": "1.2.0",
            "_view_name": "StyleView",
            "description_width": ""
          }
        },
        "8f67029a7019472bbaf7fd09bee85c20": {
          "model_module": "@jupyter-widgets/base",
          "model_name": "LayoutModel",
          "model_module_version": "1.2.0",
          "state": {
            "_model_module": "@jupyter-widgets/base",
            "_model_module_version": "1.2.0",
            "_model_name": "LayoutModel",
            "_view_count": null,
            "_view_module": "@jupyter-widgets/base",
            "_view_module_version": "1.2.0",
            "_view_name": "LayoutView",
            "align_content": null,
            "align_items": null,
            "align_self": null,
            "border": null,
            "bottom": null,
            "display": null,
            "flex": null,
            "flex_flow": null,
            "grid_area": null,
            "grid_auto_columns": null,
            "grid_auto_flow": null,
            "grid_auto_rows": null,
            "grid_column": null,
            "grid_gap": null,
            "grid_row": null,
            "grid_template_areas": null,
            "grid_template_columns": null,
            "grid_template_rows": null,
            "height": null,
            "justify_content": null,
            "justify_items": null,
            "left": null,
            "margin": null,
            "max_height": null,
            "max_width": null,
            "min_height": null,
            "min_width": null,
            "object_fit": null,
            "object_position": null,
            "order": null,
            "overflow": null,
            "overflow_x": null,
            "overflow_y": null,
            "padding": null,
            "right": null,
            "top": null,
            "visibility": null,
            "width": null
          }
        },
        "3dc81aad48f342e79e9717977bb89429": {
          "model_module": "@jupyter-widgets/controls",
          "model_name": "ProgressStyleModel",
          "model_module_version": "1.5.0",
          "state": {
            "_model_module": "@jupyter-widgets/controls",
            "_model_module_version": "1.5.0",
            "_model_name": "ProgressStyleModel",
            "_view_count": null,
            "_view_module": "@jupyter-widgets/base",
            "_view_module_version": "1.2.0",
            "_view_name": "StyleView",
            "bar_color": null,
            "description_width": ""
          }
        },
        "feb9a55cd122412398c6a0a27c6e4bae": {
          "model_module": "@jupyter-widgets/controls",
          "model_name": "VBoxModel",
          "model_module_version": "1.5.0",
          "state": {
            "_dom_classes": [],
            "_model_module": "@jupyter-widgets/controls",
            "_model_module_version": "1.5.0",
            "_model_name": "VBoxModel",
            "_view_count": null,
            "_view_module": "@jupyter-widgets/controls",
            "_view_module_version": "1.5.0",
            "_view_name": "VBoxView",
            "box_style": "",
            "children": [
              "IPY_MODEL_5406b574a5464a13846f7b37272f69e7",
              "IPY_MODEL_f3e9bbf25ff643978ac1ab4a6b1ff4cc"
            ],
            "layout": "IPY_MODEL_d326c60283b54e1ba52788233c7e8a3f"
          }
        },
        "5406b574a5464a13846f7b37272f69e7": {
          "model_module": "@jupyter-widgets/controls",
          "model_name": "LabelModel",
          "model_module_version": "1.5.0",
          "state": {
            "_dom_classes": [],
            "_model_module": "@jupyter-widgets/controls",
            "_model_module_version": "1.5.0",
            "_model_name": "LabelModel",
            "_view_count": null,
            "_view_module": "@jupyter-widgets/controls",
            "_view_module_version": "1.5.0",
            "_view_name": "LabelView",
            "description": "",
            "description_tooltip": null,
            "layout": "IPY_MODEL_645ffc9164d543dbac2ba241d4e57058",
            "placeholder": "​",
            "style": "IPY_MODEL_27033aae6a964280b49e5900c5086d2b",
            "value": "Waiting for wandb.init()...\r"
          }
        },
        "f3e9bbf25ff643978ac1ab4a6b1ff4cc": {
          "model_module": "@jupyter-widgets/controls",
          "model_name": "FloatProgressModel",
          "model_module_version": "1.5.0",
          "state": {
            "_dom_classes": [],
            "_model_module": "@jupyter-widgets/controls",
            "_model_module_version": "1.5.0",
            "_model_name": "FloatProgressModel",
            "_view_count": null,
            "_view_module": "@jupyter-widgets/controls",
            "_view_module_version": "1.5.0",
            "_view_name": "ProgressView",
            "bar_style": "",
            "description": "",
            "description_tooltip": null,
            "layout": "IPY_MODEL_0733ab9024cc4dcea283128df6605668",
            "max": 1,
            "min": 0,
            "orientation": "horizontal",
            "style": "IPY_MODEL_ac384d220894413286856581c1c93266",
            "value": 1
          }
        },
        "d326c60283b54e1ba52788233c7e8a3f": {
          "model_module": "@jupyter-widgets/base",
          "model_name": "LayoutModel",
          "model_module_version": "1.2.0",
          "state": {
            "_model_module": "@jupyter-widgets/base",
            "_model_module_version": "1.2.0",
            "_model_name": "LayoutModel",
            "_view_count": null,
            "_view_module": "@jupyter-widgets/base",
            "_view_module_version": "1.2.0",
            "_view_name": "LayoutView",
            "align_content": null,
            "align_items": null,
            "align_self": null,
            "border": null,
            "bottom": null,
            "display": null,
            "flex": null,
            "flex_flow": null,
            "grid_area": null,
            "grid_auto_columns": null,
            "grid_auto_flow": null,
            "grid_auto_rows": null,
            "grid_column": null,
            "grid_gap": null,
            "grid_row": null,
            "grid_template_areas": null,
            "grid_template_columns": null,
            "grid_template_rows": null,
            "height": null,
            "justify_content": null,
            "justify_items": null,
            "left": null,
            "margin": null,
            "max_height": null,
            "max_width": null,
            "min_height": null,
            "min_width": null,
            "object_fit": null,
            "object_position": null,
            "order": null,
            "overflow": null,
            "overflow_x": null,
            "overflow_y": null,
            "padding": null,
            "right": null,
            "top": null,
            "visibility": null,
            "width": null
          }
        },
        "645ffc9164d543dbac2ba241d4e57058": {
          "model_module": "@jupyter-widgets/base",
          "model_name": "LayoutModel",
          "model_module_version": "1.2.0",
          "state": {
            "_model_module": "@jupyter-widgets/base",
            "_model_module_version": "1.2.0",
            "_model_name": "LayoutModel",
            "_view_count": null,
            "_view_module": "@jupyter-widgets/base",
            "_view_module_version": "1.2.0",
            "_view_name": "LayoutView",
            "align_content": null,
            "align_items": null,
            "align_self": null,
            "border": null,
            "bottom": null,
            "display": null,
            "flex": null,
            "flex_flow": null,
            "grid_area": null,
            "grid_auto_columns": null,
            "grid_auto_flow": null,
            "grid_auto_rows": null,
            "grid_column": null,
            "grid_gap": null,
            "grid_row": null,
            "grid_template_areas": null,
            "grid_template_columns": null,
            "grid_template_rows": null,
            "height": null,
            "justify_content": null,
            "justify_items": null,
            "left": null,
            "margin": null,
            "max_height": null,
            "max_width": null,
            "min_height": null,
            "min_width": null,
            "object_fit": null,
            "object_position": null,
            "order": null,
            "overflow": null,
            "overflow_x": null,
            "overflow_y": null,
            "padding": null,
            "right": null,
            "top": null,
            "visibility": null,
            "width": null
          }
        },
        "27033aae6a964280b49e5900c5086d2b": {
          "model_module": "@jupyter-widgets/controls",
          "model_name": "DescriptionStyleModel",
          "model_module_version": "1.5.0",
          "state": {
            "_model_module": "@jupyter-widgets/controls",
            "_model_module_version": "1.5.0",
            "_model_name": "DescriptionStyleModel",
            "_view_count": null,
            "_view_module": "@jupyter-widgets/base",
            "_view_module_version": "1.2.0",
            "_view_name": "StyleView",
            "description_width": ""
          }
        },
        "0733ab9024cc4dcea283128df6605668": {
          "model_module": "@jupyter-widgets/base",
          "model_name": "LayoutModel",
          "model_module_version": "1.2.0",
          "state": {
            "_model_module": "@jupyter-widgets/base",
            "_model_module_version": "1.2.0",
            "_model_name": "LayoutModel",
            "_view_count": null,
            "_view_module": "@jupyter-widgets/base",
            "_view_module_version": "1.2.0",
            "_view_name": "LayoutView",
            "align_content": null,
            "align_items": null,
            "align_self": null,
            "border": null,
            "bottom": null,
            "display": null,
            "flex": null,
            "flex_flow": null,
            "grid_area": null,
            "grid_auto_columns": null,
            "grid_auto_flow": null,
            "grid_auto_rows": null,
            "grid_column": null,
            "grid_gap": null,
            "grid_row": null,
            "grid_template_areas": null,
            "grid_template_columns": null,
            "grid_template_rows": null,
            "height": null,
            "justify_content": null,
            "justify_items": null,
            "left": null,
            "margin": null,
            "max_height": null,
            "max_width": null,
            "min_height": null,
            "min_width": null,
            "object_fit": null,
            "object_position": null,
            "order": null,
            "overflow": null,
            "overflow_x": null,
            "overflow_y": null,
            "padding": null,
            "right": null,
            "top": null,
            "visibility": null,
            "width": null
          }
        },
        "ac384d220894413286856581c1c93266": {
          "model_module": "@jupyter-widgets/controls",
          "model_name": "ProgressStyleModel",
          "model_module_version": "1.5.0",
          "state": {
            "_model_module": "@jupyter-widgets/controls",
            "_model_module_version": "1.5.0",
            "_model_name": "ProgressStyleModel",
            "_view_count": null,
            "_view_module": "@jupyter-widgets/base",
            "_view_module_version": "1.2.0",
            "_view_name": "StyleView",
            "bar_color": null,
            "description_width": ""
          }
        },
        "1c7004b424fd4e79acdf1b272a2c6ffa": {
          "model_module": "@jupyter-widgets/controls",
          "model_name": "VBoxModel",
          "model_module_version": "1.5.0",
          "state": {
            "_dom_classes": [],
            "_model_module": "@jupyter-widgets/controls",
            "_model_module_version": "1.5.0",
            "_model_name": "VBoxModel",
            "_view_count": null,
            "_view_module": "@jupyter-widgets/controls",
            "_view_module_version": "1.5.0",
            "_view_name": "VBoxView",
            "box_style": "",
            "children": [
              "IPY_MODEL_2e2394bbac3f4b81b35483d49b36b038",
              "IPY_MODEL_6ba88ba92cd142fa9be54c0d710cf790"
            ],
            "layout": "IPY_MODEL_d30e98e9350a4e50a8844714d3d78aff"
          }
        },
        "2e2394bbac3f4b81b35483d49b36b038": {
          "model_module": "@jupyter-widgets/controls",
          "model_name": "LabelModel",
          "model_module_version": "1.5.0",
          "state": {
            "_dom_classes": [],
            "_model_module": "@jupyter-widgets/controls",
            "_model_module_version": "1.5.0",
            "_model_name": "LabelModel",
            "_view_count": null,
            "_view_module": "@jupyter-widgets/controls",
            "_view_module_version": "1.5.0",
            "_view_name": "LabelView",
            "description": "",
            "description_tooltip": null,
            "layout": "IPY_MODEL_ec8659ba683e4773a1a3b1c08daea15d",
            "placeholder": "​",
            "style": "IPY_MODEL_9c3e86c8ee2443eca2ce1998bcd694c9",
            "value": "0.014 MB of 0.014 MB uploaded (0.000 MB deduped)\r"
          }
        },
        "6ba88ba92cd142fa9be54c0d710cf790": {
          "model_module": "@jupyter-widgets/controls",
          "model_name": "FloatProgressModel",
          "model_module_version": "1.5.0",
          "state": {
            "_dom_classes": [],
            "_model_module": "@jupyter-widgets/controls",
            "_model_module_version": "1.5.0",
            "_model_name": "FloatProgressModel",
            "_view_count": null,
            "_view_module": "@jupyter-widgets/controls",
            "_view_module_version": "1.5.0",
            "_view_name": "ProgressView",
            "bar_style": "",
            "description": "",
            "description_tooltip": null,
            "layout": "IPY_MODEL_3fc044e3d7e7479c9cfe06684857a1f6",
            "max": 1,
            "min": 0,
            "orientation": "horizontal",
            "style": "IPY_MODEL_349adc6e05c7432191a715504bad28b5",
            "value": 1
          }
        },
        "d30e98e9350a4e50a8844714d3d78aff": {
          "model_module": "@jupyter-widgets/base",
          "model_name": "LayoutModel",
          "model_module_version": "1.2.0",
          "state": {
            "_model_module": "@jupyter-widgets/base",
            "_model_module_version": "1.2.0",
            "_model_name": "LayoutModel",
            "_view_count": null,
            "_view_module": "@jupyter-widgets/base",
            "_view_module_version": "1.2.0",
            "_view_name": "LayoutView",
            "align_content": null,
            "align_items": null,
            "align_self": null,
            "border": null,
            "bottom": null,
            "display": null,
            "flex": null,
            "flex_flow": null,
            "grid_area": null,
            "grid_auto_columns": null,
            "grid_auto_flow": null,
            "grid_auto_rows": null,
            "grid_column": null,
            "grid_gap": null,
            "grid_row": null,
            "grid_template_areas": null,
            "grid_template_columns": null,
            "grid_template_rows": null,
            "height": null,
            "justify_content": null,
            "justify_items": null,
            "left": null,
            "margin": null,
            "max_height": null,
            "max_width": null,
            "min_height": null,
            "min_width": null,
            "object_fit": null,
            "object_position": null,
            "order": null,
            "overflow": null,
            "overflow_x": null,
            "overflow_y": null,
            "padding": null,
            "right": null,
            "top": null,
            "visibility": null,
            "width": null
          }
        },
        "ec8659ba683e4773a1a3b1c08daea15d": {
          "model_module": "@jupyter-widgets/base",
          "model_name": "LayoutModel",
          "model_module_version": "1.2.0",
          "state": {
            "_model_module": "@jupyter-widgets/base",
            "_model_module_version": "1.2.0",
            "_model_name": "LayoutModel",
            "_view_count": null,
            "_view_module": "@jupyter-widgets/base",
            "_view_module_version": "1.2.0",
            "_view_name": "LayoutView",
            "align_content": null,
            "align_items": null,
            "align_self": null,
            "border": null,
            "bottom": null,
            "display": null,
            "flex": null,
            "flex_flow": null,
            "grid_area": null,
            "grid_auto_columns": null,
            "grid_auto_flow": null,
            "grid_auto_rows": null,
            "grid_column": null,
            "grid_gap": null,
            "grid_row": null,
            "grid_template_areas": null,
            "grid_template_columns": null,
            "grid_template_rows": null,
            "height": null,
            "justify_content": null,
            "justify_items": null,
            "left": null,
            "margin": null,
            "max_height": null,
            "max_width": null,
            "min_height": null,
            "min_width": null,
            "object_fit": null,
            "object_position": null,
            "order": null,
            "overflow": null,
            "overflow_x": null,
            "overflow_y": null,
            "padding": null,
            "right": null,
            "top": null,
            "visibility": null,
            "width": null
          }
        },
        "9c3e86c8ee2443eca2ce1998bcd694c9": {
          "model_module": "@jupyter-widgets/controls",
          "model_name": "DescriptionStyleModel",
          "model_module_version": "1.5.0",
          "state": {
            "_model_module": "@jupyter-widgets/controls",
            "_model_module_version": "1.5.0",
            "_model_name": "DescriptionStyleModel",
            "_view_count": null,
            "_view_module": "@jupyter-widgets/base",
            "_view_module_version": "1.2.0",
            "_view_name": "StyleView",
            "description_width": ""
          }
        },
        "3fc044e3d7e7479c9cfe06684857a1f6": {
          "model_module": "@jupyter-widgets/base",
          "model_name": "LayoutModel",
          "model_module_version": "1.2.0",
          "state": {
            "_model_module": "@jupyter-widgets/base",
            "_model_module_version": "1.2.0",
            "_model_name": "LayoutModel",
            "_view_count": null,
            "_view_module": "@jupyter-widgets/base",
            "_view_module_version": "1.2.0",
            "_view_name": "LayoutView",
            "align_content": null,
            "align_items": null,
            "align_self": null,
            "border": null,
            "bottom": null,
            "display": null,
            "flex": null,
            "flex_flow": null,
            "grid_area": null,
            "grid_auto_columns": null,
            "grid_auto_flow": null,
            "grid_auto_rows": null,
            "grid_column": null,
            "grid_gap": null,
            "grid_row": null,
            "grid_template_areas": null,
            "grid_template_columns": null,
            "grid_template_rows": null,
            "height": null,
            "justify_content": null,
            "justify_items": null,
            "left": null,
            "margin": null,
            "max_height": null,
            "max_width": null,
            "min_height": null,
            "min_width": null,
            "object_fit": null,
            "object_position": null,
            "order": null,
            "overflow": null,
            "overflow_x": null,
            "overflow_y": null,
            "padding": null,
            "right": null,
            "top": null,
            "visibility": null,
            "width": null
          }
        },
        "349adc6e05c7432191a715504bad28b5": {
          "model_module": "@jupyter-widgets/controls",
          "model_name": "ProgressStyleModel",
          "model_module_version": "1.5.0",
          "state": {
            "_model_module": "@jupyter-widgets/controls",
            "_model_module_version": "1.5.0",
            "_model_name": "ProgressStyleModel",
            "_view_count": null,
            "_view_module": "@jupyter-widgets/base",
            "_view_module_version": "1.2.0",
            "_view_name": "StyleView",
            "bar_color": null,
            "description_width": ""
          }
        },
        "e71d29b65e664b3fb3df112286a80ff2": {
          "model_module": "@jupyter-widgets/controls",
          "model_name": "VBoxModel",
          "model_module_version": "1.5.0",
          "state": {
            "_dom_classes": [],
            "_model_module": "@jupyter-widgets/controls",
            "_model_module_version": "1.5.0",
            "_model_name": "VBoxModel",
            "_view_count": null,
            "_view_module": "@jupyter-widgets/controls",
            "_view_module_version": "1.5.0",
            "_view_name": "VBoxView",
            "box_style": "",
            "children": [
              "IPY_MODEL_abf36e688a0a4be1926aeb512dcb5fba",
              "IPY_MODEL_5695c05416fc4515b93caa1ad27fe213"
            ],
            "layout": "IPY_MODEL_06f5e02e1bbf4dfcbb75d0895fda83d3"
          }
        },
        "abf36e688a0a4be1926aeb512dcb5fba": {
          "model_module": "@jupyter-widgets/controls",
          "model_name": "LabelModel",
          "model_module_version": "1.5.0",
          "state": {
            "_dom_classes": [],
            "_model_module": "@jupyter-widgets/controls",
            "_model_module_version": "1.5.0",
            "_model_name": "LabelModel",
            "_view_count": null,
            "_view_module": "@jupyter-widgets/controls",
            "_view_module_version": "1.5.0",
            "_view_name": "LabelView",
            "description": "",
            "description_tooltip": null,
            "layout": "IPY_MODEL_8e06dcb4b19449729ed54bba50c99c19",
            "placeholder": "​",
            "style": "IPY_MODEL_1e19905d5e824bce860be06df60456c6",
            "value": "Waiting for wandb.init()...\r"
          }
        },
        "5695c05416fc4515b93caa1ad27fe213": {
          "model_module": "@jupyter-widgets/controls",
          "model_name": "FloatProgressModel",
          "model_module_version": "1.5.0",
          "state": {
            "_dom_classes": [],
            "_model_module": "@jupyter-widgets/controls",
            "_model_module_version": "1.5.0",
            "_model_name": "FloatProgressModel",
            "_view_count": null,
            "_view_module": "@jupyter-widgets/controls",
            "_view_module_version": "1.5.0",
            "_view_name": "ProgressView",
            "bar_style": "",
            "description": "",
            "description_tooltip": null,
            "layout": "IPY_MODEL_ad738e4a74b3443383ff4d84d328f3f2",
            "max": 1,
            "min": 0,
            "orientation": "horizontal",
            "style": "IPY_MODEL_c6b07e5d8f7e440b905046fe5b0ce0c4",
            "value": 1
          }
        },
        "06f5e02e1bbf4dfcbb75d0895fda83d3": {
          "model_module": "@jupyter-widgets/base",
          "model_name": "LayoutModel",
          "model_module_version": "1.2.0",
          "state": {
            "_model_module": "@jupyter-widgets/base",
            "_model_module_version": "1.2.0",
            "_model_name": "LayoutModel",
            "_view_count": null,
            "_view_module": "@jupyter-widgets/base",
            "_view_module_version": "1.2.0",
            "_view_name": "LayoutView",
            "align_content": null,
            "align_items": null,
            "align_self": null,
            "border": null,
            "bottom": null,
            "display": null,
            "flex": null,
            "flex_flow": null,
            "grid_area": null,
            "grid_auto_columns": null,
            "grid_auto_flow": null,
            "grid_auto_rows": null,
            "grid_column": null,
            "grid_gap": null,
            "grid_row": null,
            "grid_template_areas": null,
            "grid_template_columns": null,
            "grid_template_rows": null,
            "height": null,
            "justify_content": null,
            "justify_items": null,
            "left": null,
            "margin": null,
            "max_height": null,
            "max_width": null,
            "min_height": null,
            "min_width": null,
            "object_fit": null,
            "object_position": null,
            "order": null,
            "overflow": null,
            "overflow_x": null,
            "overflow_y": null,
            "padding": null,
            "right": null,
            "top": null,
            "visibility": null,
            "width": null
          }
        },
        "8e06dcb4b19449729ed54bba50c99c19": {
          "model_module": "@jupyter-widgets/base",
          "model_name": "LayoutModel",
          "model_module_version": "1.2.0",
          "state": {
            "_model_module": "@jupyter-widgets/base",
            "_model_module_version": "1.2.0",
            "_model_name": "LayoutModel",
            "_view_count": null,
            "_view_module": "@jupyter-widgets/base",
            "_view_module_version": "1.2.0",
            "_view_name": "LayoutView",
            "align_content": null,
            "align_items": null,
            "align_self": null,
            "border": null,
            "bottom": null,
            "display": null,
            "flex": null,
            "flex_flow": null,
            "grid_area": null,
            "grid_auto_columns": null,
            "grid_auto_flow": null,
            "grid_auto_rows": null,
            "grid_column": null,
            "grid_gap": null,
            "grid_row": null,
            "grid_template_areas": null,
            "grid_template_columns": null,
            "grid_template_rows": null,
            "height": null,
            "justify_content": null,
            "justify_items": null,
            "left": null,
            "margin": null,
            "max_height": null,
            "max_width": null,
            "min_height": null,
            "min_width": null,
            "object_fit": null,
            "object_position": null,
            "order": null,
            "overflow": null,
            "overflow_x": null,
            "overflow_y": null,
            "padding": null,
            "right": null,
            "top": null,
            "visibility": null,
            "width": null
          }
        },
        "1e19905d5e824bce860be06df60456c6": {
          "model_module": "@jupyter-widgets/controls",
          "model_name": "DescriptionStyleModel",
          "model_module_version": "1.5.0",
          "state": {
            "_model_module": "@jupyter-widgets/controls",
            "_model_module_version": "1.5.0",
            "_model_name": "DescriptionStyleModel",
            "_view_count": null,
            "_view_module": "@jupyter-widgets/base",
            "_view_module_version": "1.2.0",
            "_view_name": "StyleView",
            "description_width": ""
          }
        },
        "ad738e4a74b3443383ff4d84d328f3f2": {
          "model_module": "@jupyter-widgets/base",
          "model_name": "LayoutModel",
          "model_module_version": "1.2.0",
          "state": {
            "_model_module": "@jupyter-widgets/base",
            "_model_module_version": "1.2.0",
            "_model_name": "LayoutModel",
            "_view_count": null,
            "_view_module": "@jupyter-widgets/base",
            "_view_module_version": "1.2.0",
            "_view_name": "LayoutView",
            "align_content": null,
            "align_items": null,
            "align_self": null,
            "border": null,
            "bottom": null,
            "display": null,
            "flex": null,
            "flex_flow": null,
            "grid_area": null,
            "grid_auto_columns": null,
            "grid_auto_flow": null,
            "grid_auto_rows": null,
            "grid_column": null,
            "grid_gap": null,
            "grid_row": null,
            "grid_template_areas": null,
            "grid_template_columns": null,
            "grid_template_rows": null,
            "height": null,
            "justify_content": null,
            "justify_items": null,
            "left": null,
            "margin": null,
            "max_height": null,
            "max_width": null,
            "min_height": null,
            "min_width": null,
            "object_fit": null,
            "object_position": null,
            "order": null,
            "overflow": null,
            "overflow_x": null,
            "overflow_y": null,
            "padding": null,
            "right": null,
            "top": null,
            "visibility": null,
            "width": null
          }
        },
        "c6b07e5d8f7e440b905046fe5b0ce0c4": {
          "model_module": "@jupyter-widgets/controls",
          "model_name": "ProgressStyleModel",
          "model_module_version": "1.5.0",
          "state": {
            "_model_module": "@jupyter-widgets/controls",
            "_model_module_version": "1.5.0",
            "_model_name": "ProgressStyleModel",
            "_view_count": null,
            "_view_module": "@jupyter-widgets/base",
            "_view_module_version": "1.2.0",
            "_view_name": "StyleView",
            "bar_color": null,
            "description_width": ""
          }
        },
        "1378d9ac1c074ba383470f88db54a0e0": {
          "model_module": "@jupyter-widgets/controls",
          "model_name": "VBoxModel",
          "model_module_version": "1.5.0",
          "state": {
            "_dom_classes": [],
            "_model_module": "@jupyter-widgets/controls",
            "_model_module_version": "1.5.0",
            "_model_name": "VBoxModel",
            "_view_count": null,
            "_view_module": "@jupyter-widgets/controls",
            "_view_module_version": "1.5.0",
            "_view_name": "VBoxView",
            "box_style": "",
            "children": [
              "IPY_MODEL_59c269d2ded64bfe899f3a5af2d9634a",
              "IPY_MODEL_a72f01323a3a4ab4b318b18d1dccd052"
            ],
            "layout": "IPY_MODEL_d2245238feb14a8cb7cb34e9cad26093"
          }
        },
        "59c269d2ded64bfe899f3a5af2d9634a": {
          "model_module": "@jupyter-widgets/controls",
          "model_name": "LabelModel",
          "model_module_version": "1.5.0",
          "state": {
            "_dom_classes": [],
            "_model_module": "@jupyter-widgets/controls",
            "_model_module_version": "1.5.0",
            "_model_name": "LabelModel",
            "_view_count": null,
            "_view_module": "@jupyter-widgets/controls",
            "_view_module_version": "1.5.0",
            "_view_name": "LabelView",
            "description": "",
            "description_tooltip": null,
            "layout": "IPY_MODEL_39127caedaff4de395a3a27c03cb6fd2",
            "placeholder": "​",
            "style": "IPY_MODEL_b61f75a148e440b7a23b6a2308765e02",
            "value": "Waiting for wandb.init()...\r"
          }
        },
        "a72f01323a3a4ab4b318b18d1dccd052": {
          "model_module": "@jupyter-widgets/controls",
          "model_name": "FloatProgressModel",
          "model_module_version": "1.5.0",
          "state": {
            "_dom_classes": [],
            "_model_module": "@jupyter-widgets/controls",
            "_model_module_version": "1.5.0",
            "_model_name": "FloatProgressModel",
            "_view_count": null,
            "_view_module": "@jupyter-widgets/controls",
            "_view_module_version": "1.5.0",
            "_view_name": "ProgressView",
            "bar_style": "",
            "description": "",
            "description_tooltip": null,
            "layout": "IPY_MODEL_269d31319999477894379d09e0b20b5d",
            "max": 1,
            "min": 0,
            "orientation": "horizontal",
            "style": "IPY_MODEL_5c3a8a29d4d5435c8517c3ad75ac8101",
            "value": 1
          }
        },
        "d2245238feb14a8cb7cb34e9cad26093": {
          "model_module": "@jupyter-widgets/base",
          "model_name": "LayoutModel",
          "model_module_version": "1.2.0",
          "state": {
            "_model_module": "@jupyter-widgets/base",
            "_model_module_version": "1.2.0",
            "_model_name": "LayoutModel",
            "_view_count": null,
            "_view_module": "@jupyter-widgets/base",
            "_view_module_version": "1.2.0",
            "_view_name": "LayoutView",
            "align_content": null,
            "align_items": null,
            "align_self": null,
            "border": null,
            "bottom": null,
            "display": null,
            "flex": null,
            "flex_flow": null,
            "grid_area": null,
            "grid_auto_columns": null,
            "grid_auto_flow": null,
            "grid_auto_rows": null,
            "grid_column": null,
            "grid_gap": null,
            "grid_row": null,
            "grid_template_areas": null,
            "grid_template_columns": null,
            "grid_template_rows": null,
            "height": null,
            "justify_content": null,
            "justify_items": null,
            "left": null,
            "margin": null,
            "max_height": null,
            "max_width": null,
            "min_height": null,
            "min_width": null,
            "object_fit": null,
            "object_position": null,
            "order": null,
            "overflow": null,
            "overflow_x": null,
            "overflow_y": null,
            "padding": null,
            "right": null,
            "top": null,
            "visibility": null,
            "width": null
          }
        },
        "39127caedaff4de395a3a27c03cb6fd2": {
          "model_module": "@jupyter-widgets/base",
          "model_name": "LayoutModel",
          "model_module_version": "1.2.0",
          "state": {
            "_model_module": "@jupyter-widgets/base",
            "_model_module_version": "1.2.0",
            "_model_name": "LayoutModel",
            "_view_count": null,
            "_view_module": "@jupyter-widgets/base",
            "_view_module_version": "1.2.0",
            "_view_name": "LayoutView",
            "align_content": null,
            "align_items": null,
            "align_self": null,
            "border": null,
            "bottom": null,
            "display": null,
            "flex": null,
            "flex_flow": null,
            "grid_area": null,
            "grid_auto_columns": null,
            "grid_auto_flow": null,
            "grid_auto_rows": null,
            "grid_column": null,
            "grid_gap": null,
            "grid_row": null,
            "grid_template_areas": null,
            "grid_template_columns": null,
            "grid_template_rows": null,
            "height": null,
            "justify_content": null,
            "justify_items": null,
            "left": null,
            "margin": null,
            "max_height": null,
            "max_width": null,
            "min_height": null,
            "min_width": null,
            "object_fit": null,
            "object_position": null,
            "order": null,
            "overflow": null,
            "overflow_x": null,
            "overflow_y": null,
            "padding": null,
            "right": null,
            "top": null,
            "visibility": null,
            "width": null
          }
        },
        "b61f75a148e440b7a23b6a2308765e02": {
          "model_module": "@jupyter-widgets/controls",
          "model_name": "DescriptionStyleModel",
          "model_module_version": "1.5.0",
          "state": {
            "_model_module": "@jupyter-widgets/controls",
            "_model_module_version": "1.5.0",
            "_model_name": "DescriptionStyleModel",
            "_view_count": null,
            "_view_module": "@jupyter-widgets/base",
            "_view_module_version": "1.2.0",
            "_view_name": "StyleView",
            "description_width": ""
          }
        },
        "269d31319999477894379d09e0b20b5d": {
          "model_module": "@jupyter-widgets/base",
          "model_name": "LayoutModel",
          "model_module_version": "1.2.0",
          "state": {
            "_model_module": "@jupyter-widgets/base",
            "_model_module_version": "1.2.0",
            "_model_name": "LayoutModel",
            "_view_count": null,
            "_view_module": "@jupyter-widgets/base",
            "_view_module_version": "1.2.0",
            "_view_name": "LayoutView",
            "align_content": null,
            "align_items": null,
            "align_self": null,
            "border": null,
            "bottom": null,
            "display": null,
            "flex": null,
            "flex_flow": null,
            "grid_area": null,
            "grid_auto_columns": null,
            "grid_auto_flow": null,
            "grid_auto_rows": null,
            "grid_column": null,
            "grid_gap": null,
            "grid_row": null,
            "grid_template_areas": null,
            "grid_template_columns": null,
            "grid_template_rows": null,
            "height": null,
            "justify_content": null,
            "justify_items": null,
            "left": null,
            "margin": null,
            "max_height": null,
            "max_width": null,
            "min_height": null,
            "min_width": null,
            "object_fit": null,
            "object_position": null,
            "order": null,
            "overflow": null,
            "overflow_x": null,
            "overflow_y": null,
            "padding": null,
            "right": null,
            "top": null,
            "visibility": null,
            "width": null
          }
        },
        "5c3a8a29d4d5435c8517c3ad75ac8101": {
          "model_module": "@jupyter-widgets/controls",
          "model_name": "ProgressStyleModel",
          "model_module_version": "1.5.0",
          "state": {
            "_model_module": "@jupyter-widgets/controls",
            "_model_module_version": "1.5.0",
            "_model_name": "ProgressStyleModel",
            "_view_count": null,
            "_view_module": "@jupyter-widgets/base",
            "_view_module_version": "1.2.0",
            "_view_name": "StyleView",
            "bar_color": null,
            "description_width": ""
          }
        },
        "99872b3d3c7f4235bf85c52bd71376a6": {
          "model_module": "@jupyter-widgets/controls",
          "model_name": "VBoxModel",
          "model_module_version": "1.5.0",
          "state": {
            "_dom_classes": [],
            "_model_module": "@jupyter-widgets/controls",
            "_model_module_version": "1.5.0",
            "_model_name": "VBoxModel",
            "_view_count": null,
            "_view_module": "@jupyter-widgets/controls",
            "_view_module_version": "1.5.0",
            "_view_name": "VBoxView",
            "box_style": "",
            "children": [
              "IPY_MODEL_b3ae5d17376b426c9365c955048ec4a7",
              "IPY_MODEL_56f49cc872a44d569d5fdef83e8dab60"
            ],
            "layout": "IPY_MODEL_cf61773e37e0497b8c8f893e7dec271c"
          }
        },
        "b3ae5d17376b426c9365c955048ec4a7": {
          "model_module": "@jupyter-widgets/controls",
          "model_name": "LabelModel",
          "model_module_version": "1.5.0",
          "state": {
            "_dom_classes": [],
            "_model_module": "@jupyter-widgets/controls",
            "_model_module_version": "1.5.0",
            "_model_name": "LabelModel",
            "_view_count": null,
            "_view_module": "@jupyter-widgets/controls",
            "_view_module_version": "1.5.0",
            "_view_name": "LabelView",
            "description": "",
            "description_tooltip": null,
            "layout": "IPY_MODEL_a05d64150f724330940d893cf5645d48",
            "placeholder": "​",
            "style": "IPY_MODEL_4ccc701519114b0a906765158b47f4b1",
            "value": "0.014 MB of 0.014 MB uploaded (0.000 MB deduped)\r"
          }
        },
        "56f49cc872a44d569d5fdef83e8dab60": {
          "model_module": "@jupyter-widgets/controls",
          "model_name": "FloatProgressModel",
          "model_module_version": "1.5.0",
          "state": {
            "_dom_classes": [],
            "_model_module": "@jupyter-widgets/controls",
            "_model_module_version": "1.5.0",
            "_model_name": "FloatProgressModel",
            "_view_count": null,
            "_view_module": "@jupyter-widgets/controls",
            "_view_module_version": "1.5.0",
            "_view_name": "ProgressView",
            "bar_style": "",
            "description": "",
            "description_tooltip": null,
            "layout": "IPY_MODEL_1d94161e4ae74ab386e8ae9777325d44",
            "max": 1,
            "min": 0,
            "orientation": "horizontal",
            "style": "IPY_MODEL_d8962ce63ff54da4b2ef44ead2270aae",
            "value": 1
          }
        },
        "cf61773e37e0497b8c8f893e7dec271c": {
          "model_module": "@jupyter-widgets/base",
          "model_name": "LayoutModel",
          "model_module_version": "1.2.0",
          "state": {
            "_model_module": "@jupyter-widgets/base",
            "_model_module_version": "1.2.0",
            "_model_name": "LayoutModel",
            "_view_count": null,
            "_view_module": "@jupyter-widgets/base",
            "_view_module_version": "1.2.0",
            "_view_name": "LayoutView",
            "align_content": null,
            "align_items": null,
            "align_self": null,
            "border": null,
            "bottom": null,
            "display": null,
            "flex": null,
            "flex_flow": null,
            "grid_area": null,
            "grid_auto_columns": null,
            "grid_auto_flow": null,
            "grid_auto_rows": null,
            "grid_column": null,
            "grid_gap": null,
            "grid_row": null,
            "grid_template_areas": null,
            "grid_template_columns": null,
            "grid_template_rows": null,
            "height": null,
            "justify_content": null,
            "justify_items": null,
            "left": null,
            "margin": null,
            "max_height": null,
            "max_width": null,
            "min_height": null,
            "min_width": null,
            "object_fit": null,
            "object_position": null,
            "order": null,
            "overflow": null,
            "overflow_x": null,
            "overflow_y": null,
            "padding": null,
            "right": null,
            "top": null,
            "visibility": null,
            "width": null
          }
        },
        "a05d64150f724330940d893cf5645d48": {
          "model_module": "@jupyter-widgets/base",
          "model_name": "LayoutModel",
          "model_module_version": "1.2.0",
          "state": {
            "_model_module": "@jupyter-widgets/base",
            "_model_module_version": "1.2.0",
            "_model_name": "LayoutModel",
            "_view_count": null,
            "_view_module": "@jupyter-widgets/base",
            "_view_module_version": "1.2.0",
            "_view_name": "LayoutView",
            "align_content": null,
            "align_items": null,
            "align_self": null,
            "border": null,
            "bottom": null,
            "display": null,
            "flex": null,
            "flex_flow": null,
            "grid_area": null,
            "grid_auto_columns": null,
            "grid_auto_flow": null,
            "grid_auto_rows": null,
            "grid_column": null,
            "grid_gap": null,
            "grid_row": null,
            "grid_template_areas": null,
            "grid_template_columns": null,
            "grid_template_rows": null,
            "height": null,
            "justify_content": null,
            "justify_items": null,
            "left": null,
            "margin": null,
            "max_height": null,
            "max_width": null,
            "min_height": null,
            "min_width": null,
            "object_fit": null,
            "object_position": null,
            "order": null,
            "overflow": null,
            "overflow_x": null,
            "overflow_y": null,
            "padding": null,
            "right": null,
            "top": null,
            "visibility": null,
            "width": null
          }
        },
        "4ccc701519114b0a906765158b47f4b1": {
          "model_module": "@jupyter-widgets/controls",
          "model_name": "DescriptionStyleModel",
          "model_module_version": "1.5.0",
          "state": {
            "_model_module": "@jupyter-widgets/controls",
            "_model_module_version": "1.5.0",
            "_model_name": "DescriptionStyleModel",
            "_view_count": null,
            "_view_module": "@jupyter-widgets/base",
            "_view_module_version": "1.2.0",
            "_view_name": "StyleView",
            "description_width": ""
          }
        },
        "1d94161e4ae74ab386e8ae9777325d44": {
          "model_module": "@jupyter-widgets/base",
          "model_name": "LayoutModel",
          "model_module_version": "1.2.0",
          "state": {
            "_model_module": "@jupyter-widgets/base",
            "_model_module_version": "1.2.0",
            "_model_name": "LayoutModel",
            "_view_count": null,
            "_view_module": "@jupyter-widgets/base",
            "_view_module_version": "1.2.0",
            "_view_name": "LayoutView",
            "align_content": null,
            "align_items": null,
            "align_self": null,
            "border": null,
            "bottom": null,
            "display": null,
            "flex": null,
            "flex_flow": null,
            "grid_area": null,
            "grid_auto_columns": null,
            "grid_auto_flow": null,
            "grid_auto_rows": null,
            "grid_column": null,
            "grid_gap": null,
            "grid_row": null,
            "grid_template_areas": null,
            "grid_template_columns": null,
            "grid_template_rows": null,
            "height": null,
            "justify_content": null,
            "justify_items": null,
            "left": null,
            "margin": null,
            "max_height": null,
            "max_width": null,
            "min_height": null,
            "min_width": null,
            "object_fit": null,
            "object_position": null,
            "order": null,
            "overflow": null,
            "overflow_x": null,
            "overflow_y": null,
            "padding": null,
            "right": null,
            "top": null,
            "visibility": null,
            "width": null
          }
        },
        "d8962ce63ff54da4b2ef44ead2270aae": {
          "model_module": "@jupyter-widgets/controls",
          "model_name": "ProgressStyleModel",
          "model_module_version": "1.5.0",
          "state": {
            "_model_module": "@jupyter-widgets/controls",
            "_model_module_version": "1.5.0",
            "_model_name": "ProgressStyleModel",
            "_view_count": null,
            "_view_module": "@jupyter-widgets/base",
            "_view_module_version": "1.2.0",
            "_view_name": "StyleView",
            "bar_color": null,
            "description_width": ""
          }
        }
      }
    }
  },
  "nbformat": 4,
  "nbformat_minor": 0
}