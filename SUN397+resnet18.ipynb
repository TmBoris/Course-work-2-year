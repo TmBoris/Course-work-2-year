{
 "cells": [
  {
   "cell_type": "code",
   "execution_count": 129,
   "id": "82666bfb",
   "metadata": {
    "cellId": "fyxtl67z7u9ny91zbh07"
   },
   "outputs": [],
   "source": [
    "from torchvision.datasets import SUN397\n",
    "from torch.utils.data import Dataset, DataLoader\n",
    "import torchvision.transforms as T\n",
    "import torch\n",
    "import torch.nn as nn\n",
    "import tqdm\n",
    "import os\n",
    "from IPython.display import clear_output\n",
    "import numpy as np\n",
    "\n",
    "import matplotlib.pyplot as plt\n",
    "from torch.optim.lr_scheduler import MultiStepLR\n",
    "import torchvision.models as models\n",
    "import torch.nn.utils.prune as prune\n",
    "import matplotlib.pyplot as plt"
   ]
  },
  {
   "cell_type": "code",
   "execution_count": 130,
   "id": "cbf6e434",
   "metadata": {
    "cellId": "7g6sn6574ywy237akamhkm"
   },
   "outputs": [],
   "source": [
    "from sklearn.model_selection import train_test_split"
   ]
  },
  {
   "cell_type": "code",
   "execution_count": 131,
   "id": "c5028101",
   "metadata": {
    "cellId": "5pm5rzf89gyfp5siir9k1j",
    "colab": {
     "base_uri": "https://localhost:8080/"
    },
    "id": "RSIu8_WgYmv1",
    "outputId": "4d28975d-8100-4973-f2df-d85669c8e75f"
   },
   "outputs": [
    {
     "name": "stdout",
     "output_type": "stream",
     "text": [
      "cuda:0\n"
     ]
    }
   ],
   "source": [
    "#!g1.1\n",
    "device = torch.device('cuda:0' if torch.cuda.is_available() else 'cpu')\n",
    "print(device)"
   ]
  },
  {
   "cell_type": "markdown",
   "id": "3cc4f0af",
   "metadata": {
    "cellId": "54xz0jvj7uviod46crvsjr",
    "execution_id": "3409ba70-55ce-4a97-9134-da33c689e237",
    "id": "VjFhZbg9GyGv"
   },
   "source": [
    "## Обучение"
   ]
  },
  {
   "cell_type": "code",
   "execution_count": 132,
   "id": "b65077b3",
   "metadata": {
    "cellId": "qs933jtyju12jxlpbcwwv",
    "colab": {
     "base_uri": "https://localhost:8080/"
    },
    "id": "AmDeoS93M6wc",
    "outputId": "172dba41-8948-47de-8061-a9d7253c2de8"
   },
   "outputs": [
    {
     "name": "stdout",
     "output_type": "stream",
     "text": [
      "\u001b[33mWARNING: Ignoring invalid distribution -orch (/home/jupyter/.local/lib/python3.8/site-packages)\u001b[0m\u001b[33m\n",
      "\u001b[0m\u001b[33mWARNING: Ignoring invalid distribution -orch (/home/jupyter/.local/lib/python3.8/site-packages)\u001b[0m\u001b[33m\n",
      "\u001b[0m"
     ]
    }
   ],
   "source": [
    "%pip install wandb -qU\n",
    "import wandb"
   ]
  },
  {
   "cell_type": "code",
   "execution_count": 133,
   "id": "ae60db46",
   "metadata": {
    "cellId": "wk1jok667ksrv8zqaxn1o",
    "id": "4ftNWdcBSOhz"
   },
   "outputs": [],
   "source": [
    "class SUN397Dataset(Dataset):\n",
    "    def __init__(self, root, train=True, download=True):\n",
    "        transform = T.Compose([\n",
    "          T.Resize(256),\n",
    "          T.RandomHorizontalFlip(),\n",
    "          T.ToTensor(),\n",
    "          T.Normalize(mean=[0.485, 0.456, 0.486], std=[0.229 , 0.224, 0.225]),\n",
    "        ]) \n",
    "        self.tv_dataset = SUN397(\n",
    "            root,\n",
    "            download=download,\n",
    "            transform=transform,\n",
    "        )\n",
    "\n",
    "    def __len__(self):\n",
    "        return len(self.tv_dataset)\n",
    "\n",
    "    def __getitem__(self, ix):\n",
    "        return self.tv_dataset[ix]\n"
   ]
  },
  {
   "cell_type": "code",
   "execution_count": 134,
   "id": "203078e9",
   "metadata": {
    "cellId": "5n8shnhwc52t8jdh9ltf",
    "id": "hJ3MQRhWMGPK"
   },
   "outputs": [],
   "source": [
    "def prune_net(net, prune_ratio=0.3, method=\"l1\"):\n",
    "    parameters_to_prune = [\n",
    "        (module, \"weight\") for module in filter(lambda m: type(m) == torch.nn.Conv2d, net.modules())\n",
    "    ]\n",
    "    \n",
    "    prune.global_unstructured(\n",
    "        parameters_to_prune,\n",
    "        pruning_method=prune.L1Unstructured,\n",
    "        amount=prune_ratio,\n",
    "    )\n",
    "\n",
    "def copy_weights_layer(layer_unpruned, layer_pruned):\n",
    "    with torch.no_grad():\n",
    "      if \"weight\" in layer_pruned.state_dict():\n",
    "        layer_pruned.weight.copy_(layer_unpruned.weight)\n",
    "      if \"weight_orig\" in layer_pruned.state_dict():\n",
    "        layer_pruned.weight_orig.copy_(layer_unpruned.weight)\n",
    "      if \"bias\" in layer_pruned.state_dict():\n",
    "        layer_pruned.bias.copy_(layer_unpruned.bias)\n",
    "      if \"running_mean\" in layer_pruned.state_dict():\n",
    "        layer_pruned.running_mean.copy_(layer_unpruned.running_mean)\n",
    "      if \"running_var\" in layer_pruned.state_dict():\n",
    "        layer_pruned.running_var.copy_(layer_unpruned.running_var)\n",
    "\n",
    "def copy_weights_net(net_unpruned, net_pruned):\n",
    "    zipped = zip(net_unpruned.modules(), net_pruned.modules())\n",
    "\n",
    "    for layer_unpruned, layer_pruned in zipped:\n",
    "      if \"weight\" in layer_unpruned.state_dict():\n",
    "        copy_weights_layer(layer_unpruned, layer_pruned)\n"
   ]
  },
  {
   "cell_type": "code",
   "execution_count": 135,
   "id": "cd030006",
   "metadata": {
    "cellId": "u8yrcugd1vvf22bixrill"
   },
   "outputs": [],
   "source": [
    "#!g1.1\n",
    "# kwargs = dict(\n",
    "#     num_classes=397,\n",
    "# )\n",
    "\n",
    "# base_weights_net = models.resnet18(**kwargs).to(device)\n",
    "# torch.save(base_weights_net, \"base_weights_net\")"
   ]
  },
  {
   "cell_type": "code",
   "execution_count": 136,
   "id": "5b8b6c8a",
   "metadata": {
    "cellId": "4q6964la09i1734qqzfoh8"
   },
   "outputs": [],
   "source": [
    "# os.mkdir(\"resnet18+SUN397_models\")"
   ]
  },
  {
   "cell_type": "code",
   "execution_count": 137,
   "id": "04352247",
   "metadata": {
    "cellId": "55163ooyzae1tg9nz0g2td",
    "id": "RjvCrn2x3Ev_"
   },
   "outputs": [],
   "source": [
    "#!g1.1\n",
    "def loop_dataloader(dataloader):\n",
    "    while True:\n",
    "        for x in iter(dataloader):\n",
    "            yield x\n",
    "\n",
    "\n",
    "def train(model, dataloader_train, loss_inst, optimizer, max_iter=10_000,\n",
    "          dataloader_val=None, val_freq=500, scheduler=None):\n",
    "    global device\n",
    "    iterable = loop_dataloader(dataloader_train)\n",
    "    iterable = tqdm.tqdm(iterable, total=max_iter)\n",
    "    it = 0\n",
    "    for X_batch, y_batch in iterable:\n",
    "        if it == max_iter:\n",
    "            break\n",
    "        X_batch = X_batch.to(device)\n",
    "        y_batch = y_batch.to(device)\n",
    "\n",
    "        logit_batch = model(X_batch)\n",
    "\n",
    "        loss = loss_inst(logit_batch, y_batch)\n",
    "        if dataloader_val is not None:\n",
    "            wandb.log({\"loss\": loss}, step=it)\n",
    "\n",
    "        optimizer.zero_grad()\n",
    "        loss.backward()\n",
    "        optimizer.step()\n",
    "\n",
    "        if scheduler is not None:\n",
    "          scheduler.step()\n",
    "\n",
    "        if it % val_freq == 0 and dataloader_val is not None:\n",
    "            model.eval()\n",
    "            is_equal = []\n",
    "\n",
    "            for X_batch_val, y_batch_val in dataloader_val:\n",
    "                X_batch_val = X_batch_val.to(device)\n",
    "                y_batch_val = y_batch_val.to(device)\n",
    "                is_equal.append(\n",
    "                    model(X_batch_val).argmax(dim=-1) == y_batch_val\n",
    "                )\n",
    "\n",
    "            is_equal_t = torch.cat(is_equal)\n",
    "            acc = is_equal_t.sum() / len(is_equal_t)\n",
    "            wandb.log({\"accuracy_val\": acc}, step=it)\n",
    "            model.train()\n",
    "\n",
    "        it += 1\n",
    "        \n",
    "def experiment(MAX_ITER, PRUNE_ITER, PRUNE_RATIO , RANDOM_STATE, SCHEDULE, LR, project_name):\n",
    "    args = {\"max-iter\" : 30000, \"batch-size\" : 64, \"prune-iter\" : 1, \"prune-ratio\" : 0.2, \"prune-method\" : \"l1\", \"val-freq\" : 250, \"random-state\" : 1}\n",
    "    \n",
    "    \n",
    "    os.mkdir(\"resnet18+SUN397_models/pr\" + str(PRUNE_RATIO) + \"_sched\" + str(int(SCHEDULE)) + \"_lr\" + str(LR) + \"_iters\" + str(MAX_ITER))\n",
    "    \n",
    "\n",
    "    args[\"max-iter\"] = MAX_ITER\n",
    "    args[\"prune-iter\"] = PRUNE_ITER\n",
    "    args[\"prune-ratio\"] = PRUNE_RATIO\n",
    "    args[\"random-state\"] = RANDOM_STATE\n",
    "    \n",
    "    wandb.init(\n",
    "        project=project_name,\n",
    "        entity=\"bspanfilov\",\n",
    "        force=True,\n",
    "        name=\"pr\" + str(PRUNE_RATIO) + \"_sched\" + str(int(SCHEDULE)) + \"_lr\" + str(LR),\n",
    "        config=args,\n",
    "    )\n",
    "    wandb.define_metric(\"accuracy_val\", summary=\"max\")\n",
    "    \n",
    "    dataset = SUN397Dataset(\"data2\", download=True)\n",
    "\n",
    "    dataset_val, dataset_train = train_test_split(dataset,\n",
    "                                                  test_size=0.2, train_size=0.8, \n",
    "                                                  random_state=42, shuffle=True\n",
    "    )\n",
    "\n",
    "    if args[\"random-state\"] is not None:\n",
    "        torch.manual_seed(args[\"random-state\"])\n",
    "\n",
    "    dataloader_train = DataLoader(\n",
    "        dataset_train, batch_size=args[\"batch-size\"], shuffle=True\n",
    "    )\n",
    "    dataloader_val = DataLoader(\n",
    "        dataset_val, batch_size=args[\"batch-size\"], shuffle=True\n",
    "    )\n",
    "\n",
    "    kwargs = dict(\n",
    "        num_classes=397,\n",
    "    )\n",
    "\n",
    "    net = torch.load(\"base_weights_net\").to(device)\n",
    "    net_copy = models.resnet18(**kwargs).to(device)\n",
    "    net_copy.load_state_dict(net.state_dict())\n",
    "\n",
    "\n",
    "    loss_inst = nn.CrossEntropyLoss()\n",
    "    optimizer = torch.optim.SGD(net.parameters(), lr=LR, momentum=0.9)\n",
    "    if SCHEDULE:\n",
    "      scheduler = MultiStepLR(optimizer, milestones=[6000,8000], gamma=0.1)\n",
    "    else:\n",
    "      scheduler = None\n",
    "\n",
    "#     per_round_prune_ratio = 1 - (1 - args[\"prune-ratio\"]) ** (1 / args[\"prune-iter\"])\n",
    "#     prune_net(net, per_round_prune_ratio)\n",
    "#     copy_weights_net(net_copy, net)\n",
    "\n",
    "    if args[\"prune-ratio\"] > 0:\n",
    "        per_round_prune_ratio = 1 - (1 - args[\"prune-ratio\"]) ** (1 / args[\"prune-iter\"])\n",
    "\n",
    "        per_round_max_iter = int(args[\"max-iter\"])\n",
    "\n",
    "        for prune_it in range(args[\"prune-iter\"]):\n",
    "            train(\n",
    "                net,\n",
    "                dataloader_train,\n",
    "                loss_inst,\n",
    "                optimizer,\n",
    "                max_iter=per_round_max_iter,\n",
    "            )\n",
    "\n",
    "            torch.save(net, \"resnet18+SUN397_models/pr\" + str(PRUNE_RATIO) + \"_sched\" + str(int(SCHEDULE)) + \"_lr\" + str(LR) + \"_iters\" + str(MAX_ITER) + \"/prune_it\" + str(prune_it))\n",
    "\n",
    "            prune_net(net, per_round_prune_ratio)\n",
    "            copy_weights_net(net_copy, net)\n",
    "\n",
    "    # Run actual training with a final pruned network\n",
    "    train(\n",
    "        net,\n",
    "        dataloader_train,\n",
    "        loss_inst,\n",
    "        optimizer,\n",
    "        max_iter=args[\"max-iter\"],\n",
    "        dataloader_val=dataloader_val,\n",
    "        val_freq=args[\"val-freq\"],\n",
    "        scheduler=scheduler,\n",
    "    )\n",
    "\n",
    "    torch.save(net, \"resnet18+SUN397_models/pr\" + str(PRUNE_RATIO) + \"_sched\" + str(int(SCHEDULE)) + \"_lr\" + str(LR) + \"_iters\" + str(MAX_ITER) + \"/pruned\")\n",
    "    \n",
    "    wandb.finish()\n",
    "\n"
   ]
  },
  {
   "cell_type": "code",
   "execution_count": 138,
   "id": "3ca81d34",
   "metadata": {
    "cellId": "q0v8ykfmldmgb2cx3r4c",
    "colab": {
     "background_save": true,
     "base_uri": "https://localhost:8080/",
     "height": 495
    },
    "execution_id": "9a10364f-84a5-4984-aca5-e622a838b919",
    "id": "Zl0yS8333EwA",
    "outputId": "7ca3c370-4fe2-4f01-de0d-734b20a2a8b4"
   },
   "outputs": [
    {
     "name": "stdout",
     "output_type": "stream",
     "text": [
      "cuda:0\n",
      "Downloading https://vision.princeton.edu/projects/2010/SUN/SUN397.tar.gz to data2/SUN397.tar.gz\n",
      "Failed download. Trying https -> http instead. Downloading http://vision.princeton.edu/projects/2010/SUN/SUN397.tar.gz to data2/SUN397.tar.gz\n"
     ]
    },
    {
     "name": "stderr",
     "output_type": "stream",
     "text": [
      " 81%|████████  | 31688589312/39077296924 [20:32<04:21, 28241439.60it/s]Exception in thread OutRawRd-stderr:\n",
      "Traceback (most recent call last):\n",
      "  File \"/usr/lib/python3.8/threading.py\", line 932, in _bootstrap_inner\n",
      "    self.run()\n",
      "  File \"/usr/lib/python3.8/threading.py\", line 870, in run\n",
      "    self._target(*self._args, **self._kwargs)\n",
      "  File \"/home/jupyter/.local/lib/python3.8/site-packages/wandb/sdk/internal/sender.py\", line 1229, in _output_raw_reader_thread\n",
      "    self._output_raw_flush(stream)\n",
      "  File \"/home/jupyter/.local/lib/python3.8/site-packages/wandb/sdk/internal/sender.py\", line 1244, in _output_raw_flush\n",
      "    self._output_raw_file.write(data.encode(\"utf-8\"))\n",
      "  File \"/home/jupyter/.local/lib/python3.8/site-packages/wandb/sdk/lib/filesystem.py\", line 79, in write\n",
      "    super().write(b\"\\n\".join(ret) + b\"\\n\")\n",
      "  File \"/home/jupyter/.local/lib/python3.8/site-packages/wandb/sdk/lib/filesystem.py\", line 46, in write\n",
      "    self.f.flush()\n",
      "OSError: [Errno 28] No space left on device\n",
      "Thread SenderThread:\n",
      "Traceback (most recent call last):\n",
      "  File \"/home/jupyter/.local/lib/python3.8/site-packages/wandb/sdk/internal/internal_util.py\", line 49, in run\n",
      "    self._run()\n",
      "  File \"/home/jupyter/.local/lib/python3.8/site-packages/wandb/sdk/internal/internal_util.py\", line 101, in _run\n",
      "    self._finish()\n",
      "  File \"/home/jupyter/.local/lib/python3.8/site-packages/wandb/sdk/internal/internal.py\", line 331, in _finish\n",
      "    self._sm.finish()\n",
      "  File \"/home/jupyter/.local/lib/python3.8/site-packages/wandb/sdk/internal/sender.py\", line 1553, in finish\n",
      "    self._output_raw_finish()\n",
      "  File \"/home/jupyter/.local/lib/python3.8/site-packages/wandb/sdk/internal/sender.py\", line 1200, in _output_raw_finish\n",
      "    self._output_raw_file.close()\n",
      "  File \"/home/jupyter/.local/lib/python3.8/site-packages/wandb/sdk/lib/filesystem.py\", line 84, in close\n",
      "    super().close()\n",
      "  File \"/home/jupyter/.local/lib/python3.8/site-packages/wandb/sdk/lib/filesystem.py\", line 53, in close\n",
      "    self.f.close()\n",
      "OSError: [Errno 28] No space left on device\n",
      "wandb: ERROR Internal wandb error: file data was not synced\n",
      " 81%|████████  | 31691112448/39077296924 [20:35<04:47, 25649782.95it/s]\n"
     ]
    },
    {
     "ename": "OSError",
     "evalue": "[Errno 28] No space left on device: 'data2/SUN397.tar.gz'",
     "output_type": "error",
     "traceback": [
      "\u001b[0;31m---------------------------------------------------------------------------\u001b[0m",
      "\u001b[0;31mOSError\u001b[0m                                   Traceback (most recent call last)",
      "\u001b[0;32m~/.local/lib/python3.8/site-packages/torchvision/datasets/utils.py\u001b[0m in \u001b[0;36m_save_response_content\u001b[0;34m(content, destination, length)\u001b[0m\n\u001b[1;32m     41\u001b[0m \u001b[0;34m\u001b[0m\u001b[0m\n\u001b[0;32m---> 42\u001b[0;31m             \u001b[0mfh\u001b[0m\u001b[0;34m.\u001b[0m\u001b[0mwrite\u001b[0m\u001b[0;34m(\u001b[0m\u001b[0mchunk\u001b[0m\u001b[0;34m)\u001b[0m\u001b[0;34m\u001b[0m\u001b[0;34m\u001b[0m\u001b[0m\n\u001b[0m\u001b[1;32m     43\u001b[0m             \u001b[0mpbar\u001b[0m\u001b[0;34m.\u001b[0m\u001b[0mupdate\u001b[0m\u001b[0;34m(\u001b[0m\u001b[0mlen\u001b[0m\u001b[0;34m(\u001b[0m\u001b[0mchunk\u001b[0m\u001b[0;34m)\u001b[0m\u001b[0;34m)\u001b[0m\u001b[0;34m\u001b[0m\u001b[0;34m\u001b[0m\u001b[0m\n",
      "\u001b[0;31mOSError\u001b[0m: [Errno 28] No space left on device",
      "\nDuring handling of the above exception, another exception occurred:\n",
      "\u001b[0;31mOSError\u001b[0m                                   Traceback (most recent call last)",
      "\u001b[0;32m~/.local/lib/python3.8/site-packages/torchvision/datasets/utils.py\u001b[0m in \u001b[0;36mdownload_url\u001b[0;34m(url, root, filename, md5, max_redirect_hops)\u001b[0m\n\u001b[1;32m    143\u001b[0m             \u001b[0mprint\u001b[0m\u001b[0;34m(\u001b[0m\u001b[0;34m\"Downloading \"\u001b[0m \u001b[0;34m+\u001b[0m \u001b[0murl\u001b[0m \u001b[0;34m+\u001b[0m \u001b[0;34m\" to \"\u001b[0m \u001b[0;34m+\u001b[0m \u001b[0mfpath\u001b[0m\u001b[0;34m)\u001b[0m\u001b[0;34m\u001b[0m\u001b[0;34m\u001b[0m\u001b[0m\n\u001b[0;32m--> 144\u001b[0;31m             \u001b[0m_urlretrieve\u001b[0m\u001b[0;34m(\u001b[0m\u001b[0murl\u001b[0m\u001b[0;34m,\u001b[0m \u001b[0mfpath\u001b[0m\u001b[0;34m)\u001b[0m\u001b[0;34m\u001b[0m\u001b[0;34m\u001b[0m\u001b[0m\n\u001b[0m\u001b[1;32m    145\u001b[0m         \u001b[0;32mexcept\u001b[0m \u001b[0;34m(\u001b[0m\u001b[0murllib\u001b[0m\u001b[0;34m.\u001b[0m\u001b[0merror\u001b[0m\u001b[0;34m.\u001b[0m\u001b[0mURLError\u001b[0m\u001b[0;34m,\u001b[0m \u001b[0mOSError\u001b[0m\u001b[0;34m)\u001b[0m \u001b[0;32mas\u001b[0m \u001b[0me\u001b[0m\u001b[0;34m:\u001b[0m  \u001b[0;31m# type: ignore[attr-defined]\u001b[0m\u001b[0;34m\u001b[0m\u001b[0;34m\u001b[0m\u001b[0m\n",
      "\u001b[0;32m~/.local/lib/python3.8/site-packages/torchvision/datasets/utils.py\u001b[0m in \u001b[0;36m_urlretrieve\u001b[0;34m(url, filename, chunk_size)\u001b[0m\n\u001b[1;32m     47\u001b[0m     \u001b[0;32mwith\u001b[0m \u001b[0murllib\u001b[0m\u001b[0;34m.\u001b[0m\u001b[0mrequest\u001b[0m\u001b[0;34m.\u001b[0m\u001b[0murlopen\u001b[0m\u001b[0;34m(\u001b[0m\u001b[0murllib\u001b[0m\u001b[0;34m.\u001b[0m\u001b[0mrequest\u001b[0m\u001b[0;34m.\u001b[0m\u001b[0mRequest\u001b[0m\u001b[0;34m(\u001b[0m\u001b[0murl\u001b[0m\u001b[0;34m,\u001b[0m \u001b[0mheaders\u001b[0m\u001b[0;34m=\u001b[0m\u001b[0;34m{\u001b[0m\u001b[0;34m\"User-Agent\"\u001b[0m\u001b[0;34m:\u001b[0m \u001b[0mUSER_AGENT\u001b[0m\u001b[0;34m}\u001b[0m\u001b[0;34m)\u001b[0m\u001b[0;34m)\u001b[0m \u001b[0;32mas\u001b[0m \u001b[0mresponse\u001b[0m\u001b[0;34m:\u001b[0m\u001b[0;34m\u001b[0m\u001b[0;34m\u001b[0m\u001b[0m\n\u001b[0;32m---> 48\u001b[0;31m         \u001b[0m_save_response_content\u001b[0m\u001b[0;34m(\u001b[0m\u001b[0miter\u001b[0m\u001b[0;34m(\u001b[0m\u001b[0;32mlambda\u001b[0m\u001b[0;34m:\u001b[0m \u001b[0mresponse\u001b[0m\u001b[0;34m.\u001b[0m\u001b[0mread\u001b[0m\u001b[0;34m(\u001b[0m\u001b[0mchunk_size\u001b[0m\u001b[0;34m)\u001b[0m\u001b[0;34m,\u001b[0m \u001b[0;34mb\"\"\u001b[0m\u001b[0;34m)\u001b[0m\u001b[0;34m,\u001b[0m \u001b[0mfilename\u001b[0m\u001b[0;34m,\u001b[0m \u001b[0mlength\u001b[0m\u001b[0;34m=\u001b[0m\u001b[0mresponse\u001b[0m\u001b[0;34m.\u001b[0m\u001b[0mlength\u001b[0m\u001b[0;34m)\u001b[0m\u001b[0;34m\u001b[0m\u001b[0;34m\u001b[0m\u001b[0m\n\u001b[0m\u001b[1;32m     49\u001b[0m \u001b[0;34m\u001b[0m\u001b[0m\n",
      "\u001b[0;32m~/.local/lib/python3.8/site-packages/torchvision/datasets/utils.py\u001b[0m in \u001b[0;36m_save_response_content\u001b[0;34m(content, destination, length)\u001b[0m\n\u001b[1;32m     42\u001b[0m             \u001b[0mfh\u001b[0m\u001b[0;34m.\u001b[0m\u001b[0mwrite\u001b[0m\u001b[0;34m(\u001b[0m\u001b[0mchunk\u001b[0m\u001b[0;34m)\u001b[0m\u001b[0;34m\u001b[0m\u001b[0;34m\u001b[0m\u001b[0m\n\u001b[0;32m---> 43\u001b[0;31m             \u001b[0mpbar\u001b[0m\u001b[0;34m.\u001b[0m\u001b[0mupdate\u001b[0m\u001b[0;34m(\u001b[0m\u001b[0mlen\u001b[0m\u001b[0;34m(\u001b[0m\u001b[0mchunk\u001b[0m\u001b[0;34m)\u001b[0m\u001b[0;34m)\u001b[0m\u001b[0;34m\u001b[0m\u001b[0;34m\u001b[0m\u001b[0m\n\u001b[0m\u001b[1;32m     44\u001b[0m \u001b[0;34m\u001b[0m\u001b[0m\n",
      "\u001b[0;31mOSError\u001b[0m: [Errno 28] No space left on device",
      "\nDuring handling of the above exception, another exception occurred:\n",
      "\u001b[0;31mOSError\u001b[0m                                   Traceback (most recent call last)",
      "\u001b[0;32m<ipython-input-2-eaf948736aee>\u001b[0m in \u001b[0;36m<module>\u001b[0;34m\u001b[0m\n\u001b[1;32m      9\u001b[0m \u001b[0mLR\u001b[0m \u001b[0;34m=\u001b[0m \u001b[0;34m[\u001b[0m\u001b[0;36m0.03\u001b[0m\u001b[0;34m]\u001b[0m\u001b[0;34m\u001b[0m\u001b[0;34m\u001b[0m\u001b[0m\n\u001b[1;32m     10\u001b[0m \u001b[0;32mfor\u001b[0m \u001b[0mp\u001b[0m \u001b[0;32min\u001b[0m \u001b[0mzip\u001b[0m\u001b[0;34m(\u001b[0m\u001b[0mMAX_ITERS\u001b[0m\u001b[0;34m,\u001b[0m \u001b[0mPRUNE_ITERS\u001b[0m\u001b[0;34m,\u001b[0m \u001b[0mPRUNE_RATIOS\u001b[0m\u001b[0;34m,\u001b[0m \u001b[0mRANDOM_STATES\u001b[0m\u001b[0;34m,\u001b[0m \u001b[0mSCHEDULE\u001b[0m\u001b[0;34m,\u001b[0m \u001b[0mLR\u001b[0m\u001b[0;34m)\u001b[0m\u001b[0;34m:\u001b[0m\u001b[0;34m\u001b[0m\u001b[0;34m\u001b[0m\u001b[0m\n\u001b[0;32m---> 11\u001b[0;31m   \u001b[0mexperiment\u001b[0m\u001b[0;34m(\u001b[0m\u001b[0mp\u001b[0m\u001b[0;34m[\u001b[0m\u001b[0;36m0\u001b[0m\u001b[0;34m]\u001b[0m\u001b[0;34m,\u001b[0m \u001b[0mp\u001b[0m\u001b[0;34m[\u001b[0m\u001b[0;36m1\u001b[0m\u001b[0;34m]\u001b[0m\u001b[0;34m,\u001b[0m \u001b[0mp\u001b[0m\u001b[0;34m[\u001b[0m\u001b[0;36m2\u001b[0m\u001b[0;34m]\u001b[0m\u001b[0;34m,\u001b[0m \u001b[0mp\u001b[0m\u001b[0;34m[\u001b[0m\u001b[0;36m3\u001b[0m\u001b[0;34m]\u001b[0m\u001b[0;34m,\u001b[0m \u001b[0mp\u001b[0m\u001b[0;34m[\u001b[0m\u001b[0;36m4\u001b[0m\u001b[0;34m]\u001b[0m\u001b[0;34m,\u001b[0m \u001b[0mp\u001b[0m\u001b[0;34m[\u001b[0m\u001b[0;36m5\u001b[0m\u001b[0;34m]\u001b[0m\u001b[0;34m,\u001b[0m \u001b[0;34m\"SUN397+resnet18\"\u001b[0m\u001b[0;34m)\u001b[0m\u001b[0;34m\u001b[0m\u001b[0;34m\u001b[0m\u001b[0m\n\u001b[0m\u001b[1;32m     12\u001b[0m \u001b[0;31m#\u001b[0m\u001b[0;34m\u001b[0m\u001b[0;34m\u001b[0m\u001b[0;34m\u001b[0m\u001b[0m\n",
      "\u001b[0;32m<ipython-input-1-88c7c619bfb4>\u001b[0m in \u001b[0;36mexperiment\u001b[0;34m(MAX_ITER, PRUNE_ITER, PRUNE_RATIO, RANDOM_STATE, SCHEDULE, LR, project_name)\u001b[0m\n\u001b[1;32m     69\u001b[0m     \u001b[0mwandb\u001b[0m\u001b[0;34m.\u001b[0m\u001b[0mdefine_metric\u001b[0m\u001b[0;34m(\u001b[0m\u001b[0;34m\"accuracy_val\"\u001b[0m\u001b[0;34m,\u001b[0m \u001b[0msummary\u001b[0m\u001b[0;34m=\u001b[0m\u001b[0;34m\"max\"\u001b[0m\u001b[0;34m)\u001b[0m\u001b[0;34m\u001b[0m\u001b[0;34m\u001b[0m\u001b[0m\n\u001b[1;32m     70\u001b[0m \u001b[0;34m\u001b[0m\u001b[0m\n\u001b[0;32m---> 71\u001b[0;31m     \u001b[0mdataset\u001b[0m \u001b[0;34m=\u001b[0m \u001b[0mSUN397Dataset\u001b[0m\u001b[0;34m(\u001b[0m\u001b[0;34m\"data2\"\u001b[0m\u001b[0;34m,\u001b[0m \u001b[0mdownload\u001b[0m\u001b[0;34m=\u001b[0m\u001b[0;32mTrue\u001b[0m\u001b[0;34m)\u001b[0m\u001b[0;34m\u001b[0m\u001b[0;34m\u001b[0m\u001b[0m\n\u001b[0m\u001b[1;32m     72\u001b[0m \u001b[0;34m\u001b[0m\u001b[0m\n\u001b[1;32m     73\u001b[0m     dataset_val, dataset_train = train_test_split(dataset,\n",
      "\u001b[0;32m<ipython-input-2-172459ff42a1>\u001b[0m in \u001b[0;36m__init__\u001b[0;34m(self, root, train, download)\u001b[0m\n",
      "\u001b[0;32m~/.local/lib/python3.8/site-packages/torchvision/datasets/sun397.py\u001b[0m in \u001b[0;36m__init__\u001b[0;34m(self, root, transform, target_transform, download)\u001b[0m\n\u001b[1;32m     38\u001b[0m \u001b[0;34m\u001b[0m\u001b[0m\n\u001b[1;32m     39\u001b[0m         \u001b[0;32mif\u001b[0m \u001b[0mdownload\u001b[0m\u001b[0;34m:\u001b[0m\u001b[0;34m\u001b[0m\u001b[0;34m\u001b[0m\u001b[0m\n\u001b[0;32m---> 40\u001b[0;31m             \u001b[0mself\u001b[0m\u001b[0;34m.\u001b[0m\u001b[0m_download\u001b[0m\u001b[0;34m(\u001b[0m\u001b[0;34m)\u001b[0m\u001b[0;34m\u001b[0m\u001b[0;34m\u001b[0m\u001b[0m\n\u001b[0m\u001b[1;32m     41\u001b[0m \u001b[0;34m\u001b[0m\u001b[0m\n\u001b[1;32m     42\u001b[0m         \u001b[0;32mif\u001b[0m \u001b[0;32mnot\u001b[0m \u001b[0mself\u001b[0m\u001b[0;34m.\u001b[0m\u001b[0m_check_exists\u001b[0m\u001b[0;34m(\u001b[0m\u001b[0;34m)\u001b[0m\u001b[0;34m:\u001b[0m\u001b[0;34m\u001b[0m\u001b[0;34m\u001b[0m\u001b[0m\n",
      "\u001b[0;32m~/.local/lib/python3.8/site-packages/torchvision/datasets/sun397.py\u001b[0m in \u001b[0;36m_download\u001b[0;34m(self)\u001b[0m\n\u001b[1;32m     74\u001b[0m         \u001b[0;32mif\u001b[0m \u001b[0mself\u001b[0m\u001b[0;34m.\u001b[0m\u001b[0m_check_exists\u001b[0m\u001b[0;34m(\u001b[0m\u001b[0;34m)\u001b[0m\u001b[0;34m:\u001b[0m\u001b[0;34m\u001b[0m\u001b[0;34m\u001b[0m\u001b[0m\n\u001b[1;32m     75\u001b[0m             \u001b[0;32mreturn\u001b[0m\u001b[0;34m\u001b[0m\u001b[0;34m\u001b[0m\u001b[0m\n\u001b[0;32m---> 76\u001b[0;31m         \u001b[0mdownload_and_extract_archive\u001b[0m\u001b[0;34m(\u001b[0m\u001b[0mself\u001b[0m\u001b[0;34m.\u001b[0m\u001b[0m_DATASET_URL\u001b[0m\u001b[0;34m,\u001b[0m \u001b[0mdownload_root\u001b[0m\u001b[0;34m=\u001b[0m\u001b[0mself\u001b[0m\u001b[0;34m.\u001b[0m\u001b[0mroot\u001b[0m\u001b[0;34m,\u001b[0m \u001b[0mmd5\u001b[0m\u001b[0;34m=\u001b[0m\u001b[0mself\u001b[0m\u001b[0;34m.\u001b[0m\u001b[0m_DATASET_MD5\u001b[0m\u001b[0;34m)\u001b[0m\u001b[0;34m\u001b[0m\u001b[0;34m\u001b[0m\u001b[0m\n\u001b[0m",
      "\u001b[0;32m~/.local/lib/python3.8/site-packages/torchvision/datasets/utils.py\u001b[0m in \u001b[0;36mdownload_and_extract_archive\u001b[0;34m(url, download_root, extract_root, filename, md5, remove_finished)\u001b[0m\n\u001b[1;32m    432\u001b[0m         \u001b[0mfilename\u001b[0m \u001b[0;34m=\u001b[0m \u001b[0mos\u001b[0m\u001b[0;34m.\u001b[0m\u001b[0mpath\u001b[0m\u001b[0;34m.\u001b[0m\u001b[0mbasename\u001b[0m\u001b[0;34m(\u001b[0m\u001b[0murl\u001b[0m\u001b[0;34m)\u001b[0m\u001b[0;34m\u001b[0m\u001b[0;34m\u001b[0m\u001b[0m\n\u001b[1;32m    433\u001b[0m \u001b[0;34m\u001b[0m\u001b[0m\n\u001b[0;32m--> 434\u001b[0;31m     \u001b[0mdownload_url\u001b[0m\u001b[0;34m(\u001b[0m\u001b[0murl\u001b[0m\u001b[0;34m,\u001b[0m \u001b[0mdownload_root\u001b[0m\u001b[0;34m,\u001b[0m \u001b[0mfilename\u001b[0m\u001b[0;34m,\u001b[0m \u001b[0mmd5\u001b[0m\u001b[0;34m)\u001b[0m\u001b[0;34m\u001b[0m\u001b[0;34m\u001b[0m\u001b[0m\n\u001b[0m\u001b[1;32m    435\u001b[0m \u001b[0;34m\u001b[0m\u001b[0m\n\u001b[1;32m    436\u001b[0m     \u001b[0marchive\u001b[0m \u001b[0;34m=\u001b[0m \u001b[0mos\u001b[0m\u001b[0;34m.\u001b[0m\u001b[0mpath\u001b[0m\u001b[0;34m.\u001b[0m\u001b[0mjoin\u001b[0m\u001b[0;34m(\u001b[0m\u001b[0mdownload_root\u001b[0m\u001b[0;34m,\u001b[0m \u001b[0mfilename\u001b[0m\u001b[0;34m)\u001b[0m\u001b[0;34m\u001b[0m\u001b[0;34m\u001b[0m\u001b[0m\n",
      "\u001b[0;32m~/.local/lib/python3.8/site-packages/torchvision/datasets/utils.py\u001b[0m in \u001b[0;36mdownload_url\u001b[0;34m(url, root, filename, md5, max_redirect_hops)\u001b[0m\n\u001b[1;32m    147\u001b[0m                 \u001b[0murl\u001b[0m \u001b[0;34m=\u001b[0m \u001b[0murl\u001b[0m\u001b[0;34m.\u001b[0m\u001b[0mreplace\u001b[0m\u001b[0;34m(\u001b[0m\u001b[0;34m\"https:\"\u001b[0m\u001b[0;34m,\u001b[0m \u001b[0;34m\"http:\"\u001b[0m\u001b[0;34m)\u001b[0m\u001b[0;34m\u001b[0m\u001b[0;34m\u001b[0m\u001b[0m\n\u001b[1;32m    148\u001b[0m                 \u001b[0mprint\u001b[0m\u001b[0;34m(\u001b[0m\u001b[0;34m\"Failed download. Trying https -> http instead. Downloading \"\u001b[0m \u001b[0;34m+\u001b[0m \u001b[0murl\u001b[0m \u001b[0;34m+\u001b[0m \u001b[0;34m\" to \"\u001b[0m \u001b[0;34m+\u001b[0m \u001b[0mfpath\u001b[0m\u001b[0;34m)\u001b[0m\u001b[0;34m\u001b[0m\u001b[0;34m\u001b[0m\u001b[0m\n\u001b[0;32m--> 149\u001b[0;31m                 \u001b[0m_urlretrieve\u001b[0m\u001b[0;34m(\u001b[0m\u001b[0murl\u001b[0m\u001b[0;34m,\u001b[0m \u001b[0mfpath\u001b[0m\u001b[0;34m)\u001b[0m\u001b[0;34m\u001b[0m\u001b[0;34m\u001b[0m\u001b[0m\n\u001b[0m\u001b[1;32m    150\u001b[0m             \u001b[0;32melse\u001b[0m\u001b[0;34m:\u001b[0m\u001b[0;34m\u001b[0m\u001b[0;34m\u001b[0m\u001b[0m\n\u001b[1;32m    151\u001b[0m                 \u001b[0;32mraise\u001b[0m \u001b[0me\u001b[0m\u001b[0;34m\u001b[0m\u001b[0;34m\u001b[0m\u001b[0m\n",
      "\u001b[0;32m~/.local/lib/python3.8/site-packages/torchvision/datasets/utils.py\u001b[0m in \u001b[0;36m_urlretrieve\u001b[0;34m(url, filename, chunk_size)\u001b[0m\n\u001b[1;32m     46\u001b[0m \u001b[0;32mdef\u001b[0m \u001b[0m_urlretrieve\u001b[0m\u001b[0;34m(\u001b[0m\u001b[0murl\u001b[0m\u001b[0;34m:\u001b[0m \u001b[0mstr\u001b[0m\u001b[0;34m,\u001b[0m \u001b[0mfilename\u001b[0m\u001b[0;34m:\u001b[0m \u001b[0mstr\u001b[0m\u001b[0;34m,\u001b[0m \u001b[0mchunk_size\u001b[0m\u001b[0;34m:\u001b[0m \u001b[0mint\u001b[0m \u001b[0;34m=\u001b[0m \u001b[0;36m1024\u001b[0m \u001b[0;34m*\u001b[0m \u001b[0;36m32\u001b[0m\u001b[0;34m)\u001b[0m \u001b[0;34m->\u001b[0m \u001b[0;32mNone\u001b[0m\u001b[0;34m:\u001b[0m\u001b[0;34m\u001b[0m\u001b[0;34m\u001b[0m\u001b[0m\n\u001b[1;32m     47\u001b[0m     \u001b[0;32mwith\u001b[0m \u001b[0murllib\u001b[0m\u001b[0;34m.\u001b[0m\u001b[0mrequest\u001b[0m\u001b[0;34m.\u001b[0m\u001b[0murlopen\u001b[0m\u001b[0;34m(\u001b[0m\u001b[0murllib\u001b[0m\u001b[0;34m.\u001b[0m\u001b[0mrequest\u001b[0m\u001b[0;34m.\u001b[0m\u001b[0mRequest\u001b[0m\u001b[0;34m(\u001b[0m\u001b[0murl\u001b[0m\u001b[0;34m,\u001b[0m \u001b[0mheaders\u001b[0m\u001b[0;34m=\u001b[0m\u001b[0;34m{\u001b[0m\u001b[0;34m\"User-Agent\"\u001b[0m\u001b[0;34m:\u001b[0m \u001b[0mUSER_AGENT\u001b[0m\u001b[0;34m}\u001b[0m\u001b[0;34m)\u001b[0m\u001b[0;34m)\u001b[0m \u001b[0;32mas\u001b[0m \u001b[0mresponse\u001b[0m\u001b[0;34m:\u001b[0m\u001b[0;34m\u001b[0m\u001b[0;34m\u001b[0m\u001b[0m\n\u001b[0;32m---> 48\u001b[0;31m         \u001b[0m_save_response_content\u001b[0m\u001b[0;34m(\u001b[0m\u001b[0miter\u001b[0m\u001b[0;34m(\u001b[0m\u001b[0;32mlambda\u001b[0m\u001b[0;34m:\u001b[0m \u001b[0mresponse\u001b[0m\u001b[0;34m.\u001b[0m\u001b[0mread\u001b[0m\u001b[0;34m(\u001b[0m\u001b[0mchunk_size\u001b[0m\u001b[0;34m)\u001b[0m\u001b[0;34m,\u001b[0m \u001b[0;34mb\"\"\u001b[0m\u001b[0;34m)\u001b[0m\u001b[0;34m,\u001b[0m \u001b[0mfilename\u001b[0m\u001b[0;34m,\u001b[0m \u001b[0mlength\u001b[0m\u001b[0;34m=\u001b[0m\u001b[0mresponse\u001b[0m\u001b[0;34m.\u001b[0m\u001b[0mlength\u001b[0m\u001b[0;34m)\u001b[0m\u001b[0;34m\u001b[0m\u001b[0;34m\u001b[0m\u001b[0m\n\u001b[0m\u001b[1;32m     49\u001b[0m \u001b[0;34m\u001b[0m\u001b[0m\n\u001b[1;32m     50\u001b[0m \u001b[0;34m\u001b[0m\u001b[0m\n",
      "\u001b[0;32m~/.local/lib/python3.8/site-packages/torchvision/datasets/utils.py\u001b[0m in \u001b[0;36m_save_response_content\u001b[0;34m(content, destination, length)\u001b[0m\n\u001b[1;32m     34\u001b[0m     \u001b[0mlength\u001b[0m\u001b[0;34m:\u001b[0m \u001b[0mOptional\u001b[0m\u001b[0;34m[\u001b[0m\u001b[0mint\u001b[0m\u001b[0;34m]\u001b[0m \u001b[0;34m=\u001b[0m \u001b[0;32mNone\u001b[0m\u001b[0;34m,\u001b[0m\u001b[0;34m\u001b[0m\u001b[0;34m\u001b[0m\u001b[0m\n\u001b[1;32m     35\u001b[0m ) -> None:\n\u001b[0;32m---> 36\u001b[0;31m     \u001b[0;32mwith\u001b[0m \u001b[0mopen\u001b[0m\u001b[0;34m(\u001b[0m\u001b[0mdestination\u001b[0m\u001b[0;34m,\u001b[0m \u001b[0;34m\"wb\"\u001b[0m\u001b[0;34m)\u001b[0m \u001b[0;32mas\u001b[0m \u001b[0mfh\u001b[0m\u001b[0;34m,\u001b[0m \u001b[0mtqdm\u001b[0m\u001b[0;34m(\u001b[0m\u001b[0mtotal\u001b[0m\u001b[0;34m=\u001b[0m\u001b[0mlength\u001b[0m\u001b[0;34m)\u001b[0m \u001b[0;32mas\u001b[0m \u001b[0mpbar\u001b[0m\u001b[0;34m:\u001b[0m\u001b[0;34m\u001b[0m\u001b[0;34m\u001b[0m\u001b[0m\n\u001b[0m\u001b[1;32m     37\u001b[0m         \u001b[0;32mfor\u001b[0m \u001b[0mchunk\u001b[0m \u001b[0;32min\u001b[0m \u001b[0mcontent\u001b[0m\u001b[0;34m:\u001b[0m\u001b[0;34m\u001b[0m\u001b[0;34m\u001b[0m\u001b[0m\n\u001b[1;32m     38\u001b[0m             \u001b[0;31m# filter out keep-alive new chunks\u001b[0m\u001b[0;34m\u001b[0m\u001b[0;34m\u001b[0m\u001b[0;34m\u001b[0m\u001b[0m\n",
      "\u001b[0;31mOSError\u001b[0m: [Errno 28] No space left on device: 'data2/SUN397.tar.gz'"
     ]
    }
   ],
   "source": [
    "#!g1.1\n",
    "# тут просто настройки, с которыми я как раз запускал эксперименты\n",
    "device = torch.device('cuda:0' if torch.cuda.is_available() else 'cpu')\n",
    "print(device)\n",
    "MAX_ITERS=[30000]\n",
    "PRUNE_ITERS=[5]\n",
    "PRUNE_RATIOS=[0]\n",
    "RANDOM_STATES=[2] \n",
    "SCHEDULE = [False]\n",
    "LR = [0.03]\n",
    "for p in zip(MAX_ITERS, PRUNE_ITERS, PRUNE_RATIOS, RANDOM_STATES, SCHEDULE, LR):\n",
    "  experiment(p[0], p[1], p[2], p[3], p[4], p[5], \"SUN397+resnet18\")"
   ]
  },
  {
   "cell_type": "code",
   "execution_count": null,
   "id": "8d553bcb",
   "metadata": {
    "cellId": "rguyezfyy8j88wpgda6imc"
   },
   "outputs": [],
   "source": [
    "#!g1.1\n"
   ]
  }
 ],
 "metadata": {
  "language_info": {
   "codemirror_mode": {
    "name": "ipython",
    "version": 3
   },
   "file_extension": ".py",
   "mimetype": "text/x-python",
   "name": "python",
   "nbconvert_exporter": "python",
   "pygments_lexer": "ipython3",
   "version": "3.7.7"
  },
  "notebookId": "62511581-d085-461b-bd8d-a54d52dd83e0",
  "notebookPath": "SUN397+resnet18.ipynb"
 },
 "nbformat": 4,
 "nbformat_minor": 5
}
