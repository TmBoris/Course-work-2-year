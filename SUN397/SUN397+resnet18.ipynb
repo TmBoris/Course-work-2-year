{
 "cells": [
  {
   "cell_type": "code",
   "execution_count": 1,
   "id": "c3b25fe0",
   "metadata": {
    "cellId": "fyxtl67z7u9ny91zbh07"
   },
   "outputs": [
    {
     "name": "stderr",
     "output_type": "stream",
     "text": [
      "/usr/lib/python3/dist-packages/requests/__init__.py:89: RequestsDependencyWarning: urllib3 (1.26.16) or chardet (3.0.4) doesn't match a supported version!\n",
      "  warnings.warn(\"urllib3 ({}) or chardet ({}) doesn't match a supported \"\n"
     ]
    }
   ],
   "source": [
    "from torchvision.datasets import SUN397\n",
    "from torch.utils.data import Dataset, DataLoader\n",
    "import torchvision.transforms as T\n",
    "import torch\n",
    "import torch.nn as nn\n",
    "import tqdm\n",
    "import os\n",
    "from IPython.display import clear_output\n",
    "import numpy as np\n",
    "\n",
    "import matplotlib.pyplot as plt\n",
    "from torch.optim.lr_scheduler import MultiStepLR\n",
    "import torchvision.models as models\n",
    "import torch.nn.utils.prune as prune\n",
    "import matplotlib.pyplot as plt"
   ]
  },
  {
   "cell_type": "code",
   "execution_count": 2,
   "id": "baf8a928",
   "metadata": {
    "cellId": "5pm5rzf89gyfp5siir9k1j",
    "colab": {
     "base_uri": "https://localhost:8080/"
    },
    "id": "RSIu8_WgYmv1",
    "outputId": "4d28975d-8100-4973-f2df-d85669c8e75f"
   },
   "outputs": [
    {
     "name": "stdout",
     "output_type": "stream",
     "text": [
      "cpu\n"
     ]
    }
   ],
   "source": [
    "#!g1.1\n",
    "device = torch.device('cuda:0' if torch.cuda.is_available() else 'cpu')\n",
    "print(device)"
   ]
  },
  {
   "attachments": {},
   "cell_type": "markdown",
   "id": "150d6719",
   "metadata": {
    "cellId": "54xz0jvj7uviod46crvsjr",
    "execution_id": "163cc722-d0e7-4ece-bfb0-ac7e6e151bd3",
    "id": "VjFhZbg9GyGv"
   },
   "source": [
    "## Обучение"
   ]
  },
  {
   "cell_type": "code",
   "execution_count": 3,
   "id": "4eda31ce",
   "metadata": {
    "cellId": "qs933jtyju12jxlpbcwwv",
    "colab": {
     "base_uri": "https://localhost:8080/"
    },
    "id": "AmDeoS93M6wc",
    "outputId": "172dba41-8948-47de-8061-a9d7253c2de8"
   },
   "outputs": [],
   "source": [
    "import wandb"
   ]
  },
  {
   "cell_type": "code",
   "execution_count": 4,
   "id": "35e2c35b",
   "metadata": {
    "cellId": "wk1jok667ksrv8zqaxn1o",
    "id": "4ftNWdcBSOhz"
   },
   "outputs": [],
   "source": [
    "class SUN397Dataset(Dataset):\n",
    "    def __init__(self, root, train=True, download=True):\n",
    "      if train:\n",
    "        transform = T.Compose([\n",
    "          T.Resize(256),\n",
    "          T.RandomHorizontalFlip(),\n",
    "          T.ToTensor(),\n",
    "          T.Normalize(mean=[0.485, 0.456, 0.486], std=[0.229 , 0.224, 0.225]),\n",
    "        ]) \n",
    "      else:\n",
    "          transform = T.Compose([\n",
    "              T.Resize(256),\n",
    "              T.ToTensor(),\n",
    "              T.Normalize(mean=[0.485, 0.456, 0.486], std=[0.229 , 0.224, 0.225]),\n",
    "        ]) \n",
    "      self.tv_dataset = SUN397(\n",
    "            root, \n",
    "            train=train,\n",
    "            download=download,\n",
    "            transform=transform,\n",
    "        )\n",
    "\n",
    "    def __len__(self):\n",
    "        return len(self.tv_dataset)\n",
    "\n",
    "    def __getitem__(self, ix):\n",
    "        return self.tv_dataset[ix]\n"
   ]
  },
  {
   "cell_type": "code",
   "execution_count": 5,
   "id": "326fa922",
   "metadata": {
    "cellId": "5n8shnhwc52t8jdh9ltf",
    "id": "hJ3MQRhWMGPK"
   },
   "outputs": [],
   "source": [
    "def prune_net(net, prune_ratio=0.3, method=\"l1\"):\n",
    "    parameters_to_prune = [\n",
    "        (module, \"weight\") for module in filter(lambda m: type(m) == torch.nn.Conv2d, net.modules())\n",
    "    ]\n",
    "    \n",
    "    prune.global_unstructured(\n",
    "        parameters_to_prune,\n",
    "        pruning_method=prune.L1Unstructured,\n",
    "        amount=prune_ratio,\n",
    "    )\n",
    "\n",
    "def copy_weights_layer(layer_unpruned, layer_pruned):\n",
    "    with torch.no_grad():\n",
    "      if \"weight\" in layer_pruned.state_dict():\n",
    "        layer_pruned.weight.copy_(layer_unpruned.weight)\n",
    "      if \"weight_orig\" in layer_pruned.state_dict():\n",
    "        layer_pruned.weight_orig.copy_(layer_unpruned.weight)\n",
    "      if \"bias\" in layer_pruned.state_dict():\n",
    "        layer_pruned.bias.copy_(layer_unpruned.bias)\n",
    "      if \"running_mean\" in layer_pruned.state_dict():\n",
    "        layer_pruned.running_mean.copy_(layer_unpruned.running_mean)\n",
    "      if \"running_var\" in layer_pruned.state_dict():\n",
    "        layer_pruned.running_var.copy_(layer_unpruned.running_var)\n",
    "\n",
    "def copy_weights_net(net_unpruned, net_pruned):\n",
    "    zipped = zip(net_unpruned.modules(), net_pruned.modules())\n",
    "\n",
    "    for layer_unpruned, layer_pruned in zipped:\n",
    "      if \"weight\" in layer_unpruned.state_dict():\n",
    "        copy_weights_layer(layer_unpruned, layer_pruned)\n"
   ]
  },
  {
   "cell_type": "code",
   "execution_count": 6,
   "id": "263bdc56",
   "metadata": {
    "cellId": "u8yrcugd1vvf22bixrill"
   },
   "outputs": [],
   "source": [
    "#!g1.1\n",
    "# kwargs = dict(\n",
    "#     num_classes=397,\n",
    "# )\n",
    "\n",
    "# base_weights_net = models.resnet18(**kwargs).to(device)\n",
    "# torch.save(base_weights_net, \"base_weights_net\")"
   ]
  },
  {
   "cell_type": "code",
   "execution_count": 7,
   "id": "997042b1",
   "metadata": {},
   "outputs": [],
   "source": [
    "# os.mkdir(\"models\")"
   ]
  },
  {
   "cell_type": "code",
   "execution_count": 8,
   "id": "b5f5cc7f",
   "metadata": {
    "cellId": "55163ooyzae1tg9nz0g2td",
    "id": "RjvCrn2x3Ev_"
   },
   "outputs": [],
   "source": [
    "#!g1.1\n",
    "def loop_dataloader(dataloader):\n",
    "    while True:\n",
    "        for x in iter(dataloader):\n",
    "            yield x\n",
    "\n",
    "\n",
    "def train(model, dataloader_train, loss_inst, optimizer, max_iter=10_000,\n",
    "          dataloader_val=None, val_freq=500, scheduler=None):\n",
    "    global device\n",
    "    iterable = loop_dataloader(dataloader_train)\n",
    "    iterable = tqdm.tqdm(iterable, total=max_iter)\n",
    "    it = 0\n",
    "    for X_batch, y_batch in iterable:\n",
    "        if it == max_iter:\n",
    "            break\n",
    "        X_batch = X_batch.to(device)\n",
    "        y_batch = y_batch.to(device)\n",
    "\n",
    "        logit_batch = model(X_batch)\n",
    "\n",
    "        loss = loss_inst(logit_batch, y_batch)\n",
    "        if dataloader_val is not None:\n",
    "            wandb.log({\"loss\": loss}, step=it)\n",
    "\n",
    "        optimizer.zero_grad()\n",
    "        loss.backward()\n",
    "        optimizer.step()\n",
    "\n",
    "        if scheduler is not None:\n",
    "          scheduler.step()\n",
    "\n",
    "        if it % val_freq == 0 and dataloader_val is not None:\n",
    "            model.eval()\n",
    "            is_equal = []\n",
    "\n",
    "            for X_batch_val, y_batch_val in dataloader_val:\n",
    "                X_batch_val = X_batch_val.to(device)\n",
    "                y_batch_val = y_batch_val.to(device)\n",
    "                is_equal.append(\n",
    "                    model(X_batch_val).argmax(dim=-1) == y_batch_val\n",
    "                )\n",
    "\n",
    "            is_equal_t = torch.cat(is_equal)\n",
    "            acc = is_equal_t.sum() / len(is_equal_t)\n",
    "            wandb.log({\"accuracy_val\": acc}, step=it)\n",
    "            model.train()\n",
    "\n",
    "        it += 1\n",
    "        \n",
    "def experiment(MAX_ITER, PRUNE_ITER, PRUNE_RATIO , RANDOM_STATE, SCHEDULE, LR, project_name):\n",
    "    args = {\"max-iter\" : 30000, \"batch-size\" : 64, \"prune-iter\" : 1, \"prune-ratio\" : 0.2, \"prune-method\" : \"l1\", \"val-freq\" : 250, \"random-state\" : 1}\n",
    "    \n",
    "    \n",
    "    os.mkdir(\"models/pr\" + str(PRUNE_RATIO) + \"_sched\" + str(int(SCHEDULE)) + \"_lr\" + str(LR) + \"_iters\" + str(MAX_ITER))\n",
    "    \n",
    "\n",
    "    args[\"max-iter\"] = MAX_ITER\n",
    "    args[\"prune-iter\"] = PRUNE_ITER\n",
    "    args[\"prune-ratio\"] = PRUNE_RATIO\n",
    "    args[\"random-state\"] = RANDOM_STATE\n",
    "    \n",
    "    wandb.init(\n",
    "        project=project_name,\n",
    "        entity=\"bspanfilov\",\n",
    "        force=True,\n",
    "        name=\"pr\" + str(PRUNE_RATIO) + \"_sched\" + str(int(SCHEDULE)) + \"_lr\" + str(LR),\n",
    "        config=args,\n",
    "    )\n",
    "    wandb.define_metric(\"accuracy_val\", summary=\"max\")\n",
    "\n",
    "    dataset_train = SUN397Dataset(\n",
    "        \"data\",\n",
    "        train=True,\n",
    "        download=True,\n",
    "    )\n",
    "    dataset_val = SUN397Dataset(\n",
    "        \"data\",\n",
    "        train=False,\n",
    "        download=True,\n",
    "    )\n",
    "\n",
    "    if args[\"random-state\"] is not None:\n",
    "        torch.manual_seed(args[\"random-state\"])\n",
    "\n",
    "    dataloader_train = DataLoader(\n",
    "        dataset_train, batch_size=args[\"batch-size\"], shuffle=True\n",
    "    )\n",
    "    dataloader_val = DataLoader(\n",
    "        dataset_val, batch_size=args[\"batch-size\"], shuffle=True\n",
    "    )\n",
    "\n",
    "    kwargs = dict(\n",
    "        num_classes=397,\n",
    "    )\n",
    "\n",
    "    net = torch.load(\"base_weights_net\").to(device)\n",
    "    net_copy = models.resnet18(**kwargs).to(device)\n",
    "    net_copy.load_state_dict(net.state_dict())\n",
    "\n",
    "\n",
    "    loss_inst = nn.CrossEntropyLoss()\n",
    "    optimizer = torch.optim.SGD(net.parameters(), lr=LR, momentum=0.9)\n",
    "    if SCHEDULE:\n",
    "      scheduler = MultiStepLR(optimizer, milestones=[6000,8000], gamma=0.1)\n",
    "    else:\n",
    "      scheduler = None\n",
    "\n",
    "    # per_round_prune_ratio = 1 - (1 - args[\"prune-ratio\"]) ** (1 / args[\"prune-iter\"])\n",
    "    # prune_net(net, per_round_prune_ratio)\n",
    "    # copy_weights_net(net_copy, net)\n",
    "\n",
    "    if args[\"prune-ratio\"] > 0:\n",
    "        per_round_prune_ratio = 1 - (1 - args[\"prune-ratio\"]) ** (1 / args[\"prune-iter\"])\n",
    "\n",
    "        per_round_max_iter = int(args[\"max-iter\"])\n",
    "\n",
    "        for prune_it in range(args[\"prune-iter\"]):\n",
    "            train(\n",
    "                net,\n",
    "                dataloader_train,\n",
    "                loss_inst,\n",
    "                optimizer,\n",
    "                max_iter=per_round_max_iter,\n",
    "            )\n",
    "\n",
    "            torch.save(net, \"models/pr\" + str(PRUNE_RATIO) + \"_sched\" + str(int(SCHEDULE)) + \"_lr\" + str(LR) + \"_iters\" + str(MAX_ITER) + \"/prune_it\" + str(prune_it))\n",
    "\n",
    "            prune_net(net, per_round_prune_ratio)\n",
    "            copy_weights_net(net_copy, net)\n",
    "\n",
    "    # Run actual training with a final pruned network\n",
    "    train(\n",
    "        net,\n",
    "        dataloader_train,\n",
    "        loss_inst,\n",
    "        optimizer,\n",
    "        max_iter=args[\"max-iter\"],\n",
    "        dataloader_val=dataloader_val,\n",
    "        val_freq=args[\"val-freq\"],\n",
    "        scheduler=scheduler,\n",
    "    )\n",
    "\n",
    "    torch.save(net, \"models/pr\" + str(PRUNE_RATIO) + \"_sched\" + str(int(SCHEDULE)) + \"_lr\" + str(LR) + \"_iters\" + str(MAX_ITER) + \"/pruned\")\n",
    "    \n",
    "    wandb.finish()\n",
    "\n"
   ]
  },
  {
   "cell_type": "code",
   "execution_count": 10,
   "id": "9110a6c7",
   "metadata": {
    "cellId": "q0v8ykfmldmgb2cx3r4c",
    "colab": {
     "background_save": true,
     "base_uri": "https://localhost:8080/",
     "height": 495
    },
    "id": "Zl0yS8333EwA",
    "outputId": "7ca3c370-4fe2-4f01-de0d-734b20a2a8b4"
   },
   "outputs": [
    {
     "name": "stderr",
     "output_type": "stream",
     "text": [
      "Failed to detect the name of this notebook, you can set it manually with the WANDB_NOTEBOOK_NAME environment variable to enable code saving.\n"
     ]
    },
    {
     "name": "stdout",
     "output_type": "stream",
     "text": [
      "cpu\n"
     ]
    },
    {
     "name": "stderr",
     "output_type": "stream",
     "text": [
      "/usr/lib/python3/dist-packages/requests/__init__.py:89: RequestsDependencyWarning: urllib3 (1.26.16) or chardet (3.0.4) doesn't match a supported version!\n",
      "  warnings.warn(\"urllib3 ({}) or chardet ({}) doesn't match a supported \"\n",
      "Traceback (most recent call last):\n",
      "  File \"/usr/lib/python3.8/runpy.py\", line 194, in _run_module_as_main\n",
      "    return _run_code(code, main_globals, None,\n",
      "  File \"/usr/lib/python3.8/runpy.py\", line 87, in _run_code\n",
      "    exec(code, run_globals)\n",
      "  File \"/home/bspanfilov/.local/lib/python3.8/site-packages/wandb/__main__.py\", line 1, in <module>\n",
      "    from wandb.cli import cli\n",
      "  File \"/home/bspanfilov/.local/lib/python3.8/site-packages/wandb/cli/cli.py\", line 933, in <module>\n",
      "    def launch_sweep(\n",
      "  File \"/usr/lib/python3/dist-packages/click/core.py\", line 1234, in decorator\n",
      "    cmd = command(*args, **kwargs)(f)\n",
      "  File \"/usr/lib/python3/dist-packages/click/decorators.py\", line 115, in decorator\n",
      "    cmd = _make_command(f, name, attrs, cls)\n",
      "  File \"/usr/lib/python3/dist-packages/click/decorators.py\", line 88, in _make_command\n",
      "    return cls(name=name or f.__name__.lower().replace('_', '-'),\n",
      "TypeError: __init__() got an unexpected keyword argument 'no_args_is_help'\n"
     ]
    },
    {
     "ename": "ServiceStartProcessError",
     "evalue": "The wandb service process exited with 1. Ensure that `sys.executable` is a valid python interpreter. You can override it with the `_executable` setting or with the `WANDB__EXECUTABLE` environment variable.",
     "output_type": "error",
     "traceback": [
      "\u001b[0;31m---------------------------------------------------------------------------\u001b[0m",
      "\u001b[0;31mServiceStartProcessError\u001b[0m                  Traceback (most recent call last)",
      "Cell \u001b[0;32mIn[10], line 12\u001b[0m\n\u001b[1;32m     10\u001b[0m LR \u001b[39m=\u001b[39m [\u001b[39m0.03\u001b[39m]\n\u001b[1;32m     11\u001b[0m \u001b[39mfor\u001b[39;00m p \u001b[39min\u001b[39;00m \u001b[39mzip\u001b[39m(MAX_ITERS, PRUNE_ITERS, PRUNE_RATIOS, RANDOM_STATES, SCHEDULE, LR):\n\u001b[0;32m---> 12\u001b[0m   experiment(p[\u001b[39m0\u001b[39;49m], p[\u001b[39m1\u001b[39;49m], p[\u001b[39m2\u001b[39;49m], p[\u001b[39m3\u001b[39;49m], p[\u001b[39m4\u001b[39;49m], p[\u001b[39m5\u001b[39;49m], \u001b[39m\"\u001b[39;49m\u001b[39mSUN397+resnet18\u001b[39;49m\u001b[39m\"\u001b[39;49m)\n",
      "Cell \u001b[0;32mIn[8], line 63\u001b[0m, in \u001b[0;36mexperiment\u001b[0;34m(MAX_ITER, PRUNE_ITER, PRUNE_RATIO, RANDOM_STATE, SCHEDULE, LR, project_name)\u001b[0m\n\u001b[1;32m     60\u001b[0m args[\u001b[39m\"\u001b[39m\u001b[39mprune-ratio\u001b[39m\u001b[39m\"\u001b[39m] \u001b[39m=\u001b[39m PRUNE_RATIO\n\u001b[1;32m     61\u001b[0m args[\u001b[39m\"\u001b[39m\u001b[39mrandom-state\u001b[39m\u001b[39m\"\u001b[39m] \u001b[39m=\u001b[39m RANDOM_STATE\n\u001b[0;32m---> 63\u001b[0m wandb\u001b[39m.\u001b[39;49minit(\n\u001b[1;32m     64\u001b[0m     project\u001b[39m=\u001b[39;49mproject_name,\n\u001b[1;32m     65\u001b[0m     entity\u001b[39m=\u001b[39;49m\u001b[39m\"\u001b[39;49m\u001b[39mbspanfilov\u001b[39;49m\u001b[39m\"\u001b[39;49m,\n\u001b[1;32m     66\u001b[0m     force\u001b[39m=\u001b[39;49m\u001b[39mTrue\u001b[39;49;00m,\n\u001b[1;32m     67\u001b[0m     name\u001b[39m=\u001b[39;49m\u001b[39m\"\u001b[39;49m\u001b[39mpr\u001b[39;49m\u001b[39m\"\u001b[39;49m \u001b[39m+\u001b[39;49m \u001b[39mstr\u001b[39;49m(PRUNE_RATIO) \u001b[39m+\u001b[39;49m \u001b[39m\"\u001b[39;49m\u001b[39m_sched\u001b[39;49m\u001b[39m\"\u001b[39;49m \u001b[39m+\u001b[39;49m \u001b[39mstr\u001b[39;49m(\u001b[39mint\u001b[39;49m(SCHEDULE)) \u001b[39m+\u001b[39;49m \u001b[39m\"\u001b[39;49m\u001b[39m_lr\u001b[39;49m\u001b[39m\"\u001b[39;49m \u001b[39m+\u001b[39;49m \u001b[39mstr\u001b[39;49m(LR),\n\u001b[1;32m     68\u001b[0m     config\u001b[39m=\u001b[39;49margs,\n\u001b[1;32m     69\u001b[0m )\n\u001b[1;32m     70\u001b[0m wandb\u001b[39m.\u001b[39mdefine_metric(\u001b[39m\"\u001b[39m\u001b[39maccuracy_val\u001b[39m\u001b[39m\"\u001b[39m, summary\u001b[39m=\u001b[39m\u001b[39m\"\u001b[39m\u001b[39mmax\u001b[39m\u001b[39m\"\u001b[39m)\n\u001b[1;32m     72\u001b[0m dataset_train \u001b[39m=\u001b[39m SUN397Dataset(\n\u001b[1;32m     73\u001b[0m     \u001b[39m\"\u001b[39m\u001b[39mdata\u001b[39m\u001b[39m\"\u001b[39m,\n\u001b[1;32m     74\u001b[0m     train\u001b[39m=\u001b[39m\u001b[39mTrue\u001b[39;00m,\n\u001b[1;32m     75\u001b[0m     download\u001b[39m=\u001b[39m\u001b[39mTrue\u001b[39;00m,\n\u001b[1;32m     76\u001b[0m )\n",
      "File \u001b[0;32m~/.local/lib/python3.8/site-packages/wandb/sdk/wandb_init.py:1169\u001b[0m, in \u001b[0;36minit\u001b[0;34m(job_type, dir, config, project, entity, reinit, tags, group, name, notes, magic, config_exclude_keys, config_include_keys, anonymous, mode, allow_val_change, resume, force, tensorboard, sync_tensorboard, monitor_gym, save_code, id, settings)\u001b[0m\n\u001b[1;32m   1167\u001b[0m     \u001b[39mif\u001b[39;00m logger \u001b[39mis\u001b[39;00m \u001b[39mnot\u001b[39;00m \u001b[39mNone\u001b[39;00m:\n\u001b[1;32m   1168\u001b[0m         logger\u001b[39m.\u001b[39mexception(\u001b[39mstr\u001b[39m(e))\n\u001b[0;32m-> 1169\u001b[0m     \u001b[39mraise\u001b[39;00m e\n\u001b[1;32m   1170\u001b[0m \u001b[39mexcept\u001b[39;00m \u001b[39mKeyboardInterrupt\u001b[39;00m \u001b[39mas\u001b[39;00m e:\n\u001b[1;32m   1171\u001b[0m     \u001b[39massert\u001b[39;00m logger\n",
      "File \u001b[0;32m~/.local/lib/python3.8/site-packages/wandb/sdk/wandb_init.py:1146\u001b[0m, in \u001b[0;36minit\u001b[0;34m(job_type, dir, config, project, entity, reinit, tags, group, name, notes, magic, config_exclude_keys, config_include_keys, anonymous, mode, allow_val_change, resume, force, tensorboard, sync_tensorboard, monitor_gym, save_code, id, settings)\u001b[0m\n\u001b[1;32m   1144\u001b[0m \u001b[39mtry\u001b[39;00m:\n\u001b[1;32m   1145\u001b[0m     wi \u001b[39m=\u001b[39m _WandbInit()\n\u001b[0;32m-> 1146\u001b[0m     wi\u001b[39m.\u001b[39;49msetup(kwargs)\n\u001b[1;32m   1147\u001b[0m     \u001b[39massert\u001b[39;00m wi\u001b[39m.\u001b[39msettings\n\u001b[1;32m   1148\u001b[0m     except_exit \u001b[39m=\u001b[39m wi\u001b[39m.\u001b[39msettings\u001b[39m.\u001b[39m_except_exit\n",
      "File \u001b[0;32m~/.local/lib/python3.8/site-packages/wandb/sdk/wandb_init.py:172\u001b[0m, in \u001b[0;36m_WandbInit.setup\u001b[0;34m(self, kwargs)\u001b[0m\n\u001b[1;32m    169\u001b[0m _disable_service \u001b[39m=\u001b[39m mode \u001b[39m==\u001b[39m \u001b[39m\"\u001b[39m\u001b[39mdisabled\u001b[39m\u001b[39m\"\u001b[39m \u001b[39mor\u001b[39;00m settings_mode \u001b[39m==\u001b[39m \u001b[39m\"\u001b[39m\u001b[39mdisabled\u001b[39m\u001b[39m\"\u001b[39m\n\u001b[1;32m    170\u001b[0m setup_settings \u001b[39m=\u001b[39m {\u001b[39m\"\u001b[39m\u001b[39m_disable_service\u001b[39m\u001b[39m\"\u001b[39m: _disable_service}\n\u001b[0;32m--> 172\u001b[0m \u001b[39mself\u001b[39m\u001b[39m.\u001b[39m_wl \u001b[39m=\u001b[39m wandb_setup\u001b[39m.\u001b[39;49msetup(settings\u001b[39m=\u001b[39;49msetup_settings)\n\u001b[1;32m    173\u001b[0m \u001b[39m# Make sure we have a logger setup (might be an early logger)\u001b[39;00m\n\u001b[1;32m    174\u001b[0m \u001b[39massert\u001b[39;00m \u001b[39mself\u001b[39m\u001b[39m.\u001b[39m_wl \u001b[39mis\u001b[39;00m \u001b[39mnot\u001b[39;00m \u001b[39mNone\u001b[39;00m\n",
      "File \u001b[0;32m~/.local/lib/python3.8/site-packages/wandb/sdk/wandb_setup.py:327\u001b[0m, in \u001b[0;36msetup\u001b[0;34m(settings)\u001b[0m\n\u001b[1;32m    324\u001b[0m \u001b[39mdef\u001b[39;00m \u001b[39msetup\u001b[39m(\n\u001b[1;32m    325\u001b[0m     settings: Optional[Settings] \u001b[39m=\u001b[39m \u001b[39mNone\u001b[39;00m,\n\u001b[1;32m    326\u001b[0m ) \u001b[39m-\u001b[39m\u001b[39m>\u001b[39m Optional[\u001b[39m\"\u001b[39m\u001b[39m_WandbSetup\u001b[39m\u001b[39m\"\u001b[39m]:\n\u001b[0;32m--> 327\u001b[0m     ret \u001b[39m=\u001b[39m _setup(settings\u001b[39m=\u001b[39;49msettings)\n\u001b[1;32m    328\u001b[0m     \u001b[39mreturn\u001b[39;00m ret\n",
      "File \u001b[0;32m~/.local/lib/python3.8/site-packages/wandb/sdk/wandb_setup.py:320\u001b[0m, in \u001b[0;36m_setup\u001b[0;34m(settings, _reset)\u001b[0m\n\u001b[1;32m    318\u001b[0m     _WandbSetup\u001b[39m.\u001b[39m_instance \u001b[39m=\u001b[39m \u001b[39mNone\u001b[39;00m\n\u001b[1;32m    319\u001b[0m     \u001b[39mreturn\u001b[39;00m \u001b[39mNone\u001b[39;00m\n\u001b[0;32m--> 320\u001b[0m wl \u001b[39m=\u001b[39m _WandbSetup(settings\u001b[39m=\u001b[39;49msettings)\n\u001b[1;32m    321\u001b[0m \u001b[39mreturn\u001b[39;00m wl\n",
      "File \u001b[0;32m~/.local/lib/python3.8/site-packages/wandb/sdk/wandb_setup.py:303\u001b[0m, in \u001b[0;36m_WandbSetup.__init__\u001b[0;34m(self, settings)\u001b[0m\n\u001b[1;32m    301\u001b[0m     _WandbSetup\u001b[39m.\u001b[39m_instance\u001b[39m.\u001b[39m_update(settings\u001b[39m=\u001b[39msettings)\n\u001b[1;32m    302\u001b[0m     \u001b[39mreturn\u001b[39;00m\n\u001b[0;32m--> 303\u001b[0m _WandbSetup\u001b[39m.\u001b[39m_instance \u001b[39m=\u001b[39m _WandbSetup__WandbSetup(settings\u001b[39m=\u001b[39;49msettings, pid\u001b[39m=\u001b[39;49mpid)\n",
      "File \u001b[0;32m~/.local/lib/python3.8/site-packages/wandb/sdk/wandb_setup.py:114\u001b[0m, in \u001b[0;36m_WandbSetup__WandbSetup.__init__\u001b[0;34m(self, pid, settings, environ)\u001b[0m\n\u001b[1;32m    111\u001b[0m wandb\u001b[39m.\u001b[39mtermsetup(\u001b[39mself\u001b[39m\u001b[39m.\u001b[39m_settings, logger)\n\u001b[1;32m    113\u001b[0m \u001b[39mself\u001b[39m\u001b[39m.\u001b[39m_check()\n\u001b[0;32m--> 114\u001b[0m \u001b[39mself\u001b[39;49m\u001b[39m.\u001b[39;49m_setup()\n\u001b[1;32m    116\u001b[0m tracelog_mode \u001b[39m=\u001b[39m \u001b[39mself\u001b[39m\u001b[39m.\u001b[39m_settings\u001b[39m.\u001b[39m_tracelog\n\u001b[1;32m    117\u001b[0m \u001b[39mif\u001b[39;00m tracelog_mode:\n",
      "File \u001b[0;32m~/.local/lib/python3.8/site-packages/wandb/sdk/wandb_setup.py:250\u001b[0m, in \u001b[0;36m_WandbSetup__WandbSetup._setup\u001b[0;34m(self)\u001b[0m\n\u001b[1;32m    249\u001b[0m \u001b[39mdef\u001b[39;00m \u001b[39m_setup\u001b[39m(\u001b[39mself\u001b[39m) \u001b[39m-\u001b[39m\u001b[39m>\u001b[39m \u001b[39mNone\u001b[39;00m:\n\u001b[0;32m--> 250\u001b[0m     \u001b[39mself\u001b[39;49m\u001b[39m.\u001b[39;49m_setup_manager()\n\u001b[1;32m    252\u001b[0m     sweep_path \u001b[39m=\u001b[39m \u001b[39mself\u001b[39m\u001b[39m.\u001b[39m_settings\u001b[39m.\u001b[39msweep_param_path\n\u001b[1;32m    253\u001b[0m     \u001b[39mif\u001b[39;00m sweep_path:\n",
      "File \u001b[0;32m~/.local/lib/python3.8/site-packages/wandb/sdk/wandb_setup.py:277\u001b[0m, in \u001b[0;36m_WandbSetup__WandbSetup._setup_manager\u001b[0;34m(self)\u001b[0m\n\u001b[1;32m    275\u001b[0m \u001b[39mif\u001b[39;00m \u001b[39mself\u001b[39m\u001b[39m.\u001b[39m_settings\u001b[39m.\u001b[39m_disable_service:\n\u001b[1;32m    276\u001b[0m     \u001b[39mreturn\u001b[39;00m\n\u001b[0;32m--> 277\u001b[0m \u001b[39mself\u001b[39m\u001b[39m.\u001b[39m_manager \u001b[39m=\u001b[39m wandb_manager\u001b[39m.\u001b[39;49m_Manager(settings\u001b[39m=\u001b[39;49m\u001b[39mself\u001b[39;49m\u001b[39m.\u001b[39;49m_settings)\n",
      "File \u001b[0;32m~/.local/lib/python3.8/site-packages/wandb/sdk/wandb_manager.py:145\u001b[0m, in \u001b[0;36m_Manager.__init__\u001b[0;34m(self, settings)\u001b[0m\n\u001b[1;32m    143\u001b[0m token \u001b[39m=\u001b[39m _ManagerToken\u001b[39m.\u001b[39mfrom_environment()\n\u001b[1;32m    144\u001b[0m \u001b[39mif\u001b[39;00m \u001b[39mnot\u001b[39;00m token:\n\u001b[0;32m--> 145\u001b[0m     \u001b[39mself\u001b[39;49m\u001b[39m.\u001b[39;49m_service\u001b[39m.\u001b[39;49mstart()\n\u001b[1;32m    146\u001b[0m     host \u001b[39m=\u001b[39m \u001b[39m\"\u001b[39m\u001b[39mlocalhost\u001b[39m\u001b[39m\"\u001b[39m\n\u001b[1;32m    147\u001b[0m     \u001b[39mif\u001b[39;00m use_grpc:\n",
      "File \u001b[0;32m~/.local/lib/python3.8/site-packages/wandb/sdk/service/service.py:199\u001b[0m, in \u001b[0;36m_Service.start\u001b[0;34m(self)\u001b[0m\n\u001b[1;32m    198\u001b[0m \u001b[39mdef\u001b[39;00m \u001b[39mstart\u001b[39m(\u001b[39mself\u001b[39m) \u001b[39m-\u001b[39m\u001b[39m>\u001b[39m \u001b[39mNone\u001b[39;00m:\n\u001b[0;32m--> 199\u001b[0m     \u001b[39mself\u001b[39;49m\u001b[39m.\u001b[39;49m_launch_server()\n",
      "File \u001b[0;32m~/.local/lib/python3.8/site-packages/wandb/sdk/service/service.py:193\u001b[0m, in \u001b[0;36m_Service._launch_server\u001b[0;34m(self)\u001b[0m\n\u001b[1;32m    191\u001b[0m     \u001b[39mself\u001b[39m\u001b[39m.\u001b[39m_wait_for_ports(fname, proc\u001b[39m=\u001b[39minternal_proc)\n\u001b[1;32m    192\u001b[0m \u001b[39mexcept\u001b[39;00m \u001b[39mException\u001b[39;00m \u001b[39mas\u001b[39;00m e:\n\u001b[0;32m--> 193\u001b[0m     _sentry\u001b[39m.\u001b[39;49mreraise(e)\n\u001b[1;32m    194\u001b[0m \u001b[39mself\u001b[39m\u001b[39m.\u001b[39m_startup_debug_print(\u001b[39m\"\u001b[39m\u001b[39mwait_ports_done\u001b[39m\u001b[39m\"\u001b[39m)\n\u001b[1;32m    195\u001b[0m \u001b[39mself\u001b[39m\u001b[39m.\u001b[39m_internal_proc \u001b[39m=\u001b[39m internal_proc\n",
      "File \u001b[0;32m~/.local/lib/python3.8/site-packages/wandb/analytics/sentry.py:146\u001b[0m, in \u001b[0;36mSentry.reraise\u001b[0;34m(self, exc)\u001b[0m\n\u001b[1;32m    143\u001b[0m \u001b[39mself\u001b[39m\u001b[39m.\u001b[39mexception(exc)\n\u001b[1;32m    144\u001b[0m \u001b[39m# this will messily add this \"reraise\" function to the stack trace,\u001b[39;00m\n\u001b[1;32m    145\u001b[0m \u001b[39m# but hopefully it's not too bad\u001b[39;00m\n\u001b[0;32m--> 146\u001b[0m \u001b[39mraise\u001b[39;00m exc\u001b[39m.\u001b[39mwith_traceback(sys\u001b[39m.\u001b[39mexc_info()[\u001b[39m2\u001b[39m])\n",
      "File \u001b[0;32m~/.local/lib/python3.8/site-packages/wandb/sdk/service/service.py:191\u001b[0m, in \u001b[0;36m_Service._launch_server\u001b[0;34m(self)\u001b[0m\n\u001b[1;32m    189\u001b[0m \u001b[39mself\u001b[39m\u001b[39m.\u001b[39m_startup_debug_print(\u001b[39m\"\u001b[39m\u001b[39mwait_ports\u001b[39m\u001b[39m\"\u001b[39m)\n\u001b[1;32m    190\u001b[0m \u001b[39mtry\u001b[39;00m:\n\u001b[0;32m--> 191\u001b[0m     \u001b[39mself\u001b[39;49m\u001b[39m.\u001b[39;49m_wait_for_ports(fname, proc\u001b[39m=\u001b[39;49minternal_proc)\n\u001b[1;32m    192\u001b[0m \u001b[39mexcept\u001b[39;00m \u001b[39mException\u001b[39;00m \u001b[39mas\u001b[39;00m e:\n\u001b[1;32m    193\u001b[0m     _sentry\u001b[39m.\u001b[39mreraise(e)\n",
      "File \u001b[0;32m~/.local/lib/python3.8/site-packages/wandb/sdk/service/service.py:116\u001b[0m, in \u001b[0;36m_Service._wait_for_ports\u001b[0;34m(self, fname, proc)\u001b[0m\n\u001b[1;32m    101\u001b[0m \u001b[39mif\u001b[39;00m proc \u001b[39mand\u001b[39;00m proc\u001b[39m.\u001b[39mpoll():\n\u001b[1;32m    102\u001b[0m     \u001b[39m# process finished\u001b[39;00m\n\u001b[1;32m    103\u001b[0m     \u001b[39m# define these variables for sentry context grab:\u001b[39;00m\n\u001b[0;32m   (...)\u001b[0m\n\u001b[1;32m    107\u001b[0m     \u001b[39m# proc_out = proc.stdout.read()\u001b[39;00m\n\u001b[1;32m    108\u001b[0m     \u001b[39m# proc_err = proc.stderr.read()\u001b[39;00m\n\u001b[1;32m    109\u001b[0m     context \u001b[39m=\u001b[39m \u001b[39mdict\u001b[39m(\n\u001b[1;32m    110\u001b[0m         command\u001b[39m=\u001b[39mproc\u001b[39m.\u001b[39margs,\n\u001b[1;32m    111\u001b[0m         sys_executable\u001b[39m=\u001b[39msys\u001b[39m.\u001b[39mexecutable,\n\u001b[0;32m   (...)\u001b[0m\n\u001b[1;32m    114\u001b[0m         proc_err\u001b[39m=\u001b[39mproc\u001b[39m.\u001b[39mstderr\u001b[39m.\u001b[39mread() \u001b[39mif\u001b[39;00m proc\u001b[39m.\u001b[39mstderr \u001b[39melse\u001b[39;00m \u001b[39m\"\u001b[39m\u001b[39m\"\u001b[39m,\n\u001b[1;32m    115\u001b[0m     )\n\u001b[0;32m--> 116\u001b[0m     \u001b[39mraise\u001b[39;00m ServiceStartProcessError(\n\u001b[1;32m    117\u001b[0m         \u001b[39mf\u001b[39m\u001b[39m\"\u001b[39m\u001b[39mThe wandb service process exited with \u001b[39m\u001b[39m{\u001b[39;00mproc\u001b[39m.\u001b[39mreturncode\u001b[39m}\u001b[39;00m\u001b[39m. \u001b[39m\u001b[39m\"\u001b[39m\n\u001b[1;32m    118\u001b[0m         \u001b[39m\"\u001b[39m\u001b[39mEnsure that `sys.executable` is a valid python interpreter. \u001b[39m\u001b[39m\"\u001b[39m\n\u001b[1;32m    119\u001b[0m         \u001b[39m\"\u001b[39m\u001b[39mYou can override it with the `_executable` setting \u001b[39m\u001b[39m\"\u001b[39m\n\u001b[1;32m    120\u001b[0m         \u001b[39m\"\u001b[39m\u001b[39mor with the `WANDB__EXECUTABLE` environment variable.\u001b[39m\u001b[39m\"\u001b[39m,\n\u001b[1;32m    121\u001b[0m         context\u001b[39m=\u001b[39mcontext,\n\u001b[1;32m    122\u001b[0m     )\n\u001b[1;32m    123\u001b[0m \u001b[39mif\u001b[39;00m \u001b[39mnot\u001b[39;00m os\u001b[39m.\u001b[39mpath\u001b[39m.\u001b[39misfile(fname):\n\u001b[1;32m    124\u001b[0m     time\u001b[39m.\u001b[39msleep(\u001b[39m0.2\u001b[39m)\n",
      "\u001b[0;31mServiceStartProcessError\u001b[0m: The wandb service process exited with 1. Ensure that `sys.executable` is a valid python interpreter. You can override it with the `_executable` setting or with the `WANDB__EXECUTABLE` environment variable."
     ]
    }
   ],
   "source": [
    "#!g1.1\n",
    "# тут просто настройки, с которыми я как раз запускал эксперименты\n",
    "device = torch.device('cuda:0' if torch.cuda.is_available() else 'cpu')\n",
    "print(device)\n",
    "MAX_ITERS=[30000]\n",
    "PRUNE_ITERS=[5]\n",
    "PRUNE_RATIOS=[0]\n",
    "RANDOM_STATES=[2] \n",
    "SCHEDULE = [False]\n",
    "LR = [0.03]\n",
    "for p in zip(MAX_ITERS, PRUNE_ITERS, PRUNE_RATIOS, RANDOM_STATES, SCHEDULE, LR):\n",
    "  experiment(p[0], p[1], p[2], p[3], p[4], p[5], \"SUN397+resnet18\")"
   ]
  },
  {
   "cell_type": "code",
   "execution_count": null,
   "id": "15e255c9",
   "metadata": {},
   "outputs": [],
   "source": []
  }
 ],
 "metadata": {
  "kernelspec": {
   "display_name": "Python 3",
   "language": "python",
   "name": "python3"
  },
  "language_info": {
   "codemirror_mode": {
    "name": "ipython",
    "version": 3
   },
   "file_extension": ".py",
   "mimetype": "text/x-python",
   "name": "python",
   "nbconvert_exporter": "python",
   "pygments_lexer": "ipython3",
   "version": "3.8.10"
  },
  "notebookId": "62511581-d085-461b-bd8d-a54d52dd83e0",
  "notebookPath": "SUN397+resnet18.ipynb"
 },
 "nbformat": 4,
 "nbformat_minor": 5
}
