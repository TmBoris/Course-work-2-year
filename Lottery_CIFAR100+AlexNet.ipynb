{
  "nbformat": 4,
  "nbformat_minor": 0,
  "metadata": {
    "colab": {
      "provenance": []
    },
    "kernelspec": {
      "name": "python3",
      "display_name": "Python 3"
    },
    "language_info": {
      "name": "python"
    },
    "accelerator": "GPU",
    "gpuClass": "standard",
    "widgets": {
      "application/vnd.jupyter.widget-state+json": {
        "f97e97917d3443a4a6d032c9b8ebbe82": {
          "model_module": "@jupyter-widgets/controls",
          "model_name": "VBoxModel",
          "model_module_version": "1.5.0",
          "state": {
            "_dom_classes": [],
            "_model_module": "@jupyter-widgets/controls",
            "_model_module_version": "1.5.0",
            "_model_name": "VBoxModel",
            "_view_count": null,
            "_view_module": "@jupyter-widgets/controls",
            "_view_module_version": "1.5.0",
            "_view_name": "VBoxView",
            "box_style": "",
            "children": [
              "IPY_MODEL_4c82d30a1e234cef911fb83a3f8b7d3a",
              "IPY_MODEL_c3a95f73c1eb46c59e6d201deeb465de"
            ],
            "layout": "IPY_MODEL_5c38fe0c3fe941eaa4d26df16765609a"
          }
        },
        "4c82d30a1e234cef911fb83a3f8b7d3a": {
          "model_module": "@jupyter-widgets/controls",
          "model_name": "LabelModel",
          "model_module_version": "1.5.0",
          "state": {
            "_dom_classes": [],
            "_model_module": "@jupyter-widgets/controls",
            "_model_module_version": "1.5.0",
            "_model_name": "LabelModel",
            "_view_count": null,
            "_view_module": "@jupyter-widgets/controls",
            "_view_module_version": "1.5.0",
            "_view_name": "LabelView",
            "description": "",
            "description_tooltip": null,
            "layout": "IPY_MODEL_fb3b424187724fe49b4bf9c34628737f",
            "placeholder": "​",
            "style": "IPY_MODEL_df1871282d034da58db3e8cb7ebc8c87",
            "value": "0.001 MB of 0.010 MB uploaded (0.000 MB deduped)\r"
          }
        },
        "c3a95f73c1eb46c59e6d201deeb465de": {
          "model_module": "@jupyter-widgets/controls",
          "model_name": "FloatProgressModel",
          "model_module_version": "1.5.0",
          "state": {
            "_dom_classes": [],
            "_model_module": "@jupyter-widgets/controls",
            "_model_module_version": "1.5.0",
            "_model_name": "FloatProgressModel",
            "_view_count": null,
            "_view_module": "@jupyter-widgets/controls",
            "_view_module_version": "1.5.0",
            "_view_name": "ProgressView",
            "bar_style": "",
            "description": "",
            "description_tooltip": null,
            "layout": "IPY_MODEL_6fc9201dcc8b4fd19b527ac11b384a4d",
            "max": 1,
            "min": 0,
            "orientation": "horizontal",
            "style": "IPY_MODEL_b602241ef3c94ff58a7e39618c2de9f9",
            "value": 0.11082621082621083
          }
        },
        "5c38fe0c3fe941eaa4d26df16765609a": {
          "model_module": "@jupyter-widgets/base",
          "model_name": "LayoutModel",
          "model_module_version": "1.2.0",
          "state": {
            "_model_module": "@jupyter-widgets/base",
            "_model_module_version": "1.2.0",
            "_model_name": "LayoutModel",
            "_view_count": null,
            "_view_module": "@jupyter-widgets/base",
            "_view_module_version": "1.2.0",
            "_view_name": "LayoutView",
            "align_content": null,
            "align_items": null,
            "align_self": null,
            "border": null,
            "bottom": null,
            "display": null,
            "flex": null,
            "flex_flow": null,
            "grid_area": null,
            "grid_auto_columns": null,
            "grid_auto_flow": null,
            "grid_auto_rows": null,
            "grid_column": null,
            "grid_gap": null,
            "grid_row": null,
            "grid_template_areas": null,
            "grid_template_columns": null,
            "grid_template_rows": null,
            "height": null,
            "justify_content": null,
            "justify_items": null,
            "left": null,
            "margin": null,
            "max_height": null,
            "max_width": null,
            "min_height": null,
            "min_width": null,
            "object_fit": null,
            "object_position": null,
            "order": null,
            "overflow": null,
            "overflow_x": null,
            "overflow_y": null,
            "padding": null,
            "right": null,
            "top": null,
            "visibility": null,
            "width": null
          }
        },
        "fb3b424187724fe49b4bf9c34628737f": {
          "model_module": "@jupyter-widgets/base",
          "model_name": "LayoutModel",
          "model_module_version": "1.2.0",
          "state": {
            "_model_module": "@jupyter-widgets/base",
            "_model_module_version": "1.2.0",
            "_model_name": "LayoutModel",
            "_view_count": null,
            "_view_module": "@jupyter-widgets/base",
            "_view_module_version": "1.2.0",
            "_view_name": "LayoutView",
            "align_content": null,
            "align_items": null,
            "align_self": null,
            "border": null,
            "bottom": null,
            "display": null,
            "flex": null,
            "flex_flow": null,
            "grid_area": null,
            "grid_auto_columns": null,
            "grid_auto_flow": null,
            "grid_auto_rows": null,
            "grid_column": null,
            "grid_gap": null,
            "grid_row": null,
            "grid_template_areas": null,
            "grid_template_columns": null,
            "grid_template_rows": null,
            "height": null,
            "justify_content": null,
            "justify_items": null,
            "left": null,
            "margin": null,
            "max_height": null,
            "max_width": null,
            "min_height": null,
            "min_width": null,
            "object_fit": null,
            "object_position": null,
            "order": null,
            "overflow": null,
            "overflow_x": null,
            "overflow_y": null,
            "padding": null,
            "right": null,
            "top": null,
            "visibility": null,
            "width": null
          }
        },
        "df1871282d034da58db3e8cb7ebc8c87": {
          "model_module": "@jupyter-widgets/controls",
          "model_name": "DescriptionStyleModel",
          "model_module_version": "1.5.0",
          "state": {
            "_model_module": "@jupyter-widgets/controls",
            "_model_module_version": "1.5.0",
            "_model_name": "DescriptionStyleModel",
            "_view_count": null,
            "_view_module": "@jupyter-widgets/base",
            "_view_module_version": "1.2.0",
            "_view_name": "StyleView",
            "description_width": ""
          }
        },
        "6fc9201dcc8b4fd19b527ac11b384a4d": {
          "model_module": "@jupyter-widgets/base",
          "model_name": "LayoutModel",
          "model_module_version": "1.2.0",
          "state": {
            "_model_module": "@jupyter-widgets/base",
            "_model_module_version": "1.2.0",
            "_model_name": "LayoutModel",
            "_view_count": null,
            "_view_module": "@jupyter-widgets/base",
            "_view_module_version": "1.2.0",
            "_view_name": "LayoutView",
            "align_content": null,
            "align_items": null,
            "align_self": null,
            "border": null,
            "bottom": null,
            "display": null,
            "flex": null,
            "flex_flow": null,
            "grid_area": null,
            "grid_auto_columns": null,
            "grid_auto_flow": null,
            "grid_auto_rows": null,
            "grid_column": null,
            "grid_gap": null,
            "grid_row": null,
            "grid_template_areas": null,
            "grid_template_columns": null,
            "grid_template_rows": null,
            "height": null,
            "justify_content": null,
            "justify_items": null,
            "left": null,
            "margin": null,
            "max_height": null,
            "max_width": null,
            "min_height": null,
            "min_width": null,
            "object_fit": null,
            "object_position": null,
            "order": null,
            "overflow": null,
            "overflow_x": null,
            "overflow_y": null,
            "padding": null,
            "right": null,
            "top": null,
            "visibility": null,
            "width": null
          }
        },
        "b602241ef3c94ff58a7e39618c2de9f9": {
          "model_module": "@jupyter-widgets/controls",
          "model_name": "ProgressStyleModel",
          "model_module_version": "1.5.0",
          "state": {
            "_model_module": "@jupyter-widgets/controls",
            "_model_module_version": "1.5.0",
            "_model_name": "ProgressStyleModel",
            "_view_count": null,
            "_view_module": "@jupyter-widgets/base",
            "_view_module_version": "1.2.0",
            "_view_name": "StyleView",
            "bar_color": null,
            "description_width": ""
          }
        },
        "d47eaf93602d4919977bc484e2a6fec4": {
          "model_module": "@jupyter-widgets/controls",
          "model_name": "VBoxModel",
          "model_module_version": "1.5.0",
          "state": {
            "_dom_classes": [],
            "_model_module": "@jupyter-widgets/controls",
            "_model_module_version": "1.5.0",
            "_model_name": "VBoxModel",
            "_view_count": null,
            "_view_module": "@jupyter-widgets/controls",
            "_view_module_version": "1.5.0",
            "_view_name": "VBoxView",
            "box_style": "",
            "children": [
              "IPY_MODEL_40841c8d0dec4027ba0bb9874457af6c",
              "IPY_MODEL_2abb0d0d87e240c584386691e87d277f"
            ],
            "layout": "IPY_MODEL_f6797074fa5d434f9641818e48955460"
          }
        },
        "40841c8d0dec4027ba0bb9874457af6c": {
          "model_module": "@jupyter-widgets/controls",
          "model_name": "LabelModel",
          "model_module_version": "1.5.0",
          "state": {
            "_dom_classes": [],
            "_model_module": "@jupyter-widgets/controls",
            "_model_module_version": "1.5.0",
            "_model_name": "LabelModel",
            "_view_count": null,
            "_view_module": "@jupyter-widgets/controls",
            "_view_module_version": "1.5.0",
            "_view_name": "LabelView",
            "description": "",
            "description_tooltip": null,
            "layout": "IPY_MODEL_76ad66f2db964c1ea6dddfc24b12545c",
            "placeholder": "​",
            "style": "IPY_MODEL_2c568c68edd0479f8263600eba7cee1f",
            "value": "0.001 MB of 0.011 MB uploaded (0.000 MB deduped)\r"
          }
        },
        "2abb0d0d87e240c584386691e87d277f": {
          "model_module": "@jupyter-widgets/controls",
          "model_name": "FloatProgressModel",
          "model_module_version": "1.5.0",
          "state": {
            "_dom_classes": [],
            "_model_module": "@jupyter-widgets/controls",
            "_model_module_version": "1.5.0",
            "_model_name": "FloatProgressModel",
            "_view_count": null,
            "_view_module": "@jupyter-widgets/controls",
            "_view_module_version": "1.5.0",
            "_view_name": "ProgressView",
            "bar_style": "",
            "description": "",
            "description_tooltip": null,
            "layout": "IPY_MODEL_b5be0b664fd441c982c21cbc411600c4",
            "max": 1,
            "min": 0,
            "orientation": "horizontal",
            "style": "IPY_MODEL_2d2d52f778184f86a3c4d16d3333f35b",
            "value": 0.10565866908103214
          }
        },
        "f6797074fa5d434f9641818e48955460": {
          "model_module": "@jupyter-widgets/base",
          "model_name": "LayoutModel",
          "model_module_version": "1.2.0",
          "state": {
            "_model_module": "@jupyter-widgets/base",
            "_model_module_version": "1.2.0",
            "_model_name": "LayoutModel",
            "_view_count": null,
            "_view_module": "@jupyter-widgets/base",
            "_view_module_version": "1.2.0",
            "_view_name": "LayoutView",
            "align_content": null,
            "align_items": null,
            "align_self": null,
            "border": null,
            "bottom": null,
            "display": null,
            "flex": null,
            "flex_flow": null,
            "grid_area": null,
            "grid_auto_columns": null,
            "grid_auto_flow": null,
            "grid_auto_rows": null,
            "grid_column": null,
            "grid_gap": null,
            "grid_row": null,
            "grid_template_areas": null,
            "grid_template_columns": null,
            "grid_template_rows": null,
            "height": null,
            "justify_content": null,
            "justify_items": null,
            "left": null,
            "margin": null,
            "max_height": null,
            "max_width": null,
            "min_height": null,
            "min_width": null,
            "object_fit": null,
            "object_position": null,
            "order": null,
            "overflow": null,
            "overflow_x": null,
            "overflow_y": null,
            "padding": null,
            "right": null,
            "top": null,
            "visibility": null,
            "width": null
          }
        },
        "76ad66f2db964c1ea6dddfc24b12545c": {
          "model_module": "@jupyter-widgets/base",
          "model_name": "LayoutModel",
          "model_module_version": "1.2.0",
          "state": {
            "_model_module": "@jupyter-widgets/base",
            "_model_module_version": "1.2.0",
            "_model_name": "LayoutModel",
            "_view_count": null,
            "_view_module": "@jupyter-widgets/base",
            "_view_module_version": "1.2.0",
            "_view_name": "LayoutView",
            "align_content": null,
            "align_items": null,
            "align_self": null,
            "border": null,
            "bottom": null,
            "display": null,
            "flex": null,
            "flex_flow": null,
            "grid_area": null,
            "grid_auto_columns": null,
            "grid_auto_flow": null,
            "grid_auto_rows": null,
            "grid_column": null,
            "grid_gap": null,
            "grid_row": null,
            "grid_template_areas": null,
            "grid_template_columns": null,
            "grid_template_rows": null,
            "height": null,
            "justify_content": null,
            "justify_items": null,
            "left": null,
            "margin": null,
            "max_height": null,
            "max_width": null,
            "min_height": null,
            "min_width": null,
            "object_fit": null,
            "object_position": null,
            "order": null,
            "overflow": null,
            "overflow_x": null,
            "overflow_y": null,
            "padding": null,
            "right": null,
            "top": null,
            "visibility": null,
            "width": null
          }
        },
        "2c568c68edd0479f8263600eba7cee1f": {
          "model_module": "@jupyter-widgets/controls",
          "model_name": "DescriptionStyleModel",
          "model_module_version": "1.5.0",
          "state": {
            "_model_module": "@jupyter-widgets/controls",
            "_model_module_version": "1.5.0",
            "_model_name": "DescriptionStyleModel",
            "_view_count": null,
            "_view_module": "@jupyter-widgets/base",
            "_view_module_version": "1.2.0",
            "_view_name": "StyleView",
            "description_width": ""
          }
        },
        "b5be0b664fd441c982c21cbc411600c4": {
          "model_module": "@jupyter-widgets/base",
          "model_name": "LayoutModel",
          "model_module_version": "1.2.0",
          "state": {
            "_model_module": "@jupyter-widgets/base",
            "_model_module_version": "1.2.0",
            "_model_name": "LayoutModel",
            "_view_count": null,
            "_view_module": "@jupyter-widgets/base",
            "_view_module_version": "1.2.0",
            "_view_name": "LayoutView",
            "align_content": null,
            "align_items": null,
            "align_self": null,
            "border": null,
            "bottom": null,
            "display": null,
            "flex": null,
            "flex_flow": null,
            "grid_area": null,
            "grid_auto_columns": null,
            "grid_auto_flow": null,
            "grid_auto_rows": null,
            "grid_column": null,
            "grid_gap": null,
            "grid_row": null,
            "grid_template_areas": null,
            "grid_template_columns": null,
            "grid_template_rows": null,
            "height": null,
            "justify_content": null,
            "justify_items": null,
            "left": null,
            "margin": null,
            "max_height": null,
            "max_width": null,
            "min_height": null,
            "min_width": null,
            "object_fit": null,
            "object_position": null,
            "order": null,
            "overflow": null,
            "overflow_x": null,
            "overflow_y": null,
            "padding": null,
            "right": null,
            "top": null,
            "visibility": null,
            "width": null
          }
        },
        "2d2d52f778184f86a3c4d16d3333f35b": {
          "model_module": "@jupyter-widgets/controls",
          "model_name": "ProgressStyleModel",
          "model_module_version": "1.5.0",
          "state": {
            "_model_module": "@jupyter-widgets/controls",
            "_model_module_version": "1.5.0",
            "_model_name": "ProgressStyleModel",
            "_view_count": null,
            "_view_module": "@jupyter-widgets/base",
            "_view_module_version": "1.2.0",
            "_view_name": "StyleView",
            "bar_color": null,
            "description_width": ""
          }
        }
      }
    }
  },
  "cells": [
    {
      "cell_type": "code",
      "execution_count": null,
      "metadata": {
        "id": "Q0Dwj30Zs_n0"
      },
      "outputs": [],
      "source": []
    },
    {
      "cell_type": "code",
      "execution_count": 1,
      "metadata": {
        "colab": {
          "base_uri": "https://localhost:8080/"
        },
        "id": "AmDeoS93M6wc",
        "outputId": "5cae8d87-8f6c-4f0b-a7f2-6b4e7793ab71"
      },
      "outputs": [
        {
          "output_type": "stream",
          "name": "stdout",
          "text": [
            "\u001b[?25l     \u001b[90m━━━━━━━━━━━━━━━━━━━━━━━━━━━━━━━━━━━━━━━━\u001b[0m \u001b[32m0.0/2.0 MB\u001b[0m \u001b[31m?\u001b[0m eta \u001b[36m-:--:--\u001b[0m\r\u001b[2K     \u001b[91m━━━━━━━━━━\u001b[0m\u001b[90m╺\u001b[0m\u001b[90m━━━━━━━━━━━━━━━━━━━━━━━━━━━━━\u001b[0m \u001b[32m0.5/2.0 MB\u001b[0m \u001b[31m15.6 MB/s\u001b[0m eta \u001b[36m0:00:01\u001b[0m\r\u001b[2K     \u001b[91m━━━━━━━━━━━━━━━━━━━━━━━━━━\u001b[0m\u001b[90m╺\u001b[0m\u001b[90m━━━━━━━━━━━━━\u001b[0m \u001b[32m1.3/2.0 MB\u001b[0m \u001b[31m18.8 MB/s\u001b[0m eta \u001b[36m0:00:01\u001b[0m\r\u001b[2K     \u001b[91m━━━━━━━━━━━━━━━━━━━━━━━━━━━━━━━━━━━━━━━\u001b[0m\u001b[91m╸\u001b[0m \u001b[32m2.0/2.0 MB\u001b[0m \u001b[31m20.4 MB/s\u001b[0m eta \u001b[36m0:00:01\u001b[0m\r\u001b[2K     \u001b[90m━━━━━━━━━━━━━━━━━━━━━━━━━━━━━━━━━━━━━━━━\u001b[0m \u001b[32m2.0/2.0 MB\u001b[0m \u001b[31m14.4 MB/s\u001b[0m eta \u001b[36m0:00:00\u001b[0m\n",
            "\u001b[?25h  Preparing metadata (setup.py) ... \u001b[?25l\u001b[?25hdone\n",
            "\u001b[2K     \u001b[90m━━━━━━━━━━━━━━━━━━━━━━━━━━━━━━━━━━━━━━\u001b[0m \u001b[32m184.3/184.3 KB\u001b[0m \u001b[31m10.5 MB/s\u001b[0m eta \u001b[36m0:00:00\u001b[0m\n",
            "\u001b[2K     \u001b[90m━━━━━━━━━━━━━━━━━━━━━━━━━━━━━━━━━━━━━━\u001b[0m \u001b[32m199.2/199.2 KB\u001b[0m \u001b[31m15.0 MB/s\u001b[0m eta \u001b[36m0:00:00\u001b[0m\n",
            "\u001b[2K     \u001b[90m━━━━━━━━━━━━━━━━━━━━━━━━━━━━━━━━━━━━━━━━\u001b[0m \u001b[32m62.7/62.7 KB\u001b[0m \u001b[31m5.2 MB/s\u001b[0m eta \u001b[36m0:00:00\u001b[0m\n",
            "\u001b[?25h  Building wheel for pathtools (setup.py) ... \u001b[?25l\u001b[?25hdone\n"
          ]
        }
      ],
      "source": [
        "!pip install wandb -qU"
      ]
    },
    {
      "cell_type": "code",
      "execution_count": 2,
      "metadata": {
        "id": "RSIu8_WgYmv1",
        "colab": {
          "base_uri": "https://localhost:8080/"
        },
        "outputId": "8617144e-f921-4c3c-a0d3-314f89d140bf"
      },
      "outputs": [
        {
          "output_type": "stream",
          "name": "stdout",
          "text": [
            "cuda:0\n"
          ]
        }
      ],
      "source": [
        "import torch\n",
        "device = torch.device('cuda:0' if torch.cuda.is_available() else 'cpu')\n",
        "print(device)"
      ]
    },
    {
      "cell_type": "code",
      "execution_count": 3,
      "metadata": {
        "id": "4ftNWdcBSOhz"
      },
      "outputs": [],
      "source": [
        "from torch.utils.data import Dataset\n",
        "from torchvision.datasets import CIFAR100\n",
        "import torchvision.transforms as T\n",
        "\n",
        "\n",
        "class CIFAR100Dataset(Dataset):\n",
        "    \"\"\"CIFAR100 dataset.\n",
        "\n",
        "    Feature images are automatically flattened.\n",
        "\n",
        "    Parameters\n",
        "    ----------\n",
        "    root : str\n",
        "        Directory where the actual data is located (or downloaded to).\n",
        "\n",
        "    train : bool\n",
        "        If True the training set is returned (60_000 samples). Otherwise\n",
        "        the validation set is returned (10_000 samples).\n",
        "\n",
        "    Attributes\n",
        "    ----------\n",
        "    tv_dataset : CIFAR100\n",
        "        Instance of the torchvision `CIFAR100` dataset class.\n",
        "    \"\"\"\n",
        "\n",
        "    def __init__(self, root, train=True, download=True):\n",
        "      # if train:\n",
        "      transform= T.Compose([   \n",
        "        T.Resize(256),\n",
        "        T.RandomHorizontalFlip(),\n",
        "        T.ToTensor(),\n",
        "        T.Normalize([0.49139968, 0.48215841, 0.44653091], [0.24703223 , 0.24348513, 0.26158784])\n",
        "      ]) \n",
        "      # else:\n",
        "      #     transform= T.Compose([   \n",
        "      #       T.Resize(256),\n",
        "      #       T.ToTensor(),\n",
        "      #     ]) \n",
        "\n",
        "      self.tv_dataset = CIFAR100(\n",
        "            root, \n",
        "            train=train,\n",
        "            download=download,\n",
        "            transform=transform,\n",
        "        )\n",
        "\n",
        "    def __len__(self):\n",
        "        \"\"\"Get the length of the dataset.\"\"\"\n",
        "        return len(self.tv_dataset)\n",
        "\n",
        "    def __getitem__(self, ix):\n",
        "        \"\"\"Get a selected sample.\n",
        "\n",
        "        Parameters\n",
        "        ----------\n",
        "        ix : int\n",
        "            Index of the sample to get.\n",
        "\n",
        "        Returns\n",
        "        -------\n",
        "        x : torch.Tensor\n",
        "            Flattened feature tensor of shape `(784,)`.\n",
        "\n",
        "        y : torch.Tensor\n",
        "            Scalar representing the ground truth label. Number between 0 and 9.\n",
        "        \"\"\"\n",
        "        return self.tv_dataset[ix]\n"
      ]
    },
    {
      "cell_type": "code",
      "execution_count": 4,
      "metadata": {
        "id": "hJ3MQRhWMGPK"
      },
      "outputs": [],
      "source": [
        "import math\n",
        "\n",
        "import torch\n",
        "import torch.nn as nn\n",
        "from torch.nn.utils.prune import l1_unstructured, random_unstructured\n",
        "\n",
        "\n",
        "class AlexNet(nn.Module):\n",
        "    \"\"\"AlexNet convolution network.\n",
        "\n",
        "    Parameters\n",
        "    ----------\n",
        "    image_channels : int\n",
        "        Number of channels in input picture (color pictures in CIFAR100 have 3 channels).\n",
        "\n",
        "    out_features : int\n",
        "        Number of target classes (100 for CIFAR100).\n",
        "\n",
        "    Attributes\n",
        "    ----------\n",
        "    module_list : nn.ModuleList\n",
        "        List holding all the layers in the right order.\n",
        "    \"\"\"\n",
        "\n",
        "    def __init__(self, image_channels, out_features):\n",
        "        super().__init__()\n",
        "\n",
        "        # self.features= nn.Sequential(\n",
        "        # nn.Conv2d(image_channels, 96, kernel_size=11, stride=4, padding=0),\n",
        "        # nn.ReLU(inplace=True),\n",
        "        # nn.MaxPool2d(kernel_size=3, stride=2),\n",
        "        # #2\n",
        "        # nn.Conv2d(96, 256, kernel_size=5, stride=1, padding=2),\n",
        "        # nn.ReLU(inplace=True),\n",
        "        # nn.MaxPool2d(kernel_size=3, stride=2),\n",
        "        # #3\n",
        "        # nn.Conv2d(256, 384, kernel_size=3, stride=1, padding=1),\n",
        "        # nn.ReLU(inplace=True),\n",
        "        # #4\n",
        "        # nn.Conv2d(384, 384, kernel_size=3, stride=1, padding=1),\n",
        "        # nn.ReLU(inplace=True),\n",
        "        # #5\n",
        "        # nn.Conv2d(384, 256, kernel_size=5, stride=1, padding=2),\n",
        "        # nn.ReLU(inplace=True),\n",
        "        # nn.MaxPool2d(kernel_size=3, stride=2),\n",
        "        # )\n",
        "        # self.classifier= nn.Sequential(\n",
        "        #     nn.Dropout(), nn.Linear(256*6*6, 4096), #128*2*2, 1024\n",
        "        # nn.ReLU(inplace=True), nn.Dropout(),\n",
        "        # nn.Linear(4096, out_features=out_features)\n",
        "        # )\n",
        "\n",
        "        channel_sizes = (image_channels,) + (96, 256, 384, 384, 256,)\n",
        "        conv_kernel_sizes = (11, 5, 3, 3, 5,)\n",
        "        conv_strides = (4, 1, 1, 1, 1, )\n",
        "        conv_paddings = (0, 2, 1, 1, 2)\n",
        "        layer_list = []\n",
        "\n",
        "        for i in range(len(channel_sizes) - 1):\n",
        "            layer_list.append(nn.Conv2d(channel_sizes[i], channel_sizes[i + 1], \n",
        "                                        kernel_size=conv_kernel_sizes[i], \n",
        "                                        stride=conv_strides[i], \n",
        "                                        padding=conv_paddings[i]))\n",
        "\n",
        "        layer_sizes = (256*6*6, 4096, out_features)\n",
        "        for i in range(len(layer_sizes) - 1):\n",
        "            layer_list.append(nn.Linear(layer_sizes[i], layer_sizes[i + 1]))\n",
        "\n",
        "        self.module_list = nn.ModuleList(layer_list)\n",
        "        self.relu = nn.ReLU(inplace=True)\n",
        "        self.dropout = nn.Dropout()\n",
        "        self.maxpool = nn.MaxPool2d(kernel_size=3, stride=2)\n",
        "\n",
        "    def forward(self, x):\n",
        "        \"\"\"Run the forward pass.\n",
        "\n",
        "        Parameters\n",
        "        ----------\n",
        "        x : torch.Tensor\n",
        "            Batch of features of shape `(batch_size, n_features)`.\n",
        "\n",
        "        Returns\n",
        "        -------\n",
        "        torch.Tensor\n",
        "            Batch of predictions (logits) of shape `(batch_size, n_targets)`.\n",
        "        \"\"\"\n",
        "        x = self.maxpool(self.relu(self.module_list[0](x)))\n",
        "        x = self.maxpool(self.relu(self.module_list[1](x)))\n",
        "        x = self.relu(self.module_list[2](x))\n",
        "        x = self.relu(self.module_list[3](x))\n",
        "        x = self.maxpool(self.relu(self.module_list[4](x)))\n",
        "        x = x.view(x.size(0), 256*6*6)\n",
        "        x = self.dropout(x)\n",
        "        x = self.relu(self.module_list[5](x))\n",
        "        x = self.dropout(x)\n",
        "        x = self.module_list[6](x)\n",
        "        return x\n",
        "\n",
        "\n",
        "def prune_layer(layer, prune_ratio=0.3, method=\"l1\"):\n",
        "    \"\"\"Prune a linear layer.\n",
        "\n",
        "    Modifies the module in-place. We make an assumption that the bias\n",
        "    is included.\n",
        "\n",
        "    Parameters\n",
        "    ----------\n",
        "    linear : nn.Linear\n",
        "        Linear module containing a bias.\n",
        "\n",
        "    prune_ratio : float\n",
        "        Number between 0 and 1 representing the percentage of weights\n",
        "        to prune.\n",
        "\n",
        "    method : str, {\"l1\", \"random\"}\n",
        "        Pruning method to use.\n",
        "    \"\"\"\n",
        "    if method == \"l1\":\n",
        "        prune_func = l1_unstructured\n",
        "    elif method == \"random\":\n",
        "        prune_func = random_unstructured\n",
        "    else:\n",
        "        raise ValueError\n",
        "\n",
        "    prune_func(layer, \"weight\", prune_ratio)\n",
        "    prune_func(layer, \"bias\", prune_ratio)\n",
        "\n",
        "# тут все аналогичным образом поддерживается и для conv слоев, так \n",
        "# что отличия минимальны или их вообще не будет\n",
        "def prune_net(net, prune_ratio=0.3, method=\"l1\"):\n",
        "    \"\"\"Prune each layer of the multilayer perceptron.\n",
        "\n",
        "    Modifies the module in-place. We make an assumption that each\n",
        "    linear layer has the bias included.\n",
        "\n",
        "    Parameters\n",
        "    ----------\n",
        "    net : net\n",
        "        Multilayer perceptron instance.\n",
        "\n",
        "    prune_ratio : float or list\n",
        "        Number between 0 and 1 representing the percentage of weights\n",
        "        to prune. If `list` then different ratio for each\n",
        "        layer.\n",
        "\n",
        "    method : str, {\"l1\", \"random\"}\n",
        "        Pruning method to use.\n",
        "    \"\"\"\n",
        "    if isinstance(prune_ratio, float):\n",
        "        prune_ratios = [prune_ratio] * len(net.module_list)\n",
        "    elif isinstance(prune_ratio, list):\n",
        "        if len(prune_ratio) != len(net.module_list):\n",
        "            raise ValueError(\"Incompatible number of prune ratios provided\")\n",
        "\n",
        "        prune_ratios = prune_ratio\n",
        "    else:\n",
        "        raise TypeError\n",
        "\n",
        "    for prune_ratio, layer in zip(prune_ratios, net.module_list):\n",
        "        prune_layer(layer, prune_ratio=prune_ratio, method=method)\n",
        "\n",
        "\n",
        "def check_pruned_layer(layer):\n",
        "    \"\"\"Check if a Linear module was pruned.\n",
        "\n",
        "    We require both the bias and the weight to be pruned.\n",
        "\n",
        "    Parameters\n",
        "    ----------\n",
        "    linear : nn.Linear\n",
        "        Linear module containing a bias.\n",
        "\n",
        "    Returns\n",
        "    -------\n",
        "    bool\n",
        "        True if the model has been pruned.\n",
        "    \"\"\"\n",
        "    params = {param_name for param_name, _ in layer.named_parameters()}\n",
        "    expected_params = {\"weight_orig\", \"bias_orig\"}\n",
        "\n",
        "    return params == expected_params\n",
        "\n",
        "\n",
        "# тут тоже все как раньше, потому что сверточный слой это тоже\n",
        "# попросту тензор и мы можем его просто взять и скопировать\n",
        "# так же, как и матрицу в линейных слоях раньше\n",
        "def copy_weights_layer(layer_unpruned, layer_pruned):\n",
        "    \"\"\"Copy weights from an unpruned model to a pruned model.\n",
        "\n",
        "    Modifies `layer_pruned` in place.\n",
        "\n",
        "    Parameters\n",
        "    ----------\n",
        "    layer_unpruned : nn.Linear\n",
        "        Linear model with a bias that was not pruned.\n",
        "\n",
        "    layer_pruned : nn.Linear\n",
        "        Linear model with a bias that was pruned.\n",
        "    \"\"\"\n",
        "    assert check_pruned_layer(layer_pruned)\n",
        "    assert not check_pruned_layer(layer_unpruned)\n",
        "\n",
        "    with torch.no_grad():\n",
        "        layer_pruned.weight_orig.copy_(layer_unpruned.weight)\n",
        "        layer_pruned.bias_orig.copy_(layer_unpruned.bias)\n",
        "\n",
        "\n",
        "def copy_weights_net(net_unpruned, net_pruned):\n",
        "    \"\"\"Copy weights of an unpruned network to a pruned network.\n",
        "\n",
        "    Modifies `net_pruned` in place.\n",
        "\n",
        "    Parameters\n",
        "    ----------\n",
        "    net_unpruned : AlexNet\n",
        "        MLP model that was not pruned.\n",
        "\n",
        "    net_pruned : MLP\n",
        "        MLP model that was pruned.\n",
        "    \"\"\"\n",
        "    zipped = zip(net_unpruned.module_list, net_pruned.module_list)\n",
        "\n",
        "    for layer_unpruned, layer_pruned in zipped:\n",
        "        copy_weights_layer(layer_unpruned, layer_pruned)\n",
        "\n",
        "\n",
        "def compute_stats(net):\n",
        "    \"\"\"Compute important statistics related to pruning.\n",
        "\n",
        "    Parameters\n",
        "    ----------\n",
        "    net : MLP\n",
        "        Multilayer perceptron.\n",
        "\n",
        "    Returns\n",
        "    -------\n",
        "    dict\n",
        "        Statistics.\n",
        "    \"\"\"\n",
        "    stats = {}\n",
        "    total_params = 0\n",
        "    total_pruned_params = 0\n",
        "\n",
        "    for layer_ix, linear in enumerate(net.module_list):\n",
        "        assert check_pruned_layer(linear)\n",
        "\n",
        "        weight_mask = linear.weight_mask\n",
        "        bias_mask = linear.bias_mask\n",
        "\n",
        "        params = weight_mask.numel() + bias_mask.numel()\n",
        "        pruned_params = (weight_mask == 0).sum() + (bias_mask == 0).sum()\n",
        "\n",
        "        total_params += params\n",
        "        total_pruned_params += pruned_params\n",
        "\n",
        "        stats[f\"layer{layer_ix}_total_params\"] = params\n",
        "        stats[f\"layer{layer_ix}_pruned_params\"] = pruned_params\n",
        "        stats[f\"layer{layer_ix}_actual_prune_ratio\"] = pruned_params / params\n",
        "\n",
        "    stats[\"total_params\"] = total_params\n",
        "    stats[\"total_pruned_params\"] = total_pruned_params\n",
        "    stats[\"actual_prune_ratio\"] = total_pruned_params / total_params\n",
        "\n",
        "    return stats\n"
      ]
    },
    {
      "cell_type": "code",
      "execution_count": 12,
      "metadata": {
        "id": "GNyi8d0nMNfy"
      },
      "outputs": [],
      "source": [
        "import torch\n",
        "import torch.nn as nn\n",
        "import tqdm\n",
        "from torch.utils.data import DataLoader\n",
        "\n",
        "import wandb\n",
        "# from data import MNISTDataset\n",
        "# from utils import MLP, compute_stats, copy_weights_net, prune_net, reinit_net\n",
        "\n",
        "\n",
        "def loop_dataloader(dataloader):\n",
        "    \"\"\"Loop infinitely over a dataloader.\n",
        "\n",
        "    Parameters\n",
        "    ----------\n",
        "    dataloader : DataLoader\n",
        "        DataLoader streaming batches of samples.\n",
        "\n",
        "    Yields\n",
        "    ------\n",
        "    X_batch : torch.Tensor\n",
        "        Batch of features.\n",
        "\n",
        "    y_batch : torch.Tensor\n",
        "        Batch of predictions.\n",
        "    \"\"\"\n",
        "    while True:\n",
        "        for x in iter(dataloader):\n",
        "            yield x\n",
        "\n",
        "\n",
        "def train(model, dataloader_train, loss_inst, optimizer, max_iter=10_000,\n",
        "          dataloader_val=None, val_freq=500):\n",
        "    \"\"\"Run the training loop.\n",
        "\n",
        "    Parameters\n",
        "    ----------\n",
        "    model : nn.Module\n",
        "        Neural network (in our case MLP).\n",
        "\n",
        "    dataloader_train : DataLoader\n",
        "        Dataloader yielding training samples.\n",
        "\n",
        "    loss_inst : callable\n",
        "        Computes the loss when called.\n",
        "\n",
        "    optimizer : torch.optim.Optimizer\n",
        "        Instance of an optimizer.\n",
        "\n",
        "    max_iter : int\n",
        "        The number of iterations we run the training for\n",
        "        (= number of graident descent steps).\n",
        "\n",
        "    dataloader_val : None or DataLoader\n",
        "        Dataloader yielding validation samples. If provided it will\n",
        "        also single to us that we want to track metrics.\n",
        "\n",
        "    val_freq : int\n",
        "        How often evaluation run.\n",
        "    \"\"\"\n",
        "    global device\n",
        "    iterable = loop_dataloader(dataloader_train)\n",
        "    iterable = tqdm.tqdm(iterable, total=max_iter)\n",
        "    it = 0\n",
        "    for X_batch, y_batch in iterable:\n",
        "        if it == max_iter:\n",
        "            break\n",
        "        X_batch = X_batch.to(device)\n",
        "        y_batch = y_batch.to(device)\n",
        "\n",
        "        logit_batch = model(X_batch)\n",
        "\n",
        "        loss = loss_inst(logit_batch, y_batch)\n",
        "        if dataloader_val is not None:\n",
        "            wandb.log({\"loss\": loss}, step=it)\n",
        "\n",
        "        optimizer.zero_grad()\n",
        "        loss.backward()\n",
        "        optimizer.step()\n",
        "\n",
        "        if it % val_freq == 0 and dataloader_val is not None:\n",
        "            is_equal = []\n",
        "\n",
        "            for X_batch_val, y_batch_val in dataloader_val:\n",
        "                X_batch_val = X_batch_val.to(device)\n",
        "                y_batch_val = y_batch_val.to(device)\n",
        "                is_equal.append(\n",
        "                    model(X_batch_val).argmax(dim=-1) == y_batch_val\n",
        "                )\n",
        "\n",
        "            is_equal_t = torch.cat(is_equal)\n",
        "            acc = is_equal_t.sum() / len(is_equal_t)\n",
        "            wandb.log({\"accuracy_val\": acc}, step=it)\n",
        "\n",
        "        it += 1\n",
        "\n",
        "\n",
        "\n",
        "def experiment(MAX_ITERS, PRUNE_ITERS, PRUNE_METHODS, PRUNE_RATIOS , RANDOM_STATES, project_name, start_from):\n",
        "    args = {\"max-iter\" : 50000, \"batch-size\" : 64, \"prune-iter\" : 1,\n",
        "          \"prune-method\" : \"l1\", \"prune-ratio\" : 0.2, \"val-freq\" : 250, \"random-state\" : 1}\n",
        "    i = 0;\n",
        "    for max_iter in MAX_ITERS:\n",
        "      for prune_iter in PRUNE_ITERS:\n",
        "        for prune_method in PRUNE_METHODS:\n",
        "          for prune_ratio in PRUNE_RATIOS:\n",
        "            for random_state in RANDOM_STATES:\n",
        "              if i < start_from:\n",
        "                i += 1\n",
        "                continue\n",
        "              args[\"max-iter\"] = max_iter\n",
        "              args[\"prune-iter\"] = prune_iter\n",
        "              args[\"prune-method\"] = prune_method\n",
        "              args[\"prune-ratio\"] = prune_ratio\n",
        "              args[\"random-state\"] = random_state\n",
        "\n",
        "              wandb.init(\n",
        "                  project=project_name,\n",
        "                  entity=\"bspanfilov\",\n",
        "                  config=args,\n",
        "              )\n",
        "              wandb.define_metric(\"accuracy_val\", summary=\"max\")\n",
        "\n",
        "              dataset_train = CIFAR100Dataset(\n",
        "                  \"data\",\n",
        "                  train=True,\n",
        "                  download=True,\n",
        "              )\n",
        "              dataset_val = CIFAR100Dataset(\n",
        "                  \"data\",\n",
        "                  train=False,\n",
        "                  download=True,\n",
        "              )\n",
        "\n",
        "              if args[\"random-state\"] is not None:\n",
        "                  torch.manual_seed(args[\"random-state\"])\n",
        "\n",
        "              dataloader_train = DataLoader(\n",
        "                  dataset_train, batch_size=args[\"batch-size\"], shuffle=True\n",
        "              )\n",
        "              dataloader_val = DataLoader(\n",
        "                  dataset_val, batch_size=args[\"batch-size\"], shuffle=True\n",
        "              )\n",
        "\n",
        "              kwargs = dict(\n",
        "                  image_channels=3,\n",
        "                  out_features=100,\n",
        "              )\n",
        "\n",
        "              net = AlexNet(**kwargs).to(device)\n",
        "\n",
        "              net_copy = AlexNet(**kwargs).to(device)\n",
        "              net_copy.load_state_dict(net.state_dict())\n",
        "\n",
        "              loss_inst = nn.CrossEntropyLoss()\n",
        "              optimizer = torch.optim.Adam(net.parameters(), lr=3e-4)\n",
        "\n",
        "              # Train and prune loop\n",
        "              if args[\"prune-ratio\"] > 0:\n",
        "                  per_round_prune_ratio = 1 - (1 - args[\"prune-ratio\"]) ** (1 / args[\"prune-iter\"])\n",
        "\n",
        "                  per_round_prune_ratios = [per_round_prune_ratio] * len(net.module_list)\n",
        "                  per_round_prune_ratios[-1] /= 2\n",
        "\n",
        "                  per_round_max_iter = int(args[\"max-iter\"] / args[\"prune-iter\"])\n",
        "\n",
        "                  for prune_it in range(args[\"prune-iter\"]):\n",
        "                      train(\n",
        "                          net,\n",
        "                          dataloader_train,\n",
        "                          loss_inst,\n",
        "                          optimizer,\n",
        "                          max_iter=per_round_max_iter,\n",
        "                      )\n",
        "                      prune_net(net, per_round_prune_ratios, method=args[\"prune-method\"])\n",
        "\n",
        "                      copy_weights_net(net_copy, net)\n",
        "                      # надо будет добавить эксперементов без копирования, вдруг тоже что-то получиться\n",
        "                      # а пока что фигачу кучу моделей на mnist\n",
        "\n",
        "                      stats = compute_stats(net)\n",
        "                      for name, stat in stats.items():\n",
        "                          summary_name = f\"{name}_pruneiter={prune_it}\"\n",
        "                          wandb.run.summary[summary_name] = stat\n",
        "\n",
        "              # Run actual training with a final pruned network\n",
        "              train(\n",
        "                  net,\n",
        "                  dataloader_train,\n",
        "                  loss_inst,\n",
        "                  optimizer,\n",
        "                  max_iter=args[\"max-iter\"],\n",
        "                  dataloader_val=dataloader_val,\n",
        "                  val_freq=args[\"val-freq\"],\n",
        "              )\n",
        "\n",
        "\n"
      ]
    },
    {
      "cell_type": "code",
      "execution_count": null,
      "metadata": {
        "colab": {
          "base_uri": "https://localhost:8080/",
          "height": 1000,
          "referenced_widgets": [
            "f97e97917d3443a4a6d032c9b8ebbe82",
            "4c82d30a1e234cef911fb83a3f8b7d3a",
            "c3a95f73c1eb46c59e6d201deeb465de",
            "5c38fe0c3fe941eaa4d26df16765609a",
            "fb3b424187724fe49b4bf9c34628737f",
            "df1871282d034da58db3e8cb7ebc8c87",
            "6fc9201dcc8b4fd19b527ac11b384a4d",
            "b602241ef3c94ff58a7e39618c2de9f9",
            "d47eaf93602d4919977bc484e2a6fec4",
            "40841c8d0dec4027ba0bb9874457af6c",
            "2abb0d0d87e240c584386691e87d277f",
            "f6797074fa5d434f9641818e48955460",
            "76ad66f2db964c1ea6dddfc24b12545c",
            "2c568c68edd0479f8263600eba7cee1f",
            "b5be0b664fd441c982c21cbc411600c4",
            "2d2d52f778184f86a3c4d16d3333f35b"
          ]
        },
        "id": "7ak7kyZY0uD8",
        "outputId": "0b3c5273-3725-4779-8346-9babd24767c2"
      },
      "outputs": [
        {
          "output_type": "display_data",
          "data": {
            "text/plain": [
              "<IPython.core.display.HTML object>"
            ],
            "text/html": [
              "Finishing last run (ID:evafje3y) before initializing another..."
            ]
          },
          "metadata": {}
        },
        {
          "output_type": "display_data",
          "data": {
            "text/plain": [
              "<IPython.core.display.HTML object>"
            ],
            "text/html": [
              "Waiting for W&B process to finish... <strong style=\"color:green\">(success).</strong>"
            ]
          },
          "metadata": {}
        },
        {
          "output_type": "display_data",
          "data": {
            "text/plain": [
              "VBox(children=(Label(value='0.001 MB of 0.010 MB uploaded (0.000 MB deduped)\\r'), FloatProgress(value=0.110826…"
            ],
            "application/vnd.jupyter.widget-view+json": {
              "version_major": 2,
              "version_minor": 0,
              "model_id": "f97e97917d3443a4a6d032c9b8ebbe82"
            }
          },
          "metadata": {}
        },
        {
          "output_type": "display_data",
          "data": {
            "text/plain": [
              "<IPython.core.display.HTML object>"
            ],
            "text/html": [
              "<style>\n",
              "    table.wandb td:nth-child(1) { padding: 0 10px; text-align: left ; width: auto;} td:nth-child(2) {text-align: left ; width: 100%}\n",
              "    .wandb-row { display: flex; flex-direction: row; flex-wrap: wrap; justify-content: flex-start; width: 100% }\n",
              "    .wandb-col { display: flex; flex-direction: column; flex-basis: 100%; flex: 1; padding: 10px; }\n",
              "    </style>\n",
              "<div class=\"wandb-row\"><div class=\"wandb-col\"><h3>Run history:</h3><br/><table class=\"wandb\"><tr><td>accuracy_val</td><td>▇█▁▇▅▅▅▅▅▅▅▅▅▅▅▅▅▅▅▅▅▅▅</td></tr><tr><td>loss</td><td>▅█▂▄▇▂▃▅▅▅▅▃▄▅▄▄▁▄▃▄▂▄▂▃▄▅▇▄▂▄▁▃▄▃▂▂▃▅▂▅</td></tr></table><br/></div><div class=\"wandb-col\"><h3>Run summary:</h3><br/><table class=\"wandb\"><tr><td>loss</td><td>4.60824</td></tr></table><br/></div></div>"
            ]
          },
          "metadata": {}
        },
        {
          "output_type": "display_data",
          "data": {
            "text/plain": [
              "<IPython.core.display.HTML object>"
            ],
            "text/html": [
              " View run <strong style=\"color:#cdcd00\">bajoran-nimoy-26</strong> at: <a href='https://wandb.ai/bspanfilov/thinking/runs/evafje3y' target=\"_blank\">https://wandb.ai/bspanfilov/thinking/runs/evafje3y</a><br/>Synced 5 W&B file(s), 0 media file(s), 0 artifact file(s) and 0 other file(s)"
            ]
          },
          "metadata": {}
        },
        {
          "output_type": "display_data",
          "data": {
            "text/plain": [
              "<IPython.core.display.HTML object>"
            ],
            "text/html": [
              "Find logs at: <code>./wandb/run-20230405_092029-evafje3y/logs</code>"
            ]
          },
          "metadata": {}
        },
        {
          "output_type": "display_data",
          "data": {
            "text/plain": [
              "<IPython.core.display.HTML object>"
            ],
            "text/html": [
              "Successfully finished last run (ID:evafje3y). Initializing new run:<br/>"
            ]
          },
          "metadata": {}
        },
        {
          "output_type": "display_data",
          "data": {
            "text/plain": [
              "<IPython.core.display.HTML object>"
            ],
            "text/html": [
              "Tracking run with wandb version 0.14.0"
            ]
          },
          "metadata": {}
        },
        {
          "output_type": "display_data",
          "data": {
            "text/plain": [
              "<IPython.core.display.HTML object>"
            ],
            "text/html": [
              "Run data is saved locally in <code>/content/wandb/run-20230405_094744-keid8xvt</code>"
            ]
          },
          "metadata": {}
        },
        {
          "output_type": "display_data",
          "data": {
            "text/plain": [
              "<IPython.core.display.HTML object>"
            ],
            "text/html": [
              "Syncing run <strong><a href='https://wandb.ai/bspanfilov/thinking/runs/keid8xvt' target=\"_blank\">betazoid-maquis-27</a></strong> to <a href='https://wandb.ai/bspanfilov/thinking' target=\"_blank\">Weights & Biases</a> (<a href='https://wandb.me/run' target=\"_blank\">docs</a>)<br/>"
            ]
          },
          "metadata": {}
        },
        {
          "output_type": "display_data",
          "data": {
            "text/plain": [
              "<IPython.core.display.HTML object>"
            ],
            "text/html": [
              " View project at <a href='https://wandb.ai/bspanfilov/thinking' target=\"_blank\">https://wandb.ai/bspanfilov/thinking</a>"
            ]
          },
          "metadata": {}
        },
        {
          "output_type": "display_data",
          "data": {
            "text/plain": [
              "<IPython.core.display.HTML object>"
            ],
            "text/html": [
              " View run at <a href='https://wandb.ai/bspanfilov/thinking/runs/keid8xvt' target=\"_blank\">https://wandb.ai/bspanfilov/thinking/runs/keid8xvt</a>"
            ]
          },
          "metadata": {}
        },
        {
          "output_type": "stream",
          "name": "stdout",
          "text": [
            "Files already downloaded and verified\n",
            "Files already downloaded and verified\n"
          ]
        },
        {
          "output_type": "stream",
          "name": "stderr",
          "text": [
            "100%|██████████| 11000/11000 [50:53<00:00,  3.60it/s]\n"
          ]
        },
        {
          "output_type": "display_data",
          "data": {
            "text/plain": [
              "<IPython.core.display.HTML object>"
            ],
            "text/html": [
              "Finishing last run (ID:keid8xvt) before initializing another..."
            ]
          },
          "metadata": {}
        },
        {
          "output_type": "display_data",
          "data": {
            "text/plain": [
              "<IPython.core.display.HTML object>"
            ],
            "text/html": [
              "Waiting for W&B process to finish... <strong style=\"color:green\">(success).</strong>"
            ]
          },
          "metadata": {}
        },
        {
          "output_type": "display_data",
          "data": {
            "text/plain": [
              "VBox(children=(Label(value='0.001 MB of 0.001 MB uploaded (0.000 MB deduped)\\r'), FloatProgress(value=1.0, max…"
            ],
            "application/vnd.jupyter.widget-view+json": {
              "version_major": 2,
              "version_minor": 0,
              "model_id": "d47eaf93602d4919977bc484e2a6fec4"
            }
          },
          "metadata": {}
        },
        {
          "output_type": "display_data",
          "data": {
            "text/plain": [
              "<IPython.core.display.HTML object>"
            ],
            "text/html": [
              "<style>\n",
              "    table.wandb td:nth-child(1) { padding: 0 10px; text-align: left ; width: auto;} td:nth-child(2) {text-align: left ; width: 100%}\n",
              "    .wandb-row { display: flex; flex-direction: row; flex-wrap: wrap; justify-content: flex-start; width: 100% }\n",
              "    .wandb-col { display: flex; flex-direction: column; flex-basis: 100%; flex: 1; padding: 10px; }\n",
              "    </style>\n",
              "<div class=\"wandb-row\"><div class=\"wandb-col\"><h3>Run history:</h3><br/><table class=\"wandb\"><tr><td>accuracy_val</td><td>▁▂▃▄▄▅▅▅▆▆▆▆▇▇▇▇▇▇▇▇████▇███████████████</td></tr><tr><td>loss</td><td>█▇▆▆▅▅▄▅▅▄▄▄▄▄▃▄▃▄▃▃▃▃▃▂▄▃▁▃▂▃▃▂▂▃▂▂▂▁▂▂</td></tr></table><br/></div><div class=\"wandb-col\"><h3>Run summary:</h3><br/><table class=\"wandb\"><tr><td>loss</td><td>0.9699</td></tr></table><br/></div></div>"
            ]
          },
          "metadata": {}
        },
        {
          "output_type": "display_data",
          "data": {
            "text/plain": [
              "<IPython.core.display.HTML object>"
            ],
            "text/html": [
              " View run <strong style=\"color:#cdcd00\">betazoid-maquis-27</strong> at: <a href='https://wandb.ai/bspanfilov/thinking/runs/keid8xvt' target=\"_blank\">https://wandb.ai/bspanfilov/thinking/runs/keid8xvt</a><br/>Synced 5 W&B file(s), 0 media file(s), 0 artifact file(s) and 0 other file(s)"
            ]
          },
          "metadata": {}
        },
        {
          "output_type": "display_data",
          "data": {
            "text/plain": [
              "<IPython.core.display.HTML object>"
            ],
            "text/html": [
              "Find logs at: <code>./wandb/run-20230405_094744-keid8xvt/logs</code>"
            ]
          },
          "metadata": {}
        },
        {
          "output_type": "display_data",
          "data": {
            "text/plain": [
              "<IPython.core.display.HTML object>"
            ],
            "text/html": [
              "Successfully finished last run (ID:keid8xvt). Initializing new run:<br/>"
            ]
          },
          "metadata": {}
        },
        {
          "output_type": "display_data",
          "data": {
            "text/plain": [
              "<IPython.core.display.HTML object>"
            ],
            "text/html": [
              "Tracking run with wandb version 0.14.0"
            ]
          },
          "metadata": {}
        },
        {
          "output_type": "display_data",
          "data": {
            "text/plain": [
              "<IPython.core.display.HTML object>"
            ],
            "text/html": [
              "Run data is saved locally in <code>/content/wandb/run-20230405_103845-4gkfi9vu</code>"
            ]
          },
          "metadata": {}
        },
        {
          "output_type": "display_data",
          "data": {
            "text/plain": [
              "<IPython.core.display.HTML object>"
            ],
            "text/html": [
              "Syncing run <strong><a href='https://wandb.ai/bspanfilov/thinking/runs/4gkfi9vu' target=\"_blank\">vulcan-cube-28</a></strong> to <a href='https://wandb.ai/bspanfilov/thinking' target=\"_blank\">Weights & Biases</a> (<a href='https://wandb.me/run' target=\"_blank\">docs</a>)<br/>"
            ]
          },
          "metadata": {}
        },
        {
          "output_type": "display_data",
          "data": {
            "text/plain": [
              "<IPython.core.display.HTML object>"
            ],
            "text/html": [
              " View project at <a href='https://wandb.ai/bspanfilov/thinking' target=\"_blank\">https://wandb.ai/bspanfilov/thinking</a>"
            ]
          },
          "metadata": {}
        },
        {
          "output_type": "display_data",
          "data": {
            "text/plain": [
              "<IPython.core.display.HTML object>"
            ],
            "text/html": [
              " View run at <a href='https://wandb.ai/bspanfilov/thinking/runs/4gkfi9vu' target=\"_blank\">https://wandb.ai/bspanfilov/thinking/runs/4gkfi9vu</a>"
            ]
          },
          "metadata": {}
        },
        {
          "output_type": "stream",
          "name": "stdout",
          "text": [
            "Files already downloaded and verified\n",
            "Files already downloaded and verified\n"
          ]
        },
        {
          "output_type": "stream",
          "name": "stderr",
          "text": [
            "100%|██████████| 2200/2200 [05:59<00:00,  6.13it/s]\n",
            "100%|██████████| 2200/2200 [06:03<00:00,  6.05it/s]\n",
            "100%|██████████| 2200/2200 [06:01<00:00,  6.08it/s]\n",
            "100%|██████████| 2200/2200 [06:04<00:00,  6.04it/s]\n",
            "100%|██████████| 2200/2200 [05:59<00:00,  6.12it/s]\n",
            "100%|██████████| 11000/11000 [51:43<00:00,  3.54it/s]\n"
          ]
        },
        {
          "output_type": "display_data",
          "data": {
            "text/plain": [
              "<IPython.core.display.HTML object>"
            ],
            "text/html": [
              "Finishing last run (ID:4gkfi9vu) before initializing another..."
            ]
          },
          "metadata": {}
        },
        {
          "output_type": "display_data",
          "data": {
            "text/plain": [
              "<IPython.core.display.HTML object>"
            ],
            "text/html": [
              "Waiting for W&B process to finish... <strong style=\"color:green\">(success).</strong>"
            ]
          },
          "metadata": {}
        },
        {
          "output_type": "display_data",
          "data": {
            "text/plain": [
              "<IPython.core.display.HTML object>"
            ],
            "text/html": [
              "<style>\n",
              "    table.wandb td:nth-child(1) { padding: 0 10px; text-align: left ; width: auto;} td:nth-child(2) {text-align: left ; width: 100%}\n",
              "    .wandb-row { display: flex; flex-direction: row; flex-wrap: wrap; justify-content: flex-start; width: 100% }\n",
              "    .wandb-col { display: flex; flex-direction: column; flex-basis: 100%; flex: 1; padding: 10px; }\n",
              "    </style>\n",
              "<div class=\"wandb-row\"><div class=\"wandb-col\"><h3>Run history:</h3><br/><table class=\"wandb\"><tr><td>accuracy_val</td><td>▁▂▃▃▄▅▅▅▅▆▆▆▇▇▇▇▇▇▇███▇█████████████████</td></tr><tr><td>loss</td><td>█▇▇▆▆▆▅▅▄▅▄▄▄▄▄▃▅▄▃▃▃▃▃▂▃▄▂▂▂▃▂▃▃▂▂▃▂▁▂▂</td></tr></table><br/></div><div class=\"wandb-col\"><h3>Run summary:</h3><br/><table class=\"wandb\"><tr><td>actual_prune_ratio_pruneiter=0</td><td>0.04344</td></tr><tr><td>actual_prune_ratio_pruneiter=1</td><td>0.08499</td></tr><tr><td>actual_prune_ratio_pruneiter=2</td><td>0.12473</td></tr><tr><td>actual_prune_ratio_pruneiter=3</td><td>0.16274</td></tr><tr><td>actual_prune_ratio_pruneiter=4</td><td>0.1991</td></tr><tr><td>layer0_actual_prune_ratio_pruneiter=0</td><td>0.04364</td></tr><tr><td>layer0_actual_prune_ratio_pruneiter=1</td><td>0.08539</td></tr><tr><td>layer0_actual_prune_ratio_pruneiter=2</td><td>0.12531</td></tr><tr><td>layer0_actual_prune_ratio_pruneiter=3</td><td>0.16349</td></tr><tr><td>layer0_actual_prune_ratio_pruneiter=4</td><td>0.19998</td></tr><tr><td>layer0_pruned_params_pruneiter=0</td><td>1525</td></tr><tr><td>layer0_pruned_params_pruneiter=1</td><td>2984</td></tr><tr><td>layer0_pruned_params_pruneiter=2</td><td>4379</td></tr><tr><td>layer0_pruned_params_pruneiter=3</td><td>5713</td></tr><tr><td>layer0_pruned_params_pruneiter=4</td><td>6988</td></tr><tr><td>layer0_total_params_pruneiter=0</td><td>34944</td></tr><tr><td>layer0_total_params_pruneiter=1</td><td>34944</td></tr><tr><td>layer0_total_params_pruneiter=2</td><td>34944</td></tr><tr><td>layer0_total_params_pruneiter=3</td><td>34944</td></tr><tr><td>layer0_total_params_pruneiter=4</td><td>34944</td></tr><tr><td>layer1_actual_prune_ratio_pruneiter=0</td><td>0.04365</td></tr><tr><td>layer1_actual_prune_ratio_pruneiter=1</td><td>0.08539</td></tr><tr><td>layer1_actual_prune_ratio_pruneiter=2</td><td>0.12531</td></tr><tr><td>layer1_actual_prune_ratio_pruneiter=3</td><td>0.16349</td></tr><tr><td>layer1_actual_prune_ratio_pruneiter=4</td><td>0.2</td></tr><tr><td>layer1_pruned_params_pruneiter=0</td><td>26828</td></tr><tr><td>layer1_pruned_params_pruneiter=1</td><td>52486</td></tr><tr><td>layer1_pruned_params_pruneiter=2</td><td>77023</td></tr><tr><td>layer1_pruned_params_pruneiter=3</td><td>100490</td></tr><tr><td>layer1_pruned_params_pruneiter=4</td><td>122932</td></tr><tr><td>layer1_total_params_pruneiter=0</td><td>614656</td></tr><tr><td>layer1_total_params_pruneiter=1</td><td>614656</td></tr><tr><td>layer1_total_params_pruneiter=2</td><td>614656</td></tr><tr><td>layer1_total_params_pruneiter=3</td><td>614656</td></tr><tr><td>layer1_total_params_pruneiter=4</td><td>614656</td></tr><tr><td>layer2_actual_prune_ratio_pruneiter=0</td><td>0.04365</td></tr><tr><td>layer2_actual_prune_ratio_pruneiter=1</td><td>0.08539</td></tr><tr><td>layer2_actual_prune_ratio_pruneiter=2</td><td>0.12531</td></tr><tr><td>layer2_actual_prune_ratio_pruneiter=3</td><td>0.16349</td></tr><tr><td>layer2_actual_prune_ratio_pruneiter=4</td><td>0.2</td></tr><tr><td>layer2_pruned_params_pruneiter=0</td><td>38634</td></tr><tr><td>layer2_pruned_params_pruneiter=1</td><td>75581</td></tr><tr><td>layer2_pruned_params_pruneiter=2</td><td>110915</td></tr><tr><td>layer2_pruned_params_pruneiter=3</td><td>144707</td></tr><tr><td>layer2_pruned_params_pruneiter=4</td><td>177024</td></tr><tr><td>layer2_total_params_pruneiter=0</td><td>885120</td></tr><tr><td>layer2_total_params_pruneiter=1</td><td>885120</td></tr><tr><td>layer2_total_params_pruneiter=2</td><td>885120</td></tr><tr><td>layer2_total_params_pruneiter=3</td><td>885120</td></tr><tr><td>layer2_total_params_pruneiter=4</td><td>885120</td></tr><tr><td>layer3_actual_prune_ratio_pruneiter=0</td><td>0.04365</td></tr><tr><td>layer3_actual_prune_ratio_pruneiter=1</td><td>0.08539</td></tr><tr><td>layer3_actual_prune_ratio_pruneiter=2</td><td>0.12531</td></tr><tr><td>layer3_actual_prune_ratio_pruneiter=3</td><td>0.16349</td></tr><tr><td>layer3_actual_prune_ratio_pruneiter=4</td><td>0.2</td></tr><tr><td>layer3_pruned_params_pruneiter=0</td><td>57942</td></tr><tr><td>layer3_pruned_params_pruneiter=1</td><td>113354</td></tr><tr><td>layer3_pruned_params_pruneiter=2</td><td>166348</td></tr><tr><td>layer3_pruned_params_pruneiter=3</td><td>217029</td></tr><tr><td>layer3_pruned_params_pruneiter=4</td><td>265498</td></tr><tr><td>layer3_total_params_pruneiter=0</td><td>1327488</td></tr><tr><td>layer3_total_params_pruneiter=1</td><td>1327488</td></tr><tr><td>layer3_total_params_pruneiter=2</td><td>1327488</td></tr><tr><td>layer3_total_params_pruneiter=3</td><td>1327488</td></tr><tr><td>layer3_total_params_pruneiter=4</td><td>1327488</td></tr><tr><td>layer4_actual_prune_ratio_pruneiter=0</td><td>0.04365</td></tr><tr><td>layer4_actual_prune_ratio_pruneiter=1</td><td>0.08539</td></tr><tr><td>layer4_actual_prune_ratio_pruneiter=2</td><td>0.12531</td></tr><tr><td>layer4_actual_prune_ratio_pruneiter=3</td><td>0.16349</td></tr><tr><td>layer4_actual_prune_ratio_pruneiter=4</td><td>0.2</td></tr><tr><td>layer4_pruned_params_pruneiter=0</td><td>107279</td></tr><tr><td>layer4_pruned_params_pruneiter=1</td><td>209876</td></tr><tr><td>layer4_pruned_params_pruneiter=2</td><td>307994</td></tr><tr><td>layer4_pruned_params_pruneiter=3</td><td>401830</td></tr><tr><td>layer4_pruned_params_pruneiter=4</td><td>491570</td></tr><tr><td>layer4_total_params_pruneiter=0</td><td>2457856</td></tr><tr><td>layer4_total_params_pruneiter=1</td><td>2457856</td></tr><tr><td>layer4_total_params_pruneiter=2</td><td>2457856</td></tr><tr><td>layer4_total_params_pruneiter=3</td><td>2457856</td></tr><tr><td>layer4_total_params_pruneiter=4</td><td>2457856</td></tr><tr><td>layer5_actual_prune_ratio_pruneiter=0</td><td>0.04365</td></tr><tr><td>layer5_actual_prune_ratio_pruneiter=1</td><td>0.08539</td></tr><tr><td>layer5_actual_prune_ratio_pruneiter=2</td><td>0.12531</td></tr><tr><td>layer5_actual_prune_ratio_pruneiter=3</td><td>0.16349</td></tr><tr><td>layer5_actual_prune_ratio_pruneiter=4</td><td>0.2</td></tr><tr><td>layer5_pruned_params_pruneiter=0</td><td>1647817</td></tr><tr><td>layer5_pruned_params_pruneiter=1</td><td>3223711</td></tr><tr><td>layer5_pruned_params_pruneiter=2</td><td>4730821</td></tr><tr><td>layer5_pruned_params_pruneiter=3</td><td>6172149</td></tr><tr><td>layer5_pruned_params_pruneiter=4</td><td>7550567</td></tr><tr><td>layer5_total_params_pruneiter=0</td><td>37752832</td></tr><tr><td>layer5_total_params_pruneiter=1</td><td>37752832</td></tr><tr><td>layer5_total_params_pruneiter=2</td><td>37752832</td></tr><tr><td>layer5_total_params_pruneiter=3</td><td>37752832</td></tr><tr><td>layer5_total_params_pruneiter=4</td><td>37752832</td></tr><tr><td>layer6_actual_prune_ratio_pruneiter=0</td><td>0.02182</td></tr><tr><td>layer6_actual_prune_ratio_pruneiter=1</td><td>0.04317</td></tr><tr><td>layer6_actual_prune_ratio_pruneiter=2</td><td>0.06405</td></tr><tr><td>layer6_actual_prune_ratio_pruneiter=3</td><td>0.08448</td></tr><tr><td>layer6_actual_prune_ratio_pruneiter=4</td><td>0.10446</td></tr><tr><td>layer6_pruned_params_pruneiter=0</td><td>8941</td></tr><tr><td>layer6_pruned_params_pruneiter=1</td><td>17687</td></tr><tr><td>layer6_pruned_params_pruneiter=2</td><td>26242</td></tr><tr><td>layer6_pruned_params_pruneiter=3</td><td>34610</td></tr><tr><td>layer6_pruned_params_pruneiter=4</td><td>42796</td></tr><tr><td>layer6_total_params_pruneiter=0</td><td>409700</td></tr><tr><td>layer6_total_params_pruneiter=1</td><td>409700</td></tr><tr><td>layer6_total_params_pruneiter=2</td><td>409700</td></tr><tr><td>layer6_total_params_pruneiter=3</td><td>409700</td></tr><tr><td>layer6_total_params_pruneiter=4</td><td>409700</td></tr><tr><td>loss</td><td>0.71604</td></tr><tr><td>total_params_pruneiter=0</td><td>43482596</td></tr><tr><td>total_params_pruneiter=1</td><td>43482596</td></tr><tr><td>total_params_pruneiter=2</td><td>43482596</td></tr><tr><td>total_params_pruneiter=3</td><td>43482596</td></tr><tr><td>total_params_pruneiter=4</td><td>43482596</td></tr><tr><td>total_pruned_params_pruneiter=0</td><td>1888966</td></tr><tr><td>total_pruned_params_pruneiter=1</td><td>3695679</td></tr><tr><td>total_pruned_params_pruneiter=2</td><td>5423722</td></tr><tr><td>total_pruned_params_pruneiter=3</td><td>7076528</td></tr><tr><td>total_pruned_params_pruneiter=4</td><td>8657375</td></tr></table><br/></div></div>"
            ]
          },
          "metadata": {}
        },
        {
          "output_type": "display_data",
          "data": {
            "text/plain": [
              "<IPython.core.display.HTML object>"
            ],
            "text/html": [
              " View run <strong style=\"color:#cdcd00\">vulcan-cube-28</strong> at: <a href='https://wandb.ai/bspanfilov/thinking/runs/4gkfi9vu' target=\"_blank\">https://wandb.ai/bspanfilov/thinking/runs/4gkfi9vu</a><br/>Synced 5 W&B file(s), 0 media file(s), 0 artifact file(s) and 0 other file(s)"
            ]
          },
          "metadata": {}
        },
        {
          "output_type": "display_data",
          "data": {
            "text/plain": [
              "<IPython.core.display.HTML object>"
            ],
            "text/html": [
              "Find logs at: <code>./wandb/run-20230405_103845-4gkfi9vu/logs</code>"
            ]
          },
          "metadata": {}
        },
        {
          "output_type": "display_data",
          "data": {
            "text/plain": [
              "<IPython.core.display.HTML object>"
            ],
            "text/html": [
              "Successfully finished last run (ID:4gkfi9vu). Initializing new run:<br/>"
            ]
          },
          "metadata": {}
        },
        {
          "output_type": "display_data",
          "data": {
            "text/plain": [
              "<IPython.core.display.HTML object>"
            ],
            "text/html": [
              "Tracking run with wandb version 0.14.0"
            ]
          },
          "metadata": {}
        },
        {
          "output_type": "display_data",
          "data": {
            "text/plain": [
              "<IPython.core.display.HTML object>"
            ],
            "text/html": [
              "Run data is saved locally in <code>/content/wandb/run-20230405_120047-al28gjji</code>"
            ]
          },
          "metadata": {}
        },
        {
          "output_type": "display_data",
          "data": {
            "text/plain": [
              "<IPython.core.display.HTML object>"
            ],
            "text/html": [
              "Syncing run <strong><a href='https://wandb.ai/bspanfilov/thinking/runs/al28gjji' target=\"_blank\">futile-unimatrix-29</a></strong> to <a href='https://wandb.ai/bspanfilov/thinking' target=\"_blank\">Weights & Biases</a> (<a href='https://wandb.me/run' target=\"_blank\">docs</a>)<br/>"
            ]
          },
          "metadata": {}
        },
        {
          "output_type": "display_data",
          "data": {
            "text/plain": [
              "<IPython.core.display.HTML object>"
            ],
            "text/html": [
              " View project at <a href='https://wandb.ai/bspanfilov/thinking' target=\"_blank\">https://wandb.ai/bspanfilov/thinking</a>"
            ]
          },
          "metadata": {}
        },
        {
          "output_type": "display_data",
          "data": {
            "text/plain": [
              "<IPython.core.display.HTML object>"
            ],
            "text/html": [
              " View run at <a href='https://wandb.ai/bspanfilov/thinking/runs/al28gjji' target=\"_blank\">https://wandb.ai/bspanfilov/thinking/runs/al28gjji</a>"
            ]
          },
          "metadata": {}
        },
        {
          "output_type": "stream",
          "name": "stdout",
          "text": [
            "Files already downloaded and verified\n",
            "Files already downloaded and verified\n"
          ]
        },
        {
          "output_type": "stream",
          "name": "stderr",
          "text": [
            "100%|██████████| 2200/2200 [05:53<00:00,  6.22it/s]\n",
            "100%|██████████| 2200/2200 [05:56<00:00,  6.16it/s]\n",
            "100%|██████████| 2200/2200 [05:56<00:00,  6.17it/s]\n",
            "100%|██████████| 2200/2200 [05:58<00:00,  6.13it/s]\n",
            "100%|██████████| 2200/2200 [05:58<00:00,  6.14it/s]\n",
            "100%|██████████| 11000/11000 [51:21<00:00,  3.57it/s]\n"
          ]
        },
        {
          "output_type": "display_data",
          "data": {
            "text/plain": [
              "<IPython.core.display.HTML object>"
            ],
            "text/html": [
              "Finishing last run (ID:al28gjji) before initializing another..."
            ]
          },
          "metadata": {}
        },
        {
          "output_type": "display_data",
          "data": {
            "text/plain": [
              "<IPython.core.display.HTML object>"
            ],
            "text/html": [
              "Waiting for W&B process to finish... <strong style=\"color:green\">(success).</strong>"
            ]
          },
          "metadata": {}
        },
        {
          "output_type": "display_data",
          "data": {
            "text/plain": [
              "<IPython.core.display.HTML object>"
            ],
            "text/html": [
              "<style>\n",
              "    table.wandb td:nth-child(1) { padding: 0 10px; text-align: left ; width: auto;} td:nth-child(2) {text-align: left ; width: 100%}\n",
              "    .wandb-row { display: flex; flex-direction: row; flex-wrap: wrap; justify-content: flex-start; width: 100% }\n",
              "    .wandb-col { display: flex; flex-direction: column; flex-basis: 100%; flex: 1; padding: 10px; }\n",
              "    </style>\n",
              "<div class=\"wandb-row\"><div class=\"wandb-col\"><h3>Run history:</h3><br/><table class=\"wandb\"><tr><td>accuracy_val</td><td>▁▁▂▃▄▄▅▅▆▆▆▆▇▇▇▇▇▇▇▇▇▇▇█████████████████</td></tr><tr><td>loss</td><td>█▇▇▆▅▅▄▄▃▄▄▄▃▃▃▃▃▃▃▃▂▃▃▂▂▃▂▂▂▂▂▂▂▂▂▂▂▁▁▂</td></tr></table><br/></div><div class=\"wandb-col\"><h3>Run summary:</h3><br/><table class=\"wandb\"><tr><td>actual_prune_ratio_pruneiter=0</td><td>0.12884</td></tr><tr><td>actual_prune_ratio_pruneiter=1</td><td>0.24104</td></tr><tr><td>actual_prune_ratio_pruneiter=2</td><td>0.33875</td></tr><tr><td>actual_prune_ratio_pruneiter=3</td><td>0.42385</td></tr><tr><td>actual_prune_ratio_pruneiter=4</td><td>0.49797</td></tr><tr><td>layer0_actual_prune_ratio_pruneiter=0</td><td>0.12944</td></tr><tr><td>layer0_actual_prune_ratio_pruneiter=1</td><td>0.24213</td></tr><tr><td>layer0_actual_prune_ratio_pruneiter=2</td><td>0.34023</td></tr><tr><td>layer0_actual_prune_ratio_pruneiter=3</td><td>0.42562</td></tr><tr><td>layer0_actual_prune_ratio_pruneiter=4</td><td>0.49997</td></tr><tr><td>layer0_pruned_params_pruneiter=0</td><td>4523</td></tr><tr><td>layer0_pruned_params_pruneiter=1</td><td>8461</td></tr><tr><td>layer0_pruned_params_pruneiter=2</td><td>11889</td></tr><tr><td>layer0_pruned_params_pruneiter=3</td><td>14873</td></tr><tr><td>layer0_pruned_params_pruneiter=4</td><td>17471</td></tr><tr><td>layer0_total_params_pruneiter=0</td><td>34944</td></tr><tr><td>layer0_total_params_pruneiter=1</td><td>34944</td></tr><tr><td>layer0_total_params_pruneiter=2</td><td>34944</td></tr><tr><td>layer0_total_params_pruneiter=3</td><td>34944</td></tr><tr><td>layer0_total_params_pruneiter=4</td><td>34944</td></tr><tr><td>layer1_actual_prune_ratio_pruneiter=0</td><td>0.12945</td></tr><tr><td>layer1_actual_prune_ratio_pruneiter=1</td><td>0.24214</td></tr><tr><td>layer1_actual_prune_ratio_pruneiter=2</td><td>0.34025</td></tr><tr><td>layer1_actual_prune_ratio_pruneiter=3</td><td>0.42565</td></tr><tr><td>layer1_actual_prune_ratio_pruneiter=4</td><td>0.5</td></tr><tr><td>layer1_pruned_params_pruneiter=0</td><td>79567</td></tr><tr><td>layer1_pruned_params_pruneiter=1</td><td>148834</td></tr><tr><td>layer1_pruned_params_pruneiter=2</td><td>209134</td></tr><tr><td>layer1_pruned_params_pruneiter=3</td><td>261629</td></tr><tr><td>layer1_pruned_params_pruneiter=4</td><td>307328</td></tr><tr><td>layer1_total_params_pruneiter=0</td><td>614656</td></tr><tr><td>layer1_total_params_pruneiter=1</td><td>614656</td></tr><tr><td>layer1_total_params_pruneiter=2</td><td>614656</td></tr><tr><td>layer1_total_params_pruneiter=3</td><td>614656</td></tr><tr><td>layer1_total_params_pruneiter=4</td><td>614656</td></tr><tr><td>layer2_actual_prune_ratio_pruneiter=0</td><td>0.12945</td></tr><tr><td>layer2_actual_prune_ratio_pruneiter=1</td><td>0.24214</td></tr><tr><td>layer2_actual_prune_ratio_pruneiter=2</td><td>0.34025</td></tr><tr><td>layer2_actual_prune_ratio_pruneiter=3</td><td>0.42565</td></tr><tr><td>layer2_actual_prune_ratio_pruneiter=4</td><td>0.5</td></tr><tr><td>layer2_pruned_params_pruneiter=0</td><td>114579</td></tr><tr><td>layer2_pruned_params_pruneiter=1</td><td>214325</td></tr><tr><td>layer2_pruned_params_pruneiter=2</td><td>301159</td></tr><tr><td>layer2_pruned_params_pruneiter=3</td><td>376753</td></tr><tr><td>layer2_pruned_params_pruneiter=4</td><td>442560</td></tr><tr><td>layer2_total_params_pruneiter=0</td><td>885120</td></tr><tr><td>layer2_total_params_pruneiter=1</td><td>885120</td></tr><tr><td>layer2_total_params_pruneiter=2</td><td>885120</td></tr><tr><td>layer2_total_params_pruneiter=3</td><td>885120</td></tr><tr><td>layer2_total_params_pruneiter=4</td><td>885120</td></tr><tr><td>layer3_actual_prune_ratio_pruneiter=0</td><td>0.12945</td></tr><tr><td>layer3_actual_prune_ratio_pruneiter=1</td><td>0.24214</td></tr><tr><td>layer3_actual_prune_ratio_pruneiter=2</td><td>0.34025</td></tr><tr><td>layer3_actual_prune_ratio_pruneiter=3</td><td>0.42565</td></tr><tr><td>layer3_actual_prune_ratio_pruneiter=4</td><td>0.5</td></tr><tr><td>layer3_pruned_params_pruneiter=0</td><td>171843</td></tr><tr><td>layer3_pruned_params_pruneiter=1</td><td>321440</td></tr><tr><td>layer3_pruned_params_pruneiter=2</td><td>451673</td></tr><tr><td>layer3_pruned_params_pruneiter=3</td><td>565047</td></tr><tr><td>layer3_pruned_params_pruneiter=4</td><td>663744</td></tr><tr><td>layer3_total_params_pruneiter=0</td><td>1327488</td></tr><tr><td>layer3_total_params_pruneiter=1</td><td>1327488</td></tr><tr><td>layer3_total_params_pruneiter=2</td><td>1327488</td></tr><tr><td>layer3_total_params_pruneiter=3</td><td>1327488</td></tr><tr><td>layer3_total_params_pruneiter=4</td><td>1327488</td></tr><tr><td>layer4_actual_prune_ratio_pruneiter=0</td><td>0.12945</td></tr><tr><td>layer4_actual_prune_ratio_pruneiter=1</td><td>0.24214</td></tr><tr><td>layer4_actual_prune_ratio_pruneiter=2</td><td>0.34025</td></tr><tr><td>layer4_actual_prune_ratio_pruneiter=3</td><td>0.42565</td></tr><tr><td>layer4_actual_prune_ratio_pruneiter=4</td><td>0.5</td></tr><tr><td>layer4_pruned_params_pruneiter=0</td><td>318168</td></tr><tr><td>layer4_pruned_params_pruneiter=1</td><td>595150</td></tr><tr><td>layer4_pruned_params_pruneiter=2</td><td>836276</td></tr><tr><td>layer4_pruned_params_pruneiter=3</td><td>1046189</td></tr><tr><td>layer4_pruned_params_pruneiter=4</td><td>1228928</td></tr><tr><td>layer4_total_params_pruneiter=0</td><td>2457856</td></tr><tr><td>layer4_total_params_pruneiter=1</td><td>2457856</td></tr><tr><td>layer4_total_params_pruneiter=2</td><td>2457856</td></tr><tr><td>layer4_total_params_pruneiter=3</td><td>2457856</td></tr><tr><td>layer4_total_params_pruneiter=4</td><td>2457856</td></tr><tr><td>layer5_actual_prune_ratio_pruneiter=0</td><td>0.12945</td></tr><tr><td>layer5_actual_prune_ratio_pruneiter=1</td><td>0.24214</td></tr><tr><td>layer5_actual_prune_ratio_pruneiter=2</td><td>0.34025</td></tr><tr><td>layer5_actual_prune_ratio_pruneiter=3</td><td>0.42565</td></tr><tr><td>layer5_actual_prune_ratio_pruneiter=4</td><td>0.5</td></tr><tr><td>layer5_pruned_params_pruneiter=0</td><td>4887083</td></tr><tr><td>layer5_pruned_params_pruneiter=1</td><td>9141536</td></tr><tr><td>layer5_pruned_params_pruneiter=2</td><td>12845252</td></tr><tr><td>layer5_pruned_params_pruneiter=3</td><td>16069524</td></tr><tr><td>layer5_pruned_params_pruneiter=4</td><td>18876416</td></tr><tr><td>layer5_total_params_pruneiter=0</td><td>37752832</td></tr><tr><td>layer5_total_params_pruneiter=1</td><td>37752832</td></tr><tr><td>layer5_total_params_pruneiter=2</td><td>37752832</td></tr><tr><td>layer5_total_params_pruneiter=3</td><td>37752832</td></tr><tr><td>layer5_total_params_pruneiter=4</td><td>37752832</td></tr><tr><td>layer6_actual_prune_ratio_pruneiter=0</td><td>0.06472</td></tr><tr><td>layer6_actual_prune_ratio_pruneiter=1</td><td>0.12526</td></tr><tr><td>layer6_actual_prune_ratio_pruneiter=2</td><td>0.18187</td></tr><tr><td>layer6_actual_prune_ratio_pruneiter=3</td><td>0.23483</td></tr><tr><td>layer6_actual_prune_ratio_pruneiter=4</td><td>0.28435</td></tr><tr><td>layer6_pruned_params_pruneiter=0</td><td>26517</td></tr><tr><td>layer6_pruned_params_pruneiter=1</td><td>51318</td></tr><tr><td>layer6_pruned_params_pruneiter=2</td><td>74514</td></tr><tr><td>layer6_pruned_params_pruneiter=3</td><td>96209</td></tr><tr><td>layer6_pruned_params_pruneiter=4</td><td>116500</td></tr><tr><td>layer6_total_params_pruneiter=0</td><td>409700</td></tr><tr><td>layer6_total_params_pruneiter=1</td><td>409700</td></tr><tr><td>layer6_total_params_pruneiter=2</td><td>409700</td></tr><tr><td>layer6_total_params_pruneiter=3</td><td>409700</td></tr><tr><td>layer6_total_params_pruneiter=4</td><td>409700</td></tr><tr><td>loss</td><td>0.9971</td></tr><tr><td>total_params_pruneiter=0</td><td>43482596</td></tr><tr><td>total_params_pruneiter=1</td><td>43482596</td></tr><tr><td>total_params_pruneiter=2</td><td>43482596</td></tr><tr><td>total_params_pruneiter=3</td><td>43482596</td></tr><tr><td>total_params_pruneiter=4</td><td>43482596</td></tr><tr><td>total_pruned_params_pruneiter=0</td><td>5602280</td></tr><tr><td>total_pruned_params_pruneiter=1</td><td>10481064</td></tr><tr><td>total_pruned_params_pruneiter=2</td><td>14729897</td></tr><tr><td>total_pruned_params_pruneiter=3</td><td>18430224</td></tr><tr><td>total_pruned_params_pruneiter=4</td><td>21652947</td></tr></table><br/></div></div>"
            ]
          },
          "metadata": {}
        },
        {
          "output_type": "display_data",
          "data": {
            "text/plain": [
              "<IPython.core.display.HTML object>"
            ],
            "text/html": [
              " View run <strong style=\"color:#cdcd00\">futile-unimatrix-29</strong> at: <a href='https://wandb.ai/bspanfilov/thinking/runs/al28gjji' target=\"_blank\">https://wandb.ai/bspanfilov/thinking/runs/al28gjji</a><br/>Synced 5 W&B file(s), 0 media file(s), 0 artifact file(s) and 0 other file(s)"
            ]
          },
          "metadata": {}
        },
        {
          "output_type": "display_data",
          "data": {
            "text/plain": [
              "<IPython.core.display.HTML object>"
            ],
            "text/html": [
              "Find logs at: <code>./wandb/run-20230405_120047-al28gjji/logs</code>"
            ]
          },
          "metadata": {}
        },
        {
          "output_type": "display_data",
          "data": {
            "text/plain": [
              "<IPython.core.display.HTML object>"
            ],
            "text/html": [
              "Successfully finished last run (ID:al28gjji). Initializing new run:<br/>"
            ]
          },
          "metadata": {}
        },
        {
          "output_type": "display_data",
          "data": {
            "text/plain": [
              "<IPython.core.display.HTML object>"
            ],
            "text/html": [
              "Tracking run with wandb version 0.14.0"
            ]
          },
          "metadata": {}
        },
        {
          "output_type": "display_data",
          "data": {
            "text/plain": [
              "<IPython.core.display.HTML object>"
            ],
            "text/html": [
              "Run data is saved locally in <code>/content/wandb/run-20230405_132203-1wfijuj0</code>"
            ]
          },
          "metadata": {}
        },
        {
          "output_type": "display_data",
          "data": {
            "text/plain": [
              "<IPython.core.display.HTML object>"
            ],
            "text/html": [
              "Syncing run <strong><a href='https://wandb.ai/bspanfilov/thinking/runs/1wfijuj0' target=\"_blank\">klingon-spot-30</a></strong> to <a href='https://wandb.ai/bspanfilov/thinking' target=\"_blank\">Weights & Biases</a> (<a href='https://wandb.me/run' target=\"_blank\">docs</a>)<br/>"
            ]
          },
          "metadata": {}
        },
        {
          "output_type": "display_data",
          "data": {
            "text/plain": [
              "<IPython.core.display.HTML object>"
            ],
            "text/html": [
              " View project at <a href='https://wandb.ai/bspanfilov/thinking' target=\"_blank\">https://wandb.ai/bspanfilov/thinking</a>"
            ]
          },
          "metadata": {}
        },
        {
          "output_type": "display_data",
          "data": {
            "text/plain": [
              "<IPython.core.display.HTML object>"
            ],
            "text/html": [
              " View run at <a href='https://wandb.ai/bspanfilov/thinking/runs/1wfijuj0' target=\"_blank\">https://wandb.ai/bspanfilov/thinking/runs/1wfijuj0</a>"
            ]
          },
          "metadata": {}
        },
        {
          "output_type": "stream",
          "name": "stdout",
          "text": [
            "Files already downloaded and verified\n",
            "Files already downloaded and verified\n"
          ]
        },
        {
          "output_type": "stream",
          "name": "stderr",
          "text": [
            "100%|██████████| 2200/2200 [05:33<00:00,  6.59it/s]\n",
            "100%|██████████| 2200/2200 [05:32<00:00,  6.62it/s]\n",
            "100%|██████████| 2200/2200 [05:31<00:00,  6.63it/s]\n",
            "100%|██████████| 2200/2200 [05:35<00:00,  6.56it/s]\n",
            "100%|██████████| 2200/2200 [05:43<00:00,  6.40it/s]\n",
            "100%|██████████| 11000/11000 [48:41<00:00,  3.77it/s]\n"
          ]
        },
        {
          "output_type": "display_data",
          "data": {
            "text/plain": [
              "<IPython.core.display.HTML object>"
            ],
            "text/html": [
              "Finishing last run (ID:1wfijuj0) before initializing another..."
            ]
          },
          "metadata": {}
        },
        {
          "output_type": "display_data",
          "data": {
            "text/plain": [
              "<IPython.core.display.HTML object>"
            ],
            "text/html": [
              "Waiting for W&B process to finish... <strong style=\"color:green\">(success).</strong>"
            ]
          },
          "metadata": {}
        },
        {
          "output_type": "display_data",
          "data": {
            "text/plain": [
              "<IPython.core.display.HTML object>"
            ],
            "text/html": [
              "<style>\n",
              "    table.wandb td:nth-child(1) { padding: 0 10px; text-align: left ; width: auto;} td:nth-child(2) {text-align: left ; width: 100%}\n",
              "    .wandb-row { display: flex; flex-direction: row; flex-wrap: wrap; justify-content: flex-start; width: 100% }\n",
              "    .wandb-col { display: flex; flex-direction: column; flex-basis: 100%; flex: 1; padding: 10px; }\n",
              "    </style>\n",
              "<div class=\"wandb-row\"><div class=\"wandb-col\"><h3>Run history:</h3><br/><table class=\"wandb\"><tr><td>accuracy_val</td><td>▁▂▂▃▃▄▄▅▅▅▆▆▆▆▆▆▇▇▇▇▇▇▇▇▇▇█▇▇███████████</td></tr><tr><td>loss</td><td>█▇▇▆▆▅▅▅▄▄▄▄▃▃▄▂▄▃▃▃▂▂▂▂▃▃▂▂▂▃▂▃▂▂▂▂▂▁▁▂</td></tr></table><br/></div><div class=\"wandb-col\"><h3>Run summary:</h3><br/><table class=\"wandb\"><tr><td>actual_prune_ratio_pruneiter=0</td><td>0.241</td></tr><tr><td>actual_prune_ratio_pruneiter=1</td><td>0.42378</td></tr><tr><td>actual_prune_ratio_pruneiter=2</td><td>0.56243</td></tr><tr><td>actual_prune_ratio_pruneiter=3</td><td>0.66761</td></tr><tr><td>actual_prune_ratio_pruneiter=4</td><td>0.74741</td></tr><tr><td>layer0_actual_prune_ratio_pruneiter=0</td><td>0.24213</td></tr><tr><td>layer0_actual_prune_ratio_pruneiter=1</td><td>0.42565</td></tr><tr><td>layer0_actual_prune_ratio_pruneiter=2</td><td>0.5647</td></tr><tr><td>layer0_actual_prune_ratio_pruneiter=3</td><td>0.6701</td></tr><tr><td>layer0_actual_prune_ratio_pruneiter=4</td><td>0.75</td></tr><tr><td>layer0_pruned_params_pruneiter=0</td><td>8461</td></tr><tr><td>layer0_pruned_params_pruneiter=1</td><td>14874</td></tr><tr><td>layer0_pruned_params_pruneiter=2</td><td>19733</td></tr><tr><td>layer0_pruned_params_pruneiter=3</td><td>23416</td></tr><tr><td>layer0_pruned_params_pruneiter=4</td><td>26208</td></tr><tr><td>layer0_total_params_pruneiter=0</td><td>34944</td></tr><tr><td>layer0_total_params_pruneiter=1</td><td>34944</td></tr><tr><td>layer0_total_params_pruneiter=2</td><td>34944</td></tr><tr><td>layer0_total_params_pruneiter=3</td><td>34944</td></tr><tr><td>layer0_total_params_pruneiter=4</td><td>34944</td></tr><tr><td>layer1_actual_prune_ratio_pruneiter=0</td><td>0.24214</td></tr><tr><td>layer1_actual_prune_ratio_pruneiter=1</td><td>0.42565</td></tr><tr><td>layer1_actual_prune_ratio_pruneiter=2</td><td>0.56473</td></tr><tr><td>layer1_actual_prune_ratio_pruneiter=3</td><td>0.67012</td></tr><tr><td>layer1_actual_prune_ratio_pruneiter=4</td><td>0.75</td></tr><tr><td>layer1_pruned_params_pruneiter=0</td><td>148834</td></tr><tr><td>layer1_pruned_params_pruneiter=1</td><td>261629</td></tr><tr><td>layer1_pruned_params_pruneiter=2</td><td>347112</td></tr><tr><td>layer1_pruned_params_pruneiter=3</td><td>411896</td></tr><tr><td>layer1_pruned_params_pruneiter=4</td><td>460992</td></tr><tr><td>layer1_total_params_pruneiter=0</td><td>614656</td></tr><tr><td>layer1_total_params_pruneiter=1</td><td>614656</td></tr><tr><td>layer1_total_params_pruneiter=2</td><td>614656</td></tr><tr><td>layer1_total_params_pruneiter=3</td><td>614656</td></tr><tr><td>layer1_total_params_pruneiter=4</td><td>614656</td></tr><tr><td>layer2_actual_prune_ratio_pruneiter=0</td><td>0.24214</td></tr><tr><td>layer2_actual_prune_ratio_pruneiter=1</td><td>0.42565</td></tr><tr><td>layer2_actual_prune_ratio_pruneiter=2</td><td>0.56472</td></tr><tr><td>layer2_actual_prune_ratio_pruneiter=3</td><td>0.67012</td></tr><tr><td>layer2_actual_prune_ratio_pruneiter=4</td><td>0.75</td></tr><tr><td>layer2_pruned_params_pruneiter=0</td><td>214324</td></tr><tr><td>layer2_pruned_params_pruneiter=1</td><td>376751</td></tr><tr><td>layer2_pruned_params_pruneiter=2</td><td>499849</td></tr><tr><td>layer2_pruned_params_pruneiter=3</td><td>593139</td></tr><tr><td>layer2_pruned_params_pruneiter=4</td><td>663840</td></tr><tr><td>layer2_total_params_pruneiter=0</td><td>885120</td></tr><tr><td>layer2_total_params_pruneiter=1</td><td>885120</td></tr><tr><td>layer2_total_params_pruneiter=2</td><td>885120</td></tr><tr><td>layer2_total_params_pruneiter=3</td><td>885120</td></tr><tr><td>layer2_total_params_pruneiter=4</td><td>885120</td></tr><tr><td>layer3_actual_prune_ratio_pruneiter=0</td><td>0.24214</td></tr><tr><td>layer3_actual_prune_ratio_pruneiter=1</td><td>0.42565</td></tr><tr><td>layer3_actual_prune_ratio_pruneiter=2</td><td>0.56473</td></tr><tr><td>layer3_actual_prune_ratio_pruneiter=3</td><td>0.67012</td></tr><tr><td>layer3_actual_prune_ratio_pruneiter=4</td><td>0.75</td></tr><tr><td>layer3_pruned_params_pruneiter=0</td><td>321440</td></tr><tr><td>layer3_pruned_params_pruneiter=1</td><td>565046</td></tr><tr><td>layer3_pruned_params_pruneiter=2</td><td>749666</td></tr><tr><td>layer3_pruned_params_pruneiter=3</td><td>889580</td></tr><tr><td>layer3_pruned_params_pruneiter=4</td><td>995616</td></tr><tr><td>layer3_total_params_pruneiter=0</td><td>1327488</td></tr><tr><td>layer3_total_params_pruneiter=1</td><td>1327488</td></tr><tr><td>layer3_total_params_pruneiter=2</td><td>1327488</td></tr><tr><td>layer3_total_params_pruneiter=3</td><td>1327488</td></tr><tr><td>layer3_total_params_pruneiter=4</td><td>1327488</td></tr><tr><td>layer4_actual_prune_ratio_pruneiter=0</td><td>0.24214</td></tr><tr><td>layer4_actual_prune_ratio_pruneiter=1</td><td>0.42565</td></tr><tr><td>layer4_actual_prune_ratio_pruneiter=2</td><td>0.56472</td></tr><tr><td>layer4_actual_prune_ratio_pruneiter=3</td><td>0.67012</td></tr><tr><td>layer4_actual_prune_ratio_pruneiter=4</td><td>0.75</td></tr><tr><td>layer4_pruned_params_pruneiter=0</td><td>595149</td></tr><tr><td>layer4_pruned_params_pruneiter=1</td><td>1046188</td></tr><tr><td>layer4_pruned_params_pruneiter=2</td><td>1388012</td></tr><tr><td>layer4_pruned_params_pruneiter=3</td><td>1647066</td></tr><tr><td>layer4_pruned_params_pruneiter=4</td><td>1843392</td></tr><tr><td>layer4_total_params_pruneiter=0</td><td>2457856</td></tr><tr><td>layer4_total_params_pruneiter=1</td><td>2457856</td></tr><tr><td>layer4_total_params_pruneiter=2</td><td>2457856</td></tr><tr><td>layer4_total_params_pruneiter=3</td><td>2457856</td></tr><tr><td>layer4_total_params_pruneiter=4</td><td>2457856</td></tr><tr><td>layer5_actual_prune_ratio_pruneiter=0</td><td>0.24214</td></tr><tr><td>layer5_actual_prune_ratio_pruneiter=1</td><td>0.42565</td></tr><tr><td>layer5_actual_prune_ratio_pruneiter=2</td><td>0.56472</td></tr><tr><td>layer5_actual_prune_ratio_pruneiter=3</td><td>0.67012</td></tr><tr><td>layer5_actual_prune_ratio_pruneiter=4</td><td>0.75</td></tr><tr><td>layer5_pruned_params_pruneiter=0</td><td>9141536</td></tr><tr><td>layer5_pruned_params_pruneiter=1</td><td>16069525</td></tr><tr><td>layer5_pruned_params_pruneiter=2</td><td>21319959</td></tr><tr><td>layer5_pruned_params_pruneiter=3</td><td>25299043</td></tr><tr><td>layer5_pruned_params_pruneiter=4</td><td>28314625</td></tr><tr><td>layer5_total_params_pruneiter=0</td><td>37752832</td></tr><tr><td>layer5_total_params_pruneiter=1</td><td>37752832</td></tr><tr><td>layer5_total_params_pruneiter=2</td><td>37752832</td></tr><tr><td>layer5_total_params_pruneiter=3</td><td>37752832</td></tr><tr><td>layer5_total_params_pruneiter=4</td><td>37752832</td></tr><tr><td>layer6_actual_prune_ratio_pruneiter=0</td><td>0.12107</td></tr><tr><td>layer6_actual_prune_ratio_pruneiter=1</td><td>0.22749</td></tr><tr><td>layer6_actual_prune_ratio_pruneiter=2</td><td>0.32101</td></tr><tr><td>layer6_actual_prune_ratio_pruneiter=3</td><td>0.40322</td></tr><tr><td>layer6_actual_prune_ratio_pruneiter=4</td><td>0.47547</td></tr><tr><td>layer6_pruned_params_pruneiter=0</td><td>49603</td></tr><tr><td>layer6_pruned_params_pruneiter=1</td><td>93201</td></tr><tr><td>layer6_pruned_params_pruneiter=2</td><td>131519</td></tr><tr><td>layer6_pruned_params_pruneiter=3</td><td>165198</td></tr><tr><td>layer6_pruned_params_pruneiter=4</td><td>194800</td></tr><tr><td>layer6_total_params_pruneiter=0</td><td>409700</td></tr><tr><td>layer6_total_params_pruneiter=1</td><td>409700</td></tr><tr><td>layer6_total_params_pruneiter=2</td><td>409700</td></tr><tr><td>layer6_total_params_pruneiter=3</td><td>409700</td></tr><tr><td>layer6_total_params_pruneiter=4</td><td>409700</td></tr><tr><td>loss</td><td>1.33066</td></tr><tr><td>total_params_pruneiter=0</td><td>43482596</td></tr><tr><td>total_params_pruneiter=1</td><td>43482596</td></tr><tr><td>total_params_pruneiter=2</td><td>43482596</td></tr><tr><td>total_params_pruneiter=3</td><td>43482596</td></tr><tr><td>total_params_pruneiter=4</td><td>43482596</td></tr><tr><td>total_pruned_params_pruneiter=0</td><td>10479347</td></tr><tr><td>total_pruned_params_pruneiter=1</td><td>18427214</td></tr><tr><td>total_pruned_params_pruneiter=2</td><td>24455850</td></tr><tr><td>total_pruned_params_pruneiter=3</td><td>29029338</td></tr><tr><td>total_pruned_params_pruneiter=4</td><td>32499473</td></tr></table><br/></div></div>"
            ]
          },
          "metadata": {}
        },
        {
          "output_type": "display_data",
          "data": {
            "text/plain": [
              "<IPython.core.display.HTML object>"
            ],
            "text/html": [
              " View run <strong style=\"color:#cdcd00\">klingon-spot-30</strong> at: <a href='https://wandb.ai/bspanfilov/thinking/runs/1wfijuj0' target=\"_blank\">https://wandb.ai/bspanfilov/thinking/runs/1wfijuj0</a><br/>Synced 5 W&B file(s), 0 media file(s), 0 artifact file(s) and 0 other file(s)"
            ]
          },
          "metadata": {}
        },
        {
          "output_type": "display_data",
          "data": {
            "text/plain": [
              "<IPython.core.display.HTML object>"
            ],
            "text/html": [
              "Find logs at: <code>./wandb/run-20230405_132203-1wfijuj0/logs</code>"
            ]
          },
          "metadata": {}
        },
        {
          "output_type": "display_data",
          "data": {
            "text/plain": [
              "<IPython.core.display.HTML object>"
            ],
            "text/html": [
              "Successfully finished last run (ID:1wfijuj0). Initializing new run:<br/>"
            ]
          },
          "metadata": {}
        },
        {
          "output_type": "display_data",
          "data": {
            "text/plain": [
              "<IPython.core.display.HTML object>"
            ],
            "text/html": [
              "Tracking run with wandb version 0.14.0"
            ]
          },
          "metadata": {}
        },
        {
          "output_type": "display_data",
          "data": {
            "text/plain": [
              "<IPython.core.display.HTML object>"
            ],
            "text/html": [
              "Run data is saved locally in <code>/content/wandb/run-20230405_143852-kocr7s4f</code>"
            ]
          },
          "metadata": {}
        },
        {
          "output_type": "display_data",
          "data": {
            "text/plain": [
              "<IPython.core.display.HTML object>"
            ],
            "text/html": [
              "Syncing run <strong><a href='https://wandb.ai/bspanfilov/thinking/runs/kocr7s4f' target=\"_blank\">trill-cube-31</a></strong> to <a href='https://wandb.ai/bspanfilov/thinking' target=\"_blank\">Weights & Biases</a> (<a href='https://wandb.me/run' target=\"_blank\">docs</a>)<br/>"
            ]
          },
          "metadata": {}
        },
        {
          "output_type": "display_data",
          "data": {
            "text/plain": [
              "<IPython.core.display.HTML object>"
            ],
            "text/html": [
              " View project at <a href='https://wandb.ai/bspanfilov/thinking' target=\"_blank\">https://wandb.ai/bspanfilov/thinking</a>"
            ]
          },
          "metadata": {}
        },
        {
          "output_type": "display_data",
          "data": {
            "text/plain": [
              "<IPython.core.display.HTML object>"
            ],
            "text/html": [
              " View run at <a href='https://wandb.ai/bspanfilov/thinking/runs/kocr7s4f' target=\"_blank\">https://wandb.ai/bspanfilov/thinking/runs/kocr7s4f</a>"
            ]
          },
          "metadata": {}
        },
        {
          "output_type": "stream",
          "name": "stdout",
          "text": [
            "Files already downloaded and verified\n",
            "Files already downloaded and verified\n"
          ]
        },
        {
          "output_type": "stream",
          "name": "stderr",
          "text": [
            "100%|██████████| 2200/2200 [05:42<00:00,  6.42it/s]\n",
            "100%|██████████| 2200/2200 [05:34<00:00,  6.57it/s]\n",
            "100%|██████████| 2200/2200 [05:35<00:00,  6.56it/s]\n",
            "100%|██████████| 2200/2200 [05:36<00:00,  6.54it/s]\n",
            "100%|██████████| 2200/2200 [05:46<00:00,  6.36it/s]\n",
            " 23%|██▎       | 2480/11000 [11:38<24:29,  5.80it/s]"
          ]
        }
      ],
      "source": [
        "# тут просто настройки, с которыми я как раз запускал эксперименты\n",
        "MAX_ITERS=[11000]\n",
        "PRUNE_ITERS=[5]\n",
        "PRUNE_METHODS=['l1']\n",
        "PRUNE_RATIOS=[0.8, 0.85]\n",
        "RANDOM_STATES=[2]\n",
        "\n",
        "experiment(MAX_ITERS, PRUNE_ITERS, PRUNE_METHODS, PRUNE_RATIOS, RANDOM_STATES, \"thinking\", 0)"
      ]
    },
    {
      "cell_type": "code",
      "source": [],
      "metadata": {
        "id": "Jss56voNtVaY"
      },
      "execution_count": null,
      "outputs": []
    }
  ]
}