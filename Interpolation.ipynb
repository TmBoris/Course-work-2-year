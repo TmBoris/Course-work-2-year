{
  "nbformat": 4,
  "nbformat_minor": 0,
  "metadata": {
    "colab": {
      "provenance": []
    },
    "kernelspec": {
      "name": "python3",
      "display_name": "Python 3"
    },
    "language_info": {
      "name": "python"
    },
    "widgets": {
      "application/vnd.jupyter.widget-state+json": {
        "51af4d6cd1d142e2b6b5f061c5f3478b": {
          "model_module": "@jupyter-widgets/controls",
          "model_name": "HBoxModel",
          "model_module_version": "1.5.0",
          "state": {
            "_dom_classes": [],
            "_model_module": "@jupyter-widgets/controls",
            "_model_module_version": "1.5.0",
            "_model_name": "HBoxModel",
            "_view_count": null,
            "_view_module": "@jupyter-widgets/controls",
            "_view_module_version": "1.5.0",
            "_view_name": "HBoxView",
            "box_style": "",
            "children": [
              "IPY_MODEL_9431750da5164993922736df8166de40",
              "IPY_MODEL_43b41139044b41c3b946198d13cfe7d9",
              "IPY_MODEL_34cc36677adb47c687d8160cbf5363b7"
            ],
            "layout": "IPY_MODEL_809748f8c835443e86d41c75ea4f2db1"
          }
        },
        "9431750da5164993922736df8166de40": {
          "model_module": "@jupyter-widgets/controls",
          "model_name": "HTMLModel",
          "model_module_version": "1.5.0",
          "state": {
            "_dom_classes": [],
            "_model_module": "@jupyter-widgets/controls",
            "_model_module_version": "1.5.0",
            "_model_name": "HTMLModel",
            "_view_count": null,
            "_view_module": "@jupyter-widgets/controls",
            "_view_module_version": "1.5.0",
            "_view_name": "HTMLView",
            "description": "",
            "description_tooltip": null,
            "layout": "IPY_MODEL_d8146d71796040d38609a8a1155ed7a1",
            "placeholder": "​",
            "style": "IPY_MODEL_6a9eae1fd28a41b89875d89b8a2c2916",
            "value": "testing: 100%"
          }
        },
        "43b41139044b41c3b946198d13cfe7d9": {
          "model_module": "@jupyter-widgets/controls",
          "model_name": "FloatProgressModel",
          "model_module_version": "1.5.0",
          "state": {
            "_dom_classes": [],
            "_model_module": "@jupyter-widgets/controls",
            "_model_module_version": "1.5.0",
            "_model_name": "FloatProgressModel",
            "_view_count": null,
            "_view_module": "@jupyter-widgets/controls",
            "_view_module_version": "1.5.0",
            "_view_name": "ProgressView",
            "bar_style": "success",
            "description": "",
            "description_tooltip": null,
            "layout": "IPY_MODEL_8db62cd924134166952600f0b20fd770",
            "max": 157,
            "min": 0,
            "orientation": "horizontal",
            "style": "IPY_MODEL_7848962443854ca7b47b965a95804aa1",
            "value": 157
          }
        },
        "34cc36677adb47c687d8160cbf5363b7": {
          "model_module": "@jupyter-widgets/controls",
          "model_name": "HTMLModel",
          "model_module_version": "1.5.0",
          "state": {
            "_dom_classes": [],
            "_model_module": "@jupyter-widgets/controls",
            "_model_module_version": "1.5.0",
            "_model_name": "HTMLModel",
            "_view_count": null,
            "_view_module": "@jupyter-widgets/controls",
            "_view_module_version": "1.5.0",
            "_view_name": "HTMLView",
            "description": "",
            "description_tooltip": null,
            "layout": "IPY_MODEL_f5db945332a34fc6836d0889c40d16d7",
            "placeholder": "​",
            "style": "IPY_MODEL_0eb4317bc57e4e0da668ae3fd850b74e",
            "value": " 157/157 [00:34&lt;00:00,  5.71it/s]"
          }
        },
        "809748f8c835443e86d41c75ea4f2db1": {
          "model_module": "@jupyter-widgets/base",
          "model_name": "LayoutModel",
          "model_module_version": "1.2.0",
          "state": {
            "_model_module": "@jupyter-widgets/base",
            "_model_module_version": "1.2.0",
            "_model_name": "LayoutModel",
            "_view_count": null,
            "_view_module": "@jupyter-widgets/base",
            "_view_module_version": "1.2.0",
            "_view_name": "LayoutView",
            "align_content": null,
            "align_items": null,
            "align_self": null,
            "border": null,
            "bottom": null,
            "display": null,
            "flex": null,
            "flex_flow": null,
            "grid_area": null,
            "grid_auto_columns": null,
            "grid_auto_flow": null,
            "grid_auto_rows": null,
            "grid_column": null,
            "grid_gap": null,
            "grid_row": null,
            "grid_template_areas": null,
            "grid_template_columns": null,
            "grid_template_rows": null,
            "height": null,
            "justify_content": null,
            "justify_items": null,
            "left": null,
            "margin": null,
            "max_height": null,
            "max_width": null,
            "min_height": null,
            "min_width": null,
            "object_fit": null,
            "object_position": null,
            "order": null,
            "overflow": null,
            "overflow_x": null,
            "overflow_y": null,
            "padding": null,
            "right": null,
            "top": null,
            "visibility": null,
            "width": null
          }
        },
        "d8146d71796040d38609a8a1155ed7a1": {
          "model_module": "@jupyter-widgets/base",
          "model_name": "LayoutModel",
          "model_module_version": "1.2.0",
          "state": {
            "_model_module": "@jupyter-widgets/base",
            "_model_module_version": "1.2.0",
            "_model_name": "LayoutModel",
            "_view_count": null,
            "_view_module": "@jupyter-widgets/base",
            "_view_module_version": "1.2.0",
            "_view_name": "LayoutView",
            "align_content": null,
            "align_items": null,
            "align_self": null,
            "border": null,
            "bottom": null,
            "display": null,
            "flex": null,
            "flex_flow": null,
            "grid_area": null,
            "grid_auto_columns": null,
            "grid_auto_flow": null,
            "grid_auto_rows": null,
            "grid_column": null,
            "grid_gap": null,
            "grid_row": null,
            "grid_template_areas": null,
            "grid_template_columns": null,
            "grid_template_rows": null,
            "height": null,
            "justify_content": null,
            "justify_items": null,
            "left": null,
            "margin": null,
            "max_height": null,
            "max_width": null,
            "min_height": null,
            "min_width": null,
            "object_fit": null,
            "object_position": null,
            "order": null,
            "overflow": null,
            "overflow_x": null,
            "overflow_y": null,
            "padding": null,
            "right": null,
            "top": null,
            "visibility": null,
            "width": null
          }
        },
        "6a9eae1fd28a41b89875d89b8a2c2916": {
          "model_module": "@jupyter-widgets/controls",
          "model_name": "DescriptionStyleModel",
          "model_module_version": "1.5.0",
          "state": {
            "_model_module": "@jupyter-widgets/controls",
            "_model_module_version": "1.5.0",
            "_model_name": "DescriptionStyleModel",
            "_view_count": null,
            "_view_module": "@jupyter-widgets/base",
            "_view_module_version": "1.2.0",
            "_view_name": "StyleView",
            "description_width": ""
          }
        },
        "8db62cd924134166952600f0b20fd770": {
          "model_module": "@jupyter-widgets/base",
          "model_name": "LayoutModel",
          "model_module_version": "1.2.0",
          "state": {
            "_model_module": "@jupyter-widgets/base",
            "_model_module_version": "1.2.0",
            "_model_name": "LayoutModel",
            "_view_count": null,
            "_view_module": "@jupyter-widgets/base",
            "_view_module_version": "1.2.0",
            "_view_name": "LayoutView",
            "align_content": null,
            "align_items": null,
            "align_self": null,
            "border": null,
            "bottom": null,
            "display": null,
            "flex": null,
            "flex_flow": null,
            "grid_area": null,
            "grid_auto_columns": null,
            "grid_auto_flow": null,
            "grid_auto_rows": null,
            "grid_column": null,
            "grid_gap": null,
            "grid_row": null,
            "grid_template_areas": null,
            "grid_template_columns": null,
            "grid_template_rows": null,
            "height": null,
            "justify_content": null,
            "justify_items": null,
            "left": null,
            "margin": null,
            "max_height": null,
            "max_width": null,
            "min_height": null,
            "min_width": null,
            "object_fit": null,
            "object_position": null,
            "order": null,
            "overflow": null,
            "overflow_x": null,
            "overflow_y": null,
            "padding": null,
            "right": null,
            "top": null,
            "visibility": null,
            "width": null
          }
        },
        "7848962443854ca7b47b965a95804aa1": {
          "model_module": "@jupyter-widgets/controls",
          "model_name": "ProgressStyleModel",
          "model_module_version": "1.5.0",
          "state": {
            "_model_module": "@jupyter-widgets/controls",
            "_model_module_version": "1.5.0",
            "_model_name": "ProgressStyleModel",
            "_view_count": null,
            "_view_module": "@jupyter-widgets/base",
            "_view_module_version": "1.2.0",
            "_view_name": "StyleView",
            "bar_color": null,
            "description_width": ""
          }
        },
        "f5db945332a34fc6836d0889c40d16d7": {
          "model_module": "@jupyter-widgets/base",
          "model_name": "LayoutModel",
          "model_module_version": "1.2.0",
          "state": {
            "_model_module": "@jupyter-widgets/base",
            "_model_module_version": "1.2.0",
            "_model_name": "LayoutModel",
            "_view_count": null,
            "_view_module": "@jupyter-widgets/base",
            "_view_module_version": "1.2.0",
            "_view_name": "LayoutView",
            "align_content": null,
            "align_items": null,
            "align_self": null,
            "border": null,
            "bottom": null,
            "display": null,
            "flex": null,
            "flex_flow": null,
            "grid_area": null,
            "grid_auto_columns": null,
            "grid_auto_flow": null,
            "grid_auto_rows": null,
            "grid_column": null,
            "grid_gap": null,
            "grid_row": null,
            "grid_template_areas": null,
            "grid_template_columns": null,
            "grid_template_rows": null,
            "height": null,
            "justify_content": null,
            "justify_items": null,
            "left": null,
            "margin": null,
            "max_height": null,
            "max_width": null,
            "min_height": null,
            "min_width": null,
            "object_fit": null,
            "object_position": null,
            "order": null,
            "overflow": null,
            "overflow_x": null,
            "overflow_y": null,
            "padding": null,
            "right": null,
            "top": null,
            "visibility": null,
            "width": null
          }
        },
        "0eb4317bc57e4e0da668ae3fd850b74e": {
          "model_module": "@jupyter-widgets/controls",
          "model_name": "DescriptionStyleModel",
          "model_module_version": "1.5.0",
          "state": {
            "_model_module": "@jupyter-widgets/controls",
            "_model_module_version": "1.5.0",
            "_model_name": "DescriptionStyleModel",
            "_view_count": null,
            "_view_module": "@jupyter-widgets/base",
            "_view_module_version": "1.2.0",
            "_view_name": "StyleView",
            "description_width": ""
          }
        },
        "43180c1d9e1945d7a904f7d700e81725": {
          "model_module": "@jupyter-widgets/controls",
          "model_name": "HBoxModel",
          "model_module_version": "1.5.0",
          "state": {
            "_dom_classes": [],
            "_model_module": "@jupyter-widgets/controls",
            "_model_module_version": "1.5.0",
            "_model_name": "HBoxModel",
            "_view_count": null,
            "_view_module": "@jupyter-widgets/controls",
            "_view_module_version": "1.5.0",
            "_view_name": "HBoxView",
            "box_style": "",
            "children": [
              "IPY_MODEL_3e07c6d61eac4f399c25441d43fb8fe1",
              "IPY_MODEL_a6cb5a64ec8943a5b552d3c3436fccd9",
              "IPY_MODEL_0c5d82ae66bc45f8a740ec407203d8bd"
            ],
            "layout": "IPY_MODEL_361e8ef0a75c4e3b861402eb6a3e9235"
          }
        },
        "3e07c6d61eac4f399c25441d43fb8fe1": {
          "model_module": "@jupyter-widgets/controls",
          "model_name": "HTMLModel",
          "model_module_version": "1.5.0",
          "state": {
            "_dom_classes": [],
            "_model_module": "@jupyter-widgets/controls",
            "_model_module_version": "1.5.0",
            "_model_name": "HTMLModel",
            "_view_count": null,
            "_view_module": "@jupyter-widgets/controls",
            "_view_module_version": "1.5.0",
            "_view_name": "HTMLView",
            "description": "",
            "description_tooltip": null,
            "layout": "IPY_MODEL_4818781a6e884553ba7e9b14ff10e32b",
            "placeholder": "​",
            "style": "IPY_MODEL_062766d1412748248306b09aad4ebe0b",
            "value": "testing: 100%"
          }
        },
        "a6cb5a64ec8943a5b552d3c3436fccd9": {
          "model_module": "@jupyter-widgets/controls",
          "model_name": "FloatProgressModel",
          "model_module_version": "1.5.0",
          "state": {
            "_dom_classes": [],
            "_model_module": "@jupyter-widgets/controls",
            "_model_module_version": "1.5.0",
            "_model_name": "FloatProgressModel",
            "_view_count": null,
            "_view_module": "@jupyter-widgets/controls",
            "_view_module_version": "1.5.0",
            "_view_name": "ProgressView",
            "bar_style": "success",
            "description": "",
            "description_tooltip": null,
            "layout": "IPY_MODEL_a14198cb8d4245999197eae6c5e3f9f6",
            "max": 157,
            "min": 0,
            "orientation": "horizontal",
            "style": "IPY_MODEL_4b790e4790a24ef7a9ad961d3ec5a4e9",
            "value": 157
          }
        },
        "0c5d82ae66bc45f8a740ec407203d8bd": {
          "model_module": "@jupyter-widgets/controls",
          "model_name": "HTMLModel",
          "model_module_version": "1.5.0",
          "state": {
            "_dom_classes": [],
            "_model_module": "@jupyter-widgets/controls",
            "_model_module_version": "1.5.0",
            "_model_name": "HTMLModel",
            "_view_count": null,
            "_view_module": "@jupyter-widgets/controls",
            "_view_module_version": "1.5.0",
            "_view_name": "HTMLView",
            "description": "",
            "description_tooltip": null,
            "layout": "IPY_MODEL_580739547dc24339b839f35b60e2a09c",
            "placeholder": "​",
            "style": "IPY_MODEL_94d19bada9cf47d6aad846bc561b8ef0",
            "value": " 157/157 [00:29&lt;00:00,  4.65it/s]"
          }
        },
        "361e8ef0a75c4e3b861402eb6a3e9235": {
          "model_module": "@jupyter-widgets/base",
          "model_name": "LayoutModel",
          "model_module_version": "1.2.0",
          "state": {
            "_model_module": "@jupyter-widgets/base",
            "_model_module_version": "1.2.0",
            "_model_name": "LayoutModel",
            "_view_count": null,
            "_view_module": "@jupyter-widgets/base",
            "_view_module_version": "1.2.0",
            "_view_name": "LayoutView",
            "align_content": null,
            "align_items": null,
            "align_self": null,
            "border": null,
            "bottom": null,
            "display": null,
            "flex": null,
            "flex_flow": null,
            "grid_area": null,
            "grid_auto_columns": null,
            "grid_auto_flow": null,
            "grid_auto_rows": null,
            "grid_column": null,
            "grid_gap": null,
            "grid_row": null,
            "grid_template_areas": null,
            "grid_template_columns": null,
            "grid_template_rows": null,
            "height": null,
            "justify_content": null,
            "justify_items": null,
            "left": null,
            "margin": null,
            "max_height": null,
            "max_width": null,
            "min_height": null,
            "min_width": null,
            "object_fit": null,
            "object_position": null,
            "order": null,
            "overflow": null,
            "overflow_x": null,
            "overflow_y": null,
            "padding": null,
            "right": null,
            "top": null,
            "visibility": null,
            "width": null
          }
        },
        "4818781a6e884553ba7e9b14ff10e32b": {
          "model_module": "@jupyter-widgets/base",
          "model_name": "LayoutModel",
          "model_module_version": "1.2.0",
          "state": {
            "_model_module": "@jupyter-widgets/base",
            "_model_module_version": "1.2.0",
            "_model_name": "LayoutModel",
            "_view_count": null,
            "_view_module": "@jupyter-widgets/base",
            "_view_module_version": "1.2.0",
            "_view_name": "LayoutView",
            "align_content": null,
            "align_items": null,
            "align_self": null,
            "border": null,
            "bottom": null,
            "display": null,
            "flex": null,
            "flex_flow": null,
            "grid_area": null,
            "grid_auto_columns": null,
            "grid_auto_flow": null,
            "grid_auto_rows": null,
            "grid_column": null,
            "grid_gap": null,
            "grid_row": null,
            "grid_template_areas": null,
            "grid_template_columns": null,
            "grid_template_rows": null,
            "height": null,
            "justify_content": null,
            "justify_items": null,
            "left": null,
            "margin": null,
            "max_height": null,
            "max_width": null,
            "min_height": null,
            "min_width": null,
            "object_fit": null,
            "object_position": null,
            "order": null,
            "overflow": null,
            "overflow_x": null,
            "overflow_y": null,
            "padding": null,
            "right": null,
            "top": null,
            "visibility": null,
            "width": null
          }
        },
        "062766d1412748248306b09aad4ebe0b": {
          "model_module": "@jupyter-widgets/controls",
          "model_name": "DescriptionStyleModel",
          "model_module_version": "1.5.0",
          "state": {
            "_model_module": "@jupyter-widgets/controls",
            "_model_module_version": "1.5.0",
            "_model_name": "DescriptionStyleModel",
            "_view_count": null,
            "_view_module": "@jupyter-widgets/base",
            "_view_module_version": "1.2.0",
            "_view_name": "StyleView",
            "description_width": ""
          }
        },
        "a14198cb8d4245999197eae6c5e3f9f6": {
          "model_module": "@jupyter-widgets/base",
          "model_name": "LayoutModel",
          "model_module_version": "1.2.0",
          "state": {
            "_model_module": "@jupyter-widgets/base",
            "_model_module_version": "1.2.0",
            "_model_name": "LayoutModel",
            "_view_count": null,
            "_view_module": "@jupyter-widgets/base",
            "_view_module_version": "1.2.0",
            "_view_name": "LayoutView",
            "align_content": null,
            "align_items": null,
            "align_self": null,
            "border": null,
            "bottom": null,
            "display": null,
            "flex": null,
            "flex_flow": null,
            "grid_area": null,
            "grid_auto_columns": null,
            "grid_auto_flow": null,
            "grid_auto_rows": null,
            "grid_column": null,
            "grid_gap": null,
            "grid_row": null,
            "grid_template_areas": null,
            "grid_template_columns": null,
            "grid_template_rows": null,
            "height": null,
            "justify_content": null,
            "justify_items": null,
            "left": null,
            "margin": null,
            "max_height": null,
            "max_width": null,
            "min_height": null,
            "min_width": null,
            "object_fit": null,
            "object_position": null,
            "order": null,
            "overflow": null,
            "overflow_x": null,
            "overflow_y": null,
            "padding": null,
            "right": null,
            "top": null,
            "visibility": null,
            "width": null
          }
        },
        "4b790e4790a24ef7a9ad961d3ec5a4e9": {
          "model_module": "@jupyter-widgets/controls",
          "model_name": "ProgressStyleModel",
          "model_module_version": "1.5.0",
          "state": {
            "_model_module": "@jupyter-widgets/controls",
            "_model_module_version": "1.5.0",
            "_model_name": "ProgressStyleModel",
            "_view_count": null,
            "_view_module": "@jupyter-widgets/base",
            "_view_module_version": "1.2.0",
            "_view_name": "StyleView",
            "bar_color": null,
            "description_width": ""
          }
        },
        "580739547dc24339b839f35b60e2a09c": {
          "model_module": "@jupyter-widgets/base",
          "model_name": "LayoutModel",
          "model_module_version": "1.2.0",
          "state": {
            "_model_module": "@jupyter-widgets/base",
            "_model_module_version": "1.2.0",
            "_model_name": "LayoutModel",
            "_view_count": null,
            "_view_module": "@jupyter-widgets/base",
            "_view_module_version": "1.2.0",
            "_view_name": "LayoutView",
            "align_content": null,
            "align_items": null,
            "align_self": null,
            "border": null,
            "bottom": null,
            "display": null,
            "flex": null,
            "flex_flow": null,
            "grid_area": null,
            "grid_auto_columns": null,
            "grid_auto_flow": null,
            "grid_auto_rows": null,
            "grid_column": null,
            "grid_gap": null,
            "grid_row": null,
            "grid_template_areas": null,
            "grid_template_columns": null,
            "grid_template_rows": null,
            "height": null,
            "justify_content": null,
            "justify_items": null,
            "left": null,
            "margin": null,
            "max_height": null,
            "max_width": null,
            "min_height": null,
            "min_width": null,
            "object_fit": null,
            "object_position": null,
            "order": null,
            "overflow": null,
            "overflow_x": null,
            "overflow_y": null,
            "padding": null,
            "right": null,
            "top": null,
            "visibility": null,
            "width": null
          }
        },
        "94d19bada9cf47d6aad846bc561b8ef0": {
          "model_module": "@jupyter-widgets/controls",
          "model_name": "DescriptionStyleModel",
          "model_module_version": "1.5.0",
          "state": {
            "_model_module": "@jupyter-widgets/controls",
            "_model_module_version": "1.5.0",
            "_model_name": "DescriptionStyleModel",
            "_view_count": null,
            "_view_module": "@jupyter-widgets/base",
            "_view_module_version": "1.2.0",
            "_view_name": "StyleView",
            "description_width": ""
          }
        },
        "fb97987ec98b4018a5616411952fc599": {
          "model_module": "@jupyter-widgets/controls",
          "model_name": "HBoxModel",
          "model_module_version": "1.5.0",
          "state": {
            "_dom_classes": [],
            "_model_module": "@jupyter-widgets/controls",
            "_model_module_version": "1.5.0",
            "_model_name": "HBoxModel",
            "_view_count": null,
            "_view_module": "@jupyter-widgets/controls",
            "_view_module_version": "1.5.0",
            "_view_name": "HBoxView",
            "box_style": "",
            "children": [
              "IPY_MODEL_eca9b7abe3fd4676b185d7b42fa0a0f1",
              "IPY_MODEL_6e4115c5e2f5435799a7b0d7a117b559",
              "IPY_MODEL_291b92fbdba24d0f96b008d530281488"
            ],
            "layout": "IPY_MODEL_69af00bf2cc541cc93b717a6a9a1a181"
          }
        },
        "eca9b7abe3fd4676b185d7b42fa0a0f1": {
          "model_module": "@jupyter-widgets/controls",
          "model_name": "HTMLModel",
          "model_module_version": "1.5.0",
          "state": {
            "_dom_classes": [],
            "_model_module": "@jupyter-widgets/controls",
            "_model_module_version": "1.5.0",
            "_model_name": "HTMLModel",
            "_view_count": null,
            "_view_module": "@jupyter-widgets/controls",
            "_view_module_version": "1.5.0",
            "_view_name": "HTMLView",
            "description": "",
            "description_tooltip": null,
            "layout": "IPY_MODEL_4e4586c614da4ab89fd54f647c0a77ea",
            "placeholder": "​",
            "style": "IPY_MODEL_a010177fcedf4d5cb63564de3a2fa4ab",
            "value": "testing: 100%"
          }
        },
        "6e4115c5e2f5435799a7b0d7a117b559": {
          "model_module": "@jupyter-widgets/controls",
          "model_name": "FloatProgressModel",
          "model_module_version": "1.5.0",
          "state": {
            "_dom_classes": [],
            "_model_module": "@jupyter-widgets/controls",
            "_model_module_version": "1.5.0",
            "_model_name": "FloatProgressModel",
            "_view_count": null,
            "_view_module": "@jupyter-widgets/controls",
            "_view_module_version": "1.5.0",
            "_view_name": "ProgressView",
            "bar_style": "success",
            "description": "",
            "description_tooltip": null,
            "layout": "IPY_MODEL_4f84169d238a481582ac1d9b0fba170d",
            "max": 157,
            "min": 0,
            "orientation": "horizontal",
            "style": "IPY_MODEL_5f6c332b23384a50bdb4da679574a464",
            "value": 157
          }
        },
        "291b92fbdba24d0f96b008d530281488": {
          "model_module": "@jupyter-widgets/controls",
          "model_name": "HTMLModel",
          "model_module_version": "1.5.0",
          "state": {
            "_dom_classes": [],
            "_model_module": "@jupyter-widgets/controls",
            "_model_module_version": "1.5.0",
            "_model_name": "HTMLModel",
            "_view_count": null,
            "_view_module": "@jupyter-widgets/controls",
            "_view_module_version": "1.5.0",
            "_view_name": "HTMLView",
            "description": "",
            "description_tooltip": null,
            "layout": "IPY_MODEL_15b41caf282d4fc6bdac27fb8e4c9707",
            "placeholder": "​",
            "style": "IPY_MODEL_0f7ed25e8b9547efaa19c76ad185db54",
            "value": " 157/157 [00:28&lt;00:00,  6.10it/s]"
          }
        },
        "69af00bf2cc541cc93b717a6a9a1a181": {
          "model_module": "@jupyter-widgets/base",
          "model_name": "LayoutModel",
          "model_module_version": "1.2.0",
          "state": {
            "_model_module": "@jupyter-widgets/base",
            "_model_module_version": "1.2.0",
            "_model_name": "LayoutModel",
            "_view_count": null,
            "_view_module": "@jupyter-widgets/base",
            "_view_module_version": "1.2.0",
            "_view_name": "LayoutView",
            "align_content": null,
            "align_items": null,
            "align_self": null,
            "border": null,
            "bottom": null,
            "display": null,
            "flex": null,
            "flex_flow": null,
            "grid_area": null,
            "grid_auto_columns": null,
            "grid_auto_flow": null,
            "grid_auto_rows": null,
            "grid_column": null,
            "grid_gap": null,
            "grid_row": null,
            "grid_template_areas": null,
            "grid_template_columns": null,
            "grid_template_rows": null,
            "height": null,
            "justify_content": null,
            "justify_items": null,
            "left": null,
            "margin": null,
            "max_height": null,
            "max_width": null,
            "min_height": null,
            "min_width": null,
            "object_fit": null,
            "object_position": null,
            "order": null,
            "overflow": null,
            "overflow_x": null,
            "overflow_y": null,
            "padding": null,
            "right": null,
            "top": null,
            "visibility": null,
            "width": null
          }
        },
        "4e4586c614da4ab89fd54f647c0a77ea": {
          "model_module": "@jupyter-widgets/base",
          "model_name": "LayoutModel",
          "model_module_version": "1.2.0",
          "state": {
            "_model_module": "@jupyter-widgets/base",
            "_model_module_version": "1.2.0",
            "_model_name": "LayoutModel",
            "_view_count": null,
            "_view_module": "@jupyter-widgets/base",
            "_view_module_version": "1.2.0",
            "_view_name": "LayoutView",
            "align_content": null,
            "align_items": null,
            "align_self": null,
            "border": null,
            "bottom": null,
            "display": null,
            "flex": null,
            "flex_flow": null,
            "grid_area": null,
            "grid_auto_columns": null,
            "grid_auto_flow": null,
            "grid_auto_rows": null,
            "grid_column": null,
            "grid_gap": null,
            "grid_row": null,
            "grid_template_areas": null,
            "grid_template_columns": null,
            "grid_template_rows": null,
            "height": null,
            "justify_content": null,
            "justify_items": null,
            "left": null,
            "margin": null,
            "max_height": null,
            "max_width": null,
            "min_height": null,
            "min_width": null,
            "object_fit": null,
            "object_position": null,
            "order": null,
            "overflow": null,
            "overflow_x": null,
            "overflow_y": null,
            "padding": null,
            "right": null,
            "top": null,
            "visibility": null,
            "width": null
          }
        },
        "a010177fcedf4d5cb63564de3a2fa4ab": {
          "model_module": "@jupyter-widgets/controls",
          "model_name": "DescriptionStyleModel",
          "model_module_version": "1.5.0",
          "state": {
            "_model_module": "@jupyter-widgets/controls",
            "_model_module_version": "1.5.0",
            "_model_name": "DescriptionStyleModel",
            "_view_count": null,
            "_view_module": "@jupyter-widgets/base",
            "_view_module_version": "1.2.0",
            "_view_name": "StyleView",
            "description_width": ""
          }
        },
        "4f84169d238a481582ac1d9b0fba170d": {
          "model_module": "@jupyter-widgets/base",
          "model_name": "LayoutModel",
          "model_module_version": "1.2.0",
          "state": {
            "_model_module": "@jupyter-widgets/base",
            "_model_module_version": "1.2.0",
            "_model_name": "LayoutModel",
            "_view_count": null,
            "_view_module": "@jupyter-widgets/base",
            "_view_module_version": "1.2.0",
            "_view_name": "LayoutView",
            "align_content": null,
            "align_items": null,
            "align_self": null,
            "border": null,
            "bottom": null,
            "display": null,
            "flex": null,
            "flex_flow": null,
            "grid_area": null,
            "grid_auto_columns": null,
            "grid_auto_flow": null,
            "grid_auto_rows": null,
            "grid_column": null,
            "grid_gap": null,
            "grid_row": null,
            "grid_template_areas": null,
            "grid_template_columns": null,
            "grid_template_rows": null,
            "height": null,
            "justify_content": null,
            "justify_items": null,
            "left": null,
            "margin": null,
            "max_height": null,
            "max_width": null,
            "min_height": null,
            "min_width": null,
            "object_fit": null,
            "object_position": null,
            "order": null,
            "overflow": null,
            "overflow_x": null,
            "overflow_y": null,
            "padding": null,
            "right": null,
            "top": null,
            "visibility": null,
            "width": null
          }
        },
        "5f6c332b23384a50bdb4da679574a464": {
          "model_module": "@jupyter-widgets/controls",
          "model_name": "ProgressStyleModel",
          "model_module_version": "1.5.0",
          "state": {
            "_model_module": "@jupyter-widgets/controls",
            "_model_module_version": "1.5.0",
            "_model_name": "ProgressStyleModel",
            "_view_count": null,
            "_view_module": "@jupyter-widgets/base",
            "_view_module_version": "1.2.0",
            "_view_name": "StyleView",
            "bar_color": null,
            "description_width": ""
          }
        },
        "15b41caf282d4fc6bdac27fb8e4c9707": {
          "model_module": "@jupyter-widgets/base",
          "model_name": "LayoutModel",
          "model_module_version": "1.2.0",
          "state": {
            "_model_module": "@jupyter-widgets/base",
            "_model_module_version": "1.2.0",
            "_model_name": "LayoutModel",
            "_view_count": null,
            "_view_module": "@jupyter-widgets/base",
            "_view_module_version": "1.2.0",
            "_view_name": "LayoutView",
            "align_content": null,
            "align_items": null,
            "align_self": null,
            "border": null,
            "bottom": null,
            "display": null,
            "flex": null,
            "flex_flow": null,
            "grid_area": null,
            "grid_auto_columns": null,
            "grid_auto_flow": null,
            "grid_auto_rows": null,
            "grid_column": null,
            "grid_gap": null,
            "grid_row": null,
            "grid_template_areas": null,
            "grid_template_columns": null,
            "grid_template_rows": null,
            "height": null,
            "justify_content": null,
            "justify_items": null,
            "left": null,
            "margin": null,
            "max_height": null,
            "max_width": null,
            "min_height": null,
            "min_width": null,
            "object_fit": null,
            "object_position": null,
            "order": null,
            "overflow": null,
            "overflow_x": null,
            "overflow_y": null,
            "padding": null,
            "right": null,
            "top": null,
            "visibility": null,
            "width": null
          }
        },
        "0f7ed25e8b9547efaa19c76ad185db54": {
          "model_module": "@jupyter-widgets/controls",
          "model_name": "DescriptionStyleModel",
          "model_module_version": "1.5.0",
          "state": {
            "_model_module": "@jupyter-widgets/controls",
            "_model_module_version": "1.5.0",
            "_model_name": "DescriptionStyleModel",
            "_view_count": null,
            "_view_module": "@jupyter-widgets/base",
            "_view_module_version": "1.2.0",
            "_view_name": "StyleView",
            "description_width": ""
          }
        }
      }
    },
    "accelerator": "GPU",
    "gpuClass": "standard"
  },
  "cells": [
    {
      "cell_type": "code",
      "execution_count": 11,
      "metadata": {
        "colab": {
          "base_uri": "https://localhost:8080/"
        },
        "id": "gy1omCV_nqqo",
        "outputId": "b949bcef-5062-4424-8ea6-8e1ad7218faf"
      },
      "outputs": [
        {
          "output_type": "stream",
          "name": "stdout",
          "text": [
            "Drive already mounted at /content/drive; to attempt to forcibly remount, call drive.mount(\"/content/drive\", force_remount=True).\n"
          ]
        }
      ],
      "source": [
        "from google.colab import drive\n",
        "drive.mount('/content/drive')\n",
        "from torchvision.datasets import CIFAR10\n",
        "from torch.utils.data import Dataset, DataLoader\n",
        "import torchvision.transforms as T\n",
        "import torch\n",
        "import torch.nn as nn\n",
        "from tqdm.notebook import tqdm\n",
        "import os\n",
        "from IPython.display import clear_output\n",
        "import numpy as np\n",
        "import matplotlib.pyplot as plt"
      ]
    },
    {
      "cell_type": "code",
      "source": [
        "device = torch.device('cuda:0' if torch.cuda.is_available() else 'cpu')\n",
        "print(device)"
      ],
      "metadata": {
        "colab": {
          "base_uri": "https://localhost:8080/"
        },
        "id": "LDAfV7P42gM8",
        "outputId": "e2b7ac06-afa7-419b-b3ef-6496f1f034b9"
      },
      "execution_count": 2,
      "outputs": [
        {
          "output_type": "stream",
          "name": "stdout",
          "text": [
            "cuda:0\n"
          ]
        }
      ]
    },
    {
      "cell_type": "code",
      "source": [
        "transform = T.Compose([\n",
        "    T.Resize(256),\n",
        "    T.ToTensor(),\n",
        "    T.Normalize(mean=[0.485, 0.456, 0.486], std=[0.229 , 0.224, 0.225]),\n",
        "]) \n",
        "\n",
        "test_set = CIFAR10(root='./data', transform=transform, train=False, download=True)\n",
        "test_loader = DataLoader(test_set, batch_size=64, shuffle=False)"
      ],
      "metadata": {
        "colab": {
          "base_uri": "https://localhost:8080/"
        },
        "id": "c-s6YY6_qXmG",
        "outputId": "57a48358-353b-43d8-f7d9-f2fbf8bcaadb"
      },
      "execution_count": 3,
      "outputs": [
        {
          "output_type": "stream",
          "name": "stdout",
          "text": [
            "Downloading https://www.cs.toronto.edu/~kriz/cifar-10-python.tar.gz to ./data/cifar-10-python.tar.gz\n"
          ]
        },
        {
          "output_type": "stream",
          "name": "stderr",
          "text": [
            "100%|██████████| 170498071/170498071 [00:13<00:00, 13109055.79it/s]\n"
          ]
        },
        {
          "output_type": "stream",
          "name": "stdout",
          "text": [
            "Extracting ./data/cifar-10-python.tar.gz to ./data\n"
          ]
        }
      ]
    },
    {
      "cell_type": "code",
      "source": [
        "class ResNet18(nn.Module):\n",
        "    def __init__(self, image_channels=3, num_classes=10):\n",
        "        super(ResNet18, self).__init__()\n",
        "        layer_list = []\n",
        "        ds_list = []\n",
        "        self.relu = nn.ReLU()\n",
        "        self.avgpool = nn.AvgPool2d(4)\n",
        "        self.bn16 = nn.BatchNorm2d(16)\n",
        "        self.bn32 = nn.BatchNorm2d(32)\n",
        "        self.bn64 = nn.BatchNorm2d(64)\n",
        "        self.in_planes = 16\n",
        "\n",
        "        self.conv1 = nn.Conv2d(image_channels, 16, kernel_size=3, stride=1, padding=1, bias=False)\n",
        "        \n",
        "        number_of_channels = [16, 32, 64]\n",
        "        strides_list = [4, 4, 4]\n",
        "        num_blocks = 3\n",
        "        for planes, stride in zip(number_of_channels, strides_list):\n",
        "          strides = [stride] + [1, 1]\n",
        "          layers = []\n",
        "          for stride in strides:\n",
        "              layer_list.append(nn.Conv2d(self.in_planes, planes, kernel_size=3, stride=stride, padding=1, bias=False))\n",
        "              layer_list.append(nn.Conv2d(planes, planes, kernel_size=3, stride=1, padding=1, bias=False))\n",
        "              if stride != 1 or self.in_planes != planes:\n",
        "                  ds_list.append(nn.Conv2d(self.in_planes, planes, kernel_size=1, stride=stride, bias=False))\n",
        "              self.in_planes = planes\n",
        "        \n",
        "        self.linear = nn.Linear(64, num_classes)\n",
        "\n",
        "        self.module_list = nn.ModuleList(layer_list)\n",
        "        self.downsample_list = nn.ModuleList(ds_list)\n",
        "\n",
        "        self.ptp = []\n",
        "        for layer in self.module_list:\n",
        "          self.ptp.append((layer, \"weight\"))\n",
        "\n",
        "\n",
        "    def forward(self, x):\n",
        "        out = self.relu(self.bn16(self.conv1(x)))\n",
        "\n",
        "        # out = self.layer1(out)\n",
        "        tmp = self.relu(self.bn16(self.module_list[0](out)))\n",
        "        tmp = self.bn16(self.module_list[1](tmp))\n",
        "        tmp += self.bn16(self.downsample_list[0](out))\n",
        "        out = self.relu(tmp)\n",
        "\n",
        "        tmp = self.relu(self.bn16(self.module_list[2](out)))\n",
        "        tmp = self.bn16(self.module_list[3](tmp))\n",
        "        tmp += out\n",
        "        out = self.relu(tmp)\n",
        "\n",
        "        tmp = self.relu(self.bn16(self.module_list[4](out)))\n",
        "        tmp = self.bn16(self.module_list[5](tmp))\n",
        "        tmp += out\n",
        "        out = self.relu(tmp)\n",
        "\n",
        "        # out = self.layer2(out)\n",
        "        tmp = self.relu(self.bn32(self.module_list[6](out)))\n",
        "        tmp = self.bn32(self.module_list[7](tmp))\n",
        "        tmp += self.bn32(self.downsample_list[1](out))\n",
        "        out = self.relu(tmp)\n",
        "\n",
        "        tmp = self.relu(self.bn32(self.module_list[8](out)))\n",
        "        tmp = self.bn32(self.module_list[9](tmp))\n",
        "        tmp += out\n",
        "        out = self.relu(tmp)\n",
        "\n",
        "        tmp = self.relu(self.bn32(self.module_list[10](out)))\n",
        "        tmp = self.bn32(self.module_list[11](tmp))\n",
        "        tmp += out\n",
        "        out = self.relu(tmp)\n",
        "\n",
        "        # out = self.layer3(out)\n",
        "        tmp = self.relu(self.bn64(self.module_list[12](out)))\n",
        "        tmp = self.bn64(self.module_list[13](tmp))\n",
        "        tmp += self.bn64(self.downsample_list[2](out))\n",
        "        out = self.relu(tmp)\n",
        "\n",
        "        tmp = self.relu(self.bn64(self.module_list[14](out)))\n",
        "        tmp = self.bn64(self.module_list[15](tmp))\n",
        "        tmp += out\n",
        "        out = self.relu(tmp)\n",
        "\n",
        "        tmp = self.relu(self.bn64(self.module_list[16](out)))\n",
        "        tmp = self.bn64(self.module_list[17](tmp))\n",
        "        tmp += out\n",
        "        out = self.relu(tmp)\n",
        "\n",
        "        # head\n",
        "        out = self.avgpool(out)\n",
        "        out = out.view(out.size(0), -1)\n",
        "        out = self.linear(out)\n",
        "\n",
        "        return out\n"
      ],
      "metadata": {
        "id": "PPvqcTDPtlyq"
      },
      "execution_count": 4,
      "outputs": []
    },
    {
      "cell_type": "code",
      "source": [
        "def interpolation(alpha: float, first: ResNet18, second: ResNet18) -> ResNet18:\n",
        "  kwargs = dict(\n",
        "      image_channels=3,\n",
        "      num_classes=10,\n",
        "  )\n",
        "\n",
        "  ans = ResNet18(**kwargs)\n",
        "\n",
        "  ans.bn16.weight.copy_(alpha * first.bn16.weight + (1. - alpha) * second.bn16.weight)\n",
        "  ans.bn16.bias.copy_(alpha * first.bn16.bias + (1. - alpha) * second.bn16.bias)\n",
        "\n",
        "  ans.bn32.weight.copy_(alpha * first.bn32.weight + (1. - alpha) * second.bn32.weight)\n",
        "  ans.bn32.bias.copy_(alpha * first.bn32.bias + (1. - alpha) * second.bn32.bias)\n",
        "\n",
        "  ans.bn64.weight.copy_(alpha * first.bn64.weight + (1. - alpha) * second.bn64.weight)\n",
        "  ans.bn64.bias.copy_(alpha * first.bn64.bias + (1. - alpha) * second.bn64.bias)\n",
        "\n",
        "  ans.conv1.weight.copy_(alpha * first.conv1.weight + (1. - alpha) * second.conv1.weight)\n",
        "\n",
        "  for i in range(len(ans.module_list)):\n",
        "    ans.module_list[i].weight.copy_(alpha * (first.module_list[i].weight_orig * first.module_list[i].weight_mask) + \\\n",
        "                                (1. - alpha) * (second.module_list[i].weight_orig * second.module_list[i].weight_mask))\n",
        "\n",
        "  for i in range(len(ans.downsample_list)):\n",
        "    ans.downsample_list[i].weight.copy_(alpha * first.downsample_list[i].weight + (1. - alpha) * second.downsample_list[i].weight)\n",
        "\n",
        "\n",
        "  ans.linear.weight.copy_(alpha * first.linear.weight + (1. - alpha) * second.linear.weight)\n",
        "  ans.linear.bias.copy_(alpha * first.linear.bias + (1. - alpha) * second.linear.bias)\n",
        "\n",
        "  return ans\n",
        "\n",
        "def loss_calculation(net):\n",
        "    loss_inst = nn.CrossEntropyLoss()\n",
        "    test_loss, test_accuracy = 0.0, 0.0\n",
        "    # net.eval()\n",
        "    for X_batch, y_batch in tqdm(test_loader, desc='testing'):\n",
        "      X_batch = X_batch.to(device)\n",
        "      y_batch = y_batch.to(device)\n",
        "\n",
        "      with torch.no_grad():\n",
        "        logits = net(X_batch)\n",
        "        loss = loss_inst(logits, y_batch)\n",
        "      \n",
        "      test_loss += loss.item() * X_batch.shape[0]\n",
        "      test_accuracy += (logits.argmax(dim=1) == y_batch).sum().item()\n",
        "\n",
        "    test_loss /= len(test_loader.dataset)\n",
        "    test_accuracy /= len(test_loader.dataset)\n",
        "    return test_loss, test_accuracy"
      ],
      "metadata": {
        "id": "8oQcTGSi4YQM"
      },
      "execution_count": 9,
      "outputs": []
    },
    {
      "cell_type": "code",
      "source": [
        "first = torch.load(\"/content/drive/MyDrive/trained_models/prune_ratio_0.9/schedule_0_pruned\")\n",
        "scheduled = torch.load(\"/content/drive/MyDrive/trained_models/prune_ratio_0.9.schedule_1/pruned\")\n",
        "\n",
        "print(f'first loss, accuracy: {loss_calculation(first)}')\n",
        "print(f'scheduled loss, accuracy: {loss_calculation(scheduled)}')"
      ],
      "metadata": {
        "colab": {
          "base_uri": "https://localhost:8080/",
          "height": 118,
          "referenced_widgets": [
            "51af4d6cd1d142e2b6b5f061c5f3478b",
            "9431750da5164993922736df8166de40",
            "43b41139044b41c3b946198d13cfe7d9",
            "34cc36677adb47c687d8160cbf5363b7",
            "809748f8c835443e86d41c75ea4f2db1",
            "d8146d71796040d38609a8a1155ed7a1",
            "6a9eae1fd28a41b89875d89b8a2c2916",
            "8db62cd924134166952600f0b20fd770",
            "7848962443854ca7b47b965a95804aa1",
            "f5db945332a34fc6836d0889c40d16d7",
            "0eb4317bc57e4e0da668ae3fd850b74e",
            "43180c1d9e1945d7a904f7d700e81725",
            "3e07c6d61eac4f399c25441d43fb8fe1",
            "a6cb5a64ec8943a5b552d3c3436fccd9",
            "0c5d82ae66bc45f8a740ec407203d8bd",
            "361e8ef0a75c4e3b861402eb6a3e9235",
            "4818781a6e884553ba7e9b14ff10e32b",
            "062766d1412748248306b09aad4ebe0b",
            "a14198cb8d4245999197eae6c5e3f9f6",
            "4b790e4790a24ef7a9ad961d3ec5a4e9",
            "580739547dc24339b839f35b60e2a09c",
            "94d19bada9cf47d6aad846bc561b8ef0"
          ]
        },
        "id": "ZmPe_PL4tFUk",
        "outputId": "ffe95736-3416-480a-f562-c5b8d9c12e42"
      },
      "execution_count": 7,
      "outputs": [
        {
          "output_type": "display_data",
          "data": {
            "text/plain": [
              "testing:   0%|          | 0/157 [00:00<?, ?it/s]"
            ],
            "application/vnd.jupyter.widget-view+json": {
              "version_major": 2,
              "version_minor": 0,
              "model_id": "51af4d6cd1d142e2b6b5f061c5f3478b"
            }
          },
          "metadata": {}
        },
        {
          "output_type": "stream",
          "name": "stdout",
          "text": [
            "first loss, accuracy: (0.7202309213638306, 0.7599)\n"
          ]
        },
        {
          "output_type": "display_data",
          "data": {
            "text/plain": [
              "testing:   0%|          | 0/157 [00:00<?, ?it/s]"
            ],
            "application/vnd.jupyter.widget-view+json": {
              "version_major": 2,
              "version_minor": 0,
              "model_id": "43180c1d9e1945d7a904f7d700e81725"
            }
          },
          "metadata": {}
        },
        {
          "output_type": "stream",
          "name": "stdout",
          "text": [
            "scheduled loss, accuracy: (0.6699341111183167, 0.7786)\n"
          ]
        }
      ]
    },
    {
      "cell_type": "code",
      "source": [
        "with torch.no_grad():\n",
        "  inter = interpolation(1, first, first).to(device)\n",
        "  clear_output()\n",
        "\n",
        "print(f'inter loss: {loss_calculation(inter)}')"
      ],
      "metadata": {
        "id": "s2vjwfS5uhvN",
        "colab": {
          "base_uri": "https://localhost:8080/",
          "height": 67,
          "referenced_widgets": [
            "fb97987ec98b4018a5616411952fc599",
            "eca9b7abe3fd4676b185d7b42fa0a0f1",
            "6e4115c5e2f5435799a7b0d7a117b559",
            "291b92fbdba24d0f96b008d530281488",
            "69af00bf2cc541cc93b717a6a9a1a181",
            "4e4586c614da4ab89fd54f647c0a77ea",
            "a010177fcedf4d5cb63564de3a2fa4ab",
            "4f84169d238a481582ac1d9b0fba170d",
            "5f6c332b23384a50bdb4da679574a464",
            "15b41caf282d4fc6bdac27fb8e4c9707",
            "0f7ed25e8b9547efaa19c76ad185db54"
          ]
        },
        "outputId": "5b67765a-3f09-4a93-b6fd-4659ef440515"
      },
      "execution_count": 25,
      "outputs": [
        {
          "output_type": "display_data",
          "data": {
            "text/plain": [
              "testing:   0%|          | 0/157 [00:00<?, ?it/s]"
            ],
            "application/vnd.jupyter.widget-view+json": {
              "version_major": 2,
              "version_minor": 0,
              "model_id": "fb97987ec98b4018a5616411952fc599"
            }
          },
          "metadata": {}
        },
        {
          "output_type": "stream",
          "name": "stdout",
          "text": [
            "inter loss: (0.7202309213638306, 0.7599)\n"
          ]
        }
      ]
    },
    {
      "cell_type": "code",
      "source": [
        "x = np.linspace(0, 1, 100)\n",
        "res = []\n",
        "for i, num in enumerate(x):\n",
        "  with torch.no_grad():\n",
        "    inter = interpolation(num, first, scheduled).to(device)\n",
        "  print(i)\n",
        "  res.append((num, loss_calculation(inter)[0]))\n",
        "  clear_output()"
      ],
      "metadata": {
        "id": "Whg4QlSP3X60"
      },
      "execution_count": 28,
      "outputs": []
    },
    {
      "cell_type": "code",
      "source": [
        "x = [i for i, j in res]\n",
        "y = [j for i, j in res]\n"
      ],
      "metadata": {
        "id": "FuHDx0ox_rRH"
      },
      "execution_count": 29,
      "outputs": []
    },
    {
      "cell_type": "code",
      "source": [
        "print(x)\n",
        "print(y)"
      ],
      "metadata": {
        "colab": {
          "base_uri": "https://localhost:8080/"
        },
        "id": "K3htp2Olbg8j",
        "outputId": "b295f092-7e23-4392-ad7c-041ac5c30665"
      },
      "execution_count": 20,
      "outputs": [
        {
          "output_type": "stream",
          "name": "stdout",
          "text": [
            "[0.0, 0.1, 0.2, 0.30000000000000004, 0.4, 0.5, 0.6000000000000001, 0.7000000000000001, 0.8, 0.9]\n",
            "[(0.6699341111183167, 0.7786), (0.73970565366745, 0.7531), (1.1495349409103393, 0.6173), (2.374203792190552, 0.3128), (3.5186760368347167, 0.1252), (3.3521370944976807, 0.1274), (2.4749284442901613, 0.2509), (1.4363947477340697, 0.5136), (0.9215061346054078, 0.6805), (0.7489139245986939, 0.7428)]\n"
          ]
        }
      ]
    },
    {
      "cell_type": "code",
      "source": [
        "_, axs = plt.subplots(1,1, figsize=(15,10))\n",
        "axs.plot(x, y, color=\"red\", label=\"line\")\n",
        "axs.set_xlabel(\"interpolation coef\")\n",
        "axs.set_ylabel(\"loss\")\n",
        "plt.show()"
      ],
      "metadata": {
        "colab": {
          "base_uri": "https://localhost:8080/",
          "height": 666
        },
        "id": "l1QYEfr9_ass",
        "outputId": "40a1901c-c75a-4e6e-d13b-a2306a56bc91"
      },
      "execution_count": 30,
      "outputs": [
        {
          "output_type": "display_data",
          "data": {
            "text/plain": [
              "<Figure size 1500x1000 with 1 Axes>"
            ],
            "image/png": "[encoded data removed]"
          },
          "metadata": {}
        }
      ]
    },
    {
      "cell_type": "code",
      "source": [],
      "metadata": {
        "id": "s5RMZuYe_nZM"
      },
      "execution_count": null,
      "outputs": []
    }
  ]
}